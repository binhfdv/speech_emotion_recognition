{
  "nbformat": 4,
  "nbformat_minor": 0,
  "metadata": {
    "colab": {
      "name": "cremad_melspectrogram.ipynb",
      "provenance": [],
      "collapsed_sections": [
        "WLB_d6YJ1RP1",
        "YzWvsB1Vzj9F",
        "ryPwl16W7LE3",
        "VqUXxDtQ7PFq"
      ]
    },
    "kernelspec": {
      "name": "python3",
      "display_name": "Python 3"
    },
    "language_info": {
      "name": "python"
    }
  },
  "cells": [
    {
      "cell_type": "markdown",
      "metadata": {
        "id": "iEndTFo9lQXa"
      },
      "source": [
        "12/06/2021"
      ]
    },
    {
      "cell_type": "markdown",
      "metadata": {
        "id": "hykoJ3USvgEY"
      },
      "source": [
        "## Load libraries"
      ]
    },
    {
      "cell_type": "code",
      "metadata": {
        "trusted": true,
        "id": "BtpNiUl7vgEa"
      },
      "source": [
        "import pandas as pd\n",
        "import numpy as np\n",
        "\n",
        "import os\n",
        "import sys\n",
        "\n",
        "from sklearn.neural_network import MLPClassifier\n",
        "\n",
        "import librosa\n",
        "import librosa.display\n",
        "import seaborn as sns\n",
        "import matplotlib.pyplot as plt\n",
        "\n",
        "# to play the audio files\n",
        "from IPython.display import Audio\n",
        "\n",
        "from sklearn.preprocessing import StandardScaler\n",
        "from sklearn.model_selection import train_test_split\n",
        "from sklearn.metrics import confusion_matrix\n",
        "from sklearn.metrics import classification_report\n",
        "\n",
        "import lightgbm as lgb\n",
        "\n",
        "import warnings\n",
        "if not sys.warnoptions:\n",
        "    warnings.simplefilter(\"ignore\")\n",
        "warnings.filterwarnings(\"ignore\", category=DeprecationWarning)"
      ],
      "execution_count": null,
      "outputs": []
    },
    {
      "cell_type": "markdown",
      "metadata": {
        "id": "JFURsK6wvgEc"
      },
      "source": [
        "## Load and set data paths"
      ]
    },
    {
      "cell_type": "code",
      "metadata": {
        "trusted": true,
        "id": "_MlgXnLzvgEc"
      },
      "source": [
        "Crema = \"/content/drive/MyDrive/Colab Notebooks/speech/dataset/cremad/AudioWAV/\""
      ],
      "execution_count": null,
      "outputs": []
    },
    {
      "cell_type": "code",
      "metadata": {
        "trusted": true,
        "colab": {
          "base_uri": "https://localhost:8080/",
          "height": 195
        },
        "id": "vRtOq4iLvgEd",
        "outputId": "67f11b77-016d-41d6-9b07-f56ef3935360"
      },
      "source": [
        "crema_directory_list = os.listdir(Crema)\n",
        "\n",
        "file_emotion = []\n",
        "file_path = []\n",
        "\n",
        "for file in crema_directory_list:\n",
        "    # storing file paths\n",
        "    file_path.append(Crema + file)\n",
        "    # storing file emotions\n",
        "    part=file.split('_')\n",
        "    if part[2] == 'SAD':\n",
        "        file_emotion.append('sad')\n",
        "    elif part[2] == 'ANG':\n",
        "        file_emotion.append('angry')\n",
        "    elif part[2] == 'DIS':\n",
        "        file_emotion.append('disgust')\n",
        "    elif part[2] == 'FEA':\n",
        "        file_emotion.append('fear')\n",
        "    elif part[2] == 'HAP':\n",
        "        file_emotion.append('happy')\n",
        "    elif part[2] == 'NEU':\n",
        "        file_emotion.append('neutral')\n",
        "    else:\n",
        "        file_emotion.append('Unknown')\n",
        "        \n",
        "# dataframe for emotion of files\n",
        "emotion_df = pd.DataFrame(file_emotion, columns=['Emotions'])\n",
        "\n",
        "# dataframe for path of files.\n",
        "path_df = pd.DataFrame(file_path, columns=['Path'])\n",
        "Crema_df = pd.concat([emotion_df, path_df], axis=1)\n",
        "Crema_df.head()\n"
      ],
      "execution_count": null,
      "outputs": [
        {
          "output_type": "execute_result",
          "data": {
            "text/html": [
              "<div>\n",
              "<style scoped>\n",
              "    .dataframe tbody tr th:only-of-type {\n",
              "        vertical-align: middle;\n",
              "    }\n",
              "\n",
              "    .dataframe tbody tr th {\n",
              "        vertical-align: top;\n",
              "    }\n",
              "\n",
              "    .dataframe thead th {\n",
              "        text-align: right;\n",
              "    }\n",
              "</style>\n",
              "<table border=\"1\" class=\"dataframe\">\n",
              "  <thead>\n",
              "    <tr style=\"text-align: right;\">\n",
              "      <th></th>\n",
              "      <th>Emotions</th>\n",
              "      <th>Path</th>\n",
              "    </tr>\n",
              "  </thead>\n",
              "  <tbody>\n",
              "    <tr>\n",
              "      <th>0</th>\n",
              "      <td>happy</td>\n",
              "      <td>/content/drive/MyDrive/Colab Notebooks/speech/...</td>\n",
              "    </tr>\n",
              "    <tr>\n",
              "      <th>1</th>\n",
              "      <td>happy</td>\n",
              "      <td>/content/drive/MyDrive/Colab Notebooks/speech/...</td>\n",
              "    </tr>\n",
              "    <tr>\n",
              "      <th>2</th>\n",
              "      <td>fear</td>\n",
              "      <td>/content/drive/MyDrive/Colab Notebooks/speech/...</td>\n",
              "    </tr>\n",
              "    <tr>\n",
              "      <th>3</th>\n",
              "      <td>fear</td>\n",
              "      <td>/content/drive/MyDrive/Colab Notebooks/speech/...</td>\n",
              "    </tr>\n",
              "    <tr>\n",
              "      <th>4</th>\n",
              "      <td>disgust</td>\n",
              "      <td>/content/drive/MyDrive/Colab Notebooks/speech/...</td>\n",
              "    </tr>\n",
              "  </tbody>\n",
              "</table>\n",
              "</div>"
            ],
            "text/plain": [
              "  Emotions                                               Path\n",
              "0    happy  /content/drive/MyDrive/Colab Notebooks/speech/...\n",
              "1    happy  /content/drive/MyDrive/Colab Notebooks/speech/...\n",
              "2     fear  /content/drive/MyDrive/Colab Notebooks/speech/...\n",
              "3     fear  /content/drive/MyDrive/Colab Notebooks/speech/...\n",
              "4  disgust  /content/drive/MyDrive/Colab Notebooks/speech/..."
            ]
          },
          "metadata": {
            "tags": []
          },
          "execution_count": 53
        }
      ]
    },
    {
      "cell_type": "code",
      "metadata": {
        "id": "210GK6yolyl-"
      },
      "source": [
        "Cremad_df = pd.read_csv('/content/drive/MyDrive/Colab Notebooks/speech/dataset/cremad/emotion_path.csv')"
      ],
      "execution_count": null,
      "outputs": []
    },
    {
      "cell_type": "code",
      "metadata": {
        "trusted": true,
        "colab": {
          "base_uri": "https://localhost:8080/",
          "height": 354
        },
        "id": "MTt2yuQdvgEf",
        "outputId": "a39c9a0c-cdc0-43c7-f3a6-1f4808dfa319"
      },
      "source": [
        "plt.title('Count of Emotions', size=16)\n",
        "sns.countplot(Cremad_df.Emotions)\n",
        "plt.ylabel('Count', size=12)\n",
        "plt.xlabel('Emotions', size=12)\n",
        "sns.despine(top=True, right=True, left=False, bottom=False)\n",
        "plt.show()"
      ],
      "execution_count": null,
      "outputs": [
        {
          "output_type": "stream",
          "text": [
            "/usr/local/lib/python3.7/dist-packages/seaborn/_decorators.py:43: FutureWarning: Pass the following variable as a keyword arg: x. From version 0.12, the only valid positional argument will be `data`, and passing other arguments without an explicit keyword will result in an error or misinterpretation.\n",
            "  FutureWarning\n"
          ],
          "name": "stderr"
        },
        {
          "output_type": "display_data",
          "data": {
            "image/png": "[encoded data removed]",
            "text/plain": [
              "<Figure size 432x288 with 1 Axes>"
            ]
          },
          "metadata": {
            "tags": [],
            "needs_background": "light"
          }
        }
      ]
    },
    {
      "cell_type": "markdown",
      "metadata": {
        "id": "TaaBzvfwvuvG"
      },
      "source": [
        "## Feature Extraction"
      ]
    },
    {
      "cell_type": "code",
      "metadata": {
        "id": "U57ILIA-5R_G"
      },
      "source": [
        "observed_emotions=sorted(['fear', 'happy', 'sad', 'angry'])"
      ],
      "execution_count": null,
      "outputs": []
    },
    {
      "cell_type": "code",
      "metadata": {
        "colab": {
          "base_uri": "https://localhost:8080/"
        },
        "id": "EKhreSnIAGDO",
        "outputId": "9b76e368-5cfb-4c6e-fb5b-2115222d32a5"
      },
      "source": [
        "observed_emotions"
      ],
      "execution_count": null,
      "outputs": [
        {
          "output_type": "execute_result",
          "data": {
            "text/plain": [
              "['angry', 'fear', 'happy', 'sad']"
            ]
          },
          "metadata": {
            "tags": []
          },
          "execution_count": 3
        }
      ]
    },
    {
      "cell_type": "code",
      "metadata": {
        "id": "U6u8B3_WxOYW"
      },
      "source": [
        "num_mfcc=13"
      ],
      "execution_count": null,
      "outputs": []
    },
    {
      "cell_type": "code",
      "metadata": {
        "id": "infnX33Pun_H"
      },
      "source": [
        "def extract_feature(path, mfcc, chroma, mel, tempo):\n",
        "  data, sample_rate = librosa.load(path, res_type='kaiser_fast')\n",
        "  if chroma:\n",
        "    stft = np.abs(librosa.stft(data))\n",
        "\n",
        "  result=np.array([])\n",
        "  if mfcc:\n",
        "    mfccs=np.mean(librosa.feature.mfcc(y=data, sr=sample_rate, n_mfcc=num_mfcc).T, axis=0)\n",
        "    result=np.hstack((result, mfccs))\n",
        "  if chroma:\n",
        "    chroma=np.mean(librosa.feature.chroma_stft(S=stft, sr=sample_rate).T, axis=0)\n",
        "    result=np.hstack((result, chroma))\n",
        "  if mel:\n",
        "    mel=np.mean(librosa.feature.melspectrogram(y=data, sr=sample_rate).T, axis=0)\n",
        "    result=np.hstack((result, mel))\n",
        "  if tempo:\n",
        "    tempo=np.mean(librosa.feature.tempogram(y=data, sr=sample_rate).T, axis=0)\n",
        "    result=np.hstack((result, tempo))\n",
        "\n",
        "  return result"
      ],
      "execution_count": null,
      "outputs": []
    },
    {
      "cell_type": "code",
      "metadata": {
        "id": "pVfPdjo0v0e3"
      },
      "source": [
        "X, Y = [], []\n",
        "for path, emotion in zip(Cremad_df.Path, Cremad_df.Emotions):\n",
        "  if emotion not in observed_emotions:\n",
        "    continue\n",
        "  feature = extract_feature(path, mfcc=False, chroma=False, mel=True, tempo=False)\n",
        "  X.append(feature)\n",
        "  Y.append(emotion)"
      ],
      "execution_count": null,
      "outputs": []
    },
    {
      "cell_type": "code",
      "metadata": {
        "colab": {
          "base_uri": "https://localhost:8080/"
        },
        "id": "YsB1bQiT0rKO",
        "outputId": "04a23d16-8555-4c3c-b25d-fc26f0581f24"
      },
      "source": [
        "len(X), len(Y), Cremad_df.Path.shape"
      ],
      "execution_count": null,
      "outputs": [
        {
          "output_type": "execute_result",
          "data": {
            "text/plain": [
              "(5084, 5084, (7442,))"
            ]
          },
          "metadata": {
            "tags": []
          },
          "execution_count": 11
        }
      ]
    },
    {
      "cell_type": "code",
      "metadata": {
        "colab": {
          "base_uri": "https://localhost:8080/",
          "height": 338
        },
        "id": "fPPk7LZn0s5F",
        "outputId": "8e57f36b-d524-4bcd-f63d-48cc26e309ab"
      },
      "source": [
        "Features = pd.DataFrame(X)\n",
        "Features['labels'] = Y\n",
        "Features.to_csv('/content/drive/MyDrive/Colab Notebooks/speech/dataset/cremad/mel_features.csv', index=0)\n",
        "Features.head()"
      ],
      "execution_count": null,
      "outputs": [
        {
          "output_type": "execute_result",
          "data": {
            "text/html": [
              "<div>\n",
              "<style scoped>\n",
              "    .dataframe tbody tr th:only-of-type {\n",
              "        vertical-align: middle;\n",
              "    }\n",
              "\n",
              "    .dataframe tbody tr th {\n",
              "        vertical-align: top;\n",
              "    }\n",
              "\n",
              "    .dataframe thead th {\n",
              "        text-align: right;\n",
              "    }\n",
              "</style>\n",
              "<table border=\"1\" class=\"dataframe\">\n",
              "  <thead>\n",
              "    <tr style=\"text-align: right;\">\n",
              "      <th></th>\n",
              "      <th>0</th>\n",
              "      <th>1</th>\n",
              "      <th>2</th>\n",
              "      <th>3</th>\n",
              "      <th>4</th>\n",
              "      <th>5</th>\n",
              "      <th>6</th>\n",
              "      <th>7</th>\n",
              "      <th>8</th>\n",
              "      <th>9</th>\n",
              "      <th>10</th>\n",
              "      <th>11</th>\n",
              "      <th>12</th>\n",
              "      <th>13</th>\n",
              "      <th>14</th>\n",
              "      <th>15</th>\n",
              "      <th>16</th>\n",
              "      <th>17</th>\n",
              "      <th>18</th>\n",
              "      <th>19</th>\n",
              "      <th>20</th>\n",
              "      <th>21</th>\n",
              "      <th>22</th>\n",
              "      <th>23</th>\n",
              "      <th>24</th>\n",
              "      <th>25</th>\n",
              "      <th>26</th>\n",
              "      <th>27</th>\n",
              "      <th>28</th>\n",
              "      <th>29</th>\n",
              "      <th>30</th>\n",
              "      <th>31</th>\n",
              "      <th>32</th>\n",
              "      <th>33</th>\n",
              "      <th>34</th>\n",
              "      <th>35</th>\n",
              "      <th>36</th>\n",
              "      <th>37</th>\n",
              "      <th>38</th>\n",
              "      <th>39</th>\n",
              "      <th>...</th>\n",
              "      <th>89</th>\n",
              "      <th>90</th>\n",
              "      <th>91</th>\n",
              "      <th>92</th>\n",
              "      <th>93</th>\n",
              "      <th>94</th>\n",
              "      <th>95</th>\n",
              "      <th>96</th>\n",
              "      <th>97</th>\n",
              "      <th>98</th>\n",
              "      <th>99</th>\n",
              "      <th>100</th>\n",
              "      <th>101</th>\n",
              "      <th>102</th>\n",
              "      <th>103</th>\n",
              "      <th>104</th>\n",
              "      <th>105</th>\n",
              "      <th>106</th>\n",
              "      <th>107</th>\n",
              "      <th>108</th>\n",
              "      <th>109</th>\n",
              "      <th>110</th>\n",
              "      <th>111</th>\n",
              "      <th>112</th>\n",
              "      <th>113</th>\n",
              "      <th>114</th>\n",
              "      <th>115</th>\n",
              "      <th>116</th>\n",
              "      <th>117</th>\n",
              "      <th>118</th>\n",
              "      <th>119</th>\n",
              "      <th>120</th>\n",
              "      <th>121</th>\n",
              "      <th>122</th>\n",
              "      <th>123</th>\n",
              "      <th>124</th>\n",
              "      <th>125</th>\n",
              "      <th>126</th>\n",
              "      <th>127</th>\n",
              "      <th>labels</th>\n",
              "    </tr>\n",
              "  </thead>\n",
              "  <tbody>\n",
              "    <tr>\n",
              "      <th>0</th>\n",
              "      <td>0.076833</td>\n",
              "      <td>0.030737</td>\n",
              "      <td>0.061028</td>\n",
              "      <td>0.081898</td>\n",
              "      <td>0.046983</td>\n",
              "      <td>0.046682</td>\n",
              "      <td>0.185286</td>\n",
              "      <td>1.064163</td>\n",
              "      <td>0.952967</td>\n",
              "      <td>1.010579</td>\n",
              "      <td>1.109322</td>\n",
              "      <td>1.736680</td>\n",
              "      <td>3.320479</td>\n",
              "      <td>7.171905</td>\n",
              "      <td>6.498925</td>\n",
              "      <td>5.798558</td>\n",
              "      <td>7.476932</td>\n",
              "      <td>10.674026</td>\n",
              "      <td>13.549254</td>\n",
              "      <td>4.204493</td>\n",
              "      <td>14.216737</td>\n",
              "      <td>14.409835</td>\n",
              "      <td>2.196486</td>\n",
              "      <td>1.269828</td>\n",
              "      <td>0.974430</td>\n",
              "      <td>1.407033</td>\n",
              "      <td>3.226888</td>\n",
              "      <td>2.822817</td>\n",
              "      <td>1.978801</td>\n",
              "      <td>2.767190</td>\n",
              "      <td>4.145090</td>\n",
              "      <td>1.531667</td>\n",
              "      <td>0.717661</td>\n",
              "      <td>0.529532</td>\n",
              "      <td>2.836708</td>\n",
              "      <td>2.795673</td>\n",
              "      <td>1.829404</td>\n",
              "      <td>1.580155</td>\n",
              "      <td>1.661133</td>\n",
              "      <td>2.539765</td>\n",
              "      <td>...</td>\n",
              "      <td>0.041259</td>\n",
              "      <td>0.052720</td>\n",
              "      <td>0.026409</td>\n",
              "      <td>0.124675</td>\n",
              "      <td>0.080615</td>\n",
              "      <td>0.068720</td>\n",
              "      <td>0.035598</td>\n",
              "      <td>0.009643</td>\n",
              "      <td>0.003180</td>\n",
              "      <td>0.001634</td>\n",
              "      <td>0.000573</td>\n",
              "      <td>0.001007</td>\n",
              "      <td>0.001570</td>\n",
              "      <td>0.002691</td>\n",
              "      <td>0.003597</td>\n",
              "      <td>0.005950</td>\n",
              "      <td>0.007294</td>\n",
              "      <td>0.005611</td>\n",
              "      <td>0.006267</td>\n",
              "      <td>0.005680</td>\n",
              "      <td>0.004223</td>\n",
              "      <td>0.003144</td>\n",
              "      <td>0.000948</td>\n",
              "      <td>0.000207</td>\n",
              "      <td>0.000055</td>\n",
              "      <td>2.361743e-05</td>\n",
              "      <td>6.259726e-06</td>\n",
              "      <td>1.045090e-06</td>\n",
              "      <td>6.477228e-09</td>\n",
              "      <td>2.217579e-09</td>\n",
              "      <td>2.431702e-09</td>\n",
              "      <td>2.498823e-09</td>\n",
              "      <td>1.997063e-09</td>\n",
              "      <td>1.707204e-09</td>\n",
              "      <td>1.595727e-09</td>\n",
              "      <td>1.237794e-09</td>\n",
              "      <td>1.764120e-09</td>\n",
              "      <td>1.912552e-09</td>\n",
              "      <td>1.625368e-09</td>\n",
              "      <td>happy</td>\n",
              "    </tr>\n",
              "    <tr>\n",
              "      <th>1</th>\n",
              "      <td>0.046559</td>\n",
              "      <td>0.029116</td>\n",
              "      <td>0.064096</td>\n",
              "      <td>0.109162</td>\n",
              "      <td>0.217946</td>\n",
              "      <td>0.690346</td>\n",
              "      <td>1.395999</td>\n",
              "      <td>0.942536</td>\n",
              "      <td>1.450985</td>\n",
              "      <td>0.852693</td>\n",
              "      <td>0.369703</td>\n",
              "      <td>0.752590</td>\n",
              "      <td>1.780183</td>\n",
              "      <td>2.966136</td>\n",
              "      <td>3.849347</td>\n",
              "      <td>0.470726</td>\n",
              "      <td>1.289655</td>\n",
              "      <td>2.574431</td>\n",
              "      <td>2.957825</td>\n",
              "      <td>7.731913</td>\n",
              "      <td>5.124743</td>\n",
              "      <td>1.307118</td>\n",
              "      <td>0.200186</td>\n",
              "      <td>0.090035</td>\n",
              "      <td>0.064821</td>\n",
              "      <td>0.910954</td>\n",
              "      <td>0.777657</td>\n",
              "      <td>0.118238</td>\n",
              "      <td>0.376992</td>\n",
              "      <td>0.680684</td>\n",
              "      <td>1.654895</td>\n",
              "      <td>0.340065</td>\n",
              "      <td>0.023265</td>\n",
              "      <td>0.044356</td>\n",
              "      <td>0.173880</td>\n",
              "      <td>0.232484</td>\n",
              "      <td>0.257710</td>\n",
              "      <td>0.153174</td>\n",
              "      <td>0.279318</td>\n",
              "      <td>0.182870</td>\n",
              "      <td>...</td>\n",
              "      <td>0.003270</td>\n",
              "      <td>0.002771</td>\n",
              "      <td>0.001190</td>\n",
              "      <td>0.000810</td>\n",
              "      <td>0.001308</td>\n",
              "      <td>0.000938</td>\n",
              "      <td>0.001170</td>\n",
              "      <td>0.001200</td>\n",
              "      <td>0.000716</td>\n",
              "      <td>0.001077</td>\n",
              "      <td>0.000700</td>\n",
              "      <td>0.000841</td>\n",
              "      <td>0.000647</td>\n",
              "      <td>0.000693</td>\n",
              "      <td>0.000732</td>\n",
              "      <td>0.000793</td>\n",
              "      <td>0.001397</td>\n",
              "      <td>0.000533</td>\n",
              "      <td>0.000586</td>\n",
              "      <td>0.000555</td>\n",
              "      <td>0.000333</td>\n",
              "      <td>0.000137</td>\n",
              "      <td>0.000055</td>\n",
              "      <td>0.000020</td>\n",
              "      <td>0.000004</td>\n",
              "      <td>7.381458e-07</td>\n",
              "      <td>4.991731e-08</td>\n",
              "      <td>2.016636e-09</td>\n",
              "      <td>2.160071e-10</td>\n",
              "      <td>1.893571e-10</td>\n",
              "      <td>1.814714e-10</td>\n",
              "      <td>1.492693e-10</td>\n",
              "      <td>2.272426e-10</td>\n",
              "      <td>1.929704e-10</td>\n",
              "      <td>3.066508e-10</td>\n",
              "      <td>1.671939e-10</td>\n",
              "      <td>2.916499e-10</td>\n",
              "      <td>2.593199e-10</td>\n",
              "      <td>1.517384e-10</td>\n",
              "      <td>happy</td>\n",
              "    </tr>\n",
              "    <tr>\n",
              "      <th>2</th>\n",
              "      <td>0.058857</td>\n",
              "      <td>0.023937</td>\n",
              "      <td>0.055691</td>\n",
              "      <td>0.109114</td>\n",
              "      <td>0.061035</td>\n",
              "      <td>0.126132</td>\n",
              "      <td>0.392168</td>\n",
              "      <td>1.118926</td>\n",
              "      <td>3.271797</td>\n",
              "      <td>4.100485</td>\n",
              "      <td>4.907799</td>\n",
              "      <td>0.579800</td>\n",
              "      <td>0.076296</td>\n",
              "      <td>0.057966</td>\n",
              "      <td>0.085716</td>\n",
              "      <td>0.063021</td>\n",
              "      <td>0.139486</td>\n",
              "      <td>0.952193</td>\n",
              "      <td>2.977605</td>\n",
              "      <td>3.059296</td>\n",
              "      <td>8.881009</td>\n",
              "      <td>9.359259</td>\n",
              "      <td>1.218928</td>\n",
              "      <td>0.526419</td>\n",
              "      <td>0.400553</td>\n",
              "      <td>0.337032</td>\n",
              "      <td>0.387572</td>\n",
              "      <td>0.137893</td>\n",
              "      <td>0.678827</td>\n",
              "      <td>2.565876</td>\n",
              "      <td>11.902858</td>\n",
              "      <td>6.689280</td>\n",
              "      <td>0.535942</td>\n",
              "      <td>0.130106</td>\n",
              "      <td>0.994555</td>\n",
              "      <td>0.658200</td>\n",
              "      <td>0.230561</td>\n",
              "      <td>0.134756</td>\n",
              "      <td>0.127539</td>\n",
              "      <td>0.101044</td>\n",
              "      <td>...</td>\n",
              "      <td>0.010870</td>\n",
              "      <td>0.013965</td>\n",
              "      <td>0.004976</td>\n",
              "      <td>0.045715</td>\n",
              "      <td>0.030037</td>\n",
              "      <td>0.009058</td>\n",
              "      <td>0.011689</td>\n",
              "      <td>0.002812</td>\n",
              "      <td>0.002084</td>\n",
              "      <td>0.001277</td>\n",
              "      <td>0.001565</td>\n",
              "      <td>0.002221</td>\n",
              "      <td>0.003241</td>\n",
              "      <td>0.003994</td>\n",
              "      <td>0.003977</td>\n",
              "      <td>0.002401</td>\n",
              "      <td>0.004122</td>\n",
              "      <td>0.003226</td>\n",
              "      <td>0.003202</td>\n",
              "      <td>0.003066</td>\n",
              "      <td>0.002850</td>\n",
              "      <td>0.001265</td>\n",
              "      <td>0.000447</td>\n",
              "      <td>0.000151</td>\n",
              "      <td>0.000040</td>\n",
              "      <td>7.197897e-06</td>\n",
              "      <td>2.305826e-07</td>\n",
              "      <td>2.132078e-08</td>\n",
              "      <td>5.265176e-10</td>\n",
              "      <td>3.795984e-10</td>\n",
              "      <td>4.813825e-10</td>\n",
              "      <td>5.271771e-10</td>\n",
              "      <td>1.025039e-09</td>\n",
              "      <td>4.272844e-10</td>\n",
              "      <td>5.892366e-10</td>\n",
              "      <td>3.384375e-10</td>\n",
              "      <td>6.220975e-10</td>\n",
              "      <td>3.963903e-10</td>\n",
              "      <td>6.704314e-10</td>\n",
              "      <td>fear</td>\n",
              "    </tr>\n",
              "    <tr>\n",
              "      <th>3</th>\n",
              "      <td>0.089417</td>\n",
              "      <td>0.043337</td>\n",
              "      <td>0.064568</td>\n",
              "      <td>0.077344</td>\n",
              "      <td>0.053868</td>\n",
              "      <td>0.050667</td>\n",
              "      <td>0.104624</td>\n",
              "      <td>0.119529</td>\n",
              "      <td>0.142349</td>\n",
              "      <td>0.031927</td>\n",
              "      <td>0.016647</td>\n",
              "      <td>0.014181</td>\n",
              "      <td>0.022433</td>\n",
              "      <td>0.094759</td>\n",
              "      <td>0.202395</td>\n",
              "      <td>0.466302</td>\n",
              "      <td>0.625785</td>\n",
              "      <td>5.083666</td>\n",
              "      <td>9.595825</td>\n",
              "      <td>42.822166</td>\n",
              "      <td>97.292770</td>\n",
              "      <td>109.934952</td>\n",
              "      <td>68.821709</td>\n",
              "      <td>63.094906</td>\n",
              "      <td>37.134239</td>\n",
              "      <td>81.886009</td>\n",
              "      <td>60.915936</td>\n",
              "      <td>1.730652</td>\n",
              "      <td>0.264138</td>\n",
              "      <td>0.406198</td>\n",
              "      <td>0.530102</td>\n",
              "      <td>0.131757</td>\n",
              "      <td>0.050231</td>\n",
              "      <td>0.112589</td>\n",
              "      <td>0.259326</td>\n",
              "      <td>0.130141</td>\n",
              "      <td>0.385837</td>\n",
              "      <td>0.360597</td>\n",
              "      <td>2.762814</td>\n",
              "      <td>16.475212</td>\n",
              "      <td>...</td>\n",
              "      <td>0.388569</td>\n",
              "      <td>0.177909</td>\n",
              "      <td>0.138913</td>\n",
              "      <td>0.378778</td>\n",
              "      <td>0.178972</td>\n",
              "      <td>0.094732</td>\n",
              "      <td>0.101731</td>\n",
              "      <td>0.049609</td>\n",
              "      <td>0.097035</td>\n",
              "      <td>0.073922</td>\n",
              "      <td>0.006838</td>\n",
              "      <td>0.005580</td>\n",
              "      <td>0.009142</td>\n",
              "      <td>0.010743</td>\n",
              "      <td>0.018780</td>\n",
              "      <td>0.021374</td>\n",
              "      <td>0.031865</td>\n",
              "      <td>0.025645</td>\n",
              "      <td>0.027884</td>\n",
              "      <td>0.040327</td>\n",
              "      <td>0.029941</td>\n",
              "      <td>0.008681</td>\n",
              "      <td>0.003957</td>\n",
              "      <td>0.001187</td>\n",
              "      <td>0.000225</td>\n",
              "      <td>4.792569e-05</td>\n",
              "      <td>1.928453e-06</td>\n",
              "      <td>9.601128e-08</td>\n",
              "      <td>4.126726e-09</td>\n",
              "      <td>4.181601e-09</td>\n",
              "      <td>3.185698e-09</td>\n",
              "      <td>3.375830e-09</td>\n",
              "      <td>5.281182e-09</td>\n",
              "      <td>7.663287e-09</td>\n",
              "      <td>2.881841e-09</td>\n",
              "      <td>2.500057e-09</td>\n",
              "      <td>2.059050e-09</td>\n",
              "      <td>2.739120e-09</td>\n",
              "      <td>2.659726e-09</td>\n",
              "      <td>fear</td>\n",
              "    </tr>\n",
              "    <tr>\n",
              "      <th>4</th>\n",
              "      <td>0.061285</td>\n",
              "      <td>0.027733</td>\n",
              "      <td>0.060389</td>\n",
              "      <td>0.090851</td>\n",
              "      <td>0.048972</td>\n",
              "      <td>0.047888</td>\n",
              "      <td>0.091910</td>\n",
              "      <td>0.095385</td>\n",
              "      <td>0.118773</td>\n",
              "      <td>0.220061</td>\n",
              "      <td>0.289259</td>\n",
              "      <td>0.498829</td>\n",
              "      <td>0.965216</td>\n",
              "      <td>5.323498</td>\n",
              "      <td>4.686775</td>\n",
              "      <td>0.395963</td>\n",
              "      <td>0.386031</td>\n",
              "      <td>1.173238</td>\n",
              "      <td>1.899026</td>\n",
              "      <td>5.511223</td>\n",
              "      <td>6.432559</td>\n",
              "      <td>5.685246</td>\n",
              "      <td>1.528582</td>\n",
              "      <td>0.560362</td>\n",
              "      <td>0.195801</td>\n",
              "      <td>0.417377</td>\n",
              "      <td>0.431062</td>\n",
              "      <td>0.155534</td>\n",
              "      <td>0.349979</td>\n",
              "      <td>0.377279</td>\n",
              "      <td>0.806367</td>\n",
              "      <td>0.227697</td>\n",
              "      <td>0.026932</td>\n",
              "      <td>0.048938</td>\n",
              "      <td>0.124893</td>\n",
              "      <td>0.059002</td>\n",
              "      <td>0.040438</td>\n",
              "      <td>0.049543</td>\n",
              "      <td>0.071956</td>\n",
              "      <td>0.107505</td>\n",
              "      <td>...</td>\n",
              "      <td>0.001913</td>\n",
              "      <td>0.001806</td>\n",
              "      <td>0.001005</td>\n",
              "      <td>0.001807</td>\n",
              "      <td>0.001853</td>\n",
              "      <td>0.002765</td>\n",
              "      <td>0.003716</td>\n",
              "      <td>0.001740</td>\n",
              "      <td>0.000839</td>\n",
              "      <td>0.000557</td>\n",
              "      <td>0.000423</td>\n",
              "      <td>0.000732</td>\n",
              "      <td>0.001042</td>\n",
              "      <td>0.001541</td>\n",
              "      <td>0.002110</td>\n",
              "      <td>0.003972</td>\n",
              "      <td>0.007682</td>\n",
              "      <td>0.008594</td>\n",
              "      <td>0.009143</td>\n",
              "      <td>0.009699</td>\n",
              "      <td>0.007874</td>\n",
              "      <td>0.005866</td>\n",
              "      <td>0.002503</td>\n",
              "      <td>0.000954</td>\n",
              "      <td>0.000528</td>\n",
              "      <td>7.000857e-05</td>\n",
              "      <td>1.792278e-06</td>\n",
              "      <td>1.006659e-07</td>\n",
              "      <td>1.514904e-09</td>\n",
              "      <td>7.965866e-10</td>\n",
              "      <td>7.831243e-10</td>\n",
              "      <td>6.506609e-10</td>\n",
              "      <td>7.596925e-10</td>\n",
              "      <td>7.458368e-10</td>\n",
              "      <td>6.637317e-10</td>\n",
              "      <td>4.966992e-10</td>\n",
              "      <td>6.149432e-10</td>\n",
              "      <td>6.171562e-10</td>\n",
              "      <td>4.881804e-10</td>\n",
              "      <td>happy</td>\n",
              "    </tr>\n",
              "  </tbody>\n",
              "</table>\n",
              "<p>5 rows × 129 columns</p>\n",
              "</div>"
            ],
            "text/plain": [
              "          0         1         2  ...           126           127  labels\n",
              "0  0.076833  0.030737  0.061028  ...  1.912552e-09  1.625368e-09   happy\n",
              "1  0.046559  0.029116  0.064096  ...  2.593199e-10  1.517384e-10   happy\n",
              "2  0.058857  0.023937  0.055691  ...  3.963903e-10  6.704314e-10    fear\n",
              "3  0.089417  0.043337  0.064568  ...  2.739120e-09  2.659726e-09    fear\n",
              "4  0.061285  0.027733  0.060389  ...  6.171562e-10  4.881804e-10   happy\n",
              "\n",
              "[5 rows x 129 columns]"
            ]
          },
          "metadata": {
            "tags": []
          },
          "execution_count": 12
        }
      ]
    },
    {
      "cell_type": "markdown",
      "metadata": {
        "id": "hgOh4IkmvgEp"
      },
      "source": [
        "## Data Preparation"
      ]
    },
    {
      "cell_type": "code",
      "metadata": {
        "trusted": true,
        "colab": {
          "base_uri": "https://localhost:8080/",
          "height": 338
        },
        "id": "U99crUcUvgEq",
        "outputId": "3f391bf2-3600-4078-d1f2-6c676370c1c6"
      },
      "source": [
        "dataset = pd.read_csv('/content/drive/MyDrive/Colab Notebooks/speech/dataset/cremad/mel_features.csv')\n",
        "dataset.head()"
      ],
      "execution_count": null,
      "outputs": [
        {
          "output_type": "execute_result",
          "data": {
            "text/html": [
              "<div>\n",
              "<style scoped>\n",
              "    .dataframe tbody tr th:only-of-type {\n",
              "        vertical-align: middle;\n",
              "    }\n",
              "\n",
              "    .dataframe tbody tr th {\n",
              "        vertical-align: top;\n",
              "    }\n",
              "\n",
              "    .dataframe thead th {\n",
              "        text-align: right;\n",
              "    }\n",
              "</style>\n",
              "<table border=\"1\" class=\"dataframe\">\n",
              "  <thead>\n",
              "    <tr style=\"text-align: right;\">\n",
              "      <th></th>\n",
              "      <th>0</th>\n",
              "      <th>1</th>\n",
              "      <th>2</th>\n",
              "      <th>3</th>\n",
              "      <th>4</th>\n",
              "      <th>5</th>\n",
              "      <th>6</th>\n",
              "      <th>7</th>\n",
              "      <th>8</th>\n",
              "      <th>9</th>\n",
              "      <th>10</th>\n",
              "      <th>11</th>\n",
              "      <th>12</th>\n",
              "      <th>13</th>\n",
              "      <th>14</th>\n",
              "      <th>15</th>\n",
              "      <th>16</th>\n",
              "      <th>17</th>\n",
              "      <th>18</th>\n",
              "      <th>19</th>\n",
              "      <th>20</th>\n",
              "      <th>21</th>\n",
              "      <th>22</th>\n",
              "      <th>23</th>\n",
              "      <th>24</th>\n",
              "      <th>25</th>\n",
              "      <th>26</th>\n",
              "      <th>27</th>\n",
              "      <th>28</th>\n",
              "      <th>29</th>\n",
              "      <th>30</th>\n",
              "      <th>31</th>\n",
              "      <th>32</th>\n",
              "      <th>33</th>\n",
              "      <th>34</th>\n",
              "      <th>35</th>\n",
              "      <th>36</th>\n",
              "      <th>37</th>\n",
              "      <th>38</th>\n",
              "      <th>39</th>\n",
              "      <th>...</th>\n",
              "      <th>89</th>\n",
              "      <th>90</th>\n",
              "      <th>91</th>\n",
              "      <th>92</th>\n",
              "      <th>93</th>\n",
              "      <th>94</th>\n",
              "      <th>95</th>\n",
              "      <th>96</th>\n",
              "      <th>97</th>\n",
              "      <th>98</th>\n",
              "      <th>99</th>\n",
              "      <th>100</th>\n",
              "      <th>101</th>\n",
              "      <th>102</th>\n",
              "      <th>103</th>\n",
              "      <th>104</th>\n",
              "      <th>105</th>\n",
              "      <th>106</th>\n",
              "      <th>107</th>\n",
              "      <th>108</th>\n",
              "      <th>109</th>\n",
              "      <th>110</th>\n",
              "      <th>111</th>\n",
              "      <th>112</th>\n",
              "      <th>113</th>\n",
              "      <th>114</th>\n",
              "      <th>115</th>\n",
              "      <th>116</th>\n",
              "      <th>117</th>\n",
              "      <th>118</th>\n",
              "      <th>119</th>\n",
              "      <th>120</th>\n",
              "      <th>121</th>\n",
              "      <th>122</th>\n",
              "      <th>123</th>\n",
              "      <th>124</th>\n",
              "      <th>125</th>\n",
              "      <th>126</th>\n",
              "      <th>127</th>\n",
              "      <th>labels</th>\n",
              "    </tr>\n",
              "  </thead>\n",
              "  <tbody>\n",
              "    <tr>\n",
              "      <th>0</th>\n",
              "      <td>0.076833</td>\n",
              "      <td>0.030737</td>\n",
              "      <td>0.061028</td>\n",
              "      <td>0.081898</td>\n",
              "      <td>0.046983</td>\n",
              "      <td>0.046682</td>\n",
              "      <td>0.185286</td>\n",
              "      <td>1.064163</td>\n",
              "      <td>0.952967</td>\n",
              "      <td>1.010579</td>\n",
              "      <td>1.109322</td>\n",
              "      <td>1.736680</td>\n",
              "      <td>3.320479</td>\n",
              "      <td>7.171905</td>\n",
              "      <td>6.498925</td>\n",
              "      <td>5.798558</td>\n",
              "      <td>7.476932</td>\n",
              "      <td>10.674026</td>\n",
              "      <td>13.549254</td>\n",
              "      <td>4.204493</td>\n",
              "      <td>14.216737</td>\n",
              "      <td>14.409835</td>\n",
              "      <td>2.196486</td>\n",
              "      <td>1.269828</td>\n",
              "      <td>0.974430</td>\n",
              "      <td>1.407033</td>\n",
              "      <td>3.226888</td>\n",
              "      <td>2.822817</td>\n",
              "      <td>1.978801</td>\n",
              "      <td>2.767190</td>\n",
              "      <td>4.145090</td>\n",
              "      <td>1.531667</td>\n",
              "      <td>0.717661</td>\n",
              "      <td>0.529532</td>\n",
              "      <td>2.836708</td>\n",
              "      <td>2.795673</td>\n",
              "      <td>1.829404</td>\n",
              "      <td>1.580155</td>\n",
              "      <td>1.661133</td>\n",
              "      <td>2.539765</td>\n",
              "      <td>...</td>\n",
              "      <td>0.041259</td>\n",
              "      <td>0.052720</td>\n",
              "      <td>0.026409</td>\n",
              "      <td>0.124675</td>\n",
              "      <td>0.080615</td>\n",
              "      <td>0.068720</td>\n",
              "      <td>0.035598</td>\n",
              "      <td>0.009643</td>\n",
              "      <td>0.003180</td>\n",
              "      <td>0.001634</td>\n",
              "      <td>0.000573</td>\n",
              "      <td>0.001007</td>\n",
              "      <td>0.001570</td>\n",
              "      <td>0.002691</td>\n",
              "      <td>0.003597</td>\n",
              "      <td>0.005950</td>\n",
              "      <td>0.007294</td>\n",
              "      <td>0.005611</td>\n",
              "      <td>0.006267</td>\n",
              "      <td>0.005680</td>\n",
              "      <td>0.004223</td>\n",
              "      <td>0.003144</td>\n",
              "      <td>0.000948</td>\n",
              "      <td>0.000207</td>\n",
              "      <td>0.000055</td>\n",
              "      <td>2.361743e-05</td>\n",
              "      <td>6.259726e-06</td>\n",
              "      <td>1.045090e-06</td>\n",
              "      <td>6.477228e-09</td>\n",
              "      <td>2.217579e-09</td>\n",
              "      <td>2.431702e-09</td>\n",
              "      <td>2.498823e-09</td>\n",
              "      <td>1.997063e-09</td>\n",
              "      <td>1.707204e-09</td>\n",
              "      <td>1.595727e-09</td>\n",
              "      <td>1.237794e-09</td>\n",
              "      <td>1.764120e-09</td>\n",
              "      <td>1.912552e-09</td>\n",
              "      <td>1.625368e-09</td>\n",
              "      <td>happy</td>\n",
              "    </tr>\n",
              "    <tr>\n",
              "      <th>1</th>\n",
              "      <td>0.046559</td>\n",
              "      <td>0.029116</td>\n",
              "      <td>0.064096</td>\n",
              "      <td>0.109162</td>\n",
              "      <td>0.217946</td>\n",
              "      <td>0.690346</td>\n",
              "      <td>1.395999</td>\n",
              "      <td>0.942536</td>\n",
              "      <td>1.450985</td>\n",
              "      <td>0.852693</td>\n",
              "      <td>0.369703</td>\n",
              "      <td>0.752590</td>\n",
              "      <td>1.780183</td>\n",
              "      <td>2.966136</td>\n",
              "      <td>3.849347</td>\n",
              "      <td>0.470726</td>\n",
              "      <td>1.289655</td>\n",
              "      <td>2.574431</td>\n",
              "      <td>2.957825</td>\n",
              "      <td>7.731913</td>\n",
              "      <td>5.124743</td>\n",
              "      <td>1.307118</td>\n",
              "      <td>0.200186</td>\n",
              "      <td>0.090035</td>\n",
              "      <td>0.064821</td>\n",
              "      <td>0.910954</td>\n",
              "      <td>0.777657</td>\n",
              "      <td>0.118238</td>\n",
              "      <td>0.376992</td>\n",
              "      <td>0.680684</td>\n",
              "      <td>1.654895</td>\n",
              "      <td>0.340065</td>\n",
              "      <td>0.023265</td>\n",
              "      <td>0.044356</td>\n",
              "      <td>0.173880</td>\n",
              "      <td>0.232484</td>\n",
              "      <td>0.257710</td>\n",
              "      <td>0.153174</td>\n",
              "      <td>0.279318</td>\n",
              "      <td>0.182870</td>\n",
              "      <td>...</td>\n",
              "      <td>0.003270</td>\n",
              "      <td>0.002771</td>\n",
              "      <td>0.001190</td>\n",
              "      <td>0.000810</td>\n",
              "      <td>0.001308</td>\n",
              "      <td>0.000938</td>\n",
              "      <td>0.001170</td>\n",
              "      <td>0.001200</td>\n",
              "      <td>0.000716</td>\n",
              "      <td>0.001077</td>\n",
              "      <td>0.000700</td>\n",
              "      <td>0.000841</td>\n",
              "      <td>0.000647</td>\n",
              "      <td>0.000693</td>\n",
              "      <td>0.000732</td>\n",
              "      <td>0.000793</td>\n",
              "      <td>0.001397</td>\n",
              "      <td>0.000533</td>\n",
              "      <td>0.000586</td>\n",
              "      <td>0.000555</td>\n",
              "      <td>0.000333</td>\n",
              "      <td>0.000137</td>\n",
              "      <td>0.000055</td>\n",
              "      <td>0.000020</td>\n",
              "      <td>0.000004</td>\n",
              "      <td>7.381458e-07</td>\n",
              "      <td>4.991731e-08</td>\n",
              "      <td>2.016636e-09</td>\n",
              "      <td>2.160071e-10</td>\n",
              "      <td>1.893571e-10</td>\n",
              "      <td>1.814714e-10</td>\n",
              "      <td>1.492693e-10</td>\n",
              "      <td>2.272426e-10</td>\n",
              "      <td>1.929704e-10</td>\n",
              "      <td>3.066508e-10</td>\n",
              "      <td>1.671939e-10</td>\n",
              "      <td>2.916499e-10</td>\n",
              "      <td>2.593199e-10</td>\n",
              "      <td>1.517384e-10</td>\n",
              "      <td>happy</td>\n",
              "    </tr>\n",
              "    <tr>\n",
              "      <th>2</th>\n",
              "      <td>0.058857</td>\n",
              "      <td>0.023937</td>\n",
              "      <td>0.055691</td>\n",
              "      <td>0.109114</td>\n",
              "      <td>0.061035</td>\n",
              "      <td>0.126132</td>\n",
              "      <td>0.392168</td>\n",
              "      <td>1.118926</td>\n",
              "      <td>3.271797</td>\n",
              "      <td>4.100485</td>\n",
              "      <td>4.907799</td>\n",
              "      <td>0.579800</td>\n",
              "      <td>0.076296</td>\n",
              "      <td>0.057966</td>\n",
              "      <td>0.085716</td>\n",
              "      <td>0.063021</td>\n",
              "      <td>0.139486</td>\n",
              "      <td>0.952193</td>\n",
              "      <td>2.977605</td>\n",
              "      <td>3.059296</td>\n",
              "      <td>8.881009</td>\n",
              "      <td>9.359259</td>\n",
              "      <td>1.218928</td>\n",
              "      <td>0.526419</td>\n",
              "      <td>0.400553</td>\n",
              "      <td>0.337032</td>\n",
              "      <td>0.387572</td>\n",
              "      <td>0.137893</td>\n",
              "      <td>0.678827</td>\n",
              "      <td>2.565876</td>\n",
              "      <td>11.902858</td>\n",
              "      <td>6.689280</td>\n",
              "      <td>0.535942</td>\n",
              "      <td>0.130106</td>\n",
              "      <td>0.994555</td>\n",
              "      <td>0.658200</td>\n",
              "      <td>0.230561</td>\n",
              "      <td>0.134756</td>\n",
              "      <td>0.127539</td>\n",
              "      <td>0.101044</td>\n",
              "      <td>...</td>\n",
              "      <td>0.010870</td>\n",
              "      <td>0.013965</td>\n",
              "      <td>0.004976</td>\n",
              "      <td>0.045715</td>\n",
              "      <td>0.030037</td>\n",
              "      <td>0.009058</td>\n",
              "      <td>0.011689</td>\n",
              "      <td>0.002812</td>\n",
              "      <td>0.002084</td>\n",
              "      <td>0.001277</td>\n",
              "      <td>0.001565</td>\n",
              "      <td>0.002221</td>\n",
              "      <td>0.003241</td>\n",
              "      <td>0.003994</td>\n",
              "      <td>0.003977</td>\n",
              "      <td>0.002401</td>\n",
              "      <td>0.004122</td>\n",
              "      <td>0.003226</td>\n",
              "      <td>0.003202</td>\n",
              "      <td>0.003066</td>\n",
              "      <td>0.002850</td>\n",
              "      <td>0.001265</td>\n",
              "      <td>0.000447</td>\n",
              "      <td>0.000151</td>\n",
              "      <td>0.000040</td>\n",
              "      <td>7.197897e-06</td>\n",
              "      <td>2.305826e-07</td>\n",
              "      <td>2.132078e-08</td>\n",
              "      <td>5.265176e-10</td>\n",
              "      <td>3.795984e-10</td>\n",
              "      <td>4.813825e-10</td>\n",
              "      <td>5.271771e-10</td>\n",
              "      <td>1.025039e-09</td>\n",
              "      <td>4.272844e-10</td>\n",
              "      <td>5.892366e-10</td>\n",
              "      <td>3.384375e-10</td>\n",
              "      <td>6.220975e-10</td>\n",
              "      <td>3.963903e-10</td>\n",
              "      <td>6.704314e-10</td>\n",
              "      <td>fear</td>\n",
              "    </tr>\n",
              "    <tr>\n",
              "      <th>3</th>\n",
              "      <td>0.089417</td>\n",
              "      <td>0.043337</td>\n",
              "      <td>0.064568</td>\n",
              "      <td>0.077344</td>\n",
              "      <td>0.053868</td>\n",
              "      <td>0.050667</td>\n",
              "      <td>0.104624</td>\n",
              "      <td>0.119529</td>\n",
              "      <td>0.142349</td>\n",
              "      <td>0.031927</td>\n",
              "      <td>0.016647</td>\n",
              "      <td>0.014181</td>\n",
              "      <td>0.022433</td>\n",
              "      <td>0.094759</td>\n",
              "      <td>0.202395</td>\n",
              "      <td>0.466302</td>\n",
              "      <td>0.625785</td>\n",
              "      <td>5.083666</td>\n",
              "      <td>9.595825</td>\n",
              "      <td>42.822166</td>\n",
              "      <td>97.292770</td>\n",
              "      <td>109.934952</td>\n",
              "      <td>68.821709</td>\n",
              "      <td>63.094906</td>\n",
              "      <td>37.134239</td>\n",
              "      <td>81.886009</td>\n",
              "      <td>60.915936</td>\n",
              "      <td>1.730652</td>\n",
              "      <td>0.264138</td>\n",
              "      <td>0.406198</td>\n",
              "      <td>0.530102</td>\n",
              "      <td>0.131757</td>\n",
              "      <td>0.050231</td>\n",
              "      <td>0.112589</td>\n",
              "      <td>0.259326</td>\n",
              "      <td>0.130141</td>\n",
              "      <td>0.385837</td>\n",
              "      <td>0.360597</td>\n",
              "      <td>2.762814</td>\n",
              "      <td>16.475212</td>\n",
              "      <td>...</td>\n",
              "      <td>0.388569</td>\n",
              "      <td>0.177909</td>\n",
              "      <td>0.138913</td>\n",
              "      <td>0.378778</td>\n",
              "      <td>0.178972</td>\n",
              "      <td>0.094732</td>\n",
              "      <td>0.101731</td>\n",
              "      <td>0.049609</td>\n",
              "      <td>0.097035</td>\n",
              "      <td>0.073922</td>\n",
              "      <td>0.006838</td>\n",
              "      <td>0.005580</td>\n",
              "      <td>0.009142</td>\n",
              "      <td>0.010743</td>\n",
              "      <td>0.018780</td>\n",
              "      <td>0.021374</td>\n",
              "      <td>0.031865</td>\n",
              "      <td>0.025645</td>\n",
              "      <td>0.027884</td>\n",
              "      <td>0.040327</td>\n",
              "      <td>0.029941</td>\n",
              "      <td>0.008681</td>\n",
              "      <td>0.003957</td>\n",
              "      <td>0.001187</td>\n",
              "      <td>0.000225</td>\n",
              "      <td>4.792569e-05</td>\n",
              "      <td>1.928453e-06</td>\n",
              "      <td>9.601128e-08</td>\n",
              "      <td>4.126726e-09</td>\n",
              "      <td>4.181601e-09</td>\n",
              "      <td>3.185698e-09</td>\n",
              "      <td>3.375830e-09</td>\n",
              "      <td>5.281182e-09</td>\n",
              "      <td>7.663287e-09</td>\n",
              "      <td>2.881841e-09</td>\n",
              "      <td>2.500057e-09</td>\n",
              "      <td>2.059050e-09</td>\n",
              "      <td>2.739120e-09</td>\n",
              "      <td>2.659726e-09</td>\n",
              "      <td>fear</td>\n",
              "    </tr>\n",
              "    <tr>\n",
              "      <th>4</th>\n",
              "      <td>0.061285</td>\n",
              "      <td>0.027733</td>\n",
              "      <td>0.060389</td>\n",
              "      <td>0.090851</td>\n",
              "      <td>0.048972</td>\n",
              "      <td>0.047888</td>\n",
              "      <td>0.091910</td>\n",
              "      <td>0.095385</td>\n",
              "      <td>0.118773</td>\n",
              "      <td>0.220061</td>\n",
              "      <td>0.289259</td>\n",
              "      <td>0.498829</td>\n",
              "      <td>0.965216</td>\n",
              "      <td>5.323498</td>\n",
              "      <td>4.686775</td>\n",
              "      <td>0.395963</td>\n",
              "      <td>0.386031</td>\n",
              "      <td>1.173238</td>\n",
              "      <td>1.899026</td>\n",
              "      <td>5.511223</td>\n",
              "      <td>6.432559</td>\n",
              "      <td>5.685246</td>\n",
              "      <td>1.528582</td>\n",
              "      <td>0.560362</td>\n",
              "      <td>0.195801</td>\n",
              "      <td>0.417377</td>\n",
              "      <td>0.431062</td>\n",
              "      <td>0.155534</td>\n",
              "      <td>0.349979</td>\n",
              "      <td>0.377279</td>\n",
              "      <td>0.806367</td>\n",
              "      <td>0.227697</td>\n",
              "      <td>0.026932</td>\n",
              "      <td>0.048938</td>\n",
              "      <td>0.124893</td>\n",
              "      <td>0.059002</td>\n",
              "      <td>0.040438</td>\n",
              "      <td>0.049543</td>\n",
              "      <td>0.071956</td>\n",
              "      <td>0.107505</td>\n",
              "      <td>...</td>\n",
              "      <td>0.001913</td>\n",
              "      <td>0.001806</td>\n",
              "      <td>0.001005</td>\n",
              "      <td>0.001807</td>\n",
              "      <td>0.001853</td>\n",
              "      <td>0.002765</td>\n",
              "      <td>0.003716</td>\n",
              "      <td>0.001740</td>\n",
              "      <td>0.000839</td>\n",
              "      <td>0.000557</td>\n",
              "      <td>0.000423</td>\n",
              "      <td>0.000732</td>\n",
              "      <td>0.001042</td>\n",
              "      <td>0.001541</td>\n",
              "      <td>0.002110</td>\n",
              "      <td>0.003972</td>\n",
              "      <td>0.007682</td>\n",
              "      <td>0.008594</td>\n",
              "      <td>0.009143</td>\n",
              "      <td>0.009699</td>\n",
              "      <td>0.007874</td>\n",
              "      <td>0.005866</td>\n",
              "      <td>0.002503</td>\n",
              "      <td>0.000954</td>\n",
              "      <td>0.000528</td>\n",
              "      <td>7.000857e-05</td>\n",
              "      <td>1.792278e-06</td>\n",
              "      <td>1.006659e-07</td>\n",
              "      <td>1.514904e-09</td>\n",
              "      <td>7.965866e-10</td>\n",
              "      <td>7.831243e-10</td>\n",
              "      <td>6.506609e-10</td>\n",
              "      <td>7.596925e-10</td>\n",
              "      <td>7.458368e-10</td>\n",
              "      <td>6.637317e-10</td>\n",
              "      <td>4.966992e-10</td>\n",
              "      <td>6.149432e-10</td>\n",
              "      <td>6.171562e-10</td>\n",
              "      <td>4.881804e-10</td>\n",
              "      <td>happy</td>\n",
              "    </tr>\n",
              "  </tbody>\n",
              "</table>\n",
              "<p>5 rows × 129 columns</p>\n",
              "</div>"
            ],
            "text/plain": [
              "          0         1         2  ...           126           127  labels\n",
              "0  0.076833  0.030737  0.061028  ...  1.912552e-09  1.625368e-09   happy\n",
              "1  0.046559  0.029116  0.064096  ...  2.593199e-10  1.517384e-10   happy\n",
              "2  0.058857  0.023937  0.055691  ...  3.963903e-10  6.704314e-10    fear\n",
              "3  0.089417  0.043337  0.064568  ...  2.739120e-09  2.659726e-09    fear\n",
              "4  0.061285  0.027733  0.060389  ...  6.171562e-10  4.881804e-10   happy\n",
              "\n",
              "[5 rows x 129 columns]"
            ]
          },
          "metadata": {
            "tags": []
          },
          "execution_count": 4
        }
      ]
    },
    {
      "cell_type": "code",
      "metadata": {
        "id": "4D2myJ17_d3q",
        "colab": {
          "base_uri": "https://localhost:8080/"
        },
        "outputId": "d595a784-b646-4458-d060-f0d403c931fe"
      },
      "source": [
        "dataset.labels.value_counts()"
      ],
      "execution_count": null,
      "outputs": [
        {
          "output_type": "execute_result",
          "data": {
            "text/plain": [
              "angry    1271\n",
              "fear     1271\n",
              "sad      1271\n",
              "happy    1271\n",
              "Name: labels, dtype: int64"
            ]
          },
          "metadata": {
            "tags": []
          },
          "execution_count": 5
        }
      ]
    },
    {
      "cell_type": "markdown",
      "metadata": {
        "id": "IDFEVF570_rl"
      },
      "source": [
        "## Modeling"
      ]
    },
    {
      "cell_type": "markdown",
      "metadata": {
        "id": "WLB_d6YJ1RP1"
      },
      "source": [
        "### MLPClassifier"
      ]
    },
    {
      "cell_type": "code",
      "metadata": {
        "trusted": true,
        "id": "RmyGeJT8vgEr"
      },
      "source": [
        "X = dataset.iloc[:, :-1].values\n",
        "Y = dataset.iloc[:, -1].values"
      ],
      "execution_count": null,
      "outputs": []
    },
    {
      "cell_type": "code",
      "metadata": {
        "id": "cUN614nz1gNZ"
      },
      "source": [
        "x_train, x_test, y_train, y_test = train_test_split(np.array(X), Y, test_size = 0.25, random_state = 9)"
      ],
      "execution_count": null,
      "outputs": []
    },
    {
      "cell_type": "code",
      "metadata": {
        "colab": {
          "base_uri": "https://localhost:8080/"
        },
        "id": "FEi7lWlztAEE",
        "outputId": "43d245a8-ab64-4e68-d63a-0e14db0a04bb"
      },
      "source": [
        "x_train.shape"
      ],
      "execution_count": null,
      "outputs": [
        {
          "output_type": "execute_result",
          "data": {
            "text/plain": [
              "(3813, 128)"
            ]
          },
          "metadata": {
            "tags": []
          },
          "execution_count": 7
        }
      ]
    },
    {
      "cell_type": "code",
      "metadata": {
        "id": "CIqhkZMuOI0l"
      },
      "source": [
        "model=MLPClassifier(alpha=0.01, batch_size=256, epsilon=1e-08, hidden_layer_sizes=(300,), learning_rate='adaptive', max_iter=1000)"
      ],
      "execution_count": null,
      "outputs": []
    },
    {
      "cell_type": "code",
      "metadata": {
        "id": "_FilJ0CqmQq5",
        "colab": {
          "base_uri": "https://localhost:8080/"
        },
        "outputId": "1db91a2a-f612-40a4-c54d-96a64a1243cd"
      },
      "source": [
        "model.fit(x_train, y_train)"
      ],
      "execution_count": null,
      "outputs": [
        {
          "output_type": "execute_result",
          "data": {
            "text/plain": [
              "MLPClassifier(activation='relu', alpha=0.01, batch_size=256, beta_1=0.9,\n",
              "              beta_2=0.999, early_stopping=False, epsilon=1e-08,\n",
              "              hidden_layer_sizes=(300,), learning_rate='adaptive',\n",
              "              learning_rate_init=0.001, max_fun=15000, max_iter=1000,\n",
              "              momentum=0.9, n_iter_no_change=10, nesterovs_momentum=True,\n",
              "              power_t=0.5, random_state=None, shuffle=True, solver='adam',\n",
              "              tol=0.0001, validation_fraction=0.1, verbose=False,\n",
              "              warm_start=False)"
            ]
          },
          "metadata": {
            "tags": []
          },
          "execution_count": 9
        }
      ]
    },
    {
      "cell_type": "markdown",
      "metadata": {
        "id": "YzWvsB1Vzj9F"
      },
      "source": [
        "### LightGBM"
      ]
    },
    {
      "cell_type": "code",
      "metadata": {
        "id": "vgY7MCwwJweQ"
      },
      "source": [
        "data = dataset.copy()\n",
        "data.labels = data.labels.map({'angry':0, 'fear':1, 'happy':2, 'sad':3})"
      ],
      "execution_count": null,
      "outputs": []
    },
    {
      "cell_type": "code",
      "metadata": {
        "colab": {
          "base_uri": "https://localhost:8080/"
        },
        "id": "OJmWtCAxNIxc",
        "outputId": "edeeac17-140e-44f0-c968-7406dde8d840"
      },
      "source": [
        "data.labels.value_counts()"
      ],
      "execution_count": null,
      "outputs": [
        {
          "output_type": "execute_result",
          "data": {
            "text/plain": [
              "3    1271\n",
              "2    1271\n",
              "1    1271\n",
              "0    1271\n",
              "Name: labels, dtype: int64"
            ]
          },
          "metadata": {
            "tags": []
          },
          "execution_count": 16
        }
      ]
    },
    {
      "cell_type": "code",
      "metadata": {
        "id": "duKnnoH1J2X3"
      },
      "source": [
        "X = data.iloc[:, :-1].values\n",
        "Y = data.iloc[:, -1].values"
      ],
      "execution_count": null,
      "outputs": []
    },
    {
      "cell_type": "code",
      "metadata": {
        "trusted": true,
        "id": "a32K62e-vgEr"
      },
      "source": [
        "x_train, x_test, y_train, y_test = train_test_split(X, Y, test_size = 0.25, random_state = 0)\n",
        "x_train, x_valid, y_train, y_valid = train_test_split(x_train, y_train, test_size=0.1, random_state=0)\n",
        "\n",
        "sc = StandardScaler()\n",
        "x_train = sc.fit_transform(x_train)\n",
        "x_test = sc.transform(x_test)\n",
        "x_valid = sc.transform(x_valid)"
      ],
      "execution_count": null,
      "outputs": []
    },
    {
      "cell_type": "code",
      "metadata": {
        "trusted": true,
        "id": "Zoa4feXDvgEs"
      },
      "source": [
        "NUM_CLASS = 4\n",
        "\n",
        "params = {}\n",
        "params['learning_rate'] = 0.01\n",
        "params['boosting_type'] = 'gbdt'\n",
        "params['objective'] = 'multiclass'\n",
        "params['metric'] = 'multi_logloss'\n",
        "params['num_leaves'] = 100\n",
        "params['min_data'] = 100\n",
        "params['max_depth'] = 50\n",
        "params['num_class'] = NUM_CLASS\n",
        "params['max_bin'] = 150 # small max_bin causes faster speed and large value improves accuracy\n",
        "params['bagging_freq'] = 100\n",
        "params['feature_fraction'] = 0.6 # deal with column\n",
        "params['bagging_fraction'] = 0.6\n",
        "# params['device'] = 'gpu'\n",
        "#params['num_iterations'] = 1000\n",
        "#params['early_stopping_rounds'] = 100# the rule of thumb is to have it at 10% of your num_iterations"
      ],
      "execution_count": null,
      "outputs": []
    },
    {
      "cell_type": "code",
      "metadata": {
        "trusted": true,
        "colab": {
          "base_uri": "https://localhost:8080/"
        },
        "id": "6Fdn0eNsvgEt",
        "outputId": "8c86785b-6f19-43b5-e19d-f3ba02a85938"
      },
      "source": [
        "x_test.shape"
      ],
      "execution_count": null,
      "outputs": [
        {
          "output_type": "execute_result",
          "data": {
            "text/plain": [
              "(1271, 128)"
            ]
          },
          "metadata": {
            "tags": []
          },
          "execution_count": 20
        }
      ]
    },
    {
      "cell_type": "code",
      "metadata": {
        "id": "tdDGlZ8n44Ez"
      },
      "source": [
        "import lightgbm as lgb"
      ],
      "execution_count": null,
      "outputs": []
    },
    {
      "cell_type": "code",
      "metadata": {
        "id": "KC3etxXzyhS8",
        "colab": {
          "base_uri": "https://localhost:8080/"
        },
        "outputId": "592b612f-8b90-4969-ded0-c8a82889d41b"
      },
      "source": [
        "dtrain = lgb.Dataset(x_train, y_train)\n",
        "dvalid = lgb.Dataset(x_valid, y_valid)\n",
        "lgb_model = lgb.train(params, \n",
        "                          dtrain, \n",
        "                          num_boost_round=10000,\n",
        "                          early_stopping_rounds=1000,\n",
        "                          valid_sets=(dtrain, dvalid), \n",
        "                          valid_names=('train','valid'),\n",
        "                          verbose_eval = 100)"
      ],
      "execution_count": null,
      "outputs": [
        {
          "output_type": "stream",
          "text": [
            "Training until validation scores don't improve for 1000 rounds.\n",
            "[100]\ttrain's multi_logloss: 1.04893\tvalid's multi_logloss: 1.08588\n",
            "[200]\ttrain's multi_logloss: 0.900473\tvalid's multi_logloss: 0.981927\n",
            "[300]\ttrain's multi_logloss: 0.814255\tvalid's multi_logloss: 0.932924\n",
            "[400]\ttrain's multi_logloss: 0.751698\tvalid's multi_logloss: 0.9126\n",
            "[500]\ttrain's multi_logloss: 0.699586\tvalid's multi_logloss: 0.895098\n",
            "[600]\ttrain's multi_logloss: 0.654962\tvalid's multi_logloss: 0.890734\n",
            "[700]\ttrain's multi_logloss: 0.615736\tvalid's multi_logloss: 0.881952\n",
            "[800]\ttrain's multi_logloss: 0.578076\tvalid's multi_logloss: 0.87432\n",
            "[900]\ttrain's multi_logloss: 0.541618\tvalid's multi_logloss: 0.868719\n",
            "[1000]\ttrain's multi_logloss: 0.511844\tvalid's multi_logloss: 0.867818\n",
            "[1100]\ttrain's multi_logloss: 0.48508\tvalid's multi_logloss: 0.865721\n",
            "[1200]\ttrain's multi_logloss: 0.457208\tvalid's multi_logloss: 0.863133\n",
            "[1300]\ttrain's multi_logloss: 0.43263\tvalid's multi_logloss: 0.867942\n",
            "[1400]\ttrain's multi_logloss: 0.409259\tvalid's multi_logloss: 0.865824\n",
            "[1500]\ttrain's multi_logloss: 0.387158\tvalid's multi_logloss: 0.86436\n",
            "[1600]\ttrain's multi_logloss: 0.365836\tvalid's multi_logloss: 0.864017\n",
            "[1700]\ttrain's multi_logloss: 0.346512\tvalid's multi_logloss: 0.862699\n",
            "[1800]\ttrain's multi_logloss: 0.328683\tvalid's multi_logloss: 0.868877\n",
            "[1900]\ttrain's multi_logloss: 0.311745\tvalid's multi_logloss: 0.872618\n",
            "[2000]\ttrain's multi_logloss: 0.295161\tvalid's multi_logloss: 0.874918\n",
            "[2100]\ttrain's multi_logloss: 0.279771\tvalid's multi_logloss: 0.875161\n",
            "Early stopping, best iteration is:\n",
            "[1176]\ttrain's multi_logloss: 0.463324\tvalid's multi_logloss: 0.861992\n"
          ],
          "name": "stdout"
        }
      ]
    },
    {
      "cell_type": "markdown",
      "metadata": {
        "id": "jLtfMTqCvgEv"
      },
      "source": [
        "## Experiment results"
      ]
    },
    {
      "cell_type": "markdown",
      "metadata": {
        "id": "ryPwl16W7LE3"
      },
      "source": [
        "### MLP"
      ]
    },
    {
      "cell_type": "code",
      "metadata": {
        "trusted": true,
        "id": "VNNms9KmvgEw"
      },
      "source": [
        "preds = model.predict(x_test)"
      ],
      "execution_count": null,
      "outputs": []
    },
    {
      "cell_type": "code",
      "metadata": {
        "trusted": true,
        "id": "RIH-WwOJvgEx",
        "colab": {
          "base_uri": "https://localhost:8080/",
          "height": 204
        },
        "outputId": "d1dd4b84-93ff-4496-8cb7-e8de36ed36c6"
      },
      "source": [
        "results = pd.DataFrame()\n",
        "results['Actual'] = y_test\n",
        "results['Predicted'] = preds\n",
        "\n",
        "results.head()"
      ],
      "execution_count": null,
      "outputs": [
        {
          "output_type": "execute_result",
          "data": {
            "text/html": [
              "<div>\n",
              "<style scoped>\n",
              "    .dataframe tbody tr th:only-of-type {\n",
              "        vertical-align: middle;\n",
              "    }\n",
              "\n",
              "    .dataframe tbody tr th {\n",
              "        vertical-align: top;\n",
              "    }\n",
              "\n",
              "    .dataframe thead th {\n",
              "        text-align: right;\n",
              "    }\n",
              "</style>\n",
              "<table border=\"1\" class=\"dataframe\">\n",
              "  <thead>\n",
              "    <tr style=\"text-align: right;\">\n",
              "      <th></th>\n",
              "      <th>Actual</th>\n",
              "      <th>Predicted</th>\n",
              "    </tr>\n",
              "  </thead>\n",
              "  <tbody>\n",
              "    <tr>\n",
              "      <th>0</th>\n",
              "      <td>happy</td>\n",
              "      <td>angry</td>\n",
              "    </tr>\n",
              "    <tr>\n",
              "      <th>1</th>\n",
              "      <td>fear</td>\n",
              "      <td>happy</td>\n",
              "    </tr>\n",
              "    <tr>\n",
              "      <th>2</th>\n",
              "      <td>fear</td>\n",
              "      <td>sad</td>\n",
              "    </tr>\n",
              "    <tr>\n",
              "      <th>3</th>\n",
              "      <td>sad</td>\n",
              "      <td>fear</td>\n",
              "    </tr>\n",
              "    <tr>\n",
              "      <th>4</th>\n",
              "      <td>angry</td>\n",
              "      <td>happy</td>\n",
              "    </tr>\n",
              "  </tbody>\n",
              "</table>\n",
              "</div>"
            ],
            "text/plain": [
              "  Actual Predicted\n",
              "0  happy     angry\n",
              "1   fear     happy\n",
              "2   fear       sad\n",
              "3    sad      fear\n",
              "4  angry     happy"
            ]
          },
          "metadata": {
            "tags": []
          },
          "execution_count": 36
        }
      ]
    },
    {
      "cell_type": "code",
      "metadata": {
        "colab": {
          "base_uri": "https://localhost:8080/"
        },
        "id": "yLaWLRp-DnZ4",
        "outputId": "905d8ce3-e699-4fce-8f71-a46d0bc4dd88"
      },
      "source": [
        "d = results[(results.Actual=='sad') & (results.Predicted=='sad')]\n",
        "d.shape"
      ],
      "execution_count": null,
      "outputs": [
        {
          "output_type": "execute_result",
          "data": {
            "text/plain": [
              "(248, 2)"
            ]
          },
          "metadata": {
            "tags": []
          },
          "execution_count": 37
        }
      ]
    },
    {
      "cell_type": "code",
      "metadata": {
        "trusted": true,
        "colab": {
          "base_uri": "https://localhost:8080/",
          "height": 725
        },
        "id": "xp-c6GQAvgEx",
        "outputId": "444888ae-29fa-4a13-d6b2-ea32634741c3"
      },
      "source": [
        "cm = confusion_matrix(y_test, preds)\n",
        "df_cm = pd.DataFrame(cm,\n",
        "                     index=observed_emotions,\n",
        "                     columns=observed_emotions)\n",
        "plt.figure(figsize=(10, 10))\n",
        "\n",
        "sns.set(font_scale=1)\n",
        "\n",
        "\n",
        "ax = sns.heatmap(df_cm, annot=True, square=True, fmt='d', linewidths=.2, cbar=0, cmap=plt.cm.Blues)\n",
        "ax.set_xticklabels(ax.get_xticklabels(), rotation=0)\n",
        "\n",
        "plt.ylabel('True labels')\n",
        "plt.xlabel('Predicted labels')\n",
        "plt.tight_layout()\n",
        "\n",
        "name = 'mel feature 58%.png'\n",
        "plt.savefig('/content/drive/MyDrive/Colab Notebooks/speech/dataset/cremad/Confusion matrix/mlp Confusion matrix for ' + name)\n",
        "\n",
        "plt.show()"
      ],
      "execution_count": null,
      "outputs": [
        {
          "output_type": "display_data",
          "data": {
            "image/png": "[encoded data removed]",
            "text/plain": [
              "<Figure size 720x720 with 1 Axes>"
            ]
          },
          "metadata": {
            "tags": []
          }
        }
      ]
    },
    {
      "cell_type": "code",
      "metadata": {
        "trusted": true,
        "colab": {
          "base_uri": "https://localhost:8080/"
        },
        "id": "ntzF25X6vgEy",
        "outputId": "1fd0714e-3b19-41e7-b26e-be8147e65a57"
      },
      "source": [
        "print(classification_report(y_test, preds))"
      ],
      "execution_count": null,
      "outputs": [
        {
          "output_type": "stream",
          "text": [
            "              precision    recall  f1-score   support\n",
            "\n",
            "       angry       0.69      0.65      0.67       324\n",
            "        fear       0.50      0.37      0.42       309\n",
            "       happy       0.52      0.52      0.52       328\n",
            "         sad       0.59      0.79      0.67       310\n",
            "\n",
            "    accuracy                           0.58      1271\n",
            "   macro avg       0.58      0.58      0.57      1271\n",
            "weighted avg       0.58      0.58      0.57      1271\n",
            "\n"
          ],
          "name": "stdout"
        }
      ]
    },
    {
      "cell_type": "code",
      "metadata": {
        "id": "0RRM2iqAG-Dv"
      },
      "source": [
        "import pickle\n",
        "\n",
        "filename =l = 'mel_mlp_0.58.sav'\n",
        "pickle.dump(model, open('/content/drive/MyDrive/Colab Notebooks/speech/dataset/cremad/Models/' + filename, 'wb'))\n",
        "loaded_model = pickle.load(open('/content/drive/MyDrive/Colab Notebooks/speech/dataset/cremad/Models/' + filename, 'rb'))"
      ],
      "execution_count": null,
      "outputs": []
    },
    {
      "cell_type": "markdown",
      "metadata": {
        "id": "VqUXxDtQ7PFq"
      },
      "source": [
        "### LGB"
      ]
    },
    {
      "cell_type": "code",
      "metadata": {
        "trusted": true,
        "id": "mn73MpWT7Trw"
      },
      "source": [
        "preds = lgb_model.predict(x_test)"
      ],
      "execution_count": null,
      "outputs": []
    },
    {
      "cell_type": "code",
      "metadata": {
        "trusted": true,
        "id": "2UEuWNRv7Trw"
      },
      "source": [
        "predictions = []\n",
        "\n",
        "for x in preds:\n",
        "    predictions.append(np.argmax(x))"
      ],
      "execution_count": null,
      "outputs": []
    },
    {
      "cell_type": "code",
      "metadata": {
        "trusted": true,
        "colab": {
          "base_uri": "https://localhost:8080/",
          "height": 204
        },
        "id": "ZtPBVmua7Trx",
        "outputId": "fe1077b7-fb12-4608-e812-2f0ca6e85335"
      },
      "source": [
        "results = pd.DataFrame()\n",
        "results['Actual'] = y_test\n",
        "results['Predicted'] = predictions\n",
        "\n",
        "results['Actual'] = results['Actual'].map({0:'angry', 1:'fear', 2:'happy', 3:'sad'})\n",
        "results['Predicted'] = results['Predicted'].map({0:'angry', 1:'fear', 2:'happy', 3:'sad'})\n",
        "results.head()"
      ],
      "execution_count": null,
      "outputs": [
        {
          "output_type": "execute_result",
          "data": {
            "text/html": [
              "<div>\n",
              "<style scoped>\n",
              "    .dataframe tbody tr th:only-of-type {\n",
              "        vertical-align: middle;\n",
              "    }\n",
              "\n",
              "    .dataframe tbody tr th {\n",
              "        vertical-align: top;\n",
              "    }\n",
              "\n",
              "    .dataframe thead th {\n",
              "        text-align: right;\n",
              "    }\n",
              "</style>\n",
              "<table border=\"1\" class=\"dataframe\">\n",
              "  <thead>\n",
              "    <tr style=\"text-align: right;\">\n",
              "      <th></th>\n",
              "      <th>Actual</th>\n",
              "      <th>Predicted</th>\n",
              "    </tr>\n",
              "  </thead>\n",
              "  <tbody>\n",
              "    <tr>\n",
              "      <th>0</th>\n",
              "      <td>happy</td>\n",
              "      <td>fear</td>\n",
              "    </tr>\n",
              "    <tr>\n",
              "      <th>1</th>\n",
              "      <td>sad</td>\n",
              "      <td>sad</td>\n",
              "    </tr>\n",
              "    <tr>\n",
              "      <th>2</th>\n",
              "      <td>fear</td>\n",
              "      <td>fear</td>\n",
              "    </tr>\n",
              "    <tr>\n",
              "      <th>3</th>\n",
              "      <td>sad</td>\n",
              "      <td>sad</td>\n",
              "    </tr>\n",
              "    <tr>\n",
              "      <th>4</th>\n",
              "      <td>sad</td>\n",
              "      <td>sad</td>\n",
              "    </tr>\n",
              "  </tbody>\n",
              "</table>\n",
              "</div>"
            ],
            "text/plain": [
              "  Actual Predicted\n",
              "0  happy      fear\n",
              "1    sad       sad\n",
              "2   fear      fear\n",
              "3    sad       sad\n",
              "4    sad       sad"
            ]
          },
          "metadata": {
            "tags": []
          },
          "execution_count": 25
        }
      ]
    },
    {
      "cell_type": "code",
      "metadata": {
        "trusted": true,
        "colab": {
          "base_uri": "https://localhost:8080/",
          "height": 725
        },
        "id": "V9dLGq3c7Try",
        "outputId": "6eff840a-963f-43e2-f53a-078235d7ba02"
      },
      "source": [
        "cm = confusion_matrix(y_test, predictions)\n",
        "df_cm = pd.DataFrame(cm,\n",
        "                     index=observed_emotions,\n",
        "                     columns=observed_emotions)\n",
        "\n",
        "plt.figure(figsize=(10, 10))\n",
        "\n",
        "sns.set(font_scale=1)\n",
        "\n",
        "ax = sns.heatmap(df_cm, annot=True, square=True, fmt='d', linewidths=.2, cbar=0, cmap=plt.cm.Blues)\n",
        "ax.set_xticklabels(ax.get_xticklabels(), rotation=0)\n",
        "\n",
        "plt.ylabel('True labels')\n",
        "plt.xlabel('Predicted labels')\n",
        "plt.tight_layout()\n",
        "\n",
        "name = 'mel feature 61%.png'\n",
        "plt.savefig('/content/drive/MyDrive/Colab Notebooks/speech/dataset/cremad/Confusion matrix/lgbm Confusion matrix for ' + name)\n",
        "\n",
        "plt.show()"
      ],
      "execution_count": null,
      "outputs": [
        {
          "output_type": "display_data",
          "data": {
            "image/png": "[encoded data removed]",
            "text/plain": [
              "<Figure size 720x720 with 1 Axes>"
            ]
          },
          "metadata": {
            "tags": []
          }
        }
      ]
    },
    {
      "cell_type": "code",
      "metadata": {
        "trusted": true,
        "colab": {
          "base_uri": "https://localhost:8080/"
        },
        "id": "Vyc4zm7_7Try",
        "outputId": "3c6abd3f-cdbf-460f-e0f6-690a24e11115"
      },
      "source": [
        "print(classification_report(y_test, predictions, target_names=observed_emotions))"
      ],
      "execution_count": null,
      "outputs": [
        {
          "output_type": "stream",
          "text": [
            "              precision    recall  f1-score   support\n",
            "\n",
            "       angry       0.68      0.77      0.72       309\n",
            "        fear       0.53      0.41      0.46       322\n",
            "       happy       0.54      0.55      0.55       331\n",
            "         sad       0.64      0.71      0.67       309\n",
            "\n",
            "    accuracy                           0.61      1271\n",
            "   macro avg       0.60      0.61      0.60      1271\n",
            "weighted avg       0.60      0.61      0.60      1271\n",
            "\n"
          ],
          "name": "stdout"
        }
      ]
    },
    {
      "cell_type": "code",
      "metadata": {
        "id": "JilHgoaPRSv-"
      },
      "source": [
        "import pickle\n",
        "\n",
        "filename = 'mel_lgbm_0.61.sav'\n",
        "pickle.dump(lgb_model, open('/content/drive/MyDrive/Colab Notebooks/speech/dataset/cremad/Models/' + filename, 'wb'))\n",
        "loaded_model = pickle.load(open('/content/drive/MyDrive/Colab Notebooks/speech/dataset/cremad/Models/' + filename, 'rb'))"
      ],
      "execution_count": null,
      "outputs": []
    }
  ]
}