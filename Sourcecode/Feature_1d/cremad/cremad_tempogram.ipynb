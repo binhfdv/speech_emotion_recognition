{
  "nbformat": 4,
  "nbformat_minor": 0,
  "metadata": {
    "colab": {
      "name": "cremad_tempogram.ipynb",
      "provenance": [],
      "collapsed_sections": [
        "WLB_d6YJ1RP1",
        "YzWvsB1Vzj9F",
        "ryPwl16W7LE3",
        "VqUXxDtQ7PFq"
      ]
    },
    "kernelspec": {
      "name": "python3",
      "display_name": "Python 3"
    },
    "language_info": {
      "name": "python"
    }
  },
  "cells": [
    {
      "cell_type": "markdown",
      "metadata": {
        "id": "iEndTFo9lQXa"
      },
      "source": [
        "12/06/2021"
      ]
    },
    {
      "cell_type": "markdown",
      "metadata": {
        "id": "hykoJ3USvgEY"
      },
      "source": [
        "## Load libraries"
      ]
    },
    {
      "cell_type": "code",
      "metadata": {
        "trusted": true,
        "id": "BtpNiUl7vgEa"
      },
      "source": [
        "import pandas as pd\n",
        "import numpy as np\n",
        "\n",
        "import os\n",
        "import sys\n",
        "\n",
        "from sklearn.neural_network import MLPClassifier\n",
        "\n",
        "import librosa\n",
        "import librosa.display\n",
        "import seaborn as sns\n",
        "import matplotlib.pyplot as plt\n",
        "\n",
        "# to play the audio files\n",
        "from IPython.display import Audio\n",
        "\n",
        "from sklearn.preprocessing import StandardScaler\n",
        "from sklearn.model_selection import train_test_split\n",
        "from sklearn.metrics import confusion_matrix\n",
        "from sklearn.metrics import classification_report\n",
        "\n",
        "import lightgbm as lgb\n",
        "\n",
        "import warnings\n",
        "if not sys.warnoptions:\n",
        "    warnings.simplefilter(\"ignore\")\n",
        "warnings.filterwarnings(\"ignore\", category=DeprecationWarning)"
      ],
      "execution_count": null,
      "outputs": []
    },
    {
      "cell_type": "markdown",
      "metadata": {
        "id": "JFURsK6wvgEc"
      },
      "source": [
        "## Load and set data paths"
      ]
    },
    {
      "cell_type": "code",
      "metadata": {
        "trusted": true,
        "id": "_MlgXnLzvgEc"
      },
      "source": [
        "Crema = \"/content/drive/MyDrive/Colab Notebooks/speech/dataset/cremad/AudioWAV/\""
      ],
      "execution_count": null,
      "outputs": []
    },
    {
      "cell_type": "code",
      "metadata": {
        "trusted": true,
        "colab": {
          "base_uri": "https://localhost:8080/",
          "height": 195
        },
        "id": "vRtOq4iLvgEd",
        "outputId": "67f11b77-016d-41d6-9b07-f56ef3935360"
      },
      "source": [
        "crema_directory_list = os.listdir(Crema)\n",
        "\n",
        "file_emotion = []\n",
        "file_path = []\n",
        "\n",
        "for file in crema_directory_list:\n",
        "    # storing file paths\n",
        "    file_path.append(Crema + file)\n",
        "    # storing file emotions\n",
        "    part=file.split('_')\n",
        "    if part[2] == 'SAD':\n",
        "        file_emotion.append('sad')\n",
        "    elif part[2] == 'ANG':\n",
        "        file_emotion.append('angry')\n",
        "    elif part[2] == 'DIS':\n",
        "        file_emotion.append('disgust')\n",
        "    elif part[2] == 'FEA':\n",
        "        file_emotion.append('fear')\n",
        "    elif part[2] == 'HAP':\n",
        "        file_emotion.append('happy')\n",
        "    elif part[2] == 'NEU':\n",
        "        file_emotion.append('neutral')\n",
        "    else:\n",
        "        file_emotion.append('Unknown')\n",
        "        \n",
        "# dataframe for emotion of files\n",
        "emotion_df = pd.DataFrame(file_emotion, columns=['Emotions'])\n",
        "\n",
        "# dataframe for path of files.\n",
        "path_df = pd.DataFrame(file_path, columns=['Path'])\n",
        "Crema_df = pd.concat([emotion_df, path_df], axis=1)\n",
        "Crema_df.head()\n"
      ],
      "execution_count": null,
      "outputs": [
        {
          "output_type": "execute_result",
          "data": {
            "text/html": [
              "<div>\n",
              "<style scoped>\n",
              "    .dataframe tbody tr th:only-of-type {\n",
              "        vertical-align: middle;\n",
              "    }\n",
              "\n",
              "    .dataframe tbody tr th {\n",
              "        vertical-align: top;\n",
              "    }\n",
              "\n",
              "    .dataframe thead th {\n",
              "        text-align: right;\n",
              "    }\n",
              "</style>\n",
              "<table border=\"1\" class=\"dataframe\">\n",
              "  <thead>\n",
              "    <tr style=\"text-align: right;\">\n",
              "      <th></th>\n",
              "      <th>Emotions</th>\n",
              "      <th>Path</th>\n",
              "    </tr>\n",
              "  </thead>\n",
              "  <tbody>\n",
              "    <tr>\n",
              "      <th>0</th>\n",
              "      <td>happy</td>\n",
              "      <td>/content/drive/MyDrive/Colab Notebooks/speech/...</td>\n",
              "    </tr>\n",
              "    <tr>\n",
              "      <th>1</th>\n",
              "      <td>happy</td>\n",
              "      <td>/content/drive/MyDrive/Colab Notebooks/speech/...</td>\n",
              "    </tr>\n",
              "    <tr>\n",
              "      <th>2</th>\n",
              "      <td>fear</td>\n",
              "      <td>/content/drive/MyDrive/Colab Notebooks/speech/...</td>\n",
              "    </tr>\n",
              "    <tr>\n",
              "      <th>3</th>\n",
              "      <td>fear</td>\n",
              "      <td>/content/drive/MyDrive/Colab Notebooks/speech/...</td>\n",
              "    </tr>\n",
              "    <tr>\n",
              "      <th>4</th>\n",
              "      <td>disgust</td>\n",
              "      <td>/content/drive/MyDrive/Colab Notebooks/speech/...</td>\n",
              "    </tr>\n",
              "  </tbody>\n",
              "</table>\n",
              "</div>"
            ],
            "text/plain": [
              "  Emotions                                               Path\n",
              "0    happy  /content/drive/MyDrive/Colab Notebooks/speech/...\n",
              "1    happy  /content/drive/MyDrive/Colab Notebooks/speech/...\n",
              "2     fear  /content/drive/MyDrive/Colab Notebooks/speech/...\n",
              "3     fear  /content/drive/MyDrive/Colab Notebooks/speech/...\n",
              "4  disgust  /content/drive/MyDrive/Colab Notebooks/speech/..."
            ]
          },
          "metadata": {
            "tags": []
          },
          "execution_count": 53
        }
      ]
    },
    {
      "cell_type": "code",
      "metadata": {
        "id": "210GK6yolyl-"
      },
      "source": [
        "Cremad_df = pd.read_csv('/content/drive/MyDrive/Colab Notebooks/speech/dataset/cremad/emotion_path.csv')"
      ],
      "execution_count": null,
      "outputs": []
    },
    {
      "cell_type": "code",
      "metadata": {
        "trusted": true,
        "colab": {
          "base_uri": "https://localhost:8080/",
          "height": 354
        },
        "id": "MTt2yuQdvgEf",
        "outputId": "c8f4852a-b787-4bc3-fbcb-42e96bb6a435"
      },
      "source": [
        "plt.title('Count of Emotions', size=16)\n",
        "sns.countplot(Cremad_df.Emotions)\n",
        "plt.ylabel('Count', size=12)\n",
        "plt.xlabel('Emotions', size=12)\n",
        "sns.despine(top=True, right=True, left=False, bottom=False)\n",
        "plt.show()"
      ],
      "execution_count": null,
      "outputs": [
        {
          "output_type": "stream",
          "text": [
            "/usr/local/lib/python3.7/dist-packages/seaborn/_decorators.py:43: FutureWarning: Pass the following variable as a keyword arg: x. From version 0.12, the only valid positional argument will be `data`, and passing other arguments without an explicit keyword will result in an error or misinterpretation.\n",
            "  FutureWarning\n"
          ],
          "name": "stderr"
        },
        {
          "output_type": "display_data",
          "data": {
            "image/png": "[encoded data removed]",
            "text/plain": [
              "<Figure size 432x288 with 1 Axes>"
            ]
          },
          "metadata": {
            "tags": [],
            "needs_background": "light"
          }
        }
      ]
    },
    {
      "cell_type": "markdown",
      "metadata": {
        "id": "TaaBzvfwvuvG"
      },
      "source": [
        "## Feature Extraction"
      ]
    },
    {
      "cell_type": "code",
      "metadata": {
        "id": "U57ILIA-5R_G"
      },
      "source": [
        "observed_emotions=sorted(['fear', 'happy', 'sad', 'angry'])"
      ],
      "execution_count": null,
      "outputs": []
    },
    {
      "cell_type": "code",
      "metadata": {
        "colab": {
          "base_uri": "https://localhost:8080/"
        },
        "id": "EKhreSnIAGDO",
        "outputId": "c3cb1881-b5e0-4221-e953-b06a6bd7cdfe"
      },
      "source": [
        "observed_emotions"
      ],
      "execution_count": null,
      "outputs": [
        {
          "output_type": "execute_result",
          "data": {
            "text/plain": [
              "['angry', 'fear', 'happy', 'sad']"
            ]
          },
          "metadata": {
            "tags": []
          },
          "execution_count": 3
        }
      ]
    },
    {
      "cell_type": "code",
      "metadata": {
        "id": "U6u8B3_WxOYW"
      },
      "source": [
        "num_mfcc=13"
      ],
      "execution_count": null,
      "outputs": []
    },
    {
      "cell_type": "code",
      "metadata": {
        "id": "infnX33Pun_H"
      },
      "source": [
        "def extract_feature(path, mfcc, chroma, mel, tempo):\n",
        "  data, sample_rate = librosa.load(path, res_type='kaiser_fast')\n",
        "  if chroma:\n",
        "    stft = np.abs(librosa.stft(data))\n",
        "\n",
        "  result=np.array([])\n",
        "  if mfcc:\n",
        "    mfccs=np.mean(librosa.feature.mfcc(y=data, sr=sample_rate, n_mfcc=num_mfcc).T, axis=0)\n",
        "    result=np.hstack((result, mfccs))\n",
        "  if chroma:\n",
        "    chroma=np.mean(librosa.feature.chroma_stft(S=stft, sr=sample_rate).T, axis=0)\n",
        "    result=np.hstack((result, chroma))\n",
        "  if mel:\n",
        "    mel=np.mean(librosa.feature.melspectrogram(y=data, sr=sample_rate).T, axis=0)\n",
        "    result=np.hstack((result, mel))\n",
        "  if tempo:\n",
        "    tempo=np.mean(librosa.feature.tempogram(y=data, sr=sample_rate).T, axis=0)\n",
        "    result=np.hstack((result, tempo))\n",
        "\n",
        "  return result"
      ],
      "execution_count": null,
      "outputs": []
    },
    {
      "cell_type": "code",
      "metadata": {
        "id": "pVfPdjo0v0e3"
      },
      "source": [
        "X, Y = [], []\n",
        "for path, emotion in zip(Cremad_df.Path, Cremad_df.Emotions):\n",
        "  if emotion not in observed_emotions:\n",
        "    continue\n",
        "  feature = extract_feature(path, mfcc=False, chroma=False, mel=False, tempo=True)\n",
        "  X.append(feature)\n",
        "  Y.append(emotion)"
      ],
      "execution_count": null,
      "outputs": []
    },
    {
      "cell_type": "code",
      "metadata": {
        "colab": {
          "base_uri": "https://localhost:8080/"
        },
        "id": "YsB1bQiT0rKO",
        "outputId": "b232528b-fc78-438b-bf1a-f3104c910db1"
      },
      "source": [
        "len(X), len(Y), Cremad_df.Path.shape"
      ],
      "execution_count": null,
      "outputs": [
        {
          "output_type": "execute_result",
          "data": {
            "text/plain": [
              "(5084, 5084, (7442,))"
            ]
          },
          "metadata": {
            "tags": []
          },
          "execution_count": 9
        }
      ]
    },
    {
      "cell_type": "code",
      "metadata": {
        "colab": {
          "base_uri": "https://localhost:8080/",
          "height": 338
        },
        "id": "fPPk7LZn0s5F",
        "outputId": "3d3f4a5e-1cf9-4ed7-fe6b-c314a6d59cab"
      },
      "source": [
        "Features = pd.DataFrame(X)\n",
        "Features['labels'] = Y\n",
        "Features.to_csv('/content/drive/MyDrive/Colab Notebooks/speech/dataset/cremad/tempogram_features.csv', index=0)\n",
        "Features.head()"
      ],
      "execution_count": null,
      "outputs": [
        {
          "output_type": "execute_result",
          "data": {
            "text/html": [
              "<div>\n",
              "<style scoped>\n",
              "    .dataframe tbody tr th:only-of-type {\n",
              "        vertical-align: middle;\n",
              "    }\n",
              "\n",
              "    .dataframe tbody tr th {\n",
              "        vertical-align: top;\n",
              "    }\n",
              "\n",
              "    .dataframe thead th {\n",
              "        text-align: right;\n",
              "    }\n",
              "</style>\n",
              "<table border=\"1\" class=\"dataframe\">\n",
              "  <thead>\n",
              "    <tr style=\"text-align: right;\">\n",
              "      <th></th>\n",
              "      <th>0</th>\n",
              "      <th>1</th>\n",
              "      <th>2</th>\n",
              "      <th>3</th>\n",
              "      <th>4</th>\n",
              "      <th>5</th>\n",
              "      <th>6</th>\n",
              "      <th>7</th>\n",
              "      <th>8</th>\n",
              "      <th>9</th>\n",
              "      <th>10</th>\n",
              "      <th>11</th>\n",
              "      <th>12</th>\n",
              "      <th>13</th>\n",
              "      <th>14</th>\n",
              "      <th>15</th>\n",
              "      <th>16</th>\n",
              "      <th>17</th>\n",
              "      <th>18</th>\n",
              "      <th>19</th>\n",
              "      <th>20</th>\n",
              "      <th>21</th>\n",
              "      <th>22</th>\n",
              "      <th>23</th>\n",
              "      <th>24</th>\n",
              "      <th>25</th>\n",
              "      <th>26</th>\n",
              "      <th>27</th>\n",
              "      <th>28</th>\n",
              "      <th>29</th>\n",
              "      <th>30</th>\n",
              "      <th>31</th>\n",
              "      <th>32</th>\n",
              "      <th>33</th>\n",
              "      <th>34</th>\n",
              "      <th>35</th>\n",
              "      <th>36</th>\n",
              "      <th>37</th>\n",
              "      <th>38</th>\n",
              "      <th>39</th>\n",
              "      <th>...</th>\n",
              "      <th>345</th>\n",
              "      <th>346</th>\n",
              "      <th>347</th>\n",
              "      <th>348</th>\n",
              "      <th>349</th>\n",
              "      <th>350</th>\n",
              "      <th>351</th>\n",
              "      <th>352</th>\n",
              "      <th>353</th>\n",
              "      <th>354</th>\n",
              "      <th>355</th>\n",
              "      <th>356</th>\n",
              "      <th>357</th>\n",
              "      <th>358</th>\n",
              "      <th>359</th>\n",
              "      <th>360</th>\n",
              "      <th>361</th>\n",
              "      <th>362</th>\n",
              "      <th>363</th>\n",
              "      <th>364</th>\n",
              "      <th>365</th>\n",
              "      <th>366</th>\n",
              "      <th>367</th>\n",
              "      <th>368</th>\n",
              "      <th>369</th>\n",
              "      <th>370</th>\n",
              "      <th>371</th>\n",
              "      <th>372</th>\n",
              "      <th>373</th>\n",
              "      <th>374</th>\n",
              "      <th>375</th>\n",
              "      <th>376</th>\n",
              "      <th>377</th>\n",
              "      <th>378</th>\n",
              "      <th>379</th>\n",
              "      <th>380</th>\n",
              "      <th>381</th>\n",
              "      <th>382</th>\n",
              "      <th>383</th>\n",
              "      <th>labels</th>\n",
              "    </tr>\n",
              "  </thead>\n",
              "  <tbody>\n",
              "    <tr>\n",
              "      <th>0</th>\n",
              "      <td>1.0</td>\n",
              "      <td>0.807942</td>\n",
              "      <td>0.528215</td>\n",
              "      <td>0.361259</td>\n",
              "      <td>0.301464</td>\n",
              "      <td>0.298446</td>\n",
              "      <td>0.308648</td>\n",
              "      <td>0.323992</td>\n",
              "      <td>0.361327</td>\n",
              "      <td>0.426108</td>\n",
              "      <td>0.495738</td>\n",
              "      <td>0.517927</td>\n",
              "      <td>0.465459</td>\n",
              "      <td>0.391128</td>\n",
              "      <td>0.341150</td>\n",
              "      <td>0.328481</td>\n",
              "      <td>0.300312</td>\n",
              "      <td>0.282605</td>\n",
              "      <td>0.312596</td>\n",
              "      <td>0.375594</td>\n",
              "      <td>0.447891</td>\n",
              "      <td>0.494217</td>\n",
              "      <td>0.490246</td>\n",
              "      <td>0.490237</td>\n",
              "      <td>0.475669</td>\n",
              "      <td>0.400454</td>\n",
              "      <td>0.329233</td>\n",
              "      <td>0.289612</td>\n",
              "      <td>0.288827</td>\n",
              "      <td>0.307563</td>\n",
              "      <td>0.339676</td>\n",
              "      <td>0.341215</td>\n",
              "      <td>0.316680</td>\n",
              "      <td>0.297081</td>\n",
              "      <td>0.321303</td>\n",
              "      <td>0.335775</td>\n",
              "      <td>0.322370</td>\n",
              "      <td>0.283728</td>\n",
              "      <td>0.248539</td>\n",
              "      <td>0.252152</td>\n",
              "      <td>...</td>\n",
              "      <td>-3.942681e-17</td>\n",
              "      <td>6.756170e-17</td>\n",
              "      <td>1.684511e-17</td>\n",
              "      <td>3.328016e-17</td>\n",
              "      <td>-1.799233e-17</td>\n",
              "      <td>1.329797e-17</td>\n",
              "      <td>1.485933e-17</td>\n",
              "      <td>2.144956e-17</td>\n",
              "      <td>3.666501e-18</td>\n",
              "      <td>3.474769e-17</td>\n",
              "      <td>-1.073433e-18</td>\n",
              "      <td>4.357305e-17</td>\n",
              "      <td>1.718324e-17</td>\n",
              "      <td>5.903036e-17</td>\n",
              "      <td>-1.784554e-17</td>\n",
              "      <td>6.125840e-17</td>\n",
              "      <td>-4.324022e-17</td>\n",
              "      <td>4.683902e-17</td>\n",
              "      <td>-2.668660e-17</td>\n",
              "      <td>1.299794e-17</td>\n",
              "      <td>-4.081903e-18</td>\n",
              "      <td>3.398513e-17</td>\n",
              "      <td>3.118740e-17</td>\n",
              "      <td>-3.083478e-17</td>\n",
              "      <td>4.050139e-17</td>\n",
              "      <td>-3.801253e-17</td>\n",
              "      <td>2.446756e-17</td>\n",
              "      <td>-3.740906e-18</td>\n",
              "      <td>2.058694e-17</td>\n",
              "      <td>-4.707181e-17</td>\n",
              "      <td>8.164291e-17</td>\n",
              "      <td>-2.886230e-17</td>\n",
              "      <td>3.312600e-17</td>\n",
              "      <td>2.390896e-17</td>\n",
              "      <td>-1.318692e-17</td>\n",
              "      <td>4.578622e-17</td>\n",
              "      <td>3.510337e-18</td>\n",
              "      <td>2.646426e-17</td>\n",
              "      <td>2.504673e-17</td>\n",
              "      <td>happy</td>\n",
              "    </tr>\n",
              "    <tr>\n",
              "      <th>1</th>\n",
              "      <td>1.0</td>\n",
              "      <td>0.816019</td>\n",
              "      <td>0.576231</td>\n",
              "      <td>0.459390</td>\n",
              "      <td>0.412550</td>\n",
              "      <td>0.418439</td>\n",
              "      <td>0.458340</td>\n",
              "      <td>0.530794</td>\n",
              "      <td>0.603101</td>\n",
              "      <td>0.627604</td>\n",
              "      <td>0.576182</td>\n",
              "      <td>0.498611</td>\n",
              "      <td>0.512942</td>\n",
              "      <td>0.567098</td>\n",
              "      <td>0.583264</td>\n",
              "      <td>0.553097</td>\n",
              "      <td>0.488683</td>\n",
              "      <td>0.426422</td>\n",
              "      <td>0.395442</td>\n",
              "      <td>0.386976</td>\n",
              "      <td>0.390165</td>\n",
              "      <td>0.418379</td>\n",
              "      <td>0.477590</td>\n",
              "      <td>0.492256</td>\n",
              "      <td>0.446751</td>\n",
              "      <td>0.472754</td>\n",
              "      <td>0.494124</td>\n",
              "      <td>0.453770</td>\n",
              "      <td>0.397118</td>\n",
              "      <td>0.353249</td>\n",
              "      <td>0.317453</td>\n",
              "      <td>0.291835</td>\n",
              "      <td>0.289133</td>\n",
              "      <td>0.310508</td>\n",
              "      <td>0.355314</td>\n",
              "      <td>0.391401</td>\n",
              "      <td>0.372792</td>\n",
              "      <td>0.346932</td>\n",
              "      <td>0.309542</td>\n",
              "      <td>0.279530</td>\n",
              "      <td>...</td>\n",
              "      <td>-3.542222e-17</td>\n",
              "      <td>8.656172e-17</td>\n",
              "      <td>2.745131e-17</td>\n",
              "      <td>4.266101e-17</td>\n",
              "      <td>-1.972761e-17</td>\n",
              "      <td>4.254058e-17</td>\n",
              "      <td>2.565029e-17</td>\n",
              "      <td>2.834249e-17</td>\n",
              "      <td>1.054288e-17</td>\n",
              "      <td>3.251238e-17</td>\n",
              "      <td>1.744220e-17</td>\n",
              "      <td>3.749932e-17</td>\n",
              "      <td>4.313401e-17</td>\n",
              "      <td>5.990841e-17</td>\n",
              "      <td>-2.067276e-17</td>\n",
              "      <td>7.453953e-17</td>\n",
              "      <td>-5.218668e-17</td>\n",
              "      <td>5.923697e-17</td>\n",
              "      <td>-3.048461e-17</td>\n",
              "      <td>3.304156e-17</td>\n",
              "      <td>5.573218e-18</td>\n",
              "      <td>3.488810e-17</td>\n",
              "      <td>5.808716e-17</td>\n",
              "      <td>-4.401892e-17</td>\n",
              "      <td>6.249681e-17</td>\n",
              "      <td>-4.869337e-17</td>\n",
              "      <td>3.296185e-17</td>\n",
              "      <td>-3.423660e-18</td>\n",
              "      <td>3.203731e-17</td>\n",
              "      <td>-4.656956e-17</td>\n",
              "      <td>9.556000e-17</td>\n",
              "      <td>-3.060655e-17</td>\n",
              "      <td>2.892865e-17</td>\n",
              "      <td>3.692261e-17</td>\n",
              "      <td>-1.008448e-17</td>\n",
              "      <td>6.273668e-17</td>\n",
              "      <td>6.981223e-18</td>\n",
              "      <td>2.434009e-17</td>\n",
              "      <td>3.614837e-17</td>\n",
              "      <td>happy</td>\n",
              "    </tr>\n",
              "    <tr>\n",
              "      <th>2</th>\n",
              "      <td>1.0</td>\n",
              "      <td>0.712340</td>\n",
              "      <td>0.385266</td>\n",
              "      <td>0.280541</td>\n",
              "      <td>0.278775</td>\n",
              "      <td>0.322590</td>\n",
              "      <td>0.391432</td>\n",
              "      <td>0.420921</td>\n",
              "      <td>0.433535</td>\n",
              "      <td>0.441285</td>\n",
              "      <td>0.445605</td>\n",
              "      <td>0.394706</td>\n",
              "      <td>0.354459</td>\n",
              "      <td>0.399673</td>\n",
              "      <td>0.455522</td>\n",
              "      <td>0.431144</td>\n",
              "      <td>0.369289</td>\n",
              "      <td>0.329476</td>\n",
              "      <td>0.376330</td>\n",
              "      <td>0.495869</td>\n",
              "      <td>0.598996</td>\n",
              "      <td>0.538087</td>\n",
              "      <td>0.356037</td>\n",
              "      <td>0.253684</td>\n",
              "      <td>0.263343</td>\n",
              "      <td>0.282043</td>\n",
              "      <td>0.291082</td>\n",
              "      <td>0.335814</td>\n",
              "      <td>0.421427</td>\n",
              "      <td>0.453057</td>\n",
              "      <td>0.385305</td>\n",
              "      <td>0.307347</td>\n",
              "      <td>0.287277</td>\n",
              "      <td>0.288554</td>\n",
              "      <td>0.314815</td>\n",
              "      <td>0.382828</td>\n",
              "      <td>0.417841</td>\n",
              "      <td>0.353572</td>\n",
              "      <td>0.289625</td>\n",
              "      <td>0.257289</td>\n",
              "      <td>...</td>\n",
              "      <td>-2.520623e-17</td>\n",
              "      <td>6.774267e-17</td>\n",
              "      <td>1.414810e-17</td>\n",
              "      <td>3.238168e-17</td>\n",
              "      <td>-2.265543e-17</td>\n",
              "      <td>1.779277e-17</td>\n",
              "      <td>1.335188e-17</td>\n",
              "      <td>1.761066e-17</td>\n",
              "      <td>3.234220e-18</td>\n",
              "      <td>2.777123e-17</td>\n",
              "      <td>-1.171182e-17</td>\n",
              "      <td>3.765620e-17</td>\n",
              "      <td>1.649334e-17</td>\n",
              "      <td>6.081561e-17</td>\n",
              "      <td>-1.927395e-17</td>\n",
              "      <td>7.952006e-17</td>\n",
              "      <td>-5.881341e-17</td>\n",
              "      <td>5.257323e-17</td>\n",
              "      <td>-4.592234e-17</td>\n",
              "      <td>9.615047e-18</td>\n",
              "      <td>-1.748429e-18</td>\n",
              "      <td>2.413560e-17</td>\n",
              "      <td>3.470360e-17</td>\n",
              "      <td>-4.199478e-17</td>\n",
              "      <td>4.131388e-17</td>\n",
              "      <td>-4.858758e-17</td>\n",
              "      <td>2.096257e-17</td>\n",
              "      <td>-6.549241e-18</td>\n",
              "      <td>1.630215e-17</td>\n",
              "      <td>-4.945086e-17</td>\n",
              "      <td>7.610568e-17</td>\n",
              "      <td>-3.633913e-17</td>\n",
              "      <td>1.589066e-17</td>\n",
              "      <td>2.607514e-17</td>\n",
              "      <td>-2.720472e-17</td>\n",
              "      <td>4.713801e-17</td>\n",
              "      <td>4.599296e-18</td>\n",
              "      <td>3.405942e-18</td>\n",
              "      <td>2.529596e-17</td>\n",
              "      <td>fear</td>\n",
              "    </tr>\n",
              "    <tr>\n",
              "      <th>3</th>\n",
              "      <td>1.0</td>\n",
              "      <td>0.816645</td>\n",
              "      <td>0.568271</td>\n",
              "      <td>0.436336</td>\n",
              "      <td>0.384654</td>\n",
              "      <td>0.334041</td>\n",
              "      <td>0.316161</td>\n",
              "      <td>0.352625</td>\n",
              "      <td>0.416606</td>\n",
              "      <td>0.485087</td>\n",
              "      <td>0.553437</td>\n",
              "      <td>0.594252</td>\n",
              "      <td>0.553443</td>\n",
              "      <td>0.453513</td>\n",
              "      <td>0.366033</td>\n",
              "      <td>0.339739</td>\n",
              "      <td>0.356980</td>\n",
              "      <td>0.354510</td>\n",
              "      <td>0.366967</td>\n",
              "      <td>0.382130</td>\n",
              "      <td>0.380908</td>\n",
              "      <td>0.371426</td>\n",
              "      <td>0.368754</td>\n",
              "      <td>0.358594</td>\n",
              "      <td>0.348670</td>\n",
              "      <td>0.354060</td>\n",
              "      <td>0.364760</td>\n",
              "      <td>0.371345</td>\n",
              "      <td>0.358472</td>\n",
              "      <td>0.334911</td>\n",
              "      <td>0.297432</td>\n",
              "      <td>0.268647</td>\n",
              "      <td>0.253814</td>\n",
              "      <td>0.261702</td>\n",
              "      <td>0.315945</td>\n",
              "      <td>0.398175</td>\n",
              "      <td>0.406514</td>\n",
              "      <td>0.343114</td>\n",
              "      <td>0.307006</td>\n",
              "      <td>0.290338</td>\n",
              "      <td>...</td>\n",
              "      <td>-3.233866e-17</td>\n",
              "      <td>7.247292e-17</td>\n",
              "      <td>1.095438e-17</td>\n",
              "      <td>4.136473e-17</td>\n",
              "      <td>-1.086830e-17</td>\n",
              "      <td>2.689790e-17</td>\n",
              "      <td>1.109603e-17</td>\n",
              "      <td>1.384254e-17</td>\n",
              "      <td>3.122430e-18</td>\n",
              "      <td>3.297034e-17</td>\n",
              "      <td>-3.878062e-18</td>\n",
              "      <td>4.257720e-17</td>\n",
              "      <td>1.393621e-17</td>\n",
              "      <td>5.459578e-17</td>\n",
              "      <td>-2.775077e-17</td>\n",
              "      <td>5.978624e-17</td>\n",
              "      <td>-4.187237e-17</td>\n",
              "      <td>4.397381e-17</td>\n",
              "      <td>-3.149440e-17</td>\n",
              "      <td>2.187298e-17</td>\n",
              "      <td>-6.509479e-18</td>\n",
              "      <td>2.263966e-17</td>\n",
              "      <td>3.812757e-17</td>\n",
              "      <td>-4.785475e-17</td>\n",
              "      <td>3.997826e-17</td>\n",
              "      <td>-4.621575e-17</td>\n",
              "      <td>2.595742e-17</td>\n",
              "      <td>-2.076863e-17</td>\n",
              "      <td>2.404808e-17</td>\n",
              "      <td>-6.775753e-17</td>\n",
              "      <td>8.193845e-17</td>\n",
              "      <td>-3.327600e-17</td>\n",
              "      <td>3.011239e-17</td>\n",
              "      <td>2.109676e-17</td>\n",
              "      <td>-2.187684e-17</td>\n",
              "      <td>5.049643e-17</td>\n",
              "      <td>-8.586856e-19</td>\n",
              "      <td>1.970642e-17</td>\n",
              "      <td>1.843195e-17</td>\n",
              "      <td>fear</td>\n",
              "    </tr>\n",
              "    <tr>\n",
              "      <th>4</th>\n",
              "      <td>1.0</td>\n",
              "      <td>0.703417</td>\n",
              "      <td>0.397471</td>\n",
              "      <td>0.341212</td>\n",
              "      <td>0.337902</td>\n",
              "      <td>0.306223</td>\n",
              "      <td>0.286032</td>\n",
              "      <td>0.299080</td>\n",
              "      <td>0.363267</td>\n",
              "      <td>0.463837</td>\n",
              "      <td>0.493383</td>\n",
              "      <td>0.442878</td>\n",
              "      <td>0.405979</td>\n",
              "      <td>0.444382</td>\n",
              "      <td>0.494044</td>\n",
              "      <td>0.415591</td>\n",
              "      <td>0.363889</td>\n",
              "      <td>0.402828</td>\n",
              "      <td>0.440703</td>\n",
              "      <td>0.396301</td>\n",
              "      <td>0.300914</td>\n",
              "      <td>0.255629</td>\n",
              "      <td>0.300753</td>\n",
              "      <td>0.383403</td>\n",
              "      <td>0.398896</td>\n",
              "      <td>0.362683</td>\n",
              "      <td>0.332560</td>\n",
              "      <td>0.328039</td>\n",
              "      <td>0.351773</td>\n",
              "      <td>0.338622</td>\n",
              "      <td>0.281243</td>\n",
              "      <td>0.302941</td>\n",
              "      <td>0.394991</td>\n",
              "      <td>0.443372</td>\n",
              "      <td>0.350838</td>\n",
              "      <td>0.305314</td>\n",
              "      <td>0.298668</td>\n",
              "      <td>0.285109</td>\n",
              "      <td>0.261502</td>\n",
              "      <td>0.250088</td>\n",
              "      <td>...</td>\n",
              "      <td>-2.230725e-17</td>\n",
              "      <td>7.510525e-17</td>\n",
              "      <td>2.734614e-17</td>\n",
              "      <td>4.498021e-17</td>\n",
              "      <td>-5.748921e-18</td>\n",
              "      <td>2.475459e-17</td>\n",
              "      <td>7.545587e-18</td>\n",
              "      <td>2.414863e-17</td>\n",
              "      <td>1.219785e-17</td>\n",
              "      <td>3.097027e-17</td>\n",
              "      <td>1.176606e-17</td>\n",
              "      <td>5.646398e-17</td>\n",
              "      <td>3.118449e-17</td>\n",
              "      <td>5.400798e-17</td>\n",
              "      <td>-1.266185e-17</td>\n",
              "      <td>7.607382e-17</td>\n",
              "      <td>-3.751776e-17</td>\n",
              "      <td>4.540708e-17</td>\n",
              "      <td>-2.514491e-17</td>\n",
              "      <td>2.229396e-17</td>\n",
              "      <td>7.872437e-18</td>\n",
              "      <td>4.543983e-17</td>\n",
              "      <td>3.085994e-17</td>\n",
              "      <td>-3.760047e-17</td>\n",
              "      <td>4.755965e-17</td>\n",
              "      <td>-2.595765e-17</td>\n",
              "      <td>3.038674e-17</td>\n",
              "      <td>-1.048541e-17</td>\n",
              "      <td>2.863804e-17</td>\n",
              "      <td>-4.759677e-17</td>\n",
              "      <td>8.341086e-17</td>\n",
              "      <td>-1.484832e-17</td>\n",
              "      <td>2.681932e-17</td>\n",
              "      <td>2.470832e-17</td>\n",
              "      <td>5.799433e-18</td>\n",
              "      <td>5.127325e-17</td>\n",
              "      <td>4.468546e-18</td>\n",
              "      <td>2.375863e-17</td>\n",
              "      <td>2.185990e-17</td>\n",
              "      <td>happy</td>\n",
              "    </tr>\n",
              "  </tbody>\n",
              "</table>\n",
              "<p>5 rows × 385 columns</p>\n",
              "</div>"
            ],
            "text/plain": [
              "     0         1         2  ...           382           383  labels\n",
              "0  1.0  0.807942  0.528215  ...  2.646426e-17  2.504673e-17   happy\n",
              "1  1.0  0.816019  0.576231  ...  2.434009e-17  3.614837e-17   happy\n",
              "2  1.0  0.712340  0.385266  ...  3.405942e-18  2.529596e-17    fear\n",
              "3  1.0  0.816645  0.568271  ...  1.970642e-17  1.843195e-17    fear\n",
              "4  1.0  0.703417  0.397471  ...  2.375863e-17  2.185990e-17   happy\n",
              "\n",
              "[5 rows x 385 columns]"
            ]
          },
          "metadata": {
            "tags": []
          },
          "execution_count": 10
        }
      ]
    },
    {
      "cell_type": "markdown",
      "metadata": {
        "id": "hgOh4IkmvgEp"
      },
      "source": [
        "## Data Preparation"
      ]
    },
    {
      "cell_type": "code",
      "metadata": {
        "trusted": true,
        "colab": {
          "base_uri": "https://localhost:8080/",
          "height": 338
        },
        "id": "U99crUcUvgEq",
        "outputId": "895b7cd1-8b91-42d4-b89a-e8507448afd7"
      },
      "source": [
        "dataset = pd.read_csv('/content/drive/MyDrive/Colab Notebooks/speech/dataset/cremad/tempogram_features.csv')\n",
        "dataset.head()"
      ],
      "execution_count": null,
      "outputs": [
        {
          "output_type": "execute_result",
          "data": {
            "text/html": [
              "<div>\n",
              "<style scoped>\n",
              "    .dataframe tbody tr th:only-of-type {\n",
              "        vertical-align: middle;\n",
              "    }\n",
              "\n",
              "    .dataframe tbody tr th {\n",
              "        vertical-align: top;\n",
              "    }\n",
              "\n",
              "    .dataframe thead th {\n",
              "        text-align: right;\n",
              "    }\n",
              "</style>\n",
              "<table border=\"1\" class=\"dataframe\">\n",
              "  <thead>\n",
              "    <tr style=\"text-align: right;\">\n",
              "      <th></th>\n",
              "      <th>0</th>\n",
              "      <th>1</th>\n",
              "      <th>2</th>\n",
              "      <th>3</th>\n",
              "      <th>4</th>\n",
              "      <th>5</th>\n",
              "      <th>6</th>\n",
              "      <th>7</th>\n",
              "      <th>8</th>\n",
              "      <th>9</th>\n",
              "      <th>10</th>\n",
              "      <th>11</th>\n",
              "      <th>12</th>\n",
              "      <th>13</th>\n",
              "      <th>14</th>\n",
              "      <th>15</th>\n",
              "      <th>16</th>\n",
              "      <th>17</th>\n",
              "      <th>18</th>\n",
              "      <th>19</th>\n",
              "      <th>20</th>\n",
              "      <th>21</th>\n",
              "      <th>22</th>\n",
              "      <th>23</th>\n",
              "      <th>24</th>\n",
              "      <th>25</th>\n",
              "      <th>26</th>\n",
              "      <th>27</th>\n",
              "      <th>28</th>\n",
              "      <th>29</th>\n",
              "      <th>30</th>\n",
              "      <th>31</th>\n",
              "      <th>32</th>\n",
              "      <th>33</th>\n",
              "      <th>34</th>\n",
              "      <th>35</th>\n",
              "      <th>36</th>\n",
              "      <th>37</th>\n",
              "      <th>38</th>\n",
              "      <th>39</th>\n",
              "      <th>...</th>\n",
              "      <th>345</th>\n",
              "      <th>346</th>\n",
              "      <th>347</th>\n",
              "      <th>348</th>\n",
              "      <th>349</th>\n",
              "      <th>350</th>\n",
              "      <th>351</th>\n",
              "      <th>352</th>\n",
              "      <th>353</th>\n",
              "      <th>354</th>\n",
              "      <th>355</th>\n",
              "      <th>356</th>\n",
              "      <th>357</th>\n",
              "      <th>358</th>\n",
              "      <th>359</th>\n",
              "      <th>360</th>\n",
              "      <th>361</th>\n",
              "      <th>362</th>\n",
              "      <th>363</th>\n",
              "      <th>364</th>\n",
              "      <th>365</th>\n",
              "      <th>366</th>\n",
              "      <th>367</th>\n",
              "      <th>368</th>\n",
              "      <th>369</th>\n",
              "      <th>370</th>\n",
              "      <th>371</th>\n",
              "      <th>372</th>\n",
              "      <th>373</th>\n",
              "      <th>374</th>\n",
              "      <th>375</th>\n",
              "      <th>376</th>\n",
              "      <th>377</th>\n",
              "      <th>378</th>\n",
              "      <th>379</th>\n",
              "      <th>380</th>\n",
              "      <th>381</th>\n",
              "      <th>382</th>\n",
              "      <th>383</th>\n",
              "      <th>labels</th>\n",
              "    </tr>\n",
              "  </thead>\n",
              "  <tbody>\n",
              "    <tr>\n",
              "      <th>0</th>\n",
              "      <td>1.0</td>\n",
              "      <td>0.807942</td>\n",
              "      <td>0.528215</td>\n",
              "      <td>0.361259</td>\n",
              "      <td>0.301464</td>\n",
              "      <td>0.298446</td>\n",
              "      <td>0.308648</td>\n",
              "      <td>0.323992</td>\n",
              "      <td>0.361327</td>\n",
              "      <td>0.426108</td>\n",
              "      <td>0.495738</td>\n",
              "      <td>0.517927</td>\n",
              "      <td>0.465459</td>\n",
              "      <td>0.391128</td>\n",
              "      <td>0.341150</td>\n",
              "      <td>0.328481</td>\n",
              "      <td>0.300312</td>\n",
              "      <td>0.282605</td>\n",
              "      <td>0.312596</td>\n",
              "      <td>0.375594</td>\n",
              "      <td>0.447891</td>\n",
              "      <td>0.494217</td>\n",
              "      <td>0.490246</td>\n",
              "      <td>0.490237</td>\n",
              "      <td>0.475669</td>\n",
              "      <td>0.400454</td>\n",
              "      <td>0.329233</td>\n",
              "      <td>0.289612</td>\n",
              "      <td>0.288827</td>\n",
              "      <td>0.307563</td>\n",
              "      <td>0.339676</td>\n",
              "      <td>0.341215</td>\n",
              "      <td>0.316680</td>\n",
              "      <td>0.297081</td>\n",
              "      <td>0.321303</td>\n",
              "      <td>0.335775</td>\n",
              "      <td>0.322370</td>\n",
              "      <td>0.283728</td>\n",
              "      <td>0.248539</td>\n",
              "      <td>0.252152</td>\n",
              "      <td>...</td>\n",
              "      <td>-3.942681e-17</td>\n",
              "      <td>6.756170e-17</td>\n",
              "      <td>1.684511e-17</td>\n",
              "      <td>3.328016e-17</td>\n",
              "      <td>-1.799233e-17</td>\n",
              "      <td>1.329797e-17</td>\n",
              "      <td>1.485933e-17</td>\n",
              "      <td>2.144956e-17</td>\n",
              "      <td>3.666501e-18</td>\n",
              "      <td>3.474769e-17</td>\n",
              "      <td>-1.073433e-18</td>\n",
              "      <td>4.357305e-17</td>\n",
              "      <td>1.718324e-17</td>\n",
              "      <td>5.903036e-17</td>\n",
              "      <td>-1.784554e-17</td>\n",
              "      <td>6.125840e-17</td>\n",
              "      <td>-4.324022e-17</td>\n",
              "      <td>4.683902e-17</td>\n",
              "      <td>-2.668660e-17</td>\n",
              "      <td>1.299794e-17</td>\n",
              "      <td>-4.081903e-18</td>\n",
              "      <td>3.398513e-17</td>\n",
              "      <td>3.118740e-17</td>\n",
              "      <td>-3.083478e-17</td>\n",
              "      <td>4.050139e-17</td>\n",
              "      <td>-3.801253e-17</td>\n",
              "      <td>2.446756e-17</td>\n",
              "      <td>-3.740906e-18</td>\n",
              "      <td>2.058694e-17</td>\n",
              "      <td>-4.707181e-17</td>\n",
              "      <td>8.164291e-17</td>\n",
              "      <td>-2.886230e-17</td>\n",
              "      <td>3.312600e-17</td>\n",
              "      <td>2.390896e-17</td>\n",
              "      <td>-1.318692e-17</td>\n",
              "      <td>4.578622e-17</td>\n",
              "      <td>3.510337e-18</td>\n",
              "      <td>2.646426e-17</td>\n",
              "      <td>2.504673e-17</td>\n",
              "      <td>happy</td>\n",
              "    </tr>\n",
              "    <tr>\n",
              "      <th>1</th>\n",
              "      <td>1.0</td>\n",
              "      <td>0.816019</td>\n",
              "      <td>0.576231</td>\n",
              "      <td>0.459390</td>\n",
              "      <td>0.412550</td>\n",
              "      <td>0.418439</td>\n",
              "      <td>0.458340</td>\n",
              "      <td>0.530794</td>\n",
              "      <td>0.603101</td>\n",
              "      <td>0.627604</td>\n",
              "      <td>0.576182</td>\n",
              "      <td>0.498611</td>\n",
              "      <td>0.512942</td>\n",
              "      <td>0.567098</td>\n",
              "      <td>0.583264</td>\n",
              "      <td>0.553097</td>\n",
              "      <td>0.488683</td>\n",
              "      <td>0.426422</td>\n",
              "      <td>0.395442</td>\n",
              "      <td>0.386976</td>\n",
              "      <td>0.390165</td>\n",
              "      <td>0.418379</td>\n",
              "      <td>0.477590</td>\n",
              "      <td>0.492256</td>\n",
              "      <td>0.446751</td>\n",
              "      <td>0.472754</td>\n",
              "      <td>0.494124</td>\n",
              "      <td>0.453770</td>\n",
              "      <td>0.397118</td>\n",
              "      <td>0.353249</td>\n",
              "      <td>0.317453</td>\n",
              "      <td>0.291835</td>\n",
              "      <td>0.289133</td>\n",
              "      <td>0.310508</td>\n",
              "      <td>0.355314</td>\n",
              "      <td>0.391401</td>\n",
              "      <td>0.372792</td>\n",
              "      <td>0.346932</td>\n",
              "      <td>0.309542</td>\n",
              "      <td>0.279530</td>\n",
              "      <td>...</td>\n",
              "      <td>-3.542222e-17</td>\n",
              "      <td>8.656172e-17</td>\n",
              "      <td>2.745131e-17</td>\n",
              "      <td>4.266101e-17</td>\n",
              "      <td>-1.972761e-17</td>\n",
              "      <td>4.254058e-17</td>\n",
              "      <td>2.565029e-17</td>\n",
              "      <td>2.834249e-17</td>\n",
              "      <td>1.054288e-17</td>\n",
              "      <td>3.251238e-17</td>\n",
              "      <td>1.744220e-17</td>\n",
              "      <td>3.749932e-17</td>\n",
              "      <td>4.313401e-17</td>\n",
              "      <td>5.990841e-17</td>\n",
              "      <td>-2.067276e-17</td>\n",
              "      <td>7.453953e-17</td>\n",
              "      <td>-5.218668e-17</td>\n",
              "      <td>5.923697e-17</td>\n",
              "      <td>-3.048461e-17</td>\n",
              "      <td>3.304156e-17</td>\n",
              "      <td>5.573218e-18</td>\n",
              "      <td>3.488810e-17</td>\n",
              "      <td>5.808716e-17</td>\n",
              "      <td>-4.401892e-17</td>\n",
              "      <td>6.249681e-17</td>\n",
              "      <td>-4.869337e-17</td>\n",
              "      <td>3.296185e-17</td>\n",
              "      <td>-3.423660e-18</td>\n",
              "      <td>3.203731e-17</td>\n",
              "      <td>-4.656956e-17</td>\n",
              "      <td>9.556000e-17</td>\n",
              "      <td>-3.060655e-17</td>\n",
              "      <td>2.892865e-17</td>\n",
              "      <td>3.692261e-17</td>\n",
              "      <td>-1.008448e-17</td>\n",
              "      <td>6.273668e-17</td>\n",
              "      <td>6.981223e-18</td>\n",
              "      <td>2.434009e-17</td>\n",
              "      <td>3.614837e-17</td>\n",
              "      <td>happy</td>\n",
              "    </tr>\n",
              "    <tr>\n",
              "      <th>2</th>\n",
              "      <td>1.0</td>\n",
              "      <td>0.712340</td>\n",
              "      <td>0.385266</td>\n",
              "      <td>0.280541</td>\n",
              "      <td>0.278775</td>\n",
              "      <td>0.322590</td>\n",
              "      <td>0.391432</td>\n",
              "      <td>0.420921</td>\n",
              "      <td>0.433535</td>\n",
              "      <td>0.441285</td>\n",
              "      <td>0.445605</td>\n",
              "      <td>0.394706</td>\n",
              "      <td>0.354459</td>\n",
              "      <td>0.399673</td>\n",
              "      <td>0.455522</td>\n",
              "      <td>0.431144</td>\n",
              "      <td>0.369289</td>\n",
              "      <td>0.329476</td>\n",
              "      <td>0.376330</td>\n",
              "      <td>0.495869</td>\n",
              "      <td>0.598996</td>\n",
              "      <td>0.538087</td>\n",
              "      <td>0.356037</td>\n",
              "      <td>0.253684</td>\n",
              "      <td>0.263343</td>\n",
              "      <td>0.282043</td>\n",
              "      <td>0.291082</td>\n",
              "      <td>0.335814</td>\n",
              "      <td>0.421427</td>\n",
              "      <td>0.453057</td>\n",
              "      <td>0.385305</td>\n",
              "      <td>0.307347</td>\n",
              "      <td>0.287277</td>\n",
              "      <td>0.288554</td>\n",
              "      <td>0.314815</td>\n",
              "      <td>0.382828</td>\n",
              "      <td>0.417841</td>\n",
              "      <td>0.353572</td>\n",
              "      <td>0.289625</td>\n",
              "      <td>0.257289</td>\n",
              "      <td>...</td>\n",
              "      <td>-2.520623e-17</td>\n",
              "      <td>6.774267e-17</td>\n",
              "      <td>1.414810e-17</td>\n",
              "      <td>3.238168e-17</td>\n",
              "      <td>-2.265543e-17</td>\n",
              "      <td>1.779277e-17</td>\n",
              "      <td>1.335188e-17</td>\n",
              "      <td>1.761066e-17</td>\n",
              "      <td>3.234220e-18</td>\n",
              "      <td>2.777123e-17</td>\n",
              "      <td>-1.171182e-17</td>\n",
              "      <td>3.765620e-17</td>\n",
              "      <td>1.649334e-17</td>\n",
              "      <td>6.081561e-17</td>\n",
              "      <td>-1.927395e-17</td>\n",
              "      <td>7.952006e-17</td>\n",
              "      <td>-5.881341e-17</td>\n",
              "      <td>5.257323e-17</td>\n",
              "      <td>-4.592234e-17</td>\n",
              "      <td>9.615047e-18</td>\n",
              "      <td>-1.748429e-18</td>\n",
              "      <td>2.413560e-17</td>\n",
              "      <td>3.470360e-17</td>\n",
              "      <td>-4.199478e-17</td>\n",
              "      <td>4.131388e-17</td>\n",
              "      <td>-4.858758e-17</td>\n",
              "      <td>2.096257e-17</td>\n",
              "      <td>-6.549241e-18</td>\n",
              "      <td>1.630215e-17</td>\n",
              "      <td>-4.945086e-17</td>\n",
              "      <td>7.610568e-17</td>\n",
              "      <td>-3.633913e-17</td>\n",
              "      <td>1.589066e-17</td>\n",
              "      <td>2.607514e-17</td>\n",
              "      <td>-2.720472e-17</td>\n",
              "      <td>4.713801e-17</td>\n",
              "      <td>4.599296e-18</td>\n",
              "      <td>3.405942e-18</td>\n",
              "      <td>2.529596e-17</td>\n",
              "      <td>fear</td>\n",
              "    </tr>\n",
              "    <tr>\n",
              "      <th>3</th>\n",
              "      <td>1.0</td>\n",
              "      <td>0.816645</td>\n",
              "      <td>0.568271</td>\n",
              "      <td>0.436336</td>\n",
              "      <td>0.384654</td>\n",
              "      <td>0.334041</td>\n",
              "      <td>0.316161</td>\n",
              "      <td>0.352625</td>\n",
              "      <td>0.416606</td>\n",
              "      <td>0.485087</td>\n",
              "      <td>0.553437</td>\n",
              "      <td>0.594252</td>\n",
              "      <td>0.553443</td>\n",
              "      <td>0.453513</td>\n",
              "      <td>0.366033</td>\n",
              "      <td>0.339739</td>\n",
              "      <td>0.356980</td>\n",
              "      <td>0.354510</td>\n",
              "      <td>0.366967</td>\n",
              "      <td>0.382130</td>\n",
              "      <td>0.380908</td>\n",
              "      <td>0.371426</td>\n",
              "      <td>0.368754</td>\n",
              "      <td>0.358594</td>\n",
              "      <td>0.348670</td>\n",
              "      <td>0.354060</td>\n",
              "      <td>0.364760</td>\n",
              "      <td>0.371345</td>\n",
              "      <td>0.358472</td>\n",
              "      <td>0.334911</td>\n",
              "      <td>0.297432</td>\n",
              "      <td>0.268647</td>\n",
              "      <td>0.253814</td>\n",
              "      <td>0.261702</td>\n",
              "      <td>0.315945</td>\n",
              "      <td>0.398175</td>\n",
              "      <td>0.406514</td>\n",
              "      <td>0.343114</td>\n",
              "      <td>0.307006</td>\n",
              "      <td>0.290338</td>\n",
              "      <td>...</td>\n",
              "      <td>-3.233866e-17</td>\n",
              "      <td>7.247292e-17</td>\n",
              "      <td>1.095438e-17</td>\n",
              "      <td>4.136473e-17</td>\n",
              "      <td>-1.086830e-17</td>\n",
              "      <td>2.689790e-17</td>\n",
              "      <td>1.109603e-17</td>\n",
              "      <td>1.384254e-17</td>\n",
              "      <td>3.122430e-18</td>\n",
              "      <td>3.297034e-17</td>\n",
              "      <td>-3.878062e-18</td>\n",
              "      <td>4.257720e-17</td>\n",
              "      <td>1.393621e-17</td>\n",
              "      <td>5.459578e-17</td>\n",
              "      <td>-2.775077e-17</td>\n",
              "      <td>5.978624e-17</td>\n",
              "      <td>-4.187237e-17</td>\n",
              "      <td>4.397381e-17</td>\n",
              "      <td>-3.149440e-17</td>\n",
              "      <td>2.187298e-17</td>\n",
              "      <td>-6.509479e-18</td>\n",
              "      <td>2.263966e-17</td>\n",
              "      <td>3.812757e-17</td>\n",
              "      <td>-4.785475e-17</td>\n",
              "      <td>3.997826e-17</td>\n",
              "      <td>-4.621575e-17</td>\n",
              "      <td>2.595742e-17</td>\n",
              "      <td>-2.076863e-17</td>\n",
              "      <td>2.404808e-17</td>\n",
              "      <td>-6.775753e-17</td>\n",
              "      <td>8.193845e-17</td>\n",
              "      <td>-3.327600e-17</td>\n",
              "      <td>3.011239e-17</td>\n",
              "      <td>2.109676e-17</td>\n",
              "      <td>-2.187684e-17</td>\n",
              "      <td>5.049643e-17</td>\n",
              "      <td>-8.586856e-19</td>\n",
              "      <td>1.970642e-17</td>\n",
              "      <td>1.843195e-17</td>\n",
              "      <td>fear</td>\n",
              "    </tr>\n",
              "    <tr>\n",
              "      <th>4</th>\n",
              "      <td>1.0</td>\n",
              "      <td>0.703417</td>\n",
              "      <td>0.397471</td>\n",
              "      <td>0.341212</td>\n",
              "      <td>0.337902</td>\n",
              "      <td>0.306223</td>\n",
              "      <td>0.286032</td>\n",
              "      <td>0.299080</td>\n",
              "      <td>0.363267</td>\n",
              "      <td>0.463837</td>\n",
              "      <td>0.493383</td>\n",
              "      <td>0.442878</td>\n",
              "      <td>0.405979</td>\n",
              "      <td>0.444382</td>\n",
              "      <td>0.494044</td>\n",
              "      <td>0.415591</td>\n",
              "      <td>0.363889</td>\n",
              "      <td>0.402828</td>\n",
              "      <td>0.440703</td>\n",
              "      <td>0.396301</td>\n",
              "      <td>0.300914</td>\n",
              "      <td>0.255629</td>\n",
              "      <td>0.300753</td>\n",
              "      <td>0.383403</td>\n",
              "      <td>0.398896</td>\n",
              "      <td>0.362683</td>\n",
              "      <td>0.332560</td>\n",
              "      <td>0.328039</td>\n",
              "      <td>0.351773</td>\n",
              "      <td>0.338622</td>\n",
              "      <td>0.281243</td>\n",
              "      <td>0.302941</td>\n",
              "      <td>0.394991</td>\n",
              "      <td>0.443372</td>\n",
              "      <td>0.350838</td>\n",
              "      <td>0.305314</td>\n",
              "      <td>0.298668</td>\n",
              "      <td>0.285109</td>\n",
              "      <td>0.261502</td>\n",
              "      <td>0.250088</td>\n",
              "      <td>...</td>\n",
              "      <td>-2.230725e-17</td>\n",
              "      <td>7.510525e-17</td>\n",
              "      <td>2.734614e-17</td>\n",
              "      <td>4.498021e-17</td>\n",
              "      <td>-5.748921e-18</td>\n",
              "      <td>2.475459e-17</td>\n",
              "      <td>7.545587e-18</td>\n",
              "      <td>2.414863e-17</td>\n",
              "      <td>1.219785e-17</td>\n",
              "      <td>3.097027e-17</td>\n",
              "      <td>1.176606e-17</td>\n",
              "      <td>5.646398e-17</td>\n",
              "      <td>3.118449e-17</td>\n",
              "      <td>5.400798e-17</td>\n",
              "      <td>-1.266185e-17</td>\n",
              "      <td>7.607382e-17</td>\n",
              "      <td>-3.751776e-17</td>\n",
              "      <td>4.540708e-17</td>\n",
              "      <td>-2.514491e-17</td>\n",
              "      <td>2.229396e-17</td>\n",
              "      <td>7.872437e-18</td>\n",
              "      <td>4.543983e-17</td>\n",
              "      <td>3.085994e-17</td>\n",
              "      <td>-3.760047e-17</td>\n",
              "      <td>4.755965e-17</td>\n",
              "      <td>-2.595765e-17</td>\n",
              "      <td>3.038674e-17</td>\n",
              "      <td>-1.048541e-17</td>\n",
              "      <td>2.863804e-17</td>\n",
              "      <td>-4.759677e-17</td>\n",
              "      <td>8.341086e-17</td>\n",
              "      <td>-1.484832e-17</td>\n",
              "      <td>2.681932e-17</td>\n",
              "      <td>2.470832e-17</td>\n",
              "      <td>5.799433e-18</td>\n",
              "      <td>5.127325e-17</td>\n",
              "      <td>4.468546e-18</td>\n",
              "      <td>2.375863e-17</td>\n",
              "      <td>2.185990e-17</td>\n",
              "      <td>happy</td>\n",
              "    </tr>\n",
              "  </tbody>\n",
              "</table>\n",
              "<p>5 rows × 385 columns</p>\n",
              "</div>"
            ],
            "text/plain": [
              "     0         1         2  ...           382           383  labels\n",
              "0  1.0  0.807942  0.528215  ...  2.646426e-17  2.504673e-17   happy\n",
              "1  1.0  0.816019  0.576231  ...  2.434009e-17  3.614837e-17   happy\n",
              "2  1.0  0.712340  0.385266  ...  3.405942e-18  2.529596e-17    fear\n",
              "3  1.0  0.816645  0.568271  ...  1.970642e-17  1.843195e-17    fear\n",
              "4  1.0  0.703417  0.397471  ...  2.375863e-17  2.185990e-17   happy\n",
              "\n",
              "[5 rows x 385 columns]"
            ]
          },
          "metadata": {
            "tags": []
          },
          "execution_count": 4
        }
      ]
    },
    {
      "cell_type": "code",
      "metadata": {
        "id": "4D2myJ17_d3q",
        "colab": {
          "base_uri": "https://localhost:8080/"
        },
        "outputId": "dea7b40c-d8ff-4288-d438-5305569b38b2"
      },
      "source": [
        "dataset.labels.value_counts()"
      ],
      "execution_count": null,
      "outputs": [
        {
          "output_type": "execute_result",
          "data": {
            "text/plain": [
              "sad      1271\n",
              "happy    1271\n",
              "angry    1271\n",
              "fear     1271\n",
              "Name: labels, dtype: int64"
            ]
          },
          "metadata": {
            "tags": []
          },
          "execution_count": 12
        }
      ]
    },
    {
      "cell_type": "markdown",
      "metadata": {
        "id": "IDFEVF570_rl"
      },
      "source": [
        "## Modeling"
      ]
    },
    {
      "cell_type": "markdown",
      "metadata": {
        "id": "WLB_d6YJ1RP1"
      },
      "source": [
        "### MLPClassifier"
      ]
    },
    {
      "cell_type": "code",
      "metadata": {
        "trusted": true,
        "id": "RmyGeJT8vgEr"
      },
      "source": [
        "X = dataset.iloc[:, :-1].values\n",
        "Y = dataset.iloc[:, -1].values"
      ],
      "execution_count": null,
      "outputs": []
    },
    {
      "cell_type": "code",
      "metadata": {
        "id": "cUN614nz1gNZ"
      },
      "source": [
        "x_train, x_test, y_train, y_test = train_test_split(np.array(X), Y, test_size = 0.25, random_state = 9)"
      ],
      "execution_count": null,
      "outputs": []
    },
    {
      "cell_type": "code",
      "metadata": {
        "colab": {
          "base_uri": "https://localhost:8080/"
        },
        "id": "FEi7lWlztAEE",
        "outputId": "2077f52d-a87e-4843-c0fb-ff600d24e651"
      },
      "source": [
        "x_train.shape"
      ],
      "execution_count": null,
      "outputs": [
        {
          "output_type": "execute_result",
          "data": {
            "text/plain": [
              "(3813, 384)"
            ]
          },
          "metadata": {
            "tags": []
          },
          "execution_count": 30
        }
      ]
    },
    {
      "cell_type": "code",
      "metadata": {
        "id": "CIqhkZMuOI0l"
      },
      "source": [
        "model=MLPClassifier(alpha=0.01, batch_size=256, epsilon=1e-08, hidden_layer_sizes=(300,), learning_rate='adaptive', max_iter=1000)"
      ],
      "execution_count": null,
      "outputs": []
    },
    {
      "cell_type": "code",
      "metadata": {
        "id": "_FilJ0CqmQq5",
        "colab": {
          "base_uri": "https://localhost:8080/"
        },
        "outputId": "62ba1d85-0308-4069-a8c2-5a33978b911d"
      },
      "source": [
        "model.fit(x_train, y_train)"
      ],
      "execution_count": null,
      "outputs": [
        {
          "output_type": "execute_result",
          "data": {
            "text/plain": [
              "MLPClassifier(activation='relu', alpha=0.01, batch_size=256, beta_1=0.9,\n",
              "              beta_2=0.999, early_stopping=False, epsilon=1e-08,\n",
              "              hidden_layer_sizes=(300,), learning_rate='adaptive',\n",
              "              learning_rate_init=0.001, max_fun=15000, max_iter=1000,\n",
              "              momentum=0.9, n_iter_no_change=10, nesterovs_momentum=True,\n",
              "              power_t=0.5, random_state=None, shuffle=True, solver='adam',\n",
              "              tol=0.0001, validation_fraction=0.1, verbose=False,\n",
              "              warm_start=False)"
            ]
          },
          "metadata": {
            "tags": []
          },
          "execution_count": 32
        }
      ]
    },
    {
      "cell_type": "markdown",
      "metadata": {
        "id": "YzWvsB1Vzj9F"
      },
      "source": [
        "### LightGBM"
      ]
    },
    {
      "cell_type": "code",
      "metadata": {
        "id": "vgY7MCwwJweQ"
      },
      "source": [
        "data = dataset.copy()\n",
        "data.labels = data.labels.map({'angry':0, 'fear':1, 'happy':2, 'sad':3})"
      ],
      "execution_count": null,
      "outputs": []
    },
    {
      "cell_type": "code",
      "metadata": {
        "colab": {
          "base_uri": "https://localhost:8080/"
        },
        "id": "OJmWtCAxNIxc",
        "outputId": "c80a60e3-e291-4bba-89d7-13edb340d012"
      },
      "source": [
        "data.labels.value_counts()"
      ],
      "execution_count": null,
      "outputs": [
        {
          "output_type": "execute_result",
          "data": {
            "text/plain": [
              "3    1271\n",
              "2    1271\n",
              "1    1271\n",
              "0    1271\n",
              "Name: labels, dtype: int64"
            ]
          },
          "metadata": {
            "tags": []
          },
          "execution_count": 14
        }
      ]
    },
    {
      "cell_type": "code",
      "metadata": {
        "id": "duKnnoH1J2X3"
      },
      "source": [
        "X = data.iloc[:, :-1].values\n",
        "Y = data.iloc[:, -1].values"
      ],
      "execution_count": null,
      "outputs": []
    },
    {
      "cell_type": "code",
      "metadata": {
        "trusted": true,
        "id": "a32K62e-vgEr"
      },
      "source": [
        "x_train, x_test, y_train, y_test = train_test_split(X, Y, test_size = 0.25, random_state = 0)\n",
        "x_train, x_valid, y_train, y_valid = train_test_split(x_train, y_train, test_size=0.1, random_state=0)\n",
        "\n",
        "sc = StandardScaler()\n",
        "x_train = sc.fit_transform(x_train)\n",
        "x_test = sc.transform(x_test)\n",
        "x_valid = sc.transform(x_valid)"
      ],
      "execution_count": null,
      "outputs": []
    },
    {
      "cell_type": "code",
      "metadata": {
        "trusted": true,
        "id": "Zoa4feXDvgEs"
      },
      "source": [
        "NUM_CLASS = 4\n",
        "\n",
        "params = {}\n",
        "params['learning_rate'] = 0.01\n",
        "params['boosting_type'] = 'gbdt'\n",
        "params['objective'] = 'multiclass'\n",
        "params['metric'] = 'multi_logloss'\n",
        "params['num_leaves'] = 100\n",
        "params['min_data'] = 100\n",
        "params['max_depth'] = 50\n",
        "params['num_class'] = NUM_CLASS\n",
        "params['max_bin'] = 150 # small max_bin causes faster speed and large value improves accuracy\n",
        "params['bagging_freq'] = 100\n",
        "params['feature_fraction'] = 0.6 # deal with column\n",
        "params['bagging_fraction'] = 0.6\n",
        "# params['device'] = 'gpu'\n",
        "#params['num_iterations'] = 1000\n",
        "#params['early_stopping_rounds'] = 100# the rule of thumb is to have it at 10% of your num_iterations"
      ],
      "execution_count": null,
      "outputs": []
    },
    {
      "cell_type": "code",
      "metadata": {
        "trusted": true,
        "colab": {
          "base_uri": "https://localhost:8080/"
        },
        "id": "6Fdn0eNsvgEt",
        "outputId": "96056a15-0e94-41a0-e1c8-0ed797bcd4ec"
      },
      "source": [
        "x_test.shape"
      ],
      "execution_count": null,
      "outputs": [
        {
          "output_type": "execute_result",
          "data": {
            "text/plain": [
              "(1271, 384)"
            ]
          },
          "metadata": {
            "tags": []
          },
          "execution_count": 18
        }
      ]
    },
    {
      "cell_type": "code",
      "metadata": {
        "id": "tdDGlZ8n44Ez"
      },
      "source": [
        "import lightgbm as lgb"
      ],
      "execution_count": null,
      "outputs": []
    },
    {
      "cell_type": "code",
      "metadata": {
        "id": "KC3etxXzyhS8",
        "colab": {
          "base_uri": "https://localhost:8080/"
        },
        "outputId": "78ec804b-bff3-43b5-b2fc-e76486b5316e"
      },
      "source": [
        "dtrain = lgb.Dataset(x_train, y_train)\n",
        "dvalid = lgb.Dataset(x_valid, y_valid)\n",
        "lgb_model = lgb.train(params, \n",
        "                          dtrain, \n",
        "                          num_boost_round=10000,\n",
        "                          early_stopping_rounds=1000,\n",
        "                          valid_sets=(dtrain, dvalid), \n",
        "                          valid_names=('train','valid'),\n",
        "                          verbose_eval = 100)"
      ],
      "execution_count": null,
      "outputs": [
        {
          "output_type": "stream",
          "text": [
            "Training until validation scores don't improve for 1000 rounds.\n",
            "[100]\ttrain's multi_logloss: 1.09421\tvalid's multi_logloss: 1.1542\n",
            "[200]\ttrain's multi_logloss: 0.966209\tvalid's multi_logloss: 1.07028\n",
            "[300]\ttrain's multi_logloss: 0.88847\tvalid's multi_logloss: 1.04161\n",
            "[400]\ttrain's multi_logloss: 0.826028\tvalid's multi_logloss: 1.02793\n",
            "[500]\ttrain's multi_logloss: 0.773976\tvalid's multi_logloss: 1.02051\n",
            "[600]\ttrain's multi_logloss: 0.727685\tvalid's multi_logloss: 1.02576\n",
            "[700]\ttrain's multi_logloss: 0.685384\tvalid's multi_logloss: 1.01962\n",
            "[800]\ttrain's multi_logloss: 0.646113\tvalid's multi_logloss: 1.02054\n",
            "[900]\ttrain's multi_logloss: 0.609565\tvalid's multi_logloss: 1.02171\n",
            "[1000]\ttrain's multi_logloss: 0.574775\tvalid's multi_logloss: 1.02088\n",
            "[1100]\ttrain's multi_logloss: 0.543323\tvalid's multi_logloss: 1.02323\n",
            "[1200]\ttrain's multi_logloss: 0.513384\tvalid's multi_logloss: 1.02824\n",
            "[1300]\ttrain's multi_logloss: 0.484699\tvalid's multi_logloss: 1.03303\n",
            "[1400]\ttrain's multi_logloss: 0.45932\tvalid's multi_logloss: 1.0361\n",
            "[1500]\ttrain's multi_logloss: 0.432554\tvalid's multi_logloss: 1.03651\n",
            "[1600]\ttrain's multi_logloss: 0.408565\tvalid's multi_logloss: 1.03917\n",
            "[1700]\ttrain's multi_logloss: 0.387043\tvalid's multi_logloss: 1.04437\n",
            "[1800]\ttrain's multi_logloss: 0.367782\tvalid's multi_logloss: 1.04933\n",
            "Early stopping, best iteration is:\n",
            "[851]\ttrain's multi_logloss: 0.62605\tvalid's multi_logloss: 1.01918\n"
          ],
          "name": "stdout"
        }
      ]
    },
    {
      "cell_type": "markdown",
      "metadata": {
        "id": "jLtfMTqCvgEv"
      },
      "source": [
        "## Experiment results"
      ]
    },
    {
      "cell_type": "markdown",
      "metadata": {
        "id": "ryPwl16W7LE3"
      },
      "source": [
        "### MLP"
      ]
    },
    {
      "cell_type": "code",
      "metadata": {
        "trusted": true,
        "id": "VNNms9KmvgEw"
      },
      "source": [
        "preds = model.predict(x_test)"
      ],
      "execution_count": null,
      "outputs": []
    },
    {
      "cell_type": "code",
      "metadata": {
        "trusted": true,
        "id": "RIH-WwOJvgEx",
        "colab": {
          "base_uri": "https://localhost:8080/",
          "height": 204
        },
        "outputId": "a3361194-d8ed-406d-8ced-63bd6ec8ac96"
      },
      "source": [
        "results = pd.DataFrame()\n",
        "results['Actual'] = y_test\n",
        "results['Predicted'] = preds\n",
        "\n",
        "results.head()"
      ],
      "execution_count": null,
      "outputs": [
        {
          "output_type": "execute_result",
          "data": {
            "text/html": [
              "<div>\n",
              "<style scoped>\n",
              "    .dataframe tbody tr th:only-of-type {\n",
              "        vertical-align: middle;\n",
              "    }\n",
              "\n",
              "    .dataframe tbody tr th {\n",
              "        vertical-align: top;\n",
              "    }\n",
              "\n",
              "    .dataframe thead th {\n",
              "        text-align: right;\n",
              "    }\n",
              "</style>\n",
              "<table border=\"1\" class=\"dataframe\">\n",
              "  <thead>\n",
              "    <tr style=\"text-align: right;\">\n",
              "      <th></th>\n",
              "      <th>Actual</th>\n",
              "      <th>Predicted</th>\n",
              "    </tr>\n",
              "  </thead>\n",
              "  <tbody>\n",
              "    <tr>\n",
              "      <th>0</th>\n",
              "      <td>happy</td>\n",
              "      <td>fear</td>\n",
              "    </tr>\n",
              "    <tr>\n",
              "      <th>1</th>\n",
              "      <td>fear</td>\n",
              "      <td>happy</td>\n",
              "    </tr>\n",
              "    <tr>\n",
              "      <th>2</th>\n",
              "      <td>fear</td>\n",
              "      <td>sad</td>\n",
              "    </tr>\n",
              "    <tr>\n",
              "      <th>3</th>\n",
              "      <td>sad</td>\n",
              "      <td>sad</td>\n",
              "    </tr>\n",
              "    <tr>\n",
              "      <th>4</th>\n",
              "      <td>angry</td>\n",
              "      <td>happy</td>\n",
              "    </tr>\n",
              "  </tbody>\n",
              "</table>\n",
              "</div>"
            ],
            "text/plain": [
              "  Actual Predicted\n",
              "0  happy      fear\n",
              "1   fear     happy\n",
              "2   fear       sad\n",
              "3    sad       sad\n",
              "4  angry     happy"
            ]
          },
          "metadata": {
            "tags": []
          },
          "execution_count": 9
        }
      ]
    },
    {
      "cell_type": "code",
      "metadata": {
        "colab": {
          "base_uri": "https://localhost:8080/"
        },
        "id": "yLaWLRp-DnZ4",
        "outputId": "911be0c0-3921-43ce-9654-cf8aad0d82ad"
      },
      "source": [
        "d = results[(results.Actual=='sad') & (results.Predicted=='sad')]\n",
        "d.shape"
      ],
      "execution_count": null,
      "outputs": [
        {
          "output_type": "execute_result",
          "data": {
            "text/plain": [
              "(42, 2)"
            ]
          },
          "metadata": {
            "tags": []
          },
          "execution_count": 44
        }
      ]
    },
    {
      "cell_type": "code",
      "metadata": {
        "trusted": true,
        "colab": {
          "base_uri": "https://localhost:8080/",
          "height": 725
        },
        "id": "xp-c6GQAvgEx",
        "outputId": "982929b8-2331-47a6-d496-eaacb56c2738"
      },
      "source": [
        "cm = confusion_matrix(y_test, preds)\n",
        "df_cm = pd.DataFrame(cm,\n",
        "                     index=observed_emotions,\n",
        "                     columns=observed_emotions)\n",
        "plt.figure(figsize=(10, 10))\n",
        "\n",
        "sns.set(font_scale=1)\n",
        "\n",
        "\n",
        "ax = sns.heatmap(df_cm, annot=True, square=True, fmt='d', linewidths=.2, cbar=0, cmap=plt.cm.Blues)\n",
        "ax.set_xticklabels(ax.get_xticklabels(), rotation=0)\n",
        "\n",
        "plt.ylabel('True labels')\n",
        "plt.xlabel('Predicted labels')\n",
        "plt.tight_layout()\n",
        "\n",
        "name = 'tempo feature 55%.png'\n",
        "plt.savefig('/content/drive/MyDrive/Colab Notebooks/speech/dataset/cremad/Confusion matrix/mlp Confusion matrix for ' + name)\n",
        "\n",
        "plt.show()"
      ],
      "execution_count": null,
      "outputs": [
        {
          "output_type": "display_data",
          "data": {
            "image/png": "[encoded data removed]",
            "text/plain": [
              "<Figure size 720x720 with 1 Axes>"
            ]
          },
          "metadata": {
            "tags": []
          }
        }
      ]
    },
    {
      "cell_type": "code",
      "metadata": {
        "trusted": true,
        "colab": {
          "base_uri": "https://localhost:8080/"
        },
        "id": "ntzF25X6vgEy",
        "outputId": "759e73dc-a9ef-449d-b460-8f57599f6a39"
      },
      "source": [
        "print(classification_report(y_test, preds))"
      ],
      "execution_count": null,
      "outputs": [
        {
          "output_type": "stream",
          "text": [
            "              precision    recall  f1-score   support\n",
            "\n",
            "       angry       0.69      0.72      0.70       324\n",
            "        fear       0.39      0.23      0.29       309\n",
            "       happy       0.49      0.52      0.50       328\n",
            "         sad       0.57      0.73      0.64       310\n",
            "\n",
            "    accuracy                           0.55      1271\n",
            "   macro avg       0.53      0.55      0.53      1271\n",
            "weighted avg       0.53      0.55      0.54      1271\n",
            "\n"
          ],
          "name": "stdout"
        }
      ]
    },
    {
      "cell_type": "code",
      "metadata": {
        "id": "0RRM2iqAG-Dv"
      },
      "source": [
        "import pickle\n",
        "\n",
        "filename = 'tempo_MLP_0.55.sav'\n",
        "pickle.dump(model, open('/content/drive/MyDrive/Colab Notebooks/speech/dataset/cremad/Models/' + filename, 'wb'))\n",
        "loaded_model = pickle.load(open('/content/drive/MyDrive/Colab Notebooks/speech/dataset/cremad/Models/' + filename, 'rb'))"
      ],
      "execution_count": null,
      "outputs": []
    },
    {
      "cell_type": "markdown",
      "metadata": {
        "id": "VqUXxDtQ7PFq"
      },
      "source": [
        "### LGB"
      ]
    },
    {
      "cell_type": "code",
      "metadata": {
        "trusted": true,
        "id": "mn73MpWT7Trw"
      },
      "source": [
        "preds = lgb_model.predict(x_test)"
      ],
      "execution_count": null,
      "outputs": []
    },
    {
      "cell_type": "code",
      "metadata": {
        "trusted": true,
        "id": "2UEuWNRv7Trw"
      },
      "source": [
        "predictions = []\n",
        "\n",
        "for x in preds:\n",
        "    predictions.append(np.argmax(x))"
      ],
      "execution_count": null,
      "outputs": []
    },
    {
      "cell_type": "code",
      "metadata": {
        "trusted": true,
        "colab": {
          "base_uri": "https://localhost:8080/",
          "height": 204
        },
        "id": "ZtPBVmua7Trx",
        "outputId": "94ade8b9-ad80-4ece-fde0-f165bf843d80"
      },
      "source": [
        "results = pd.DataFrame()\n",
        "results['Actual'] = y_test\n",
        "results['Predicted'] = predictions\n",
        "\n",
        "results['Actual'] = results['Actual'].map({0:'angry', 1:'fear', 2:'happy', 3:'sad'})\n",
        "results['Predicted'] = results['Predicted'].map({0:'angry', 1:'fear', 2:'happy', 3:'sad'})\n",
        "results.head()"
      ],
      "execution_count": null,
      "outputs": [
        {
          "output_type": "execute_result",
          "data": {
            "text/html": [
              "<div>\n",
              "<style scoped>\n",
              "    .dataframe tbody tr th:only-of-type {\n",
              "        vertical-align: middle;\n",
              "    }\n",
              "\n",
              "    .dataframe tbody tr th {\n",
              "        vertical-align: top;\n",
              "    }\n",
              "\n",
              "    .dataframe thead th {\n",
              "        text-align: right;\n",
              "    }\n",
              "</style>\n",
              "<table border=\"1\" class=\"dataframe\">\n",
              "  <thead>\n",
              "    <tr style=\"text-align: right;\">\n",
              "      <th></th>\n",
              "      <th>Actual</th>\n",
              "      <th>Predicted</th>\n",
              "    </tr>\n",
              "  </thead>\n",
              "  <tbody>\n",
              "    <tr>\n",
              "      <th>0</th>\n",
              "      <td>happy</td>\n",
              "      <td>happy</td>\n",
              "    </tr>\n",
              "    <tr>\n",
              "      <th>1</th>\n",
              "      <td>sad</td>\n",
              "      <td>sad</td>\n",
              "    </tr>\n",
              "    <tr>\n",
              "      <th>2</th>\n",
              "      <td>fear</td>\n",
              "      <td>happy</td>\n",
              "    </tr>\n",
              "    <tr>\n",
              "      <th>3</th>\n",
              "      <td>sad</td>\n",
              "      <td>sad</td>\n",
              "    </tr>\n",
              "    <tr>\n",
              "      <th>4</th>\n",
              "      <td>sad</td>\n",
              "      <td>sad</td>\n",
              "    </tr>\n",
              "  </tbody>\n",
              "</table>\n",
              "</div>"
            ],
            "text/plain": [
              "  Actual Predicted\n",
              "0  happy     happy\n",
              "1    sad       sad\n",
              "2   fear     happy\n",
              "3    sad       sad\n",
              "4    sad       sad"
            ]
          },
          "metadata": {
            "tags": []
          },
          "execution_count": 23
        }
      ]
    },
    {
      "cell_type": "code",
      "metadata": {
        "trusted": true,
        "colab": {
          "base_uri": "https://localhost:8080/",
          "height": 725
        },
        "id": "V9dLGq3c7Try",
        "outputId": "7529874b-67a6-4048-9925-8bbb37fca05f"
      },
      "source": [
        "cm = confusion_matrix(y_test, predictions)\n",
        "df_cm = pd.DataFrame(cm,\n",
        "                     index=observed_emotions,\n",
        "                     columns=observed_emotions)\n",
        "\n",
        "plt.figure(figsize=(10, 10))\n",
        "\n",
        "sns.set(font_scale=1)\n",
        "\n",
        "ax = sns.heatmap(df_cm, annot=True, square=True, fmt='d', linewidths=.2, cbar=0, cmap=plt.cm.Blues)\n",
        "ax.set_xticklabels(ax.get_xticklabels(), rotation=0)\n",
        "\n",
        "plt.ylabel('True labels')\n",
        "plt.xlabel('Predicted labels')\n",
        "plt.tight_layout()\n",
        "\n",
        "name = 'tempo feature 52%.png'\n",
        "plt.savefig('/content/drive/MyDrive/Colab Notebooks/speech/dataset/cremad/Confusion matrix/lgbm Confusion matrix for ' + name)\n",
        "\n",
        "plt.show()"
      ],
      "execution_count": null,
      "outputs": [
        {
          "output_type": "display_data",
          "data": {
            "image/png": "[encoded data removed]",
            "text/plain": [
              "<Figure size 720x720 with 1 Axes>"
            ]
          },
          "metadata": {
            "tags": []
          }
        }
      ]
    },
    {
      "cell_type": "code",
      "metadata": {
        "trusted": true,
        "colab": {
          "base_uri": "https://localhost:8080/"
        },
        "id": "Vyc4zm7_7Try",
        "outputId": "bfbc25c2-f4a8-4476-fa36-31c779991571"
      },
      "source": [
        "print(classification_report(y_test, predictions, target_names=observed_emotions))"
      ],
      "execution_count": null,
      "outputs": [
        {
          "output_type": "stream",
          "text": [
            "              precision    recall  f1-score   support\n",
            "\n",
            "       angry       0.60      0.70      0.65       309\n",
            "        fear       0.40      0.21      0.28       322\n",
            "       happy       0.45      0.51      0.48       331\n",
            "         sad       0.56      0.66      0.61       309\n",
            "\n",
            "    accuracy                           0.52      1271\n",
            "   macro avg       0.50      0.52      0.50      1271\n",
            "weighted avg       0.50      0.52      0.50      1271\n",
            "\n"
          ],
          "name": "stdout"
        }
      ]
    },
    {
      "cell_type": "code",
      "metadata": {
        "id": "JilHgoaPRSv-"
      },
      "source": [
        "import pickle\n",
        "\n",
        "filename = 'tempo_lgbm_0.52.sav'\n",
        "pickle.dump(lgb_model, open('/content/drive/MyDrive/Colab Notebooks/speech/dataset/cremad/Models/' + filename, 'wb'))\n",
        "loaded_model = pickle.load(open('/content/drive/MyDrive/Colab Notebooks/speech/dataset/cremad/Models/' + filename, 'rb'))"
      ],
      "execution_count": null,
      "outputs": []
    }
  ]
}