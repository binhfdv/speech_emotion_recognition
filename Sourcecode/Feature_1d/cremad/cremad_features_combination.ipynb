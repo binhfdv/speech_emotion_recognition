{
  "nbformat": 4,
  "nbformat_minor": 0,
  "metadata": {
    "colab": {
      "name": "cremad_features combination.ipynb",
      "provenance": [],
      "collapsed_sections": [
        "WLB_d6YJ1RP1",
        "YzWvsB1Vzj9F",
        "ryPwl16W7LE3",
        "VqUXxDtQ7PFq"
      ]
    },
    "kernelspec": {
      "name": "python3",
      "display_name": "Python 3"
    },
    "language_info": {
      "name": "python"
    }
  },
  "cells": [
    {
      "cell_type": "markdown",
      "metadata": {
        "id": "iEndTFo9lQXa"
      },
      "source": [
        "12/06/2021"
      ]
    },
    {
      "cell_type": "markdown",
      "metadata": {
        "id": "hykoJ3USvgEY"
      },
      "source": [
        "## Load libraries"
      ]
    },
    {
      "cell_type": "code",
      "metadata": {
        "trusted": true,
        "id": "BtpNiUl7vgEa"
      },
      "source": [
        "import pandas as pd\n",
        "import numpy as np\n",
        "\n",
        "import os\n",
        "import sys\n",
        "\n",
        "from sklearn.neural_network import MLPClassifier\n",
        "\n",
        "import librosa\n",
        "import librosa.display\n",
        "import seaborn as sns\n",
        "import matplotlib.pyplot as plt\n",
        "\n",
        "# to play the audio files\n",
        "from IPython.display import Audio\n",
        "\n",
        "from sklearn.preprocessing import StandardScaler\n",
        "from sklearn.model_selection import train_test_split\n",
        "from sklearn.metrics import confusion_matrix\n",
        "from sklearn.metrics import classification_report\n",
        "\n",
        "import lightgbm as lgb\n",
        "\n",
        "import warnings\n",
        "if not sys.warnoptions:\n",
        "    warnings.simplefilter(\"ignore\")\n",
        "warnings.filterwarnings(\"ignore\", category=DeprecationWarning)"
      ],
      "execution_count": null,
      "outputs": []
    },
    {
      "cell_type": "markdown",
      "metadata": {
        "id": "JFURsK6wvgEc"
      },
      "source": [
        "## Load and set data paths"
      ]
    },
    {
      "cell_type": "code",
      "metadata": {
        "trusted": true,
        "id": "_MlgXnLzvgEc"
      },
      "source": [
        "Crema = \"/content/drive/MyDrive/Colab Notebooks/speech/dataset/cremad/AudioWAV/\""
      ],
      "execution_count": null,
      "outputs": []
    },
    {
      "cell_type": "code",
      "metadata": {
        "trusted": true,
        "colab": {
          "base_uri": "https://localhost:8080/",
          "height": 195
        },
        "id": "vRtOq4iLvgEd",
        "outputId": "67f11b77-016d-41d6-9b07-f56ef3935360"
      },
      "source": [
        "crema_directory_list = os.listdir(Crema)\n",
        "\n",
        "file_emotion = []\n",
        "file_path = []\n",
        "\n",
        "for file in crema_directory_list:\n",
        "    # storing file paths\n",
        "    file_path.append(Crema + file)\n",
        "    # storing file emotions\n",
        "    part=file.split('_')\n",
        "    if part[2] == 'SAD':\n",
        "        file_emotion.append('sad')\n",
        "    elif part[2] == 'ANG':\n",
        "        file_emotion.append('angry')\n",
        "    elif part[2] == 'DIS':\n",
        "        file_emotion.append('disgust')\n",
        "    elif part[2] == 'FEA':\n",
        "        file_emotion.append('fear')\n",
        "    elif part[2] == 'HAP':\n",
        "        file_emotion.append('happy')\n",
        "    elif part[2] == 'NEU':\n",
        "        file_emotion.append('neutral')\n",
        "    else:\n",
        "        file_emotion.append('Unknown')\n",
        "        \n",
        "# dataframe for emotion of files\n",
        "emotion_df = pd.DataFrame(file_emotion, columns=['Emotions'])\n",
        "\n",
        "# dataframe for path of files.\n",
        "path_df = pd.DataFrame(file_path, columns=['Path'])\n",
        "Crema_df = pd.concat([emotion_df, path_df], axis=1)\n",
        "Crema_df.head()\n"
      ],
      "execution_count": null,
      "outputs": [
        {
          "output_type": "execute_result",
          "data": {
            "text/html": [
              "<div>\n",
              "<style scoped>\n",
              "    .dataframe tbody tr th:only-of-type {\n",
              "        vertical-align: middle;\n",
              "    }\n",
              "\n",
              "    .dataframe tbody tr th {\n",
              "        vertical-align: top;\n",
              "    }\n",
              "\n",
              "    .dataframe thead th {\n",
              "        text-align: right;\n",
              "    }\n",
              "</style>\n",
              "<table border=\"1\" class=\"dataframe\">\n",
              "  <thead>\n",
              "    <tr style=\"text-align: right;\">\n",
              "      <th></th>\n",
              "      <th>Emotions</th>\n",
              "      <th>Path</th>\n",
              "    </tr>\n",
              "  </thead>\n",
              "  <tbody>\n",
              "    <tr>\n",
              "      <th>0</th>\n",
              "      <td>happy</td>\n",
              "      <td>/content/drive/MyDrive/Colab Notebooks/speech/...</td>\n",
              "    </tr>\n",
              "    <tr>\n",
              "      <th>1</th>\n",
              "      <td>happy</td>\n",
              "      <td>/content/drive/MyDrive/Colab Notebooks/speech/...</td>\n",
              "    </tr>\n",
              "    <tr>\n",
              "      <th>2</th>\n",
              "      <td>fear</td>\n",
              "      <td>/content/drive/MyDrive/Colab Notebooks/speech/...</td>\n",
              "    </tr>\n",
              "    <tr>\n",
              "      <th>3</th>\n",
              "      <td>fear</td>\n",
              "      <td>/content/drive/MyDrive/Colab Notebooks/speech/...</td>\n",
              "    </tr>\n",
              "    <tr>\n",
              "      <th>4</th>\n",
              "      <td>disgust</td>\n",
              "      <td>/content/drive/MyDrive/Colab Notebooks/speech/...</td>\n",
              "    </tr>\n",
              "  </tbody>\n",
              "</table>\n",
              "</div>"
            ],
            "text/plain": [
              "  Emotions                                               Path\n",
              "0    happy  /content/drive/MyDrive/Colab Notebooks/speech/...\n",
              "1    happy  /content/drive/MyDrive/Colab Notebooks/speech/...\n",
              "2     fear  /content/drive/MyDrive/Colab Notebooks/speech/...\n",
              "3     fear  /content/drive/MyDrive/Colab Notebooks/speech/...\n",
              "4  disgust  /content/drive/MyDrive/Colab Notebooks/speech/..."
            ]
          },
          "metadata": {
            "tags": []
          },
          "execution_count": 53
        }
      ]
    },
    {
      "cell_type": "code",
      "metadata": {
        "id": "210GK6yolyl-"
      },
      "source": [
        "Cremad_df = pd.read_csv('/content/drive/MyDrive/Colab Notebooks/speech/dataset/cremad/emotion_path.csv')"
      ],
      "execution_count": null,
      "outputs": []
    },
    {
      "cell_type": "code",
      "metadata": {
        "trusted": true,
        "colab": {
          "base_uri": "https://localhost:8080/",
          "height": 354
        },
        "id": "MTt2yuQdvgEf",
        "outputId": "a866f13f-6032-4dac-8a44-44995dac5f57"
      },
      "source": [
        "plt.title('Count of Emotions', size=16)\n",
        "sns.countplot(Cremad_df.Emotions)\n",
        "plt.ylabel('Count', size=12)\n",
        "plt.xlabel('Emotions', size=12)\n",
        "sns.despine(top=True, right=True, left=False, bottom=False)\n",
        "plt.show()"
      ],
      "execution_count": null,
      "outputs": [
        {
          "output_type": "stream",
          "text": [
            "/usr/local/lib/python3.7/dist-packages/seaborn/_decorators.py:43: FutureWarning: Pass the following variable as a keyword arg: x. From version 0.12, the only valid positional argument will be `data`, and passing other arguments without an explicit keyword will result in an error or misinterpretation.\n",
            "  FutureWarning\n"
          ],
          "name": "stderr"
        },
        {
          "output_type": "display_data",
          "data": {
            "image/png": "[encoded data removed]",
            "text/plain": [
              "<Figure size 432x288 with 1 Axes>"
            ]
          },
          "metadata": {
            "tags": [],
            "needs_background": "light"
          }
        }
      ]
    },
    {
      "cell_type": "markdown",
      "metadata": {
        "id": "TaaBzvfwvuvG"
      },
      "source": [
        "## Feature Extraction"
      ]
    },
    {
      "cell_type": "code",
      "metadata": {
        "id": "U57ILIA-5R_G"
      },
      "source": [
        "observed_emotions=sorted(['fear', 'happy', 'sad', 'angry'])"
      ],
      "execution_count": null,
      "outputs": []
    },
    {
      "cell_type": "code",
      "metadata": {
        "colab": {
          "base_uri": "https://localhost:8080/"
        },
        "id": "EKhreSnIAGDO",
        "outputId": "da574be0-caf6-4f20-c018-ecc876a84244"
      },
      "source": [
        "observed_emotions"
      ],
      "execution_count": null,
      "outputs": [
        {
          "output_type": "execute_result",
          "data": {
            "text/plain": [
              "['angry', 'fear', 'happy', 'sad']"
            ]
          },
          "metadata": {
            "tags": []
          },
          "execution_count": 3
        }
      ]
    },
    {
      "cell_type": "code",
      "metadata": {
        "id": "U6u8B3_WxOYW"
      },
      "source": [
        "num_mfcc=13"
      ],
      "execution_count": null,
      "outputs": []
    },
    {
      "cell_type": "code",
      "metadata": {
        "id": "infnX33Pun_H"
      },
      "source": [
        "def extract_feature(path, mfcc, chroma, mel, tempo):\n",
        "  data, sample_rate = librosa.load(path, res_type='kaiser_fast')\n",
        "  if chroma:\n",
        "    stft = np.abs(librosa.stft(data))\n",
        "\n",
        "  result=np.array([])\n",
        "  if mfcc:\n",
        "    mfccs=np.mean(librosa.feature.mfcc(y=data, sr=sample_rate, n_mfcc=num_mfcc).T, axis=0)\n",
        "    result=np.hstack((result, mfccs))\n",
        "  if chroma:\n",
        "    chroma=np.mean(librosa.feature.chroma_stft(S=stft, sr=sample_rate).T, axis=0)\n",
        "    result=np.hstack((result, chroma))\n",
        "  if mel:\n",
        "    mel=np.mean(librosa.feature.melspectrogram(y=data, sr=sample_rate).T, axis=0)\n",
        "    result=np.hstack((result, mel))\n",
        "  if tempo:\n",
        "    tempo=np.mean(librosa.feature.tempogram(y=data, sr=sample_rate).T, axis=0)\n",
        "    result=np.hstack((result, tempo))\n",
        "\n",
        "  return result"
      ],
      "execution_count": null,
      "outputs": []
    },
    {
      "cell_type": "code",
      "metadata": {
        "id": "pVfPdjo0v0e3"
      },
      "source": [
        "X, Y = [], []\n",
        "for path, emotion in zip(Cremad_df.Path, Cremad_df.Emotions):\n",
        "  if emotion not in observed_emotions:\n",
        "    continue\n",
        "  feature = extract_feature(path, mfcc=True, chroma=False, mel=True, tempo=True)\n",
        "  X.append(feature)\n",
        "  Y.append(emotion)"
      ],
      "execution_count": null,
      "outputs": []
    },
    {
      "cell_type": "code",
      "metadata": {
        "colab": {
          "base_uri": "https://localhost:8080/"
        },
        "id": "YsB1bQiT0rKO",
        "outputId": "5a17c709-3360-4bcb-b245-bd7597a21d75"
      },
      "source": [
        "len(X), len(Y), Cremad_df.Path.shape"
      ],
      "execution_count": null,
      "outputs": [
        {
          "output_type": "execute_result",
          "data": {
            "text/plain": [
              "(5084, 5084, (7442,))"
            ]
          },
          "metadata": {
            "tags": []
          },
          "execution_count": 9
        }
      ]
    },
    {
      "cell_type": "code",
      "metadata": {
        "colab": {
          "base_uri": "https://localhost:8080/",
          "height": 338
        },
        "id": "fPPk7LZn0s5F",
        "outputId": "6eba37af-9433-4b89-947f-9ce4d9a6afa2"
      },
      "source": [
        "Features = pd.DataFrame(X)\n",
        "Features['labels'] = Y\n",
        "Features.to_csv('/content/drive/MyDrive/Colab Notebooks/speech/dataset/cremad/temp_mfcc_mel_features.csv', index=0)\n",
        "Features.head()"
      ],
      "execution_count": null,
      "outputs": [
        {
          "output_type": "execute_result",
          "data": {
            "text/html": [
              "<div>\n",
              "<style scoped>\n",
              "    .dataframe tbody tr th:only-of-type {\n",
              "        vertical-align: middle;\n",
              "    }\n",
              "\n",
              "    .dataframe tbody tr th {\n",
              "        vertical-align: top;\n",
              "    }\n",
              "\n",
              "    .dataframe thead th {\n",
              "        text-align: right;\n",
              "    }\n",
              "</style>\n",
              "<table border=\"1\" class=\"dataframe\">\n",
              "  <thead>\n",
              "    <tr style=\"text-align: right;\">\n",
              "      <th></th>\n",
              "      <th>0</th>\n",
              "      <th>1</th>\n",
              "      <th>2</th>\n",
              "      <th>3</th>\n",
              "      <th>4</th>\n",
              "      <th>5</th>\n",
              "      <th>6</th>\n",
              "      <th>7</th>\n",
              "      <th>8</th>\n",
              "      <th>9</th>\n",
              "      <th>10</th>\n",
              "      <th>11</th>\n",
              "      <th>12</th>\n",
              "      <th>13</th>\n",
              "      <th>14</th>\n",
              "      <th>15</th>\n",
              "      <th>16</th>\n",
              "      <th>17</th>\n",
              "      <th>18</th>\n",
              "      <th>19</th>\n",
              "      <th>20</th>\n",
              "      <th>21</th>\n",
              "      <th>22</th>\n",
              "      <th>23</th>\n",
              "      <th>24</th>\n",
              "      <th>25</th>\n",
              "      <th>26</th>\n",
              "      <th>27</th>\n",
              "      <th>28</th>\n",
              "      <th>29</th>\n",
              "      <th>30</th>\n",
              "      <th>31</th>\n",
              "      <th>32</th>\n",
              "      <th>33</th>\n",
              "      <th>34</th>\n",
              "      <th>35</th>\n",
              "      <th>36</th>\n",
              "      <th>37</th>\n",
              "      <th>38</th>\n",
              "      <th>39</th>\n",
              "      <th>...</th>\n",
              "      <th>486</th>\n",
              "      <th>487</th>\n",
              "      <th>488</th>\n",
              "      <th>489</th>\n",
              "      <th>490</th>\n",
              "      <th>491</th>\n",
              "      <th>492</th>\n",
              "      <th>493</th>\n",
              "      <th>494</th>\n",
              "      <th>495</th>\n",
              "      <th>496</th>\n",
              "      <th>497</th>\n",
              "      <th>498</th>\n",
              "      <th>499</th>\n",
              "      <th>500</th>\n",
              "      <th>501</th>\n",
              "      <th>502</th>\n",
              "      <th>503</th>\n",
              "      <th>504</th>\n",
              "      <th>505</th>\n",
              "      <th>506</th>\n",
              "      <th>507</th>\n",
              "      <th>508</th>\n",
              "      <th>509</th>\n",
              "      <th>510</th>\n",
              "      <th>511</th>\n",
              "      <th>512</th>\n",
              "      <th>513</th>\n",
              "      <th>514</th>\n",
              "      <th>515</th>\n",
              "      <th>516</th>\n",
              "      <th>517</th>\n",
              "      <th>518</th>\n",
              "      <th>519</th>\n",
              "      <th>520</th>\n",
              "      <th>521</th>\n",
              "      <th>522</th>\n",
              "      <th>523</th>\n",
              "      <th>524</th>\n",
              "      <th>labels</th>\n",
              "    </tr>\n",
              "  </thead>\n",
              "  <tbody>\n",
              "    <tr>\n",
              "      <th>0</th>\n",
              "      <td>-280.915771</td>\n",
              "      <td>125.564018</td>\n",
              "      <td>-35.642487</td>\n",
              "      <td>45.787804</td>\n",
              "      <td>-9.935361</td>\n",
              "      <td>-0.458149</td>\n",
              "      <td>-10.096604</td>\n",
              "      <td>-0.426013</td>\n",
              "      <td>-6.722947</td>\n",
              "      <td>-10.800340</td>\n",
              "      <td>-4.483980</td>\n",
              "      <td>-7.101759</td>\n",
              "      <td>3.508987</td>\n",
              "      <td>0.076833</td>\n",
              "      <td>0.030737</td>\n",
              "      <td>0.061028</td>\n",
              "      <td>0.081898</td>\n",
              "      <td>0.046983</td>\n",
              "      <td>0.046682</td>\n",
              "      <td>0.185286</td>\n",
              "      <td>1.064163</td>\n",
              "      <td>0.952967</td>\n",
              "      <td>1.010579</td>\n",
              "      <td>1.109322</td>\n",
              "      <td>1.736680</td>\n",
              "      <td>3.320479</td>\n",
              "      <td>7.171905</td>\n",
              "      <td>6.498925</td>\n",
              "      <td>5.798558</td>\n",
              "      <td>7.476932</td>\n",
              "      <td>10.674026</td>\n",
              "      <td>13.549254</td>\n",
              "      <td>4.204493</td>\n",
              "      <td>14.216737</td>\n",
              "      <td>14.409835</td>\n",
              "      <td>2.196486</td>\n",
              "      <td>1.269828</td>\n",
              "      <td>0.974430</td>\n",
              "      <td>1.407033</td>\n",
              "      <td>3.226888</td>\n",
              "      <td>...</td>\n",
              "      <td>-3.942681e-17</td>\n",
              "      <td>6.756170e-17</td>\n",
              "      <td>1.684511e-17</td>\n",
              "      <td>3.328016e-17</td>\n",
              "      <td>-1.799233e-17</td>\n",
              "      <td>1.329797e-17</td>\n",
              "      <td>1.485933e-17</td>\n",
              "      <td>2.144956e-17</td>\n",
              "      <td>3.666501e-18</td>\n",
              "      <td>3.474769e-17</td>\n",
              "      <td>-1.073433e-18</td>\n",
              "      <td>4.357305e-17</td>\n",
              "      <td>1.718324e-17</td>\n",
              "      <td>5.903036e-17</td>\n",
              "      <td>-1.784554e-17</td>\n",
              "      <td>6.125840e-17</td>\n",
              "      <td>-4.324022e-17</td>\n",
              "      <td>4.683902e-17</td>\n",
              "      <td>-2.668660e-17</td>\n",
              "      <td>1.299794e-17</td>\n",
              "      <td>-4.081903e-18</td>\n",
              "      <td>3.398513e-17</td>\n",
              "      <td>3.118740e-17</td>\n",
              "      <td>-3.083478e-17</td>\n",
              "      <td>4.050139e-17</td>\n",
              "      <td>-3.801253e-17</td>\n",
              "      <td>2.446756e-17</td>\n",
              "      <td>-3.740906e-18</td>\n",
              "      <td>2.058694e-17</td>\n",
              "      <td>-4.707181e-17</td>\n",
              "      <td>8.164291e-17</td>\n",
              "      <td>-2.886230e-17</td>\n",
              "      <td>3.312600e-17</td>\n",
              "      <td>2.390896e-17</td>\n",
              "      <td>-1.318692e-17</td>\n",
              "      <td>4.578622e-17</td>\n",
              "      <td>3.510337e-18</td>\n",
              "      <td>2.646426e-17</td>\n",
              "      <td>2.504673e-17</td>\n",
              "      <td>happy</td>\n",
              "    </tr>\n",
              "    <tr>\n",
              "      <th>1</th>\n",
              "      <td>-377.730316</td>\n",
              "      <td>130.970230</td>\n",
              "      <td>2.853457</td>\n",
              "      <td>51.555561</td>\n",
              "      <td>-4.687920</td>\n",
              "      <td>10.874235</td>\n",
              "      <td>-8.077134</td>\n",
              "      <td>3.292286</td>\n",
              "      <td>-2.531496</td>\n",
              "      <td>-7.155380</td>\n",
              "      <td>1.242159</td>\n",
              "      <td>-10.199104</td>\n",
              "      <td>5.563872</td>\n",
              "      <td>0.046559</td>\n",
              "      <td>0.029116</td>\n",
              "      <td>0.064096</td>\n",
              "      <td>0.109162</td>\n",
              "      <td>0.217946</td>\n",
              "      <td>0.690346</td>\n",
              "      <td>1.395999</td>\n",
              "      <td>0.942536</td>\n",
              "      <td>1.450985</td>\n",
              "      <td>0.852693</td>\n",
              "      <td>0.369703</td>\n",
              "      <td>0.752590</td>\n",
              "      <td>1.780183</td>\n",
              "      <td>2.966136</td>\n",
              "      <td>3.849347</td>\n",
              "      <td>0.470726</td>\n",
              "      <td>1.289655</td>\n",
              "      <td>2.574431</td>\n",
              "      <td>2.957825</td>\n",
              "      <td>7.731913</td>\n",
              "      <td>5.124743</td>\n",
              "      <td>1.307118</td>\n",
              "      <td>0.200186</td>\n",
              "      <td>0.090035</td>\n",
              "      <td>0.064821</td>\n",
              "      <td>0.910954</td>\n",
              "      <td>0.777657</td>\n",
              "      <td>...</td>\n",
              "      <td>-3.542222e-17</td>\n",
              "      <td>8.656172e-17</td>\n",
              "      <td>2.745131e-17</td>\n",
              "      <td>4.266101e-17</td>\n",
              "      <td>-1.972761e-17</td>\n",
              "      <td>4.254058e-17</td>\n",
              "      <td>2.565029e-17</td>\n",
              "      <td>2.834249e-17</td>\n",
              "      <td>1.054288e-17</td>\n",
              "      <td>3.251238e-17</td>\n",
              "      <td>1.744220e-17</td>\n",
              "      <td>3.749932e-17</td>\n",
              "      <td>4.313401e-17</td>\n",
              "      <td>5.990841e-17</td>\n",
              "      <td>-2.067276e-17</td>\n",
              "      <td>7.453953e-17</td>\n",
              "      <td>-5.218668e-17</td>\n",
              "      <td>5.923697e-17</td>\n",
              "      <td>-3.048461e-17</td>\n",
              "      <td>3.304156e-17</td>\n",
              "      <td>5.573218e-18</td>\n",
              "      <td>3.488810e-17</td>\n",
              "      <td>5.808716e-17</td>\n",
              "      <td>-4.401892e-17</td>\n",
              "      <td>6.249681e-17</td>\n",
              "      <td>-4.869337e-17</td>\n",
              "      <td>3.296185e-17</td>\n",
              "      <td>-3.423660e-18</td>\n",
              "      <td>3.203731e-17</td>\n",
              "      <td>-4.656956e-17</td>\n",
              "      <td>9.556000e-17</td>\n",
              "      <td>-3.060655e-17</td>\n",
              "      <td>2.892865e-17</td>\n",
              "      <td>3.692261e-17</td>\n",
              "      <td>-1.008448e-17</td>\n",
              "      <td>6.273668e-17</td>\n",
              "      <td>6.981223e-18</td>\n",
              "      <td>2.434009e-17</td>\n",
              "      <td>3.614837e-17</td>\n",
              "      <td>happy</td>\n",
              "    </tr>\n",
              "    <tr>\n",
              "      <th>2</th>\n",
              "      <td>-356.825714</td>\n",
              "      <td>113.999687</td>\n",
              "      <td>-1.828079</td>\n",
              "      <td>51.858688</td>\n",
              "      <td>-3.392728</td>\n",
              "      <td>9.581902</td>\n",
              "      <td>-6.143320</td>\n",
              "      <td>3.148576</td>\n",
              "      <td>0.108095</td>\n",
              "      <td>-6.390064</td>\n",
              "      <td>1.137395</td>\n",
              "      <td>-4.820139</td>\n",
              "      <td>4.460493</td>\n",
              "      <td>0.058857</td>\n",
              "      <td>0.023937</td>\n",
              "      <td>0.055691</td>\n",
              "      <td>0.109114</td>\n",
              "      <td>0.061035</td>\n",
              "      <td>0.126132</td>\n",
              "      <td>0.392168</td>\n",
              "      <td>1.118926</td>\n",
              "      <td>3.271797</td>\n",
              "      <td>4.100485</td>\n",
              "      <td>4.907799</td>\n",
              "      <td>0.579800</td>\n",
              "      <td>0.076296</td>\n",
              "      <td>0.057966</td>\n",
              "      <td>0.085716</td>\n",
              "      <td>0.063021</td>\n",
              "      <td>0.139486</td>\n",
              "      <td>0.952193</td>\n",
              "      <td>2.977605</td>\n",
              "      <td>3.059296</td>\n",
              "      <td>8.881009</td>\n",
              "      <td>9.359259</td>\n",
              "      <td>1.218928</td>\n",
              "      <td>0.526419</td>\n",
              "      <td>0.400553</td>\n",
              "      <td>0.337032</td>\n",
              "      <td>0.387572</td>\n",
              "      <td>...</td>\n",
              "      <td>-2.520623e-17</td>\n",
              "      <td>6.774267e-17</td>\n",
              "      <td>1.414810e-17</td>\n",
              "      <td>3.238168e-17</td>\n",
              "      <td>-2.265543e-17</td>\n",
              "      <td>1.779277e-17</td>\n",
              "      <td>1.335188e-17</td>\n",
              "      <td>1.761066e-17</td>\n",
              "      <td>3.234220e-18</td>\n",
              "      <td>2.777123e-17</td>\n",
              "      <td>-1.171182e-17</td>\n",
              "      <td>3.765620e-17</td>\n",
              "      <td>1.649334e-17</td>\n",
              "      <td>6.081561e-17</td>\n",
              "      <td>-1.927395e-17</td>\n",
              "      <td>7.952006e-17</td>\n",
              "      <td>-5.881341e-17</td>\n",
              "      <td>5.257323e-17</td>\n",
              "      <td>-4.592234e-17</td>\n",
              "      <td>9.615047e-18</td>\n",
              "      <td>-1.748429e-18</td>\n",
              "      <td>2.413560e-17</td>\n",
              "      <td>3.470360e-17</td>\n",
              "      <td>-4.199478e-17</td>\n",
              "      <td>4.131388e-17</td>\n",
              "      <td>-4.858758e-17</td>\n",
              "      <td>2.096257e-17</td>\n",
              "      <td>-6.549241e-18</td>\n",
              "      <td>1.630215e-17</td>\n",
              "      <td>-4.945086e-17</td>\n",
              "      <td>7.610568e-17</td>\n",
              "      <td>-3.633913e-17</td>\n",
              "      <td>1.589066e-17</td>\n",
              "      <td>2.607514e-17</td>\n",
              "      <td>-2.720472e-17</td>\n",
              "      <td>4.713801e-17</td>\n",
              "      <td>4.599296e-18</td>\n",
              "      <td>3.405942e-18</td>\n",
              "      <td>2.529596e-17</td>\n",
              "      <td>fear</td>\n",
              "    </tr>\n",
              "    <tr>\n",
              "      <th>3</th>\n",
              "      <td>-291.695740</td>\n",
              "      <td>88.363419</td>\n",
              "      <td>-9.635429</td>\n",
              "      <td>38.268269</td>\n",
              "      <td>-17.064079</td>\n",
              "      <td>3.188533</td>\n",
              "      <td>-3.459729</td>\n",
              "      <td>-7.425086</td>\n",
              "      <td>-8.699226</td>\n",
              "      <td>-0.032571</td>\n",
              "      <td>2.032035</td>\n",
              "      <td>9.832491</td>\n",
              "      <td>28.486004</td>\n",
              "      <td>0.089417</td>\n",
              "      <td>0.043337</td>\n",
              "      <td>0.064568</td>\n",
              "      <td>0.077344</td>\n",
              "      <td>0.053868</td>\n",
              "      <td>0.050667</td>\n",
              "      <td>0.104624</td>\n",
              "      <td>0.119529</td>\n",
              "      <td>0.142349</td>\n",
              "      <td>0.031927</td>\n",
              "      <td>0.016647</td>\n",
              "      <td>0.014181</td>\n",
              "      <td>0.022433</td>\n",
              "      <td>0.094759</td>\n",
              "      <td>0.202395</td>\n",
              "      <td>0.466302</td>\n",
              "      <td>0.625785</td>\n",
              "      <td>5.083666</td>\n",
              "      <td>9.595825</td>\n",
              "      <td>42.822166</td>\n",
              "      <td>97.292770</td>\n",
              "      <td>109.934952</td>\n",
              "      <td>68.821709</td>\n",
              "      <td>63.094906</td>\n",
              "      <td>37.134239</td>\n",
              "      <td>81.886009</td>\n",
              "      <td>60.915936</td>\n",
              "      <td>...</td>\n",
              "      <td>-3.233866e-17</td>\n",
              "      <td>7.247292e-17</td>\n",
              "      <td>1.095438e-17</td>\n",
              "      <td>4.136473e-17</td>\n",
              "      <td>-1.086830e-17</td>\n",
              "      <td>2.689790e-17</td>\n",
              "      <td>1.109603e-17</td>\n",
              "      <td>1.384254e-17</td>\n",
              "      <td>3.122430e-18</td>\n",
              "      <td>3.297034e-17</td>\n",
              "      <td>-3.878062e-18</td>\n",
              "      <td>4.257720e-17</td>\n",
              "      <td>1.393621e-17</td>\n",
              "      <td>5.459578e-17</td>\n",
              "      <td>-2.775077e-17</td>\n",
              "      <td>5.978624e-17</td>\n",
              "      <td>-4.187237e-17</td>\n",
              "      <td>4.397381e-17</td>\n",
              "      <td>-3.149440e-17</td>\n",
              "      <td>2.187298e-17</td>\n",
              "      <td>-6.509479e-18</td>\n",
              "      <td>2.263966e-17</td>\n",
              "      <td>3.812757e-17</td>\n",
              "      <td>-4.785475e-17</td>\n",
              "      <td>3.997826e-17</td>\n",
              "      <td>-4.621575e-17</td>\n",
              "      <td>2.595742e-17</td>\n",
              "      <td>-2.076863e-17</td>\n",
              "      <td>2.404808e-17</td>\n",
              "      <td>-6.775753e-17</td>\n",
              "      <td>8.193845e-17</td>\n",
              "      <td>-3.327600e-17</td>\n",
              "      <td>3.011239e-17</td>\n",
              "      <td>2.109676e-17</td>\n",
              "      <td>-2.187684e-17</td>\n",
              "      <td>5.049643e-17</td>\n",
              "      <td>-8.586856e-19</td>\n",
              "      <td>1.970642e-17</td>\n",
              "      <td>1.843195e-17</td>\n",
              "      <td>fear</td>\n",
              "    </tr>\n",
              "    <tr>\n",
              "      <th>4</th>\n",
              "      <td>-374.901093</td>\n",
              "      <td>114.742386</td>\n",
              "      <td>2.530241</td>\n",
              "      <td>55.980183</td>\n",
              "      <td>-11.016656</td>\n",
              "      <td>10.856853</td>\n",
              "      <td>-13.590827</td>\n",
              "      <td>4.862565</td>\n",
              "      <td>-5.731351</td>\n",
              "      <td>-1.796219</td>\n",
              "      <td>1.446170</td>\n",
              "      <td>-5.829667</td>\n",
              "      <td>13.000159</td>\n",
              "      <td>0.061285</td>\n",
              "      <td>0.027733</td>\n",
              "      <td>0.060389</td>\n",
              "      <td>0.090851</td>\n",
              "      <td>0.048972</td>\n",
              "      <td>0.047888</td>\n",
              "      <td>0.091910</td>\n",
              "      <td>0.095385</td>\n",
              "      <td>0.118773</td>\n",
              "      <td>0.220061</td>\n",
              "      <td>0.289259</td>\n",
              "      <td>0.498829</td>\n",
              "      <td>0.965216</td>\n",
              "      <td>5.323498</td>\n",
              "      <td>4.686775</td>\n",
              "      <td>0.395963</td>\n",
              "      <td>0.386031</td>\n",
              "      <td>1.173238</td>\n",
              "      <td>1.899026</td>\n",
              "      <td>5.511223</td>\n",
              "      <td>6.432559</td>\n",
              "      <td>5.685246</td>\n",
              "      <td>1.528582</td>\n",
              "      <td>0.560362</td>\n",
              "      <td>0.195801</td>\n",
              "      <td>0.417377</td>\n",
              "      <td>0.431062</td>\n",
              "      <td>...</td>\n",
              "      <td>-2.230725e-17</td>\n",
              "      <td>7.510525e-17</td>\n",
              "      <td>2.734614e-17</td>\n",
              "      <td>4.498021e-17</td>\n",
              "      <td>-5.748921e-18</td>\n",
              "      <td>2.475459e-17</td>\n",
              "      <td>7.545587e-18</td>\n",
              "      <td>2.414863e-17</td>\n",
              "      <td>1.219785e-17</td>\n",
              "      <td>3.097027e-17</td>\n",
              "      <td>1.176606e-17</td>\n",
              "      <td>5.646398e-17</td>\n",
              "      <td>3.118449e-17</td>\n",
              "      <td>5.400798e-17</td>\n",
              "      <td>-1.266185e-17</td>\n",
              "      <td>7.607382e-17</td>\n",
              "      <td>-3.751776e-17</td>\n",
              "      <td>4.540708e-17</td>\n",
              "      <td>-2.514491e-17</td>\n",
              "      <td>2.229396e-17</td>\n",
              "      <td>7.872437e-18</td>\n",
              "      <td>4.543983e-17</td>\n",
              "      <td>3.085994e-17</td>\n",
              "      <td>-3.760047e-17</td>\n",
              "      <td>4.755965e-17</td>\n",
              "      <td>-2.595765e-17</td>\n",
              "      <td>3.038674e-17</td>\n",
              "      <td>-1.048541e-17</td>\n",
              "      <td>2.863804e-17</td>\n",
              "      <td>-4.759677e-17</td>\n",
              "      <td>8.341086e-17</td>\n",
              "      <td>-1.484832e-17</td>\n",
              "      <td>2.681932e-17</td>\n",
              "      <td>2.470832e-17</td>\n",
              "      <td>5.799433e-18</td>\n",
              "      <td>5.127325e-17</td>\n",
              "      <td>4.468546e-18</td>\n",
              "      <td>2.375863e-17</td>\n",
              "      <td>2.185990e-17</td>\n",
              "      <td>happy</td>\n",
              "    </tr>\n",
              "  </tbody>\n",
              "</table>\n",
              "<p>5 rows × 526 columns</p>\n",
              "</div>"
            ],
            "text/plain": [
              "            0           1          2  ...           523           524  labels\n",
              "0 -280.915771  125.564018 -35.642487  ...  2.646426e-17  2.504673e-17   happy\n",
              "1 -377.730316  130.970230   2.853457  ...  2.434009e-17  3.614837e-17   happy\n",
              "2 -356.825714  113.999687  -1.828079  ...  3.405942e-18  2.529596e-17    fear\n",
              "3 -291.695740   88.363419  -9.635429  ...  1.970642e-17  1.843195e-17    fear\n",
              "4 -374.901093  114.742386   2.530241  ...  2.375863e-17  2.185990e-17   happy\n",
              "\n",
              "[5 rows x 526 columns]"
            ]
          },
          "metadata": {
            "tags": []
          },
          "execution_count": 10
        }
      ]
    },
    {
      "cell_type": "markdown",
      "metadata": {
        "id": "hgOh4IkmvgEp"
      },
      "source": [
        "## Data Preparation"
      ]
    },
    {
      "cell_type": "code",
      "metadata": {
        "trusted": true,
        "colab": {
          "base_uri": "https://localhost:8080/",
          "height": 338
        },
        "id": "U99crUcUvgEq",
        "outputId": "39526714-959b-4dcb-ea8e-d7933d878652"
      },
      "source": [
        "dataset = pd.read_csv('/content/drive/MyDrive/Colab Notebooks/speech/dataset/cremad/temp_mfcc_mel_features.csv')\n",
        "dataset.head()"
      ],
      "execution_count": null,
      "outputs": [
        {
          "output_type": "execute_result",
          "data": {
            "text/html": [
              "<div>\n",
              "<style scoped>\n",
              "    .dataframe tbody tr th:only-of-type {\n",
              "        vertical-align: middle;\n",
              "    }\n",
              "\n",
              "    .dataframe tbody tr th {\n",
              "        vertical-align: top;\n",
              "    }\n",
              "\n",
              "    .dataframe thead th {\n",
              "        text-align: right;\n",
              "    }\n",
              "</style>\n",
              "<table border=\"1\" class=\"dataframe\">\n",
              "  <thead>\n",
              "    <tr style=\"text-align: right;\">\n",
              "      <th></th>\n",
              "      <th>0</th>\n",
              "      <th>1</th>\n",
              "      <th>2</th>\n",
              "      <th>3</th>\n",
              "      <th>4</th>\n",
              "      <th>5</th>\n",
              "      <th>6</th>\n",
              "      <th>7</th>\n",
              "      <th>8</th>\n",
              "      <th>9</th>\n",
              "      <th>10</th>\n",
              "      <th>11</th>\n",
              "      <th>12</th>\n",
              "      <th>13</th>\n",
              "      <th>14</th>\n",
              "      <th>15</th>\n",
              "      <th>16</th>\n",
              "      <th>17</th>\n",
              "      <th>18</th>\n",
              "      <th>19</th>\n",
              "      <th>20</th>\n",
              "      <th>21</th>\n",
              "      <th>22</th>\n",
              "      <th>23</th>\n",
              "      <th>24</th>\n",
              "      <th>25</th>\n",
              "      <th>26</th>\n",
              "      <th>27</th>\n",
              "      <th>28</th>\n",
              "      <th>29</th>\n",
              "      <th>30</th>\n",
              "      <th>31</th>\n",
              "      <th>32</th>\n",
              "      <th>33</th>\n",
              "      <th>34</th>\n",
              "      <th>35</th>\n",
              "      <th>36</th>\n",
              "      <th>37</th>\n",
              "      <th>38</th>\n",
              "      <th>39</th>\n",
              "      <th>...</th>\n",
              "      <th>486</th>\n",
              "      <th>487</th>\n",
              "      <th>488</th>\n",
              "      <th>489</th>\n",
              "      <th>490</th>\n",
              "      <th>491</th>\n",
              "      <th>492</th>\n",
              "      <th>493</th>\n",
              "      <th>494</th>\n",
              "      <th>495</th>\n",
              "      <th>496</th>\n",
              "      <th>497</th>\n",
              "      <th>498</th>\n",
              "      <th>499</th>\n",
              "      <th>500</th>\n",
              "      <th>501</th>\n",
              "      <th>502</th>\n",
              "      <th>503</th>\n",
              "      <th>504</th>\n",
              "      <th>505</th>\n",
              "      <th>506</th>\n",
              "      <th>507</th>\n",
              "      <th>508</th>\n",
              "      <th>509</th>\n",
              "      <th>510</th>\n",
              "      <th>511</th>\n",
              "      <th>512</th>\n",
              "      <th>513</th>\n",
              "      <th>514</th>\n",
              "      <th>515</th>\n",
              "      <th>516</th>\n",
              "      <th>517</th>\n",
              "      <th>518</th>\n",
              "      <th>519</th>\n",
              "      <th>520</th>\n",
              "      <th>521</th>\n",
              "      <th>522</th>\n",
              "      <th>523</th>\n",
              "      <th>524</th>\n",
              "      <th>labels</th>\n",
              "    </tr>\n",
              "  </thead>\n",
              "  <tbody>\n",
              "    <tr>\n",
              "      <th>0</th>\n",
              "      <td>-280.915771</td>\n",
              "      <td>125.564018</td>\n",
              "      <td>-35.642487</td>\n",
              "      <td>45.787804</td>\n",
              "      <td>-9.935361</td>\n",
              "      <td>-0.458149</td>\n",
              "      <td>-10.096604</td>\n",
              "      <td>-0.426013</td>\n",
              "      <td>-6.722947</td>\n",
              "      <td>-10.800340</td>\n",
              "      <td>-4.483980</td>\n",
              "      <td>-7.101759</td>\n",
              "      <td>3.508987</td>\n",
              "      <td>0.076833</td>\n",
              "      <td>0.030737</td>\n",
              "      <td>0.061028</td>\n",
              "      <td>0.081898</td>\n",
              "      <td>0.046983</td>\n",
              "      <td>0.046682</td>\n",
              "      <td>0.185286</td>\n",
              "      <td>1.064163</td>\n",
              "      <td>0.952967</td>\n",
              "      <td>1.010579</td>\n",
              "      <td>1.109322</td>\n",
              "      <td>1.736680</td>\n",
              "      <td>3.320479</td>\n",
              "      <td>7.171905</td>\n",
              "      <td>6.498925</td>\n",
              "      <td>5.798558</td>\n",
              "      <td>7.476932</td>\n",
              "      <td>10.674026</td>\n",
              "      <td>13.549254</td>\n",
              "      <td>4.204493</td>\n",
              "      <td>14.216737</td>\n",
              "      <td>14.409835</td>\n",
              "      <td>2.196486</td>\n",
              "      <td>1.269828</td>\n",
              "      <td>0.974430</td>\n",
              "      <td>1.407033</td>\n",
              "      <td>3.226888</td>\n",
              "      <td>...</td>\n",
              "      <td>-3.942681e-17</td>\n",
              "      <td>6.756170e-17</td>\n",
              "      <td>1.684511e-17</td>\n",
              "      <td>3.328016e-17</td>\n",
              "      <td>-1.799233e-17</td>\n",
              "      <td>1.329797e-17</td>\n",
              "      <td>1.485933e-17</td>\n",
              "      <td>2.144956e-17</td>\n",
              "      <td>3.666501e-18</td>\n",
              "      <td>3.474769e-17</td>\n",
              "      <td>-1.073433e-18</td>\n",
              "      <td>4.357305e-17</td>\n",
              "      <td>1.718324e-17</td>\n",
              "      <td>5.903036e-17</td>\n",
              "      <td>-1.784554e-17</td>\n",
              "      <td>6.125840e-17</td>\n",
              "      <td>-4.324022e-17</td>\n",
              "      <td>4.683902e-17</td>\n",
              "      <td>-2.668660e-17</td>\n",
              "      <td>1.299794e-17</td>\n",
              "      <td>-4.081903e-18</td>\n",
              "      <td>3.398513e-17</td>\n",
              "      <td>3.118740e-17</td>\n",
              "      <td>-3.083478e-17</td>\n",
              "      <td>4.050139e-17</td>\n",
              "      <td>-3.801253e-17</td>\n",
              "      <td>2.446756e-17</td>\n",
              "      <td>-3.740906e-18</td>\n",
              "      <td>2.058694e-17</td>\n",
              "      <td>-4.707181e-17</td>\n",
              "      <td>8.164291e-17</td>\n",
              "      <td>-2.886230e-17</td>\n",
              "      <td>3.312600e-17</td>\n",
              "      <td>2.390896e-17</td>\n",
              "      <td>-1.318692e-17</td>\n",
              "      <td>4.578622e-17</td>\n",
              "      <td>3.510337e-18</td>\n",
              "      <td>2.646426e-17</td>\n",
              "      <td>2.504673e-17</td>\n",
              "      <td>happy</td>\n",
              "    </tr>\n",
              "    <tr>\n",
              "      <th>1</th>\n",
              "      <td>-377.730316</td>\n",
              "      <td>130.970230</td>\n",
              "      <td>2.853457</td>\n",
              "      <td>51.555561</td>\n",
              "      <td>-4.687920</td>\n",
              "      <td>10.874235</td>\n",
              "      <td>-8.077134</td>\n",
              "      <td>3.292286</td>\n",
              "      <td>-2.531496</td>\n",
              "      <td>-7.155380</td>\n",
              "      <td>1.242159</td>\n",
              "      <td>-10.199104</td>\n",
              "      <td>5.563872</td>\n",
              "      <td>0.046559</td>\n",
              "      <td>0.029116</td>\n",
              "      <td>0.064096</td>\n",
              "      <td>0.109162</td>\n",
              "      <td>0.217946</td>\n",
              "      <td>0.690346</td>\n",
              "      <td>1.395999</td>\n",
              "      <td>0.942536</td>\n",
              "      <td>1.450985</td>\n",
              "      <td>0.852693</td>\n",
              "      <td>0.369703</td>\n",
              "      <td>0.752590</td>\n",
              "      <td>1.780183</td>\n",
              "      <td>2.966136</td>\n",
              "      <td>3.849347</td>\n",
              "      <td>0.470726</td>\n",
              "      <td>1.289655</td>\n",
              "      <td>2.574431</td>\n",
              "      <td>2.957825</td>\n",
              "      <td>7.731913</td>\n",
              "      <td>5.124743</td>\n",
              "      <td>1.307118</td>\n",
              "      <td>0.200186</td>\n",
              "      <td>0.090035</td>\n",
              "      <td>0.064821</td>\n",
              "      <td>0.910954</td>\n",
              "      <td>0.777657</td>\n",
              "      <td>...</td>\n",
              "      <td>-3.542222e-17</td>\n",
              "      <td>8.656172e-17</td>\n",
              "      <td>2.745131e-17</td>\n",
              "      <td>4.266101e-17</td>\n",
              "      <td>-1.972761e-17</td>\n",
              "      <td>4.254058e-17</td>\n",
              "      <td>2.565029e-17</td>\n",
              "      <td>2.834249e-17</td>\n",
              "      <td>1.054288e-17</td>\n",
              "      <td>3.251238e-17</td>\n",
              "      <td>1.744220e-17</td>\n",
              "      <td>3.749932e-17</td>\n",
              "      <td>4.313401e-17</td>\n",
              "      <td>5.990841e-17</td>\n",
              "      <td>-2.067276e-17</td>\n",
              "      <td>7.453953e-17</td>\n",
              "      <td>-5.218668e-17</td>\n",
              "      <td>5.923697e-17</td>\n",
              "      <td>-3.048461e-17</td>\n",
              "      <td>3.304156e-17</td>\n",
              "      <td>5.573218e-18</td>\n",
              "      <td>3.488810e-17</td>\n",
              "      <td>5.808716e-17</td>\n",
              "      <td>-4.401892e-17</td>\n",
              "      <td>6.249681e-17</td>\n",
              "      <td>-4.869337e-17</td>\n",
              "      <td>3.296185e-17</td>\n",
              "      <td>-3.423660e-18</td>\n",
              "      <td>3.203731e-17</td>\n",
              "      <td>-4.656956e-17</td>\n",
              "      <td>9.556000e-17</td>\n",
              "      <td>-3.060655e-17</td>\n",
              "      <td>2.892865e-17</td>\n",
              "      <td>3.692261e-17</td>\n",
              "      <td>-1.008448e-17</td>\n",
              "      <td>6.273668e-17</td>\n",
              "      <td>6.981223e-18</td>\n",
              "      <td>2.434009e-17</td>\n",
              "      <td>3.614837e-17</td>\n",
              "      <td>happy</td>\n",
              "    </tr>\n",
              "    <tr>\n",
              "      <th>2</th>\n",
              "      <td>-356.825714</td>\n",
              "      <td>113.999687</td>\n",
              "      <td>-1.828079</td>\n",
              "      <td>51.858688</td>\n",
              "      <td>-3.392728</td>\n",
              "      <td>9.581902</td>\n",
              "      <td>-6.143320</td>\n",
              "      <td>3.148576</td>\n",
              "      <td>0.108095</td>\n",
              "      <td>-6.390064</td>\n",
              "      <td>1.137395</td>\n",
              "      <td>-4.820139</td>\n",
              "      <td>4.460493</td>\n",
              "      <td>0.058857</td>\n",
              "      <td>0.023937</td>\n",
              "      <td>0.055691</td>\n",
              "      <td>0.109114</td>\n",
              "      <td>0.061035</td>\n",
              "      <td>0.126132</td>\n",
              "      <td>0.392168</td>\n",
              "      <td>1.118926</td>\n",
              "      <td>3.271797</td>\n",
              "      <td>4.100485</td>\n",
              "      <td>4.907799</td>\n",
              "      <td>0.579800</td>\n",
              "      <td>0.076296</td>\n",
              "      <td>0.057966</td>\n",
              "      <td>0.085716</td>\n",
              "      <td>0.063021</td>\n",
              "      <td>0.139486</td>\n",
              "      <td>0.952193</td>\n",
              "      <td>2.977605</td>\n",
              "      <td>3.059296</td>\n",
              "      <td>8.881009</td>\n",
              "      <td>9.359259</td>\n",
              "      <td>1.218928</td>\n",
              "      <td>0.526419</td>\n",
              "      <td>0.400553</td>\n",
              "      <td>0.337032</td>\n",
              "      <td>0.387572</td>\n",
              "      <td>...</td>\n",
              "      <td>-2.520623e-17</td>\n",
              "      <td>6.774267e-17</td>\n",
              "      <td>1.414810e-17</td>\n",
              "      <td>3.238168e-17</td>\n",
              "      <td>-2.265543e-17</td>\n",
              "      <td>1.779277e-17</td>\n",
              "      <td>1.335188e-17</td>\n",
              "      <td>1.761066e-17</td>\n",
              "      <td>3.234220e-18</td>\n",
              "      <td>2.777123e-17</td>\n",
              "      <td>-1.171182e-17</td>\n",
              "      <td>3.765620e-17</td>\n",
              "      <td>1.649334e-17</td>\n",
              "      <td>6.081561e-17</td>\n",
              "      <td>-1.927395e-17</td>\n",
              "      <td>7.952006e-17</td>\n",
              "      <td>-5.881341e-17</td>\n",
              "      <td>5.257323e-17</td>\n",
              "      <td>-4.592234e-17</td>\n",
              "      <td>9.615047e-18</td>\n",
              "      <td>-1.748429e-18</td>\n",
              "      <td>2.413560e-17</td>\n",
              "      <td>3.470360e-17</td>\n",
              "      <td>-4.199478e-17</td>\n",
              "      <td>4.131388e-17</td>\n",
              "      <td>-4.858758e-17</td>\n",
              "      <td>2.096257e-17</td>\n",
              "      <td>-6.549241e-18</td>\n",
              "      <td>1.630215e-17</td>\n",
              "      <td>-4.945086e-17</td>\n",
              "      <td>7.610568e-17</td>\n",
              "      <td>-3.633913e-17</td>\n",
              "      <td>1.589066e-17</td>\n",
              "      <td>2.607514e-17</td>\n",
              "      <td>-2.720472e-17</td>\n",
              "      <td>4.713801e-17</td>\n",
              "      <td>4.599296e-18</td>\n",
              "      <td>3.405942e-18</td>\n",
              "      <td>2.529596e-17</td>\n",
              "      <td>fear</td>\n",
              "    </tr>\n",
              "    <tr>\n",
              "      <th>3</th>\n",
              "      <td>-291.695740</td>\n",
              "      <td>88.363419</td>\n",
              "      <td>-9.635429</td>\n",
              "      <td>38.268269</td>\n",
              "      <td>-17.064079</td>\n",
              "      <td>3.188533</td>\n",
              "      <td>-3.459729</td>\n",
              "      <td>-7.425086</td>\n",
              "      <td>-8.699226</td>\n",
              "      <td>-0.032571</td>\n",
              "      <td>2.032035</td>\n",
              "      <td>9.832491</td>\n",
              "      <td>28.486004</td>\n",
              "      <td>0.089417</td>\n",
              "      <td>0.043337</td>\n",
              "      <td>0.064568</td>\n",
              "      <td>0.077344</td>\n",
              "      <td>0.053868</td>\n",
              "      <td>0.050667</td>\n",
              "      <td>0.104624</td>\n",
              "      <td>0.119529</td>\n",
              "      <td>0.142349</td>\n",
              "      <td>0.031927</td>\n",
              "      <td>0.016647</td>\n",
              "      <td>0.014181</td>\n",
              "      <td>0.022433</td>\n",
              "      <td>0.094759</td>\n",
              "      <td>0.202395</td>\n",
              "      <td>0.466302</td>\n",
              "      <td>0.625785</td>\n",
              "      <td>5.083666</td>\n",
              "      <td>9.595825</td>\n",
              "      <td>42.822166</td>\n",
              "      <td>97.292770</td>\n",
              "      <td>109.934952</td>\n",
              "      <td>68.821709</td>\n",
              "      <td>63.094906</td>\n",
              "      <td>37.134239</td>\n",
              "      <td>81.886009</td>\n",
              "      <td>60.915936</td>\n",
              "      <td>...</td>\n",
              "      <td>-3.233866e-17</td>\n",
              "      <td>7.247292e-17</td>\n",
              "      <td>1.095438e-17</td>\n",
              "      <td>4.136473e-17</td>\n",
              "      <td>-1.086830e-17</td>\n",
              "      <td>2.689790e-17</td>\n",
              "      <td>1.109603e-17</td>\n",
              "      <td>1.384254e-17</td>\n",
              "      <td>3.122430e-18</td>\n",
              "      <td>3.297034e-17</td>\n",
              "      <td>-3.878062e-18</td>\n",
              "      <td>4.257720e-17</td>\n",
              "      <td>1.393621e-17</td>\n",
              "      <td>5.459578e-17</td>\n",
              "      <td>-2.775077e-17</td>\n",
              "      <td>5.978624e-17</td>\n",
              "      <td>-4.187237e-17</td>\n",
              "      <td>4.397381e-17</td>\n",
              "      <td>-3.149440e-17</td>\n",
              "      <td>2.187298e-17</td>\n",
              "      <td>-6.509479e-18</td>\n",
              "      <td>2.263966e-17</td>\n",
              "      <td>3.812757e-17</td>\n",
              "      <td>-4.785475e-17</td>\n",
              "      <td>3.997826e-17</td>\n",
              "      <td>-4.621575e-17</td>\n",
              "      <td>2.595742e-17</td>\n",
              "      <td>-2.076863e-17</td>\n",
              "      <td>2.404808e-17</td>\n",
              "      <td>-6.775753e-17</td>\n",
              "      <td>8.193845e-17</td>\n",
              "      <td>-3.327600e-17</td>\n",
              "      <td>3.011239e-17</td>\n",
              "      <td>2.109676e-17</td>\n",
              "      <td>-2.187684e-17</td>\n",
              "      <td>5.049643e-17</td>\n",
              "      <td>-8.586856e-19</td>\n",
              "      <td>1.970642e-17</td>\n",
              "      <td>1.843195e-17</td>\n",
              "      <td>fear</td>\n",
              "    </tr>\n",
              "    <tr>\n",
              "      <th>4</th>\n",
              "      <td>-374.901093</td>\n",
              "      <td>114.742386</td>\n",
              "      <td>2.530241</td>\n",
              "      <td>55.980183</td>\n",
              "      <td>-11.016656</td>\n",
              "      <td>10.856853</td>\n",
              "      <td>-13.590827</td>\n",
              "      <td>4.862565</td>\n",
              "      <td>-5.731351</td>\n",
              "      <td>-1.796219</td>\n",
              "      <td>1.446170</td>\n",
              "      <td>-5.829667</td>\n",
              "      <td>13.000159</td>\n",
              "      <td>0.061285</td>\n",
              "      <td>0.027733</td>\n",
              "      <td>0.060389</td>\n",
              "      <td>0.090851</td>\n",
              "      <td>0.048972</td>\n",
              "      <td>0.047888</td>\n",
              "      <td>0.091910</td>\n",
              "      <td>0.095385</td>\n",
              "      <td>0.118773</td>\n",
              "      <td>0.220061</td>\n",
              "      <td>0.289259</td>\n",
              "      <td>0.498829</td>\n",
              "      <td>0.965216</td>\n",
              "      <td>5.323498</td>\n",
              "      <td>4.686775</td>\n",
              "      <td>0.395963</td>\n",
              "      <td>0.386031</td>\n",
              "      <td>1.173238</td>\n",
              "      <td>1.899026</td>\n",
              "      <td>5.511223</td>\n",
              "      <td>6.432559</td>\n",
              "      <td>5.685246</td>\n",
              "      <td>1.528582</td>\n",
              "      <td>0.560362</td>\n",
              "      <td>0.195801</td>\n",
              "      <td>0.417377</td>\n",
              "      <td>0.431062</td>\n",
              "      <td>...</td>\n",
              "      <td>-2.230725e-17</td>\n",
              "      <td>7.510525e-17</td>\n",
              "      <td>2.734614e-17</td>\n",
              "      <td>4.498021e-17</td>\n",
              "      <td>-5.748921e-18</td>\n",
              "      <td>2.475459e-17</td>\n",
              "      <td>7.545587e-18</td>\n",
              "      <td>2.414863e-17</td>\n",
              "      <td>1.219785e-17</td>\n",
              "      <td>3.097027e-17</td>\n",
              "      <td>1.176606e-17</td>\n",
              "      <td>5.646398e-17</td>\n",
              "      <td>3.118449e-17</td>\n",
              "      <td>5.400798e-17</td>\n",
              "      <td>-1.266185e-17</td>\n",
              "      <td>7.607382e-17</td>\n",
              "      <td>-3.751776e-17</td>\n",
              "      <td>4.540708e-17</td>\n",
              "      <td>-2.514491e-17</td>\n",
              "      <td>2.229396e-17</td>\n",
              "      <td>7.872437e-18</td>\n",
              "      <td>4.543983e-17</td>\n",
              "      <td>3.085994e-17</td>\n",
              "      <td>-3.760047e-17</td>\n",
              "      <td>4.755965e-17</td>\n",
              "      <td>-2.595765e-17</td>\n",
              "      <td>3.038674e-17</td>\n",
              "      <td>-1.048541e-17</td>\n",
              "      <td>2.863804e-17</td>\n",
              "      <td>-4.759677e-17</td>\n",
              "      <td>8.341086e-17</td>\n",
              "      <td>-1.484832e-17</td>\n",
              "      <td>2.681932e-17</td>\n",
              "      <td>2.470832e-17</td>\n",
              "      <td>5.799433e-18</td>\n",
              "      <td>5.127325e-17</td>\n",
              "      <td>4.468546e-18</td>\n",
              "      <td>2.375863e-17</td>\n",
              "      <td>2.185990e-17</td>\n",
              "      <td>happy</td>\n",
              "    </tr>\n",
              "  </tbody>\n",
              "</table>\n",
              "<p>5 rows × 526 columns</p>\n",
              "</div>"
            ],
            "text/plain": [
              "            0           1          2  ...           523           524  labels\n",
              "0 -280.915771  125.564018 -35.642487  ...  2.646426e-17  2.504673e-17   happy\n",
              "1 -377.730316  130.970230   2.853457  ...  2.434009e-17  3.614837e-17   happy\n",
              "2 -356.825714  113.999687  -1.828079  ...  3.405942e-18  2.529596e-17    fear\n",
              "3 -291.695740   88.363419  -9.635429  ...  1.970642e-17  1.843195e-17    fear\n",
              "4 -374.901093  114.742386   2.530241  ...  2.375863e-17  2.185990e-17   happy\n",
              "\n",
              "[5 rows x 526 columns]"
            ]
          },
          "metadata": {
            "tags": []
          },
          "execution_count": 4
        }
      ]
    },
    {
      "cell_type": "code",
      "metadata": {
        "id": "4D2myJ17_d3q",
        "colab": {
          "base_uri": "https://localhost:8080/"
        },
        "outputId": "1c891ad8-d731-4d33-ba2e-4849d3b1de8b"
      },
      "source": [
        "dataset.labels.value_counts()"
      ],
      "execution_count": null,
      "outputs": [
        {
          "output_type": "execute_result",
          "data": {
            "text/plain": [
              "happy    1271\n",
              "sad      1271\n",
              "angry    1271\n",
              "fear     1271\n",
              "Name: labels, dtype: int64"
            ]
          },
          "metadata": {
            "tags": []
          },
          "execution_count": 5
        }
      ]
    },
    {
      "cell_type": "markdown",
      "metadata": {
        "id": "IDFEVF570_rl"
      },
      "source": [
        "## Modeling"
      ]
    },
    {
      "cell_type": "markdown",
      "metadata": {
        "id": "WLB_d6YJ1RP1"
      },
      "source": [
        "### MLPClassifier"
      ]
    },
    {
      "cell_type": "code",
      "metadata": {
        "trusted": true,
        "id": "RmyGeJT8vgEr"
      },
      "source": [
        "X = dataset.iloc[:, :-1].values\n",
        "Y = dataset.iloc[:, -1].values"
      ],
      "execution_count": null,
      "outputs": []
    },
    {
      "cell_type": "code",
      "metadata": {
        "id": "cUN614nz1gNZ"
      },
      "source": [
        "x_train, x_test, y_train, y_test = train_test_split(np.array(X), Y, test_size = 0.25, random_state = 9)"
      ],
      "execution_count": null,
      "outputs": []
    },
    {
      "cell_type": "code",
      "metadata": {
        "colab": {
          "base_uri": "https://localhost:8080/"
        },
        "id": "FEi7lWlztAEE",
        "outputId": "c90db9be-9f03-47fe-eb4c-8bd25707d0b0"
      },
      "source": [
        "x_train.shape"
      ],
      "execution_count": null,
      "outputs": [
        {
          "output_type": "execute_result",
          "data": {
            "text/plain": [
              "(3813, 525)"
            ]
          },
          "metadata": {
            "tags": []
          },
          "execution_count": 8
        }
      ]
    },
    {
      "cell_type": "code",
      "metadata": {
        "id": "CIqhkZMuOI0l"
      },
      "source": [
        "model=MLPClassifier(alpha=0.01, batch_size=256, epsilon=1e-08, hidden_layer_sizes=(300,), learning_rate='adaptive', max_iter=1000)"
      ],
      "execution_count": null,
      "outputs": []
    },
    {
      "cell_type": "code",
      "metadata": {
        "colab": {
          "base_uri": "https://localhost:8080/"
        },
        "id": "_FilJ0CqmQq5",
        "outputId": "bc6fb105-803a-4de8-fe0b-9cc1db0bd24a"
      },
      "source": [
        "model.fit(x_train, y_train)"
      ],
      "execution_count": null,
      "outputs": [
        {
          "output_type": "execute_result",
          "data": {
            "text/plain": [
              "MLPClassifier(activation='relu', alpha=0.01, batch_size=256, beta_1=0.9,\n",
              "              beta_2=0.999, early_stopping=False, epsilon=1e-08,\n",
              "              hidden_layer_sizes=(300,), learning_rate='adaptive',\n",
              "              learning_rate_init=0.001, max_fun=15000, max_iter=1000,\n",
              "              momentum=0.9, n_iter_no_change=10, nesterovs_momentum=True,\n",
              "              power_t=0.5, random_state=None, shuffle=True, solver='adam',\n",
              "              tol=0.0001, validation_fraction=0.1, verbose=False,\n",
              "              warm_start=False)"
            ]
          },
          "metadata": {
            "tags": []
          },
          "execution_count": 10
        }
      ]
    },
    {
      "cell_type": "markdown",
      "metadata": {
        "id": "YzWvsB1Vzj9F"
      },
      "source": [
        "### LightGBM"
      ]
    },
    {
      "cell_type": "code",
      "metadata": {
        "id": "vgY7MCwwJweQ"
      },
      "source": [
        "data = dataset.copy()\n",
        "data.labels = data.labels.map({'angry':0, 'fear':1, 'happy':2, 'sad':3})"
      ],
      "execution_count": null,
      "outputs": []
    },
    {
      "cell_type": "code",
      "metadata": {
        "colab": {
          "base_uri": "https://localhost:8080/"
        },
        "id": "OJmWtCAxNIxc",
        "outputId": "79307cae-ffdd-407b-8120-f61f9e4b9168"
      },
      "source": [
        "data.labels.value_counts()"
      ],
      "execution_count": null,
      "outputs": [
        {
          "output_type": "execute_result",
          "data": {
            "text/plain": [
              "3    1271\n",
              "2    1271\n",
              "1    1271\n",
              "0    1271\n",
              "Name: labels, dtype: int64"
            ]
          },
          "metadata": {
            "tags": []
          },
          "execution_count": 13
        }
      ]
    },
    {
      "cell_type": "code",
      "metadata": {
        "id": "duKnnoH1J2X3"
      },
      "source": [
        "X = data.iloc[:, :-1].values\n",
        "Y = data.iloc[:, -1].values"
      ],
      "execution_count": null,
      "outputs": []
    },
    {
      "cell_type": "code",
      "metadata": {
        "trusted": true,
        "id": "a32K62e-vgEr"
      },
      "source": [
        "x_train, x_test, y_train, y_test = train_test_split(X, Y, test_size = 0.25, random_state = 0)\n",
        "x_train, x_valid, y_train, y_valid = train_test_split(x_train, y_train, test_size=0.1, random_state=0)\n",
        "\n",
        "sc = StandardScaler()\n",
        "x_train = sc.fit_transform(x_train)\n",
        "x_test = sc.transform(x_test)\n",
        "x_valid = sc.transform(x_valid)"
      ],
      "execution_count": null,
      "outputs": []
    },
    {
      "cell_type": "code",
      "metadata": {
        "trusted": true,
        "id": "Zoa4feXDvgEs"
      },
      "source": [
        "NUM_CLASS = 4\n",
        "\n",
        "params = {}\n",
        "params['learning_rate'] = 0.01\n",
        "params['boosting_type'] = 'gbdt'\n",
        "params['objective'] = 'multiclass'\n",
        "params['metric'] = 'multi_logloss'\n",
        "params['num_leaves'] = 100\n",
        "params['min_data'] = 100\n",
        "params['max_depth'] = 50\n",
        "params['num_class'] = NUM_CLASS\n",
        "params['max_bin'] = 150 # small max_bin causes faster speed and large value improves accuracy\n",
        "params['bagging_freq'] = 100\n",
        "params['feature_fraction'] = 0.6 # deal with column\n",
        "params['bagging_fraction'] = 0.6\n",
        "# params['device'] = 'gpu'\n",
        "#params['num_iterations'] = 1000\n",
        "#params['early_stopping_rounds'] = 100# the rule of thumb is to have it at 10% of your num_iterations"
      ],
      "execution_count": null,
      "outputs": []
    },
    {
      "cell_type": "code",
      "metadata": {
        "trusted": true,
        "colab": {
          "base_uri": "https://localhost:8080/"
        },
        "id": "6Fdn0eNsvgEt",
        "outputId": "7145fc42-204f-46d8-bc1c-6f4c031d4d17"
      },
      "source": [
        "x_test.shape"
      ],
      "execution_count": null,
      "outputs": [
        {
          "output_type": "execute_result",
          "data": {
            "text/plain": [
              "(1271, 525)"
            ]
          },
          "metadata": {
            "tags": []
          },
          "execution_count": 17
        }
      ]
    },
    {
      "cell_type": "code",
      "metadata": {
        "id": "tdDGlZ8n44Ez"
      },
      "source": [
        "import lightgbm as lgb"
      ],
      "execution_count": null,
      "outputs": []
    },
    {
      "cell_type": "code",
      "metadata": {
        "id": "KC3etxXzyhS8",
        "colab": {
          "base_uri": "https://localhost:8080/"
        },
        "outputId": "21b8ea73-e0ea-45d4-ca3b-5237da8676f1"
      },
      "source": [
        "dtrain = lgb.Dataset(x_train, y_train)\n",
        "dvalid = lgb.Dataset(x_valid, y_valid)\n",
        "lgb_model = lgb.train(params, \n",
        "                          dtrain, \n",
        "                          num_boost_round=10000,\n",
        "                          early_stopping_rounds=1000,\n",
        "                          valid_sets=(dtrain, dvalid), \n",
        "                          valid_names=('train','valid'),\n",
        "                          verbose_eval = 100)"
      ],
      "execution_count": null,
      "outputs": [
        {
          "output_type": "stream",
          "text": [
            "Training until validation scores don't improve for 1000 rounds.\n",
            "[100]\ttrain's multi_logloss: 1.02198\tvalid's multi_logloss: 1.06774\n",
            "[200]\ttrain's multi_logloss: 0.85786\tvalid's multi_logloss: 0.951683\n",
            "[300]\ttrain's multi_logloss: 0.759581\tvalid's multi_logloss: 0.900692\n",
            "[400]\ttrain's multi_logloss: 0.68338\tvalid's multi_logloss: 0.873088\n",
            "[500]\ttrain's multi_logloss: 0.623277\tvalid's multi_logloss: 0.858896\n",
            "[600]\ttrain's multi_logloss: 0.570177\tvalid's multi_logloss: 0.85161\n",
            "[700]\ttrain's multi_logloss: 0.524544\tvalid's multi_logloss: 0.843213\n",
            "[800]\ttrain's multi_logloss: 0.481834\tvalid's multi_logloss: 0.838201\n",
            "[900]\ttrain's multi_logloss: 0.44279\tvalid's multi_logloss: 0.83364\n",
            "[1000]\ttrain's multi_logloss: 0.409187\tvalid's multi_logloss: 0.83103\n",
            "[1100]\ttrain's multi_logloss: 0.378362\tvalid's multi_logloss: 0.830656\n",
            "[1200]\ttrain's multi_logloss: 0.348887\tvalid's multi_logloss: 0.827607\n",
            "[1300]\ttrain's multi_logloss: 0.32189\tvalid's multi_logloss: 0.825661\n",
            "[1400]\ttrain's multi_logloss: 0.298579\tvalid's multi_logloss: 0.830897\n",
            "[1500]\ttrain's multi_logloss: 0.276378\tvalid's multi_logloss: 0.829265\n",
            "[1600]\ttrain's multi_logloss: 0.255493\tvalid's multi_logloss: 0.829802\n",
            "[1700]\ttrain's multi_logloss: 0.236237\tvalid's multi_logloss: 0.833038\n",
            "[1800]\ttrain's multi_logloss: 0.219586\tvalid's multi_logloss: 0.83468\n",
            "[1900]\ttrain's multi_logloss: 0.20331\tvalid's multi_logloss: 0.837072\n",
            "[2000]\ttrain's multi_logloss: 0.188339\tvalid's multi_logloss: 0.842449\n",
            "[2100]\ttrain's multi_logloss: 0.17494\tvalid's multi_logloss: 0.843296\n",
            "[2200]\ttrain's multi_logloss: 0.163008\tvalid's multi_logloss: 0.845092\n",
            "Early stopping, best iteration is:\n",
            "[1292]\ttrain's multi_logloss: 0.323769\tvalid's multi_logloss: 0.82534\n"
          ],
          "name": "stdout"
        }
      ]
    },
    {
      "cell_type": "markdown",
      "metadata": {
        "id": "jLtfMTqCvgEv"
      },
      "source": [
        "## Experiment results"
      ]
    },
    {
      "cell_type": "markdown",
      "metadata": {
        "id": "ryPwl16W7LE3"
      },
      "source": [
        "### MLP"
      ]
    },
    {
      "cell_type": "code",
      "metadata": {
        "trusted": true,
        "id": "VNNms9KmvgEw"
      },
      "source": [
        "preds = model.predict(x_test)"
      ],
      "execution_count": null,
      "outputs": []
    },
    {
      "cell_type": "code",
      "metadata": {
        "trusted": true,
        "id": "RIH-WwOJvgEx",
        "colab": {
          "base_uri": "https://localhost:8080/",
          "height": 204
        },
        "outputId": "c050d50c-d7c4-48a0-9730-ccf99aa772b4"
      },
      "source": [
        "results = pd.DataFrame()\n",
        "results['Actual'] = y_test\n",
        "results['Predicted'] = preds\n",
        "\n",
        "results.head()"
      ],
      "execution_count": null,
      "outputs": [
        {
          "output_type": "execute_result",
          "data": {
            "text/html": [
              "<div>\n",
              "<style scoped>\n",
              "    .dataframe tbody tr th:only-of-type {\n",
              "        vertical-align: middle;\n",
              "    }\n",
              "\n",
              "    .dataframe tbody tr th {\n",
              "        vertical-align: top;\n",
              "    }\n",
              "\n",
              "    .dataframe thead th {\n",
              "        text-align: right;\n",
              "    }\n",
              "</style>\n",
              "<table border=\"1\" class=\"dataframe\">\n",
              "  <thead>\n",
              "    <tr style=\"text-align: right;\">\n",
              "      <th></th>\n",
              "      <th>Actual</th>\n",
              "      <th>Predicted</th>\n",
              "    </tr>\n",
              "  </thead>\n",
              "  <tbody>\n",
              "    <tr>\n",
              "      <th>0</th>\n",
              "      <td>happy</td>\n",
              "      <td>fear</td>\n",
              "    </tr>\n",
              "    <tr>\n",
              "      <th>1</th>\n",
              "      <td>fear</td>\n",
              "      <td>happy</td>\n",
              "    </tr>\n",
              "    <tr>\n",
              "      <th>2</th>\n",
              "      <td>fear</td>\n",
              "      <td>sad</td>\n",
              "    </tr>\n",
              "    <tr>\n",
              "      <th>3</th>\n",
              "      <td>sad</td>\n",
              "      <td>sad</td>\n",
              "    </tr>\n",
              "    <tr>\n",
              "      <th>4</th>\n",
              "      <td>angry</td>\n",
              "      <td>angry</td>\n",
              "    </tr>\n",
              "  </tbody>\n",
              "</table>\n",
              "</div>"
            ],
            "text/plain": [
              "  Actual Predicted\n",
              "0  happy      fear\n",
              "1   fear     happy\n",
              "2   fear       sad\n",
              "3    sad       sad\n",
              "4  angry     angry"
            ]
          },
          "metadata": {
            "tags": []
          },
          "execution_count": 25
        }
      ]
    },
    {
      "cell_type": "code",
      "metadata": {
        "trusted": true,
        "colab": {
          "base_uri": "https://localhost:8080/",
          "height": 725
        },
        "id": "xp-c6GQAvgEx",
        "outputId": "680975e1-a251-4080-b626-01e7e1086807"
      },
      "source": [
        "cm = confusion_matrix(y_test, preds)\n",
        "df_cm = pd.DataFrame(cm,\n",
        "                     index=observed_emotions,\n",
        "                     columns=observed_emotions)\n",
        "plt.figure(figsize=(10, 10))\n",
        "\n",
        "sns.set(font_scale=1)\n",
        "\n",
        "\n",
        "ax = sns.heatmap(df_cm, annot=True, square=True, fmt='d', linewidths=.2, cbar=0, cmap=plt.cm.Blues)\n",
        "ax.set_xticklabels(ax.get_xticklabels(), rotation=0)\n",
        "\n",
        "plt.ylabel('True labels')\n",
        "plt.xlabel('Predicted labels')\n",
        "plt.tight_layout()\n",
        "\n",
        "name = 'tempo_mel_MFCCs feature 61%.png'\n",
        "plt.savefig('/content/drive/MyDrive/Colab Notebooks/speech/dataset/cremad/Confusion matrix/mlp Confusion matrix for ' + name)\n",
        "\n",
        "plt.show()"
      ],
      "execution_count": null,
      "outputs": [
        {
          "output_type": "display_data",
          "data": {
            "image/png": "[encoded data removed]",
            "text/plain": [
              "<Figure size 720x720 with 1 Axes>"
            ]
          },
          "metadata": {
            "tags": []
          }
        }
      ]
    },
    {
      "cell_type": "code",
      "metadata": {
        "trusted": true,
        "colab": {
          "base_uri": "https://localhost:8080/"
        },
        "id": "ntzF25X6vgEy",
        "outputId": "b9fd051f-846c-4818-a785-5d14525c6f0e"
      },
      "source": [
        "print(classification_report(y_test, preds))"
      ],
      "execution_count": null,
      "outputs": [
        {
          "output_type": "stream",
          "text": [
            "              precision    recall  f1-score   support\n",
            "\n",
            "       angry       0.69      0.70      0.69       324\n",
            "        fear       0.60      0.32      0.41       309\n",
            "       happy       0.50      0.64      0.56       328\n",
            "         sad       0.66      0.76      0.70       310\n",
            "\n",
            "    accuracy                           0.61      1271\n",
            "   macro avg       0.61      0.60      0.59      1271\n",
            "weighted avg       0.61      0.61      0.60      1271\n",
            "\n"
          ],
          "name": "stdout"
        }
      ]
    },
    {
      "cell_type": "code",
      "metadata": {
        "id": "0RRM2iqAG-Dv"
      },
      "source": [
        "import pickle\n",
        "\n",
        "filename = 'tempo_mel_mfcc_MLP_0.61.sav'\n",
        "pickle.dump(model, open('/content/drive/MyDrive/Colab Notebooks/speech/dataset/cremad/Models/' + filename, 'wb'))\n",
        "loaded_model = pickle.load(open('/content/drive/MyDrive/Colab Notebooks/speech/dataset/cremad/Models/' + filename, 'rb'))"
      ],
      "execution_count": null,
      "outputs": []
    },
    {
      "cell_type": "markdown",
      "metadata": {
        "id": "VqUXxDtQ7PFq"
      },
      "source": [
        "### LGB"
      ]
    },
    {
      "cell_type": "code",
      "metadata": {
        "trusted": true,
        "id": "mn73MpWT7Trw"
      },
      "source": [
        "preds = lgb_model.predict(x_test)"
      ],
      "execution_count": null,
      "outputs": []
    },
    {
      "cell_type": "code",
      "metadata": {
        "trusted": true,
        "id": "2UEuWNRv7Trw"
      },
      "source": [
        "predictions = []\n",
        "\n",
        "for x in preds:\n",
        "    predictions.append(np.argmax(x))"
      ],
      "execution_count": null,
      "outputs": []
    },
    {
      "cell_type": "code",
      "metadata": {
        "trusted": true,
        "colab": {
          "base_uri": "https://localhost:8080/",
          "height": 204
        },
        "id": "ZtPBVmua7Trx",
        "outputId": "44043d0b-ed1d-4f33-f16f-7d1a0194eae8"
      },
      "source": [
        "results = pd.DataFrame()\n",
        "results['Actual'] = y_test\n",
        "results['Predicted'] = predictions\n",
        "\n",
        "results['Actual'] = results['Actual'].map({0:'angry', 1:'fear', 2:'happy', 3:'sad'})\n",
        "results['Predicted'] = results['Predicted'].map({0:'angry', 1:'fear', 2:'happy', 3:'sad'})\n",
        "results.head()"
      ],
      "execution_count": null,
      "outputs": [
        {
          "output_type": "execute_result",
          "data": {
            "text/html": [
              "<div>\n",
              "<style scoped>\n",
              "    .dataframe tbody tr th:only-of-type {\n",
              "        vertical-align: middle;\n",
              "    }\n",
              "\n",
              "    .dataframe tbody tr th {\n",
              "        vertical-align: top;\n",
              "    }\n",
              "\n",
              "    .dataframe thead th {\n",
              "        text-align: right;\n",
              "    }\n",
              "</style>\n",
              "<table border=\"1\" class=\"dataframe\">\n",
              "  <thead>\n",
              "    <tr style=\"text-align: right;\">\n",
              "      <th></th>\n",
              "      <th>Actual</th>\n",
              "      <th>Predicted</th>\n",
              "    </tr>\n",
              "  </thead>\n",
              "  <tbody>\n",
              "    <tr>\n",
              "      <th>0</th>\n",
              "      <td>happy</td>\n",
              "      <td>happy</td>\n",
              "    </tr>\n",
              "    <tr>\n",
              "      <th>1</th>\n",
              "      <td>sad</td>\n",
              "      <td>sad</td>\n",
              "    </tr>\n",
              "    <tr>\n",
              "      <th>2</th>\n",
              "      <td>fear</td>\n",
              "      <td>happy</td>\n",
              "    </tr>\n",
              "    <tr>\n",
              "      <th>3</th>\n",
              "      <td>sad</td>\n",
              "      <td>sad</td>\n",
              "    </tr>\n",
              "    <tr>\n",
              "      <th>4</th>\n",
              "      <td>sad</td>\n",
              "      <td>sad</td>\n",
              "    </tr>\n",
              "  </tbody>\n",
              "</table>\n",
              "</div>"
            ],
            "text/plain": [
              "  Actual Predicted\n",
              "0  happy     happy\n",
              "1    sad       sad\n",
              "2   fear     happy\n",
              "3    sad       sad\n",
              "4    sad       sad"
            ]
          },
          "metadata": {
            "tags": []
          },
          "execution_count": 22
        }
      ]
    },
    {
      "cell_type": "code",
      "metadata": {
        "trusted": true,
        "colab": {
          "base_uri": "https://localhost:8080/",
          "height": 725
        },
        "id": "V9dLGq3c7Try",
        "outputId": "3ec59948-17df-4808-a513-8103cbf9c280"
      },
      "source": [
        "cm = confusion_matrix(y_test, predictions)\n",
        "df_cm = pd.DataFrame(cm,\n",
        "                     index=observed_emotions,\n",
        "                     columns=observed_emotions)\n",
        "\n",
        "plt.figure(figsize=(10, 10))\n",
        "\n",
        "sns.set(font_scale=1)\n",
        "\n",
        "ax = sns.heatmap(df_cm, annot=True, square=True, fmt='d', linewidths=.2, cbar=0, cmap=plt.cm.Blues)\n",
        "ax.set_xticklabels(ax.get_xticklabels(), rotation=0)\n",
        "\n",
        "plt.ylabel('True labels')\n",
        "plt.xlabel('Predicted labels')\n",
        "plt.tight_layout()\n",
        "\n",
        "name = 'tempo_mel_MFCCs feature 61%.png'\n",
        "plt.savefig('/content/drive/MyDrive/Colab Notebooks/speech/dataset/cremad/Confusion matrix/lgbm Confusion matrix for ' + name)\n",
        "\n",
        "plt.show()"
      ],
      "execution_count": null,
      "outputs": [
        {
          "output_type": "display_data",
          "data": {
            "image/png": "[encoded data removed]",
            "text/plain": [
              "<Figure size 720x720 with 1 Axes>"
            ]
          },
          "metadata": {
            "tags": []
          }
        }
      ]
    },
    {
      "cell_type": "code",
      "metadata": {
        "trusted": true,
        "colab": {
          "base_uri": "https://localhost:8080/"
        },
        "id": "Vyc4zm7_7Try",
        "outputId": "519d48d6-19f3-4726-c8ef-0f1d4953719f"
      },
      "source": [
        "print(classification_report(y_test, predictions, target_names=observed_emotions))"
      ],
      "execution_count": null,
      "outputs": [
        {
          "output_type": "stream",
          "text": [
            "              precision    recall  f1-score   support\n",
            "\n",
            "       angry       0.69      0.76      0.72       309\n",
            "        fear       0.54      0.38      0.45       322\n",
            "       happy       0.55      0.60      0.57       331\n",
            "         sad       0.63      0.71      0.67       309\n",
            "\n",
            "    accuracy                           0.61      1271\n",
            "   macro avg       0.60      0.61      0.60      1271\n",
            "weighted avg       0.60      0.61      0.60      1271\n",
            "\n"
          ],
          "name": "stdout"
        }
      ]
    },
    {
      "cell_type": "code",
      "metadata": {
        "id": "JilHgoaPRSv-"
      },
      "source": [
        "import pickle\n",
        "\n",
        "filename = 'tempo_mel_mfcc_lgbm_0.61.sav'\n",
        "pickle.dump(lgb_model, open('/content/drive/MyDrive/Colab Notebooks/speech/dataset/cremad/Models/' + filename, 'wb'))\n",
        "loaded_model = pickle.load(open('/content/drive/MyDrive/Colab Notebooks/speech/dataset/cremad/Models/' + filename, 'rb'))"
      ],
      "execution_count": null,
      "outputs": []
    }
  ]
}