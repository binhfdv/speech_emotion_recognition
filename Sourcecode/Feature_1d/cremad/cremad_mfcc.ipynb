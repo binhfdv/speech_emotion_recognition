{
  "nbformat": 4,
  "nbformat_minor": 0,
  "metadata": {
    "colab": {
      "name": "cremad_mfcc.ipynb",
      "provenance": [],
      "collapsed_sections": [
        "WLB_d6YJ1RP1",
        "YzWvsB1Vzj9F"
      ]
    },
    "kernelspec": {
      "name": "python3",
      "display_name": "Python 3"
    },
    "language_info": {
      "name": "python"
    }
  },
  "cells": [
    {
      "cell_type": "markdown",
      "metadata": {
        "id": "iEndTFo9lQXa"
      },
      "source": [
        "12/06/2021"
      ]
    },
    {
      "cell_type": "markdown",
      "metadata": {
        "id": "hykoJ3USvgEY"
      },
      "source": [
        "## Load libraries"
      ]
    },
    {
      "cell_type": "code",
      "metadata": {
        "trusted": true,
        "id": "BtpNiUl7vgEa"
      },
      "source": [
        "import pandas as pd\n",
        "import numpy as np\n",
        "\n",
        "import os\n",
        "import sys\n",
        "\n",
        "from sklearn.neural_network import MLPClassifier\n",
        "\n",
        "import librosa\n",
        "import librosa.display\n",
        "import seaborn as sns\n",
        "import matplotlib.pyplot as plt\n",
        "\n",
        "# to play the audio files\n",
        "from IPython.display import Audio\n",
        "\n",
        "from sklearn.preprocessing import StandardScaler\n",
        "from sklearn.model_selection import train_test_split\n",
        "from sklearn.metrics import confusion_matrix\n",
        "from sklearn.metrics import classification_report\n",
        "\n",
        "import lightgbm as lgb\n",
        "\n",
        "import warnings\n",
        "if not sys.warnoptions:\n",
        "    warnings.simplefilter(\"ignore\")\n",
        "warnings.filterwarnings(\"ignore\", category=DeprecationWarning)"
      ],
      "execution_count": null,
      "outputs": []
    },
    {
      "cell_type": "markdown",
      "metadata": {
        "id": "JFURsK6wvgEc"
      },
      "source": [
        "## Load and set data paths"
      ]
    },
    {
      "cell_type": "code",
      "metadata": {
        "trusted": true,
        "id": "_MlgXnLzvgEc"
      },
      "source": [
        "Crema = \"/content/drive/MyDrive/Colab Notebooks/speech/dataset/cremad/AudioWAV/\""
      ],
      "execution_count": null,
      "outputs": []
    },
    {
      "cell_type": "code",
      "metadata": {
        "trusted": true,
        "colab": {
          "base_uri": "https://localhost:8080/",
          "height": 195
        },
        "id": "vRtOq4iLvgEd",
        "outputId": "67f11b77-016d-41d6-9b07-f56ef3935360"
      },
      "source": [
        "crema_directory_list = os.listdir(Crema)\n",
        "\n",
        "file_emotion = []\n",
        "file_path = []\n",
        "\n",
        "for file in crema_directory_list:\n",
        "    # storing file paths\n",
        "    file_path.append(Crema + file)\n",
        "    # storing file emotions\n",
        "    part=file.split('_')\n",
        "    if part[2] == 'SAD':\n",
        "        file_emotion.append('sad')\n",
        "    elif part[2] == 'ANG':\n",
        "        file_emotion.append('angry')\n",
        "    elif part[2] == 'DIS':\n",
        "        file_emotion.append('disgust')\n",
        "    elif part[2] == 'FEA':\n",
        "        file_emotion.append('fear')\n",
        "    elif part[2] == 'HAP':\n",
        "        file_emotion.append('happy')\n",
        "    elif part[2] == 'NEU':\n",
        "        file_emotion.append('neutral')\n",
        "    else:\n",
        "        file_emotion.append('Unknown')\n",
        "        \n",
        "# dataframe for emotion of files\n",
        "emotion_df = pd.DataFrame(file_emotion, columns=['Emotions'])\n",
        "\n",
        "# dataframe for path of files.\n",
        "path_df = pd.DataFrame(file_path, columns=['Path'])\n",
        "Crema_df = pd.concat([emotion_df, path_df], axis=1)\n",
        "Crema_df.head()\n"
      ],
      "execution_count": null,
      "outputs": [
        {
          "output_type": "execute_result",
          "data": {
            "text/html": [
              "<div>\n",
              "<style scoped>\n",
              "    .dataframe tbody tr th:only-of-type {\n",
              "        vertical-align: middle;\n",
              "    }\n",
              "\n",
              "    .dataframe tbody tr th {\n",
              "        vertical-align: top;\n",
              "    }\n",
              "\n",
              "    .dataframe thead th {\n",
              "        text-align: right;\n",
              "    }\n",
              "</style>\n",
              "<table border=\"1\" class=\"dataframe\">\n",
              "  <thead>\n",
              "    <tr style=\"text-align: right;\">\n",
              "      <th></th>\n",
              "      <th>Emotions</th>\n",
              "      <th>Path</th>\n",
              "    </tr>\n",
              "  </thead>\n",
              "  <tbody>\n",
              "    <tr>\n",
              "      <th>0</th>\n",
              "      <td>happy</td>\n",
              "      <td>/content/drive/MyDrive/Colab Notebooks/speech/...</td>\n",
              "    </tr>\n",
              "    <tr>\n",
              "      <th>1</th>\n",
              "      <td>happy</td>\n",
              "      <td>/content/drive/MyDrive/Colab Notebooks/speech/...</td>\n",
              "    </tr>\n",
              "    <tr>\n",
              "      <th>2</th>\n",
              "      <td>fear</td>\n",
              "      <td>/content/drive/MyDrive/Colab Notebooks/speech/...</td>\n",
              "    </tr>\n",
              "    <tr>\n",
              "      <th>3</th>\n",
              "      <td>fear</td>\n",
              "      <td>/content/drive/MyDrive/Colab Notebooks/speech/...</td>\n",
              "    </tr>\n",
              "    <tr>\n",
              "      <th>4</th>\n",
              "      <td>disgust</td>\n",
              "      <td>/content/drive/MyDrive/Colab Notebooks/speech/...</td>\n",
              "    </tr>\n",
              "  </tbody>\n",
              "</table>\n",
              "</div>"
            ],
            "text/plain": [
              "  Emotions                                               Path\n",
              "0    happy  /content/drive/MyDrive/Colab Notebooks/speech/...\n",
              "1    happy  /content/drive/MyDrive/Colab Notebooks/speech/...\n",
              "2     fear  /content/drive/MyDrive/Colab Notebooks/speech/...\n",
              "3     fear  /content/drive/MyDrive/Colab Notebooks/speech/...\n",
              "4  disgust  /content/drive/MyDrive/Colab Notebooks/speech/..."
            ]
          },
          "metadata": {
            "tags": []
          },
          "execution_count": 53
        }
      ]
    },
    {
      "cell_type": "code",
      "metadata": {
        "id": "210GK6yolyl-"
      },
      "source": [
        "Cremad_df = pd.read_csv('/content/drive/MyDrive/Colab Notebooks/speech/dataset/cremad/emotion_path.csv')"
      ],
      "execution_count": null,
      "outputs": []
    },
    {
      "cell_type": "code",
      "metadata": {
        "trusted": true,
        "colab": {
          "base_uri": "https://localhost:8080/",
          "height": 355
        },
        "id": "MTt2yuQdvgEf",
        "outputId": "82d003d3-4c8c-45b7-bbc9-afa2cbdb0d6c"
      },
      "source": [
        "plt.title('Count of Emotions', size=16)\n",
        "sns.countplot(Cremad_df.Emotions)\n",
        "plt.ylabel('Count', size=12)\n",
        "plt.xlabel('Emotions', size=12)\n",
        "sns.despine(top=True, right=True, left=False, bottom=False)\n",
        "plt.show()"
      ],
      "execution_count": null,
      "outputs": [
        {
          "output_type": "stream",
          "text": [
            "/usr/local/lib/python3.7/dist-packages/seaborn/_decorators.py:43: FutureWarning: Pass the following variable as a keyword arg: x. From version 0.12, the only valid positional argument will be `data`, and passing other arguments without an explicit keyword will result in an error or misinterpretation.\n",
            "  FutureWarning\n"
          ],
          "name": "stderr"
        },
        {
          "output_type": "display_data",
          "data": {
            "image/png": "[encoded data removed]",
            "text/plain": [
              "<Figure size 432x288 with 1 Axes>"
            ]
          },
          "metadata": {
            "tags": [],
            "needs_background": "light"
          }
        }
      ]
    },
    {
      "cell_type": "code",
      "metadata": {
        "id": "v4qRYEkvoTiI",
        "colab": {
          "base_uri": "https://localhost:8080/",
          "height": 279
        },
        "outputId": "0a7472a2-8c43-44ae-d2ae-ca57bd9c06e1"
      },
      "source": [
        "y, sr = librosa.load(Cremad_df.Path[1])\n",
        "\n",
        "spec = np.abs(librosa.stft(y, hop_length=512))\n",
        "spec = librosa.amplitude_to_db(spec, ref=np.max)\n",
        "librosa.display.specshow(spec, sr=sr, x_axis='time', y_axis='log');\n",
        "plt.colorbar(format='%+2.0f dB');\n",
        "# plt.title('Spectrogram');"
      ],
      "execution_count": null,
      "outputs": [
        {
          "output_type": "display_data",
          "data": {
            "image/png": "[encoded data removed]",
            "text/plain": [
              "<Figure size 432x288 with 2 Axes>"
            ]
          },
          "metadata": {
            "tags": [],
            "needs_background": "light"
          }
        }
      ]
    },
    {
      "cell_type": "code",
      "metadata": {
        "id": "eyWtka19tlPP",
        "colab": {
          "base_uri": "https://localhost:8080/",
          "height": 297
        },
        "outputId": "a89e7328-618d-40f8-bc62-b7440142f1e1"
      },
      "source": [
        "# Let's make and display a mel-scaled power (energy-squared) spectrogram\n",
        "S = librosa.feature.tempogram(y, sr=sr)\n",
        "\n",
        "# Convert to log scale (dB). We'll use the peak power as reference.\n",
        "log_S = librosa.amplitude_to_db(S, ref=np.max)\n",
        "\n",
        "# Make a new figure\n",
        "# plt.figure(figsize=(12,4))\n",
        "\n",
        "# Display the spectrogram on a mel scale\n",
        "# sample rate and hop length parameters are used to render the time axis\n",
        "librosa.display.specshow(log_S, sr=sr, x_axis='time', y_axis='mel')\n",
        "\n",
        "# Put a descriptive title on the plot\n",
        "# plt.title('mel power spectrogram')\n",
        "\n",
        "# draw a color bar\n",
        "plt.colorbar(format='%+02.0f dB')\n",
        "# plt.ylabel('Mel')\n",
        "# Make the figure layout compact\n",
        "plt.tight_layout()"
      ],
      "execution_count": null,
      "outputs": [
        {
          "output_type": "display_data",
          "data": {
            "image/png": "[encoded data removed]",
            "text/plain": [
              "<Figure size 432x288 with 2 Axes>"
            ]
          },
          "metadata": {
            "tags": [],
            "needs_background": "light"
          }
        }
      ]
    },
    {
      "cell_type": "code",
      "metadata": {
        "id": "b9o-3ttgIltP"
      },
      "source": [
        "import matplotlib.pyplot as plt\n",
        "\n",
        "\n",
        "hop_length = 512\n",
        "\n",
        "oenv = librosa.onset.onset_strength(y=y, sr=sr, hop_length=hop_length)\n",
        "\n",
        "tempogram = librosa.feature.tempogram(onset_envelope=oenv, sr=sr,\n",
        "\n",
        "                                      hop_length=hop_length)\n",
        "\n",
        "# Estimate the global tempo for display purposes\n",
        "\n",
        "tempo = librosa.beat.tempo(onset_envelope=oenv, sr=sr,\n",
        "\n",
        "                           hop_length=hop_length)[0]\n",
        "\n",
        "\n",
        "\n",
        "plt.figure(figsize=(10, 10))\n",
        "\n",
        "freqs = librosa.tempo_frequencies(tempogram.shape[0], hop_length=hop_length, sr=sr)\n",
        "\n",
        "plt.semilogx(freqs[1:], np.mean(tempogram[1:], axis=1), label='Mean local autocorrelation', basex=2)\n",
        "\n",
        "plt.semilogx(freqs[1:], ac_global[1:], '--', alpha=0.75, label='Global autocorrelation', basex=2)\n",
        "\n",
        "plt.axvline(tempo, color='black', linestyle='--', alpha=.8, label='Estimated tempo={:g}'.format(tempo))\n",
        "\n",
        "plt.set(xlabel='BPM')\n"
      ],
      "execution_count": null,
      "outputs": []
    },
    {
      "cell_type": "code",
      "metadata": {
        "id": "34gEnuIhtGWS"
      },
      "source": [
        "import math\n",
        "def freqToMel(f):\n",
        "    return 1127 * math.log(1 + (f/700))\n",
        "\n",
        "sns.set(color_codes=True)\n",
        "\n",
        "# Vectorize function to apply to numpy arrays\n",
        "freqToMelv = np.vectorize(freqToMel)\n",
        "\n",
        "# Observing 0 to 10,000 Hz\n",
        "Hz = np.linspace(0, 1e4) \n",
        "# Now we just apply the vectorized function to the Hz variable\n",
        "Mel = freqToMelv(Hz) \n",
        "\n",
        "# Plotting the figure:\n",
        "fig, ax = plt.subplots(figsize = (20,10))\n",
        "ax.plot(Hz, Mel, color='red')\n",
        "# plt.title('Hertz to Mel')\n",
        "plt.xlabel('Hertz Scale')\n",
        "plt.ylabel('Mel Scale')\n",
        "plt.show()"
      ],
      "execution_count": null,
      "outputs": []
    },
    {
      "cell_type": "code",
      "metadata": {
        "id": "E89cUdFGPfgF"
      },
      "source": [
        ""
      ],
      "execution_count": null,
      "outputs": []
    },
    {
      "cell_type": "markdown",
      "metadata": {
        "id": "TaaBzvfwvuvG"
      },
      "source": [
        "## Feature Extraction"
      ]
    },
    {
      "cell_type": "code",
      "metadata": {
        "id": "U57ILIA-5R_G"
      },
      "source": [
        "observed_emotions=sorted(['fear', 'happy', 'sad', 'angry'])"
      ],
      "execution_count": null,
      "outputs": []
    },
    {
      "cell_type": "code",
      "metadata": {
        "colab": {
          "base_uri": "https://localhost:8080/"
        },
        "id": "EKhreSnIAGDO",
        "outputId": "34c25c59-955c-4f5b-c8c9-419bbaa7fab9"
      },
      "source": [
        "observed_emotions"
      ],
      "execution_count": null,
      "outputs": [
        {
          "output_type": "execute_result",
          "data": {
            "text/plain": [
              "['angry', 'fear', 'happy', 'sad']"
            ]
          },
          "metadata": {
            "tags": []
          },
          "execution_count": 3
        }
      ]
    },
    {
      "cell_type": "code",
      "metadata": {
        "id": "U6u8B3_WxOYW"
      },
      "source": [
        "num_mfcc=13"
      ],
      "execution_count": null,
      "outputs": []
    },
    {
      "cell_type": "code",
      "metadata": {
        "id": "infnX33Pun_H"
      },
      "source": [
        "def extract_feature(path, mfcc, chroma, mel, tempo):\n",
        "  data, sample_rate = librosa.load(path, res_type='kaiser_fast')\n",
        "  if chroma:\n",
        "    stft = np.abs(librosa.stft(data))\n",
        "\n",
        "  result=np.array([])\n",
        "  if mfcc:\n",
        "    mfccs=np.mean(librosa.feature.mfcc(y=data, sr=sample_rate, n_mfcc=num_mfcc).T, axis=0)\n",
        "    result=np.hstack((result, mfccs))\n",
        "  if chroma:\n",
        "    chroma=np.mean(librosa.feature.chroma_stft(S=stft, sr=sample_rate).T, axis=0)\n",
        "    result=np.hstack((result, chroma))\n",
        "  if mel:\n",
        "    mel=np.mean(librosa.feature.melspectrogram(y=data, sr=sample_rate).T, axis=0)\n",
        "    result=np.hstack((result, mel))\n",
        "  if tempo:\n",
        "    tempo=np.mean(librosa.feature.tempogram(y=data, sr=sample_rate).T, axis=0)\n",
        "    result=np.hstack((result, tempo))\n",
        "\n",
        "  return result"
      ],
      "execution_count": null,
      "outputs": []
    },
    {
      "cell_type": "code",
      "metadata": {
        "id": "pVfPdjo0v0e3"
      },
      "source": [
        "X, Y = [], []\n",
        "for path, emotion in zip(Cremad_df.Path, Cremad_df.Emotions):\n",
        "  if emotion not in observed_emotions:\n",
        "    continue\n",
        "  feature = extract_feature(path, mfcc=True, chroma=False, mel=False, tempo=False)\n",
        "  X.append(feature)\n",
        "  Y.append(emotion)"
      ],
      "execution_count": null,
      "outputs": []
    },
    {
      "cell_type": "code",
      "metadata": {
        "colab": {
          "base_uri": "https://localhost:8080/"
        },
        "id": "YsB1bQiT0rKO",
        "outputId": "57a241be-dcaa-4dd1-bbe2-c6d61123b025"
      },
      "source": [
        "len(X), len(Y), Cremad_df.Path.shape"
      ],
      "execution_count": null,
      "outputs": [
        {
          "output_type": "execute_result",
          "data": {
            "text/plain": [
              "(5084, 5084, (7442,))"
            ]
          },
          "metadata": {
            "tags": []
          },
          "execution_count": 9
        }
      ]
    },
    {
      "cell_type": "code",
      "metadata": {
        "colab": {
          "base_uri": "https://localhost:8080/",
          "height": 204
        },
        "id": "fPPk7LZn0s5F",
        "outputId": "eae45fe0-9d41-4eb5-f090-2970a80e1a4c"
      },
      "source": [
        "Features = pd.DataFrame(X)\n",
        "Features['labels'] = Y\n",
        "Features.to_csv('/content/drive/MyDrive/Colab Notebooks/speech/dataset/cremad/mfcc_features.csv', index=0)\n",
        "Features.head()"
      ],
      "execution_count": null,
      "outputs": [
        {
          "output_type": "execute_result",
          "data": {
            "text/html": [
              "<div>\n",
              "<style scoped>\n",
              "    .dataframe tbody tr th:only-of-type {\n",
              "        vertical-align: middle;\n",
              "    }\n",
              "\n",
              "    .dataframe tbody tr th {\n",
              "        vertical-align: top;\n",
              "    }\n",
              "\n",
              "    .dataframe thead th {\n",
              "        text-align: right;\n",
              "    }\n",
              "</style>\n",
              "<table border=\"1\" class=\"dataframe\">\n",
              "  <thead>\n",
              "    <tr style=\"text-align: right;\">\n",
              "      <th></th>\n",
              "      <th>0</th>\n",
              "      <th>1</th>\n",
              "      <th>2</th>\n",
              "      <th>3</th>\n",
              "      <th>4</th>\n",
              "      <th>5</th>\n",
              "      <th>6</th>\n",
              "      <th>7</th>\n",
              "      <th>8</th>\n",
              "      <th>9</th>\n",
              "      <th>10</th>\n",
              "      <th>11</th>\n",
              "      <th>12</th>\n",
              "      <th>labels</th>\n",
              "    </tr>\n",
              "  </thead>\n",
              "  <tbody>\n",
              "    <tr>\n",
              "      <th>0</th>\n",
              "      <td>-280.915771</td>\n",
              "      <td>125.564018</td>\n",
              "      <td>-35.642487</td>\n",
              "      <td>45.787804</td>\n",
              "      <td>-9.935361</td>\n",
              "      <td>-0.458149</td>\n",
              "      <td>-10.096604</td>\n",
              "      <td>-0.426013</td>\n",
              "      <td>-6.722947</td>\n",
              "      <td>-10.800340</td>\n",
              "      <td>-4.483980</td>\n",
              "      <td>-7.101759</td>\n",
              "      <td>3.508987</td>\n",
              "      <td>happy</td>\n",
              "    </tr>\n",
              "    <tr>\n",
              "      <th>1</th>\n",
              "      <td>-377.730316</td>\n",
              "      <td>130.970230</td>\n",
              "      <td>2.853457</td>\n",
              "      <td>51.555561</td>\n",
              "      <td>-4.687920</td>\n",
              "      <td>10.874235</td>\n",
              "      <td>-8.077134</td>\n",
              "      <td>3.292286</td>\n",
              "      <td>-2.531496</td>\n",
              "      <td>-7.155380</td>\n",
              "      <td>1.242159</td>\n",
              "      <td>-10.199104</td>\n",
              "      <td>5.563872</td>\n",
              "      <td>happy</td>\n",
              "    </tr>\n",
              "    <tr>\n",
              "      <th>2</th>\n",
              "      <td>-356.825714</td>\n",
              "      <td>113.999687</td>\n",
              "      <td>-1.828079</td>\n",
              "      <td>51.858688</td>\n",
              "      <td>-3.392728</td>\n",
              "      <td>9.581902</td>\n",
              "      <td>-6.143320</td>\n",
              "      <td>3.148576</td>\n",
              "      <td>0.108095</td>\n",
              "      <td>-6.390064</td>\n",
              "      <td>1.137395</td>\n",
              "      <td>-4.820139</td>\n",
              "      <td>4.460493</td>\n",
              "      <td>fear</td>\n",
              "    </tr>\n",
              "    <tr>\n",
              "      <th>3</th>\n",
              "      <td>-291.695740</td>\n",
              "      <td>88.363419</td>\n",
              "      <td>-9.635429</td>\n",
              "      <td>38.268269</td>\n",
              "      <td>-17.064079</td>\n",
              "      <td>3.188533</td>\n",
              "      <td>-3.459729</td>\n",
              "      <td>-7.425086</td>\n",
              "      <td>-8.699226</td>\n",
              "      <td>-0.032571</td>\n",
              "      <td>2.032035</td>\n",
              "      <td>9.832491</td>\n",
              "      <td>28.486004</td>\n",
              "      <td>fear</td>\n",
              "    </tr>\n",
              "    <tr>\n",
              "      <th>4</th>\n",
              "      <td>-374.901093</td>\n",
              "      <td>114.742386</td>\n",
              "      <td>2.530241</td>\n",
              "      <td>55.980183</td>\n",
              "      <td>-11.016656</td>\n",
              "      <td>10.856853</td>\n",
              "      <td>-13.590827</td>\n",
              "      <td>4.862565</td>\n",
              "      <td>-5.731351</td>\n",
              "      <td>-1.796219</td>\n",
              "      <td>1.446170</td>\n",
              "      <td>-5.829667</td>\n",
              "      <td>13.000159</td>\n",
              "      <td>happy</td>\n",
              "    </tr>\n",
              "  </tbody>\n",
              "</table>\n",
              "</div>"
            ],
            "text/plain": [
              "            0           1          2  ...         11         12  labels\n",
              "0 -280.915771  125.564018 -35.642487  ...  -7.101759   3.508987   happy\n",
              "1 -377.730316  130.970230   2.853457  ... -10.199104   5.563872   happy\n",
              "2 -356.825714  113.999687  -1.828079  ...  -4.820139   4.460493    fear\n",
              "3 -291.695740   88.363419  -9.635429  ...   9.832491  28.486004    fear\n",
              "4 -374.901093  114.742386   2.530241  ...  -5.829667  13.000159   happy\n",
              "\n",
              "[5 rows x 14 columns]"
            ]
          },
          "metadata": {
            "tags": []
          },
          "execution_count": 10
        }
      ]
    },
    {
      "cell_type": "markdown",
      "metadata": {
        "id": "hgOh4IkmvgEp"
      },
      "source": [
        "## Data Preparation"
      ]
    },
    {
      "cell_type": "code",
      "metadata": {
        "trusted": true,
        "colab": {
          "base_uri": "https://localhost:8080/",
          "height": 204
        },
        "id": "U99crUcUvgEq",
        "outputId": "ebf5b0e0-c828-42a6-a455-7e41dc7b4534"
      },
      "source": [
        "dataset = pd.read_csv('/content/drive/MyDrive/Colab Notebooks/speech/dataset/cremad/mfcc_features.csv')\n",
        "dataset.head()"
      ],
      "execution_count": null,
      "outputs": [
        {
          "output_type": "execute_result",
          "data": {
            "text/html": [
              "<div>\n",
              "<style scoped>\n",
              "    .dataframe tbody tr th:only-of-type {\n",
              "        vertical-align: middle;\n",
              "    }\n",
              "\n",
              "    .dataframe tbody tr th {\n",
              "        vertical-align: top;\n",
              "    }\n",
              "\n",
              "    .dataframe thead th {\n",
              "        text-align: right;\n",
              "    }\n",
              "</style>\n",
              "<table border=\"1\" class=\"dataframe\">\n",
              "  <thead>\n",
              "    <tr style=\"text-align: right;\">\n",
              "      <th></th>\n",
              "      <th>0</th>\n",
              "      <th>1</th>\n",
              "      <th>2</th>\n",
              "      <th>3</th>\n",
              "      <th>4</th>\n",
              "      <th>5</th>\n",
              "      <th>6</th>\n",
              "      <th>7</th>\n",
              "      <th>8</th>\n",
              "      <th>9</th>\n",
              "      <th>10</th>\n",
              "      <th>11</th>\n",
              "      <th>12</th>\n",
              "      <th>labels</th>\n",
              "    </tr>\n",
              "  </thead>\n",
              "  <tbody>\n",
              "    <tr>\n",
              "      <th>0</th>\n",
              "      <td>-280.915771</td>\n",
              "      <td>125.564018</td>\n",
              "      <td>-35.642487</td>\n",
              "      <td>45.787804</td>\n",
              "      <td>-9.935361</td>\n",
              "      <td>-0.458149</td>\n",
              "      <td>-10.096604</td>\n",
              "      <td>-0.426013</td>\n",
              "      <td>-6.722947</td>\n",
              "      <td>-10.800340</td>\n",
              "      <td>-4.483980</td>\n",
              "      <td>-7.101759</td>\n",
              "      <td>3.508987</td>\n",
              "      <td>happy</td>\n",
              "    </tr>\n",
              "    <tr>\n",
              "      <th>1</th>\n",
              "      <td>-377.730316</td>\n",
              "      <td>130.970230</td>\n",
              "      <td>2.853457</td>\n",
              "      <td>51.555561</td>\n",
              "      <td>-4.687920</td>\n",
              "      <td>10.874235</td>\n",
              "      <td>-8.077134</td>\n",
              "      <td>3.292286</td>\n",
              "      <td>-2.531496</td>\n",
              "      <td>-7.155380</td>\n",
              "      <td>1.242159</td>\n",
              "      <td>-10.199104</td>\n",
              "      <td>5.563872</td>\n",
              "      <td>happy</td>\n",
              "    </tr>\n",
              "    <tr>\n",
              "      <th>2</th>\n",
              "      <td>-356.825714</td>\n",
              "      <td>113.999687</td>\n",
              "      <td>-1.828079</td>\n",
              "      <td>51.858688</td>\n",
              "      <td>-3.392728</td>\n",
              "      <td>9.581902</td>\n",
              "      <td>-6.143320</td>\n",
              "      <td>3.148576</td>\n",
              "      <td>0.108095</td>\n",
              "      <td>-6.390064</td>\n",
              "      <td>1.137395</td>\n",
              "      <td>-4.820139</td>\n",
              "      <td>4.460493</td>\n",
              "      <td>fear</td>\n",
              "    </tr>\n",
              "    <tr>\n",
              "      <th>3</th>\n",
              "      <td>-291.695740</td>\n",
              "      <td>88.363419</td>\n",
              "      <td>-9.635429</td>\n",
              "      <td>38.268269</td>\n",
              "      <td>-17.064079</td>\n",
              "      <td>3.188533</td>\n",
              "      <td>-3.459729</td>\n",
              "      <td>-7.425086</td>\n",
              "      <td>-8.699226</td>\n",
              "      <td>-0.032571</td>\n",
              "      <td>2.032035</td>\n",
              "      <td>9.832491</td>\n",
              "      <td>28.486004</td>\n",
              "      <td>fear</td>\n",
              "    </tr>\n",
              "    <tr>\n",
              "      <th>4</th>\n",
              "      <td>-374.901093</td>\n",
              "      <td>114.742386</td>\n",
              "      <td>2.530241</td>\n",
              "      <td>55.980183</td>\n",
              "      <td>-11.016656</td>\n",
              "      <td>10.856853</td>\n",
              "      <td>-13.590827</td>\n",
              "      <td>4.862565</td>\n",
              "      <td>-5.731351</td>\n",
              "      <td>-1.796219</td>\n",
              "      <td>1.446170</td>\n",
              "      <td>-5.829667</td>\n",
              "      <td>13.000159</td>\n",
              "      <td>happy</td>\n",
              "    </tr>\n",
              "  </tbody>\n",
              "</table>\n",
              "</div>"
            ],
            "text/plain": [
              "            0           1          2  ...         11         12  labels\n",
              "0 -280.915771  125.564018 -35.642487  ...  -7.101759   3.508987   happy\n",
              "1 -377.730316  130.970230   2.853457  ... -10.199104   5.563872   happy\n",
              "2 -356.825714  113.999687  -1.828079  ...  -4.820139   4.460493    fear\n",
              "3 -291.695740   88.363419  -9.635429  ...   9.832491  28.486004    fear\n",
              "4 -374.901093  114.742386   2.530241  ...  -5.829667  13.000159   happy\n",
              "\n",
              "[5 rows x 14 columns]"
            ]
          },
          "metadata": {
            "tags": []
          },
          "execution_count": 7
        }
      ]
    },
    {
      "cell_type": "code",
      "metadata": {
        "id": "4D2myJ17_d3q",
        "colab": {
          "base_uri": "https://localhost:8080/"
        },
        "outputId": "4636c4cf-02a2-499b-d66a-723ccbc7cb3a"
      },
      "source": [
        "dataset.labels.value_counts()"
      ],
      "execution_count": null,
      "outputs": [
        {
          "output_type": "execute_result",
          "data": {
            "text/plain": [
              "fear     1271\n",
              "angry    1271\n",
              "sad      1271\n",
              "happy    1271\n",
              "Name: labels, dtype: int64"
            ]
          },
          "metadata": {
            "tags": []
          },
          "execution_count": 8
        }
      ]
    },
    {
      "cell_type": "markdown",
      "metadata": {
        "id": "IDFEVF570_rl"
      },
      "source": [
        "## Modeling"
      ]
    },
    {
      "cell_type": "markdown",
      "metadata": {
        "id": "WLB_d6YJ1RP1"
      },
      "source": [
        "### MLPClassifier"
      ]
    },
    {
      "cell_type": "code",
      "metadata": {
        "trusted": true,
        "id": "RmyGeJT8vgEr"
      },
      "source": [
        "X = dataset.iloc[:, :-1].values\n",
        "Y = dataset.iloc[:, -1].values"
      ],
      "execution_count": null,
      "outputs": []
    },
    {
      "cell_type": "code",
      "metadata": {
        "id": "cUN614nz1gNZ"
      },
      "source": [
        "x_train, x_test, y_train, y_test = train_test_split(np.array(X), Y, test_size = 0.25, random_state = 9)"
      ],
      "execution_count": null,
      "outputs": []
    },
    {
      "cell_type": "code",
      "metadata": {
        "colab": {
          "base_uri": "https://localhost:8080/"
        },
        "id": "FEi7lWlztAEE",
        "outputId": "067aab6b-8802-4eb1-84f8-425d5a8b34d1"
      },
      "source": [
        "x_train.shape"
      ],
      "execution_count": null,
      "outputs": [
        {
          "output_type": "execute_result",
          "data": {
            "text/plain": [
              "(3813, 13)"
            ]
          },
          "metadata": {
            "tags": []
          },
          "execution_count": 8
        }
      ]
    },
    {
      "cell_type": "code",
      "metadata": {
        "id": "CIqhkZMuOI0l"
      },
      "source": [
        "model=MLPClassifier(alpha=0.01, batch_size=256, epsilon=1e-08, hidden_layer_sizes=(300,), learning_rate='adaptive', max_iter=500)"
      ],
      "execution_count": null,
      "outputs": []
    },
    {
      "cell_type": "code",
      "metadata": {
        "id": "_FilJ0CqmQq5",
        "colab": {
          "base_uri": "https://localhost:8080/"
        },
        "outputId": "7b076b53-4383-4042-ed1e-81312c39c2f0"
      },
      "source": [
        "model.fit(x_train, y_train)"
      ],
      "execution_count": null,
      "outputs": [
        {
          "output_type": "execute_result",
          "data": {
            "text/plain": [
              "MLPClassifier(activation='relu', alpha=0.01, batch_size=256, beta_1=0.9,\n",
              "              beta_2=0.999, early_stopping=False, epsilon=1e-08,\n",
              "              hidden_layer_sizes=(300,), learning_rate='adaptive',\n",
              "              learning_rate_init=0.001, max_fun=15000, max_iter=500,\n",
              "              momentum=0.9, n_iter_no_change=10, nesterovs_momentum=True,\n",
              "              power_t=0.5, random_state=None, shuffle=True, solver='adam',\n",
              "              tol=0.0001, validation_fraction=0.1, verbose=False,\n",
              "              warm_start=False)"
            ]
          },
          "metadata": {
            "tags": []
          },
          "execution_count": 10
        }
      ]
    },
    {
      "cell_type": "markdown",
      "metadata": {
        "id": "YzWvsB1Vzj9F"
      },
      "source": [
        "### LightGBM"
      ]
    },
    {
      "cell_type": "code",
      "metadata": {
        "id": "vgY7MCwwJweQ"
      },
      "source": [
        "data = dataset.copy()\n",
        "data.labels = data.labels.map({'angry':0, 'fear':1, 'happy':2, 'sad':3})"
      ],
      "execution_count": null,
      "outputs": []
    },
    {
      "cell_type": "code",
      "metadata": {
        "colab": {
          "base_uri": "https://localhost:8080/"
        },
        "id": "OJmWtCAxNIxc",
        "outputId": "d6bd3916-7203-4357-db4c-0e5265b61790"
      },
      "source": [
        "data.labels.value_counts()"
      ],
      "execution_count": null,
      "outputs": [
        {
          "output_type": "execute_result",
          "data": {
            "text/plain": [
              "3    1271\n",
              "2    1271\n",
              "1    1271\n",
              "0    1271\n",
              "Name: labels, dtype: int64"
            ]
          },
          "metadata": {
            "tags": []
          },
          "execution_count": 14
        }
      ]
    },
    {
      "cell_type": "code",
      "metadata": {
        "id": "duKnnoH1J2X3"
      },
      "source": [
        "X = data.iloc[:, :-1].values\n",
        "Y = data.iloc[:, -1].values"
      ],
      "execution_count": null,
      "outputs": []
    },
    {
      "cell_type": "code",
      "metadata": {
        "trusted": true,
        "id": "a32K62e-vgEr"
      },
      "source": [
        "x_train, x_test, y_train, y_test = train_test_split(X, Y, test_size = 0.25, random_state = 0)\n",
        "x_train, x_valid, y_train, y_valid = train_test_split(x_train, y_train, test_size=0.1, random_state=0)\n",
        "\n",
        "sc = StandardScaler()\n",
        "x_train = sc.fit_transform(x_train)\n",
        "x_test = sc.transform(x_test)\n",
        "x_valid = sc.transform(x_valid)"
      ],
      "execution_count": null,
      "outputs": []
    },
    {
      "cell_type": "code",
      "metadata": {
        "trusted": true,
        "id": "Zoa4feXDvgEs"
      },
      "source": [
        "NUM_CLASS = 4\n",
        "\n",
        "params = {}\n",
        "params['learning_rate'] = 0.01\n",
        "params['boosting_type'] = 'gbdt'\n",
        "params['objective'] = 'multiclass'\n",
        "params['metric'] = 'multi_logloss'\n",
        "params['num_leaves'] = 100\n",
        "params['min_data'] = 100\n",
        "params['max_depth'] = 50\n",
        "params['num_class'] = NUM_CLASS\n",
        "params['max_bin'] = 150 # small max_bin causes faster speed and large value improves accuracy\n",
        "params['bagging_freq'] = 100\n",
        "params['feature_fraction'] = 0.6 # deal with column\n",
        "params['bagging_fraction'] = 0.6\n",
        "# params['device'] = 'gpu'\n",
        "#params['num_iterations'] = 1000\n",
        "#params['early_stopping_rounds'] = 100# the rule of thumb is to have it at 10% of your num_iterations"
      ],
      "execution_count": null,
      "outputs": []
    },
    {
      "cell_type": "code",
      "metadata": {
        "trusted": true,
        "colab": {
          "base_uri": "https://localhost:8080/"
        },
        "id": "6Fdn0eNsvgEt",
        "outputId": "74e1ac46-bdac-4228-d06c-7b795b270034"
      },
      "source": [
        "x_test.shape"
      ],
      "execution_count": null,
      "outputs": [
        {
          "output_type": "execute_result",
          "data": {
            "text/plain": [
              "(1271, 13)"
            ]
          },
          "metadata": {
            "tags": []
          },
          "execution_count": 18
        }
      ]
    },
    {
      "cell_type": "code",
      "metadata": {
        "id": "tdDGlZ8n44Ez"
      },
      "source": [
        "import lightgbm as lgb"
      ],
      "execution_count": null,
      "outputs": []
    },
    {
      "cell_type": "code",
      "metadata": {
        "id": "KC3etxXzyhS8",
        "colab": {
          "base_uri": "https://localhost:8080/"
        },
        "outputId": "f88fd604-ff72-4e73-d81b-bfa3f7362645"
      },
      "source": [
        "dtrain = lgb.Dataset(x_train, y_train)\n",
        "dvalid = lgb.Dataset(x_valid, y_valid)\n",
        "lgb_model = lgb.train(params, \n",
        "                          dtrain, \n",
        "                          num_boost_round=10000,\n",
        "                          early_stopping_rounds=1000,\n",
        "                          valid_sets=(dtrain, dvalid), \n",
        "                          valid_names=('train','valid'),\n",
        "                          verbose_eval = 100)"
      ],
      "execution_count": null,
      "outputs": [
        {
          "output_type": "stream",
          "text": [
            "Training until validation scores don't improve for 1000 rounds.\n",
            "[100]\ttrain's multi_logloss: 1.1099\tvalid's multi_logloss: 1.13177\n",
            "[200]\ttrain's multi_logloss: 0.992029\tvalid's multi_logloss: 1.04143\n",
            "[300]\ttrain's multi_logloss: 0.926211\tvalid's multi_logloss: 1.00023\n",
            "[400]\ttrain's multi_logloss: 0.879848\tvalid's multi_logloss: 0.987356\n",
            "[500]\ttrain's multi_logloss: 0.84418\tvalid's multi_logloss: 0.979515\n",
            "[600]\ttrain's multi_logloss: 0.813811\tvalid's multi_logloss: 0.967536\n",
            "[700]\ttrain's multi_logloss: 0.788554\tvalid's multi_logloss: 0.964316\n",
            "[800]\ttrain's multi_logloss: 0.763741\tvalid's multi_logloss: 0.963446\n",
            "[900]\ttrain's multi_logloss: 0.741031\tvalid's multi_logloss: 0.961997\n",
            "[1000]\ttrain's multi_logloss: 0.720783\tvalid's multi_logloss: 0.960457\n",
            "[1100]\ttrain's multi_logloss: 0.699871\tvalid's multi_logloss: 0.963233\n",
            "[1200]\ttrain's multi_logloss: 0.680373\tvalid's multi_logloss: 0.96228\n",
            "[1300]\ttrain's multi_logloss: 0.662021\tvalid's multi_logloss: 0.959414\n",
            "[1400]\ttrain's multi_logloss: 0.644784\tvalid's multi_logloss: 0.964362\n",
            "[1500]\ttrain's multi_logloss: 0.627432\tvalid's multi_logloss: 0.962373\n",
            "[1600]\ttrain's multi_logloss: 0.610057\tvalid's multi_logloss: 0.960365\n",
            "[1700]\ttrain's multi_logloss: 0.594875\tvalid's multi_logloss: 0.965841\n",
            "[1800]\ttrain's multi_logloss: 0.580382\tvalid's multi_logloss: 0.965603\n",
            "[1900]\ttrain's multi_logloss: 0.565713\tvalid's multi_logloss: 0.969048\n",
            "[2000]\ttrain's multi_logloss: 0.552015\tvalid's multi_logloss: 0.967398\n",
            "[2100]\ttrain's multi_logloss: 0.538822\tvalid's multi_logloss: 0.970454\n",
            "[2200]\ttrain's multi_logloss: 0.525323\tvalid's multi_logloss: 0.970985\n",
            "Early stopping, best iteration is:\n",
            "[1297]\ttrain's multi_logloss: 0.662528\tvalid's multi_logloss: 0.959197\n"
          ],
          "name": "stdout"
        }
      ]
    },
    {
      "cell_type": "markdown",
      "metadata": {
        "id": "jLtfMTqCvgEv"
      },
      "source": [
        "## Experiment results"
      ]
    },
    {
      "cell_type": "markdown",
      "metadata": {
        "id": "ryPwl16W7LE3"
      },
      "source": [
        "### MLP"
      ]
    },
    {
      "cell_type": "code",
      "metadata": {
        "trusted": true,
        "id": "VNNms9KmvgEw"
      },
      "source": [
        "preds = model.predict(x_test)"
      ],
      "execution_count": null,
      "outputs": []
    },
    {
      "cell_type": "code",
      "metadata": {
        "trusted": true,
        "id": "RIH-WwOJvgEx",
        "colab": {
          "base_uri": "https://localhost:8080/",
          "height": 204
        },
        "outputId": "1a16353c-54c4-40a2-8d87-f4e5bb7f8cbe"
      },
      "source": [
        "results = pd.DataFrame()\n",
        "results['Actual'] = y_test\n",
        "results['Predicted'] = preds\n",
        "\n",
        "results.head()"
      ],
      "execution_count": null,
      "outputs": [
        {
          "output_type": "execute_result",
          "data": {
            "text/html": [
              "<div>\n",
              "<style scoped>\n",
              "    .dataframe tbody tr th:only-of-type {\n",
              "        vertical-align: middle;\n",
              "    }\n",
              "\n",
              "    .dataframe tbody tr th {\n",
              "        vertical-align: top;\n",
              "    }\n",
              "\n",
              "    .dataframe thead th {\n",
              "        text-align: right;\n",
              "    }\n",
              "</style>\n",
              "<table border=\"1\" class=\"dataframe\">\n",
              "  <thead>\n",
              "    <tr style=\"text-align: right;\">\n",
              "      <th></th>\n",
              "      <th>Actual</th>\n",
              "      <th>Predicted</th>\n",
              "    </tr>\n",
              "  </thead>\n",
              "  <tbody>\n",
              "    <tr>\n",
              "      <th>0</th>\n",
              "      <td>happy</td>\n",
              "      <td>happy</td>\n",
              "    </tr>\n",
              "    <tr>\n",
              "      <th>1</th>\n",
              "      <td>fear</td>\n",
              "      <td>happy</td>\n",
              "    </tr>\n",
              "    <tr>\n",
              "      <th>2</th>\n",
              "      <td>fear</td>\n",
              "      <td>sad</td>\n",
              "    </tr>\n",
              "    <tr>\n",
              "      <th>3</th>\n",
              "      <td>sad</td>\n",
              "      <td>sad</td>\n",
              "    </tr>\n",
              "    <tr>\n",
              "      <th>4</th>\n",
              "      <td>angry</td>\n",
              "      <td>angry</td>\n",
              "    </tr>\n",
              "  </tbody>\n",
              "</table>\n",
              "</div>"
            ],
            "text/plain": [
              "  Actual Predicted\n",
              "0  happy     happy\n",
              "1   fear     happy\n",
              "2   fear       sad\n",
              "3    sad       sad\n",
              "4  angry     angry"
            ]
          },
          "metadata": {
            "tags": []
          },
          "execution_count": 14
        }
      ]
    },
    {
      "cell_type": "code",
      "metadata": {
        "colab": {
          "base_uri": "https://localhost:8080/"
        },
        "id": "yLaWLRp-DnZ4",
        "outputId": "911be0c0-3921-43ce-9654-cf8aad0d82ad"
      },
      "source": [
        "d = results[(results.Actual=='sad') & (results.Predicted=='sad')]\n",
        "d.shape"
      ],
      "execution_count": null,
      "outputs": [
        {
          "output_type": "execute_result",
          "data": {
            "text/plain": [
              "(42, 2)"
            ]
          },
          "metadata": {
            "tags": []
          },
          "execution_count": 44
        }
      ]
    },
    {
      "cell_type": "code",
      "metadata": {
        "trusted": true,
        "colab": {
          "base_uri": "https://localhost:8080/",
          "height": 725
        },
        "id": "xp-c6GQAvgEx",
        "outputId": "29d0fd59-9b5d-40e1-93ac-bc90f7998524"
      },
      "source": [
        "cm = confusion_matrix(y_test, preds)\n",
        "df_cm = pd.DataFrame(cm,\n",
        "                     index=observed_emotions,\n",
        "                     columns=observed_emotions)\n",
        "plt.figure(figsize=(10, 10))\n",
        "\n",
        "sns.set(font_scale=1)\n",
        "\n",
        "\n",
        "ax = sns.heatmap(df_cm, annot=True, square=True, fmt='d', linewidths=.2, cbar=0, cmap=plt.cm.Blues)\n",
        "ax.set_xticklabels(ax.get_xticklabels(), rotation=0)\n",
        "\n",
        "plt.ylabel('True labels')\n",
        "plt.xlabel('Predicted labels')\n",
        "plt.tight_layout()\n",
        "\n",
        "name = 'MFCCs feature 53%.png'\n",
        "plt.savefig('/content/drive/MyDrive/Colab Notebooks/speech/dataset/cremad/Confusion matrix/mlp Confusion matrix for ' + name)\n",
        "\n",
        "plt.show()"
      ],
      "execution_count": null,
      "outputs": [
        {
          "output_type": "display_data",
          "data": {
            "image/png": "[encoded data removed]",
            "text/plain": [
              "<Figure size 720x720 with 1 Axes>"
            ]
          },
          "metadata": {
            "tags": [],
            "needs_background": "light"
          }
        }
      ]
    },
    {
      "cell_type": "code",
      "metadata": {
        "trusted": true,
        "colab": {
          "base_uri": "https://localhost:8080/"
        },
        "id": "ntzF25X6vgEy",
        "outputId": "755d6559-311e-4626-8fc4-3171856a44ce"
      },
      "source": [
        "print(classification_report(y_test, preds))"
      ],
      "execution_count": null,
      "outputs": [
        {
          "output_type": "stream",
          "text": [
            "              precision    recall  f1-score   support\n",
            "\n",
            "       angry       0.70      0.53      0.60       324\n",
            "        fear       0.43      0.23      0.30       309\n",
            "       happy       0.46      0.57      0.51       328\n",
            "         sad       0.54      0.79      0.64       310\n",
            "\n",
            "    accuracy                           0.53      1271\n",
            "   macro avg       0.53      0.53      0.51      1271\n",
            "weighted avg       0.53      0.53      0.51      1271\n",
            "\n"
          ],
          "name": "stdout"
        }
      ]
    },
    {
      "cell_type": "code",
      "metadata": {
        "id": "0RRM2iqAG-Dv"
      },
      "source": [
        "import pickle\n",
        "\n",
        "filename = 'mfcc_MLP_0.53.sav'\n",
        "pickle.dump(model, open('/content/drive/MyDrive/Colab Notebooks/speech/dataset/cremad/Models/' + filename, 'wb'))\n",
        "loaded_model = pickle.load(open('/content/drive/MyDrive/Colab Notebooks/speech/dataset/cremad/Models/' + filename, 'rb'))"
      ],
      "execution_count": null,
      "outputs": []
    },
    {
      "cell_type": "markdown",
      "metadata": {
        "id": "VqUXxDtQ7PFq"
      },
      "source": [
        "### LGB"
      ]
    },
    {
      "cell_type": "code",
      "metadata": {
        "trusted": true,
        "id": "mn73MpWT7Trw"
      },
      "source": [
        "preds = lgb_model.predict(x_test)"
      ],
      "execution_count": null,
      "outputs": []
    },
    {
      "cell_type": "code",
      "metadata": {
        "trusted": true,
        "id": "2UEuWNRv7Trw"
      },
      "source": [
        "predictions = []\n",
        "\n",
        "for x in preds:\n",
        "    predictions.append(np.argmax(x))"
      ],
      "execution_count": null,
      "outputs": []
    },
    {
      "cell_type": "code",
      "metadata": {
        "trusted": true,
        "colab": {
          "base_uri": "https://localhost:8080/",
          "height": 204
        },
        "id": "ZtPBVmua7Trx",
        "outputId": "e987db68-a0e3-406a-9946-064c35cd816d"
      },
      "source": [
        "results = pd.DataFrame()\n",
        "results['Actual'] = y_test\n",
        "results['Predicted'] = predictions\n",
        "\n",
        "results['Actual'] = results['Actual'].map({0:'angry', 1:'fear', 2:'happy', 3:'sad'})\n",
        "results['Predicted'] = results['Predicted'].map({0:'angry', 1:'fear', 2:'happy', 3:'sad'})\n",
        "results.head()"
      ],
      "execution_count": null,
      "outputs": [
        {
          "output_type": "execute_result",
          "data": {
            "text/html": [
              "<div>\n",
              "<style scoped>\n",
              "    .dataframe tbody tr th:only-of-type {\n",
              "        vertical-align: middle;\n",
              "    }\n",
              "\n",
              "    .dataframe tbody tr th {\n",
              "        vertical-align: top;\n",
              "    }\n",
              "\n",
              "    .dataframe thead th {\n",
              "        text-align: right;\n",
              "    }\n",
              "</style>\n",
              "<table border=\"1\" class=\"dataframe\">\n",
              "  <thead>\n",
              "    <tr style=\"text-align: right;\">\n",
              "      <th></th>\n",
              "      <th>Actual</th>\n",
              "      <th>Predicted</th>\n",
              "    </tr>\n",
              "  </thead>\n",
              "  <tbody>\n",
              "    <tr>\n",
              "      <th>0</th>\n",
              "      <td>happy</td>\n",
              "      <td>fear</td>\n",
              "    </tr>\n",
              "    <tr>\n",
              "      <th>1</th>\n",
              "      <td>sad</td>\n",
              "      <td>sad</td>\n",
              "    </tr>\n",
              "    <tr>\n",
              "      <th>2</th>\n",
              "      <td>fear</td>\n",
              "      <td>sad</td>\n",
              "    </tr>\n",
              "    <tr>\n",
              "      <th>3</th>\n",
              "      <td>sad</td>\n",
              "      <td>sad</td>\n",
              "    </tr>\n",
              "    <tr>\n",
              "      <th>4</th>\n",
              "      <td>sad</td>\n",
              "      <td>sad</td>\n",
              "    </tr>\n",
              "  </tbody>\n",
              "</table>\n",
              "</div>"
            ],
            "text/plain": [
              "  Actual Predicted\n",
              "0  happy      fear\n",
              "1    sad       sad\n",
              "2   fear       sad\n",
              "3    sad       sad\n",
              "4    sad       sad"
            ]
          },
          "metadata": {
            "tags": []
          },
          "execution_count": 23
        }
      ]
    },
    {
      "cell_type": "code",
      "metadata": {
        "trusted": true,
        "colab": {
          "base_uri": "https://localhost:8080/",
          "height": 725
        },
        "id": "V9dLGq3c7Try",
        "outputId": "48171574-5f32-4b86-a906-fb99579eaecc"
      },
      "source": [
        "cm = confusion_matrix(y_test, predictions)\n",
        "df_cm = pd.DataFrame(cm,\n",
        "                     index=observed_emotions,\n",
        "                     columns=observed_emotions)\n",
        "\n",
        "plt.figure(figsize=(10, 10))\n",
        "\n",
        "sns.set(font_scale=1)\n",
        "\n",
        "ax = sns.heatmap(df_cm, annot=True, square=True, fmt='d', linewidths=.2, cbar=0, cmap=plt.cm.Blues)\n",
        "ax.set_xticklabels(ax.get_xticklabels(), rotation=0)\n",
        "\n",
        "plt.ylabel('True labels')\n",
        "plt.xlabel('Predicted labels')\n",
        "plt.tight_layout()\n",
        "\n",
        "name = 'MFCCs feature 55%.png'\n",
        "plt.savefig('/content/drive/MyDrive/Colab Notebooks/speech/dataset/cremad/Confusion matrix/lgbm Confusion matrix for ' + name)\n",
        "\n",
        "plt.show()"
      ],
      "execution_count": null,
      "outputs": [
        {
          "output_type": "display_data",
          "data": {
            "image/png": "[encoded data removed]",
            "text/plain": [
              "<Figure size 720x720 with 1 Axes>"
            ]
          },
          "metadata": {
            "tags": []
          }
        }
      ]
    },
    {
      "cell_type": "code",
      "metadata": {
        "trusted": true,
        "colab": {
          "base_uri": "https://localhost:8080/"
        },
        "id": "Vyc4zm7_7Try",
        "outputId": "05667115-d90b-4449-b784-d154367245ff"
      },
      "source": [
        "print(classification_report(y_test, predictions, target_names=observed_emotions))"
      ],
      "execution_count": null,
      "outputs": [
        {
          "output_type": "stream",
          "text": [
            "              precision    recall  f1-score   support\n",
            "\n",
            "       angry       0.60      0.66      0.63       309\n",
            "        fear       0.42      0.32      0.36       322\n",
            "       happy       0.50      0.51      0.50       331\n",
            "         sad       0.65      0.73      0.69       309\n",
            "\n",
            "    accuracy                           0.55      1271\n",
            "   macro avg       0.54      0.55      0.55      1271\n",
            "weighted avg       0.54      0.55      0.54      1271\n",
            "\n"
          ],
          "name": "stdout"
        }
      ]
    },
    {
      "cell_type": "code",
      "metadata": {
        "id": "JilHgoaPRSv-"
      },
      "source": [
        "import pickle\n",
        "\n",
        "filename = 'mfcc_lgbm_0.55.sav'\n",
        "pickle.dump(lgb_model, open('/content/drive/MyDrive/Colab Notebooks/speech/dataset/cremad/Models/' + filename, 'wb'))\n",
        "loaded_model = pickle.load(open('/content/drive/MyDrive/Colab Notebooks/speech/dataset/cremad/Models/' + filename, 'rb'))"
      ],
      "execution_count": null,
      "outputs": []
    }
  ]
}