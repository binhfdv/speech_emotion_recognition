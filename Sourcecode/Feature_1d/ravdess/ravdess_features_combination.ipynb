{
  "nbformat": 4,
  "nbformat_minor": 0,
  "metadata": {
    "colab": {
      "name": "ravdess_features_combination.ipynb",
      "provenance": [],
      "collapsed_sections": [
        "ryPwl16W7LE3",
        "VqUXxDtQ7PFq"
      ]
    },
    "kernelspec": {
      "display_name": "Python 3",
      "name": "python3"
    },
    "language_info": {
      "name": "python"
    }
  },
  "cells": [
    {
      "cell_type": "markdown",
      "metadata": {
        "id": "Q6nESgHptwUl"
      },
      "source": [
        "[reference source](https://data-flair.training/blogs/python-mini-project-speech-emotion-recognition/?fbclid=IwAR0ZRg0Rs_NMn-C31tz21svxF7alY-Tx6Tk_NOIoBr8Qqrp3Q8Fcb7-Vzb4)\n",
        "\n",
        "4/6/2021"
      ]
    },
    {
      "cell_type": "code",
      "metadata": {
        "id": "RiJq2jyFuBt8"
      },
      "source": [
        "import librosa\n",
        "# import soundfile\n",
        "import os, glob, pickle, sys\n",
        "import numpy as np\n",
        "\n",
        "import pandas as pd\n",
        "\n",
        "from sklearn.neural_network import MLPClassifier\n",
        "\n",
        "import librosa.display\n",
        "import seaborn as sns\n",
        "import matplotlib.pyplot as plt\n",
        "\n",
        "from sklearn.preprocessing import StandardScaler, OneHotEncoder\n",
        "from sklearn.metrics import confusion_matrix, classification_report, accuracy_score\n",
        "from sklearn.model_selection import train_test_split\n",
        "\n",
        "# to play the audio files\n",
        "from IPython.display import Audio\n",
        "\n",
        "import warnings\n",
        "if not sys.warnoptions:\n",
        "    warnings.simplefilter(\"ignore\")\n",
        "warnings.filterwarnings(\"ignore\", category=DeprecationWarning) "
      ],
      "execution_count": null,
      "outputs": []
    },
    {
      "cell_type": "markdown",
      "metadata": {
        "id": "NcIwJ27KvDio"
      },
      "source": [
        "## Load Dataset"
      ]
    },
    {
      "cell_type": "code",
      "metadata": {
        "id": "2SNCKpLjvF11"
      },
      "source": [
        "Ravdess_df = pd.read_csv('/content/drive/MyDrive/Colab Notebooks/speech/dataset/ravdess/ravdess_path.csv')"
      ],
      "execution_count": null,
      "outputs": []
    },
    {
      "cell_type": "code",
      "metadata": {
        "colab": {
          "base_uri": "https://localhost:8080/",
          "height": 354
        },
        "id": "FpsLOrg5vU7c",
        "outputId": "2fa9de79-c651-4530-ffee-374c3da0c6b3"
      },
      "source": [
        "plt.title('Count of Emotions', size=16)\n",
        "sns.countplot(Ravdess_df.Emotions)\n",
        "plt.ylabel('Count', size=12)\n",
        "plt.xlabel('Emotions', size=12)\n",
        "sns.despine(top=True, right=True, left=False, bottom=False)\n",
        "plt.show()"
      ],
      "execution_count": null,
      "outputs": [
        {
          "output_type": "stream",
          "text": [
            "/usr/local/lib/python3.7/dist-packages/seaborn/_decorators.py:43: FutureWarning: Pass the following variable as a keyword arg: x. From version 0.12, the only valid positional argument will be `data`, and passing other arguments without an explicit keyword will result in an error or misinterpretation.\n",
            "  FutureWarning\n"
          ],
          "name": "stderr"
        },
        {
          "output_type": "display_data",
          "data": {
            "image/png": "[encoded data removed]",
            "text/plain": [
              "<Figure size 432x288 with 1 Axes>"
            ]
          },
          "metadata": {
            "tags": []
          }
        }
      ]
    },
    {
      "cell_type": "markdown",
      "metadata": {
        "id": "TaaBzvfwvuvG"
      },
      "source": [
        "## Feature Extraction"
      ]
    },
    {
      "cell_type": "code",
      "metadata": {
        "id": "U57ILIA-5R_G"
      },
      "source": [
        "observed_emotions=sorted(['fear', 'happy', 'sad', 'angry'])"
      ],
      "execution_count": null,
      "outputs": []
    },
    {
      "cell_type": "code",
      "metadata": {
        "colab": {
          "base_uri": "https://localhost:8080/"
        },
        "id": "EKhreSnIAGDO",
        "outputId": "b3543e5e-40d5-4060-c927-c3f3c6edc641"
      },
      "source": [
        "observed_emotions"
      ],
      "execution_count": null,
      "outputs": [
        {
          "output_type": "execute_result",
          "data": {
            "text/plain": [
              "['angry', 'fear', 'happy', 'sad']"
            ]
          },
          "metadata": {
            "tags": []
          },
          "execution_count": 4
        }
      ]
    },
    {
      "cell_type": "code",
      "metadata": {
        "id": "U6u8B3_WxOYW"
      },
      "source": [
        "num_mfcc=13"
      ],
      "execution_count": null,
      "outputs": []
    },
    {
      "cell_type": "code",
      "metadata": {
        "id": "infnX33Pun_H"
      },
      "source": [
        "def extract_feature(path, mfcc, chroma, mel, tempo):\n",
        "  data, sample_rate = librosa.load(path, res_type='kaiser_fast')\n",
        "  if chroma:\n",
        "    stft = np.abs(librosa.stft(data))\n",
        "\n",
        "  result=np.array([])\n",
        "  if mfcc:\n",
        "    mfccs=np.mean(librosa.feature.mfcc(y=data, sr=sample_rate, n_mfcc=num_mfcc).T, axis=0)\n",
        "    result=np.hstack((result, mfccs))\n",
        "  if chroma:\n",
        "    chroma=np.mean(librosa.feature.chroma_stft(S=stft, sr=sample_rate).T, axis=0)\n",
        "    result=np.hstack((result, chroma))\n",
        "  if mel:\n",
        "    mel=np.mean(librosa.feature.melspectrogram(y=data, sr=sample_rate).T, axis=0)\n",
        "    result=np.hstack((result, mel))\n",
        "  if tempo:\n",
        "    tempo=np.mean(librosa.feature.tempogram(y=data, sr=sample_rate).T, axis=0)\n",
        "    result=np.hstack((result, tempo))\n",
        "\n",
        "  return result"
      ],
      "execution_count": null,
      "outputs": []
    },
    {
      "cell_type": "code",
      "metadata": {
        "id": "bKmQwhUtaWKP"
      },
      "source": [
        "# def load_data(test_size=0.2):\n",
        "#   x,y=[],[]\n",
        "#   for file in glob.glob(\"/content/drive/MyDrive/Colab Notebooks/speech/dataset/ravdess/Actor_*/*.wav\"):\n",
        "#     file_name=os.path.basename(file)\n",
        "#     emotion=emotions[file_name.split(\"-\")[2]]\n",
        "#     if emotion not in observed_emotions:\n",
        "#         continue\n",
        "#     feature=extract_feature(file, mfcc=True, chroma=True, mel=True)\n",
        "#     x.append(feature)\n",
        "#     y.append(emotion)\n",
        "#   return train_test_split(np.array(x), y, test_size=test_size, random_state=9)"
      ],
      "execution_count": null,
      "outputs": []
    },
    {
      "cell_type": "code",
      "metadata": {
        "id": "pVfPdjo0v0e3"
      },
      "source": [
        "X, Y = [], []\n",
        "for path, emotion in zip(Ravdess_df.Path, Ravdess_df.Emotions):\n",
        "  if emotion not in observed_emotions:\n",
        "    continue\n",
        "  feature = extract_feature(path, mfcc=True, chroma=False, mel=True, tempo=True)\n",
        "  X.append(feature)\n",
        "  Y.append(emotion)"
      ],
      "execution_count": null,
      "outputs": []
    },
    {
      "cell_type": "code",
      "metadata": {
        "colab": {
          "base_uri": "https://localhost:8080/"
        },
        "id": "YsB1bQiT0rKO",
        "outputId": "31e2455c-b05d-4177-97ab-eafefc61964d"
      },
      "source": [
        "len(X), len(Y), Ravdess_df.Path.shape"
      ],
      "execution_count": null,
      "outputs": [
        {
          "output_type": "execute_result",
          "data": {
            "text/plain": [
              "(768, 768, (1440,))"
            ]
          },
          "metadata": {
            "tags": []
          },
          "execution_count": 13
        }
      ]
    },
    {
      "cell_type": "code",
      "metadata": {
        "colab": {
          "base_uri": "https://localhost:8080/",
          "height": 338
        },
        "id": "fPPk7LZn0s5F",
        "outputId": "8e6d6125-a83d-4721-d5f6-9e97b21c1b38"
      },
      "source": [
        "Features = pd.DataFrame(X)\n",
        "Features['labels'] = Y\n",
        "Features.to_csv('/content/drive/MyDrive/Colab Notebooks/speech/dataset/ravdess/temp_mfcc_mel_features.csv', index=0)\n",
        "Features.head()"
      ],
      "execution_count": null,
      "outputs": [
        {
          "output_type": "execute_result",
          "data": {
            "text/html": [
              "<div>\n",
              "<style scoped>\n",
              "    .dataframe tbody tr th:only-of-type {\n",
              "        vertical-align: middle;\n",
              "    }\n",
              "\n",
              "    .dataframe tbody tr th {\n",
              "        vertical-align: top;\n",
              "    }\n",
              "\n",
              "    .dataframe thead th {\n",
              "        text-align: right;\n",
              "    }\n",
              "</style>\n",
              "<table border=\"1\" class=\"dataframe\">\n",
              "  <thead>\n",
              "    <tr style=\"text-align: right;\">\n",
              "      <th></th>\n",
              "      <th>0</th>\n",
              "      <th>1</th>\n",
              "      <th>2</th>\n",
              "      <th>3</th>\n",
              "      <th>4</th>\n",
              "      <th>5</th>\n",
              "      <th>6</th>\n",
              "      <th>7</th>\n",
              "      <th>8</th>\n",
              "      <th>9</th>\n",
              "      <th>10</th>\n",
              "      <th>11</th>\n",
              "      <th>12</th>\n",
              "      <th>13</th>\n",
              "      <th>14</th>\n",
              "      <th>15</th>\n",
              "      <th>16</th>\n",
              "      <th>17</th>\n",
              "      <th>18</th>\n",
              "      <th>19</th>\n",
              "      <th>20</th>\n",
              "      <th>21</th>\n",
              "      <th>22</th>\n",
              "      <th>23</th>\n",
              "      <th>24</th>\n",
              "      <th>25</th>\n",
              "      <th>26</th>\n",
              "      <th>27</th>\n",
              "      <th>28</th>\n",
              "      <th>29</th>\n",
              "      <th>30</th>\n",
              "      <th>31</th>\n",
              "      <th>32</th>\n",
              "      <th>33</th>\n",
              "      <th>34</th>\n",
              "      <th>35</th>\n",
              "      <th>36</th>\n",
              "      <th>37</th>\n",
              "      <th>38</th>\n",
              "      <th>39</th>\n",
              "      <th>...</th>\n",
              "      <th>486</th>\n",
              "      <th>487</th>\n",
              "      <th>488</th>\n",
              "      <th>489</th>\n",
              "      <th>490</th>\n",
              "      <th>491</th>\n",
              "      <th>492</th>\n",
              "      <th>493</th>\n",
              "      <th>494</th>\n",
              "      <th>495</th>\n",
              "      <th>496</th>\n",
              "      <th>497</th>\n",
              "      <th>498</th>\n",
              "      <th>499</th>\n",
              "      <th>500</th>\n",
              "      <th>501</th>\n",
              "      <th>502</th>\n",
              "      <th>503</th>\n",
              "      <th>504</th>\n",
              "      <th>505</th>\n",
              "      <th>506</th>\n",
              "      <th>507</th>\n",
              "      <th>508</th>\n",
              "      <th>509</th>\n",
              "      <th>510</th>\n",
              "      <th>511</th>\n",
              "      <th>512</th>\n",
              "      <th>513</th>\n",
              "      <th>514</th>\n",
              "      <th>515</th>\n",
              "      <th>516</th>\n",
              "      <th>517</th>\n",
              "      <th>518</th>\n",
              "      <th>519</th>\n",
              "      <th>520</th>\n",
              "      <th>521</th>\n",
              "      <th>522</th>\n",
              "      <th>523</th>\n",
              "      <th>524</th>\n",
              "      <th>labels</th>\n",
              "    </tr>\n",
              "  </thead>\n",
              "  <tbody>\n",
              "    <tr>\n",
              "      <th>0</th>\n",
              "      <td>-542.508118</td>\n",
              "      <td>54.402779</td>\n",
              "      <td>-13.658027</td>\n",
              "      <td>11.467112</td>\n",
              "      <td>-5.522990</td>\n",
              "      <td>0.883293</td>\n",
              "      <td>-13.780356</td>\n",
              "      <td>-5.889092</td>\n",
              "      <td>-20.672403</td>\n",
              "      <td>-3.965454</td>\n",
              "      <td>-4.639178</td>\n",
              "      <td>-4.446038</td>\n",
              "      <td>-2.538304</td>\n",
              "      <td>0.000008</td>\n",
              "      <td>0.000080</td>\n",
              "      <td>0.000464</td>\n",
              "      <td>0.001942</td>\n",
              "      <td>0.033685</td>\n",
              "      <td>0.239260</td>\n",
              "      <td>0.374652</td>\n",
              "      <td>0.420234</td>\n",
              "      <td>0.099131</td>\n",
              "      <td>0.012808</td>\n",
              "      <td>0.025722</td>\n",
              "      <td>0.068368</td>\n",
              "      <td>0.219898</td>\n",
              "      <td>0.207522</td>\n",
              "      <td>0.280418</td>\n",
              "      <td>0.539812</td>\n",
              "      <td>0.307537</td>\n",
              "      <td>0.155502</td>\n",
              "      <td>0.263589</td>\n",
              "      <td>0.483507</td>\n",
              "      <td>0.300997</td>\n",
              "      <td>0.233112</td>\n",
              "      <td>0.264477</td>\n",
              "      <td>0.416990</td>\n",
              "      <td>0.456977</td>\n",
              "      <td>0.384986</td>\n",
              "      <td>0.179009</td>\n",
              "      <td>...</td>\n",
              "      <td>-3.734611e-17</td>\n",
              "      <td>6.453194e-17</td>\n",
              "      <td>1.691154e-17</td>\n",
              "      <td>5.303013e-17</td>\n",
              "      <td>-2.132890e-17</td>\n",
              "      <td>2.123227e-17</td>\n",
              "      <td>1.393175e-17</td>\n",
              "      <td>2.321580e-17</td>\n",
              "      <td>6.795941e-18</td>\n",
              "      <td>9.193692e-18</td>\n",
              "      <td>-1.358994e-18</td>\n",
              "      <td>4.392269e-17</td>\n",
              "      <td>8.810624e-18</td>\n",
              "      <td>5.532524e-17</td>\n",
              "      <td>-4.857724e-18</td>\n",
              "      <td>5.683435e-17</td>\n",
              "      <td>-4.627983e-17</td>\n",
              "      <td>4.582989e-17</td>\n",
              "      <td>-3.245268e-17</td>\n",
              "      <td>1.420816e-17</td>\n",
              "      <td>6.403324e-18</td>\n",
              "      <td>2.864993e-17</td>\n",
              "      <td>1.874801e-17</td>\n",
              "      <td>-4.286480e-17</td>\n",
              "      <td>4.707281e-17</td>\n",
              "      <td>-3.910225e-17</td>\n",
              "      <td>2.761268e-17</td>\n",
              "      <td>-8.322288e-18</td>\n",
              "      <td>1.934100e-17</td>\n",
              "      <td>-4.494175e-17</td>\n",
              "      <td>7.871954e-17</td>\n",
              "      <td>-3.707398e-17</td>\n",
              "      <td>2.700953e-17</td>\n",
              "      <td>2.593287e-17</td>\n",
              "      <td>-1.582210e-17</td>\n",
              "      <td>4.275779e-17</td>\n",
              "      <td>1.325684e-18</td>\n",
              "      <td>1.507654e-17</td>\n",
              "      <td>1.507481e-17</td>\n",
              "      <td>happy</td>\n",
              "    </tr>\n",
              "    <tr>\n",
              "      <th>1</th>\n",
              "      <td>-622.661438</td>\n",
              "      <td>58.430439</td>\n",
              "      <td>-9.114211</td>\n",
              "      <td>17.023947</td>\n",
              "      <td>0.759872</td>\n",
              "      <td>0.289106</td>\n",
              "      <td>-9.672384</td>\n",
              "      <td>-6.628329</td>\n",
              "      <td>-20.923655</td>\n",
              "      <td>-2.678802</td>\n",
              "      <td>-4.249349</td>\n",
              "      <td>-5.525171</td>\n",
              "      <td>-1.133821</td>\n",
              "      <td>0.000001</td>\n",
              "      <td>0.000016</td>\n",
              "      <td>0.000329</td>\n",
              "      <td>0.010903</td>\n",
              "      <td>0.074169</td>\n",
              "      <td>0.124947</td>\n",
              "      <td>0.133783</td>\n",
              "      <td>0.016098</td>\n",
              "      <td>0.018285</td>\n",
              "      <td>0.052441</td>\n",
              "      <td>0.083073</td>\n",
              "      <td>0.033742</td>\n",
              "      <td>0.067630</td>\n",
              "      <td>0.127787</td>\n",
              "      <td>0.122495</td>\n",
              "      <td>0.192502</td>\n",
              "      <td>0.132279</td>\n",
              "      <td>0.053741</td>\n",
              "      <td>0.064878</td>\n",
              "      <td>0.103478</td>\n",
              "      <td>0.220608</td>\n",
              "      <td>0.117464</td>\n",
              "      <td>0.024270</td>\n",
              "      <td>0.009286</td>\n",
              "      <td>0.008385</td>\n",
              "      <td>0.023685</td>\n",
              "      <td>0.027281</td>\n",
              "      <td>...</td>\n",
              "      <td>-3.169278e-17</td>\n",
              "      <td>6.655589e-17</td>\n",
              "      <td>1.389399e-17</td>\n",
              "      <td>3.772211e-17</td>\n",
              "      <td>-7.566097e-18</td>\n",
              "      <td>2.632952e-17</td>\n",
              "      <td>1.290059e-17</td>\n",
              "      <td>2.385455e-17</td>\n",
              "      <td>8.670609e-18</td>\n",
              "      <td>2.285317e-17</td>\n",
              "      <td>1.200658e-18</td>\n",
              "      <td>5.294164e-17</td>\n",
              "      <td>8.510281e-18</td>\n",
              "      <td>4.050176e-17</td>\n",
              "      <td>-6.615700e-18</td>\n",
              "      <td>4.813192e-17</td>\n",
              "      <td>-4.515122e-17</td>\n",
              "      <td>4.916996e-17</td>\n",
              "      <td>-3.782390e-17</td>\n",
              "      <td>1.885078e-17</td>\n",
              "      <td>-2.347669e-18</td>\n",
              "      <td>2.622868e-17</td>\n",
              "      <td>2.529666e-17</td>\n",
              "      <td>-3.680195e-17</td>\n",
              "      <td>2.625130e-17</td>\n",
              "      <td>-4.013103e-17</td>\n",
              "      <td>2.030790e-17</td>\n",
              "      <td>-7.108426e-18</td>\n",
              "      <td>2.296843e-17</td>\n",
              "      <td>-5.197880e-17</td>\n",
              "      <td>6.043015e-17</td>\n",
              "      <td>-2.176813e-17</td>\n",
              "      <td>3.269775e-17</td>\n",
              "      <td>1.253088e-17</td>\n",
              "      <td>-6.904360e-18</td>\n",
              "      <td>4.089239e-17</td>\n",
              "      <td>-9.300289e-18</td>\n",
              "      <td>1.876983e-17</td>\n",
              "      <td>1.719912e-17</td>\n",
              "      <td>sad</td>\n",
              "    </tr>\n",
              "    <tr>\n",
              "      <th>2</th>\n",
              "      <td>-405.536560</td>\n",
              "      <td>35.899506</td>\n",
              "      <td>-21.589775</td>\n",
              "      <td>10.615099</td>\n",
              "      <td>-12.247245</td>\n",
              "      <td>1.386372</td>\n",
              "      <td>-16.413448</td>\n",
              "      <td>-4.795670</td>\n",
              "      <td>-21.391001</td>\n",
              "      <td>-2.505552</td>\n",
              "      <td>-7.871837</td>\n",
              "      <td>-5.305902</td>\n",
              "      <td>-6.280683</td>\n",
              "      <td>0.002326</td>\n",
              "      <td>0.001501</td>\n",
              "      <td>0.001673</td>\n",
              "      <td>0.003428</td>\n",
              "      <td>0.042046</td>\n",
              "      <td>0.262092</td>\n",
              "      <td>0.561856</td>\n",
              "      <td>0.804515</td>\n",
              "      <td>1.015966</td>\n",
              "      <td>2.943118</td>\n",
              "      <td>5.422922</td>\n",
              "      <td>3.608459</td>\n",
              "      <td>2.336018</td>\n",
              "      <td>2.385839</td>\n",
              "      <td>1.647708</td>\n",
              "      <td>1.484166</td>\n",
              "      <td>0.442627</td>\n",
              "      <td>0.757970</td>\n",
              "      <td>2.124578</td>\n",
              "      <td>5.486774</td>\n",
              "      <td>4.302755</td>\n",
              "      <td>2.505256</td>\n",
              "      <td>1.347026</td>\n",
              "      <td>1.708984</td>\n",
              "      <td>0.673048</td>\n",
              "      <td>0.894161</td>\n",
              "      <td>1.090497</td>\n",
              "      <td>...</td>\n",
              "      <td>7.224722e-08</td>\n",
              "      <td>5.732959e-08</td>\n",
              "      <td>4.509759e-08</td>\n",
              "      <td>3.513531e-08</td>\n",
              "      <td>2.707811e-08</td>\n",
              "      <td>2.061007e-08</td>\n",
              "      <td>1.546064e-08</td>\n",
              "      <td>1.140037e-08</td>\n",
              "      <td>8.236882e-09</td>\n",
              "      <td>5.810161e-09</td>\n",
              "      <td>3.985338e-09</td>\n",
              "      <td>2.645534e-09</td>\n",
              "      <td>1.689206e-09</td>\n",
              "      <td>1.029196e-09</td>\n",
              "      <td>5.919389e-10</td>\n",
              "      <td>3.166232e-10</td>\n",
              "      <td>1.542208e-10</td>\n",
              "      <td>6.635029e-11</td>\n",
              "      <td>2.409112e-11</td>\n",
              "      <td>6.856975e-12</td>\n",
              "      <td>1.321486e-12</td>\n",
              "      <td>1.136542e-13</td>\n",
              "      <td>4.267823e-17</td>\n",
              "      <td>-4.537954e-17</td>\n",
              "      <td>5.595816e-17</td>\n",
              "      <td>-5.368287e-17</td>\n",
              "      <td>3.464886e-17</td>\n",
              "      <td>-1.642577e-17</td>\n",
              "      <td>3.495048e-17</td>\n",
              "      <td>-4.935990e-17</td>\n",
              "      <td>8.943410e-17</td>\n",
              "      <td>-3.226123e-17</td>\n",
              "      <td>4.087913e-17</td>\n",
              "      <td>2.567693e-17</td>\n",
              "      <td>1.564107e-19</td>\n",
              "      <td>5.019410e-17</td>\n",
              "      <td>1.219639e-18</td>\n",
              "      <td>2.315104e-17</td>\n",
              "      <td>2.976570e-17</td>\n",
              "      <td>angry</td>\n",
              "    </tr>\n",
              "    <tr>\n",
              "      <th>3</th>\n",
              "      <td>-627.439819</td>\n",
              "      <td>65.294777</td>\n",
              "      <td>-8.142694</td>\n",
              "      <td>20.094799</td>\n",
              "      <td>2.217384</td>\n",
              "      <td>4.312598</td>\n",
              "      <td>-8.066018</td>\n",
              "      <td>-6.686984</td>\n",
              "      <td>-14.164406</td>\n",
              "      <td>2.684235</td>\n",
              "      <td>-3.951849</td>\n",
              "      <td>1.511707</td>\n",
              "      <td>-2.152171</td>\n",
              "      <td>0.000267</td>\n",
              "      <td>0.000094</td>\n",
              "      <td>0.000968</td>\n",
              "      <td>0.035631</td>\n",
              "      <td>0.191875</td>\n",
              "      <td>0.053334</td>\n",
              "      <td>0.003884</td>\n",
              "      <td>0.003720</td>\n",
              "      <td>0.049795</td>\n",
              "      <td>0.203631</td>\n",
              "      <td>0.059680</td>\n",
              "      <td>0.030760</td>\n",
              "      <td>0.011082</td>\n",
              "      <td>0.061688</td>\n",
              "      <td>0.148226</td>\n",
              "      <td>0.052766</td>\n",
              "      <td>0.059522</td>\n",
              "      <td>0.073923</td>\n",
              "      <td>0.124947</td>\n",
              "      <td>0.115085</td>\n",
              "      <td>0.015583</td>\n",
              "      <td>0.003728</td>\n",
              "      <td>0.030241</td>\n",
              "      <td>0.060317</td>\n",
              "      <td>0.033306</td>\n",
              "      <td>0.004509</td>\n",
              "      <td>0.002097</td>\n",
              "      <td>...</td>\n",
              "      <td>-3.874506e-17</td>\n",
              "      <td>5.719856e-17</td>\n",
              "      <td>1.205596e-17</td>\n",
              "      <td>3.770496e-17</td>\n",
              "      <td>-1.756659e-17</td>\n",
              "      <td>1.907718e-17</td>\n",
              "      <td>7.882742e-18</td>\n",
              "      <td>1.586450e-17</td>\n",
              "      <td>6.692206e-18</td>\n",
              "      <td>1.680508e-17</td>\n",
              "      <td>-2.401926e-18</td>\n",
              "      <td>5.503119e-17</td>\n",
              "      <td>1.237641e-17</td>\n",
              "      <td>3.657600e-17</td>\n",
              "      <td>-1.293922e-17</td>\n",
              "      <td>4.330203e-17</td>\n",
              "      <td>-4.051145e-17</td>\n",
              "      <td>4.459077e-17</td>\n",
              "      <td>-3.339201e-17</td>\n",
              "      <td>1.343793e-17</td>\n",
              "      <td>1.581917e-18</td>\n",
              "      <td>1.405179e-17</td>\n",
              "      <td>1.757829e-17</td>\n",
              "      <td>-3.549109e-17</td>\n",
              "      <td>3.394709e-17</td>\n",
              "      <td>-4.093304e-17</td>\n",
              "      <td>1.092685e-17</td>\n",
              "      <td>-2.281932e-18</td>\n",
              "      <td>1.480616e-17</td>\n",
              "      <td>-5.016810e-17</td>\n",
              "      <td>6.776955e-17</td>\n",
              "      <td>-2.791640e-17</td>\n",
              "      <td>3.576502e-17</td>\n",
              "      <td>7.930375e-18</td>\n",
              "      <td>-1.094875e-17</td>\n",
              "      <td>4.298573e-17</td>\n",
              "      <td>-4.057661e-18</td>\n",
              "      <td>1.269712e-17</td>\n",
              "      <td>1.147035e-17</td>\n",
              "      <td>fear</td>\n",
              "    </tr>\n",
              "    <tr>\n",
              "      <th>4</th>\n",
              "      <td>-529.751282</td>\n",
              "      <td>45.074440</td>\n",
              "      <td>-10.304814</td>\n",
              "      <td>12.880028</td>\n",
              "      <td>-8.027542</td>\n",
              "      <td>0.794448</td>\n",
              "      <td>-11.269848</td>\n",
              "      <td>-4.601147</td>\n",
              "      <td>-16.828745</td>\n",
              "      <td>-3.150034</td>\n",
              "      <td>-7.620333</td>\n",
              "      <td>-3.844648</td>\n",
              "      <td>-5.978425</td>\n",
              "      <td>0.000229</td>\n",
              "      <td>0.000308</td>\n",
              "      <td>0.000594</td>\n",
              "      <td>0.008199</td>\n",
              "      <td>0.062350</td>\n",
              "      <td>0.219425</td>\n",
              "      <td>0.240217</td>\n",
              "      <td>0.161056</td>\n",
              "      <td>0.160428</td>\n",
              "      <td>0.221110</td>\n",
              "      <td>0.414960</td>\n",
              "      <td>0.822955</td>\n",
              "      <td>0.381988</td>\n",
              "      <td>0.260932</td>\n",
              "      <td>0.277247</td>\n",
              "      <td>0.086902</td>\n",
              "      <td>0.054600</td>\n",
              "      <td>0.092731</td>\n",
              "      <td>0.219931</td>\n",
              "      <td>0.325089</td>\n",
              "      <td>0.551596</td>\n",
              "      <td>0.292366</td>\n",
              "      <td>0.129719</td>\n",
              "      <td>0.213177</td>\n",
              "      <td>0.121925</td>\n",
              "      <td>0.021738</td>\n",
              "      <td>0.021244</td>\n",
              "      <td>...</td>\n",
              "      <td>-3.822275e-17</td>\n",
              "      <td>6.061814e-17</td>\n",
              "      <td>2.056532e-17</td>\n",
              "      <td>3.073905e-17</td>\n",
              "      <td>-2.575724e-18</td>\n",
              "      <td>1.786050e-17</td>\n",
              "      <td>9.502169e-18</td>\n",
              "      <td>2.462988e-17</td>\n",
              "      <td>4.412133e-18</td>\n",
              "      <td>1.973884e-17</td>\n",
              "      <td>2.546790e-18</td>\n",
              "      <td>4.469742e-17</td>\n",
              "      <td>1.235430e-17</td>\n",
              "      <td>3.971369e-17</td>\n",
              "      <td>-5.780509e-18</td>\n",
              "      <td>4.850002e-17</td>\n",
              "      <td>-4.340821e-17</td>\n",
              "      <td>3.695059e-17</td>\n",
              "      <td>-3.083818e-17</td>\n",
              "      <td>1.922372e-17</td>\n",
              "      <td>4.086729e-18</td>\n",
              "      <td>2.718430e-17</td>\n",
              "      <td>2.190868e-17</td>\n",
              "      <td>-3.876479e-17</td>\n",
              "      <td>2.944741e-17</td>\n",
              "      <td>-3.078862e-17</td>\n",
              "      <td>2.593524e-17</td>\n",
              "      <td>-1.392740e-17</td>\n",
              "      <td>3.688227e-17</td>\n",
              "      <td>-4.282689e-17</td>\n",
              "      <td>5.754074e-17</td>\n",
              "      <td>-3.049610e-17</td>\n",
              "      <td>3.367459e-17</td>\n",
              "      <td>1.770122e-17</td>\n",
              "      <td>-7.872020e-18</td>\n",
              "      <td>4.530384e-17</td>\n",
              "      <td>-1.079236e-17</td>\n",
              "      <td>1.571406e-17</td>\n",
              "      <td>2.671489e-17</td>\n",
              "      <td>angry</td>\n",
              "    </tr>\n",
              "  </tbody>\n",
              "</table>\n",
              "<p>5 rows × 526 columns</p>\n",
              "</div>"
            ],
            "text/plain": [
              "            0          1          2  ...           523           524  labels\n",
              "0 -542.508118  54.402779 -13.658027  ...  1.507654e-17  1.507481e-17   happy\n",
              "1 -622.661438  58.430439  -9.114211  ...  1.876983e-17  1.719912e-17     sad\n",
              "2 -405.536560  35.899506 -21.589775  ...  2.315104e-17  2.976570e-17   angry\n",
              "3 -627.439819  65.294777  -8.142694  ...  1.269712e-17  1.147035e-17    fear\n",
              "4 -529.751282  45.074440 -10.304814  ...  1.571406e-17  2.671489e-17   angry\n",
              "\n",
              "[5 rows x 526 columns]"
            ]
          },
          "metadata": {
            "tags": []
          },
          "execution_count": 14
        }
      ]
    },
    {
      "cell_type": "markdown",
      "metadata": {
        "id": "hgOh4IkmvgEp"
      },
      "source": [
        "## Data Preparation"
      ]
    },
    {
      "cell_type": "code",
      "metadata": {
        "colab": {
          "base_uri": "https://localhost:8080/",
          "height": 256
        },
        "id": "U99crUcUvgEq",
        "outputId": "a3cd83f9-86c8-40f2-e64a-1002f0f364ba"
      },
      "source": [
        "dataset = pd.read_csv('/content/drive/MyDrive/Colab Notebooks/speech/dataset/ravdess/temp_mfcc_mel_features.csv')\n",
        "dataset.head()"
      ],
      "execution_count": null,
      "outputs": [
        {
          "output_type": "execute_result",
          "data": {
            "text/html": [
              "<div>\n",
              "<style scoped>\n",
              "    .dataframe tbody tr th:only-of-type {\n",
              "        vertical-align: middle;\n",
              "    }\n",
              "\n",
              "    .dataframe tbody tr th {\n",
              "        vertical-align: top;\n",
              "    }\n",
              "\n",
              "    .dataframe thead th {\n",
              "        text-align: right;\n",
              "    }\n",
              "</style>\n",
              "<table border=\"1\" class=\"dataframe\">\n",
              "  <thead>\n",
              "    <tr style=\"text-align: right;\">\n",
              "      <th></th>\n",
              "      <th>0</th>\n",
              "      <th>1</th>\n",
              "      <th>2</th>\n",
              "      <th>3</th>\n",
              "      <th>4</th>\n",
              "      <th>5</th>\n",
              "      <th>6</th>\n",
              "      <th>7</th>\n",
              "      <th>8</th>\n",
              "      <th>9</th>\n",
              "      <th>10</th>\n",
              "      <th>11</th>\n",
              "      <th>12</th>\n",
              "      <th>13</th>\n",
              "      <th>14</th>\n",
              "      <th>15</th>\n",
              "      <th>16</th>\n",
              "      <th>17</th>\n",
              "      <th>18</th>\n",
              "      <th>19</th>\n",
              "      <th>20</th>\n",
              "      <th>21</th>\n",
              "      <th>22</th>\n",
              "      <th>23</th>\n",
              "      <th>24</th>\n",
              "      <th>25</th>\n",
              "      <th>26</th>\n",
              "      <th>27</th>\n",
              "      <th>28</th>\n",
              "      <th>29</th>\n",
              "      <th>30</th>\n",
              "      <th>31</th>\n",
              "      <th>32</th>\n",
              "      <th>33</th>\n",
              "      <th>34</th>\n",
              "      <th>35</th>\n",
              "      <th>36</th>\n",
              "      <th>37</th>\n",
              "      <th>38</th>\n",
              "      <th>39</th>\n",
              "      <th>...</th>\n",
              "      <th>486</th>\n",
              "      <th>487</th>\n",
              "      <th>488</th>\n",
              "      <th>489</th>\n",
              "      <th>490</th>\n",
              "      <th>491</th>\n",
              "      <th>492</th>\n",
              "      <th>493</th>\n",
              "      <th>494</th>\n",
              "      <th>495</th>\n",
              "      <th>496</th>\n",
              "      <th>497</th>\n",
              "      <th>498</th>\n",
              "      <th>499</th>\n",
              "      <th>500</th>\n",
              "      <th>501</th>\n",
              "      <th>502</th>\n",
              "      <th>503</th>\n",
              "      <th>504</th>\n",
              "      <th>505</th>\n",
              "      <th>506</th>\n",
              "      <th>507</th>\n",
              "      <th>508</th>\n",
              "      <th>509</th>\n",
              "      <th>510</th>\n",
              "      <th>511</th>\n",
              "      <th>512</th>\n",
              "      <th>513</th>\n",
              "      <th>514</th>\n",
              "      <th>515</th>\n",
              "      <th>516</th>\n",
              "      <th>517</th>\n",
              "      <th>518</th>\n",
              "      <th>519</th>\n",
              "      <th>520</th>\n",
              "      <th>521</th>\n",
              "      <th>522</th>\n",
              "      <th>523</th>\n",
              "      <th>524</th>\n",
              "      <th>labels</th>\n",
              "    </tr>\n",
              "  </thead>\n",
              "  <tbody>\n",
              "    <tr>\n",
              "      <th>0</th>\n",
              "      <td>-542.508118</td>\n",
              "      <td>54.402779</td>\n",
              "      <td>-13.658027</td>\n",
              "      <td>11.467112</td>\n",
              "      <td>-5.522990</td>\n",
              "      <td>0.883293</td>\n",
              "      <td>-13.780356</td>\n",
              "      <td>-5.889092</td>\n",
              "      <td>-20.672403</td>\n",
              "      <td>-3.965454</td>\n",
              "      <td>-4.639178</td>\n",
              "      <td>-4.446038</td>\n",
              "      <td>-2.538304</td>\n",
              "      <td>0.000008</td>\n",
              "      <td>0.000080</td>\n",
              "      <td>0.000464</td>\n",
              "      <td>0.001942</td>\n",
              "      <td>0.033685</td>\n",
              "      <td>0.239260</td>\n",
              "      <td>0.374652</td>\n",
              "      <td>0.420234</td>\n",
              "      <td>0.099131</td>\n",
              "      <td>0.012808</td>\n",
              "      <td>0.025722</td>\n",
              "      <td>0.068368</td>\n",
              "      <td>0.219898</td>\n",
              "      <td>0.207522</td>\n",
              "      <td>0.280418</td>\n",
              "      <td>0.539812</td>\n",
              "      <td>0.307537</td>\n",
              "      <td>0.155502</td>\n",
              "      <td>0.263589</td>\n",
              "      <td>0.483507</td>\n",
              "      <td>0.300997</td>\n",
              "      <td>0.233112</td>\n",
              "      <td>0.264477</td>\n",
              "      <td>0.416990</td>\n",
              "      <td>0.456977</td>\n",
              "      <td>0.384986</td>\n",
              "      <td>0.179009</td>\n",
              "      <td>...</td>\n",
              "      <td>-3.734611e-17</td>\n",
              "      <td>6.453194e-17</td>\n",
              "      <td>1.691154e-17</td>\n",
              "      <td>5.303013e-17</td>\n",
              "      <td>-2.132890e-17</td>\n",
              "      <td>2.123227e-17</td>\n",
              "      <td>1.393175e-17</td>\n",
              "      <td>2.321580e-17</td>\n",
              "      <td>6.795941e-18</td>\n",
              "      <td>9.193692e-18</td>\n",
              "      <td>-1.358994e-18</td>\n",
              "      <td>4.392269e-17</td>\n",
              "      <td>8.810624e-18</td>\n",
              "      <td>5.532524e-17</td>\n",
              "      <td>-4.857724e-18</td>\n",
              "      <td>5.683435e-17</td>\n",
              "      <td>-4.627983e-17</td>\n",
              "      <td>4.582989e-17</td>\n",
              "      <td>-3.245268e-17</td>\n",
              "      <td>1.420816e-17</td>\n",
              "      <td>6.403324e-18</td>\n",
              "      <td>2.864993e-17</td>\n",
              "      <td>1.874801e-17</td>\n",
              "      <td>-4.286480e-17</td>\n",
              "      <td>4.707281e-17</td>\n",
              "      <td>-3.910225e-17</td>\n",
              "      <td>2.761268e-17</td>\n",
              "      <td>-8.322288e-18</td>\n",
              "      <td>1.934100e-17</td>\n",
              "      <td>-4.494175e-17</td>\n",
              "      <td>7.871954e-17</td>\n",
              "      <td>-3.707398e-17</td>\n",
              "      <td>2.700953e-17</td>\n",
              "      <td>2.593287e-17</td>\n",
              "      <td>-1.582210e-17</td>\n",
              "      <td>4.275779e-17</td>\n",
              "      <td>1.325684e-18</td>\n",
              "      <td>1.507654e-17</td>\n",
              "      <td>1.507481e-17</td>\n",
              "      <td>happy</td>\n",
              "    </tr>\n",
              "    <tr>\n",
              "      <th>1</th>\n",
              "      <td>-622.661438</td>\n",
              "      <td>58.430439</td>\n",
              "      <td>-9.114211</td>\n",
              "      <td>17.023947</td>\n",
              "      <td>0.759872</td>\n",
              "      <td>0.289106</td>\n",
              "      <td>-9.672384</td>\n",
              "      <td>-6.628329</td>\n",
              "      <td>-20.923655</td>\n",
              "      <td>-2.678802</td>\n",
              "      <td>-4.249349</td>\n",
              "      <td>-5.525171</td>\n",
              "      <td>-1.133821</td>\n",
              "      <td>0.000001</td>\n",
              "      <td>0.000016</td>\n",
              "      <td>0.000329</td>\n",
              "      <td>0.010903</td>\n",
              "      <td>0.074169</td>\n",
              "      <td>0.124947</td>\n",
              "      <td>0.133783</td>\n",
              "      <td>0.016098</td>\n",
              "      <td>0.018285</td>\n",
              "      <td>0.052441</td>\n",
              "      <td>0.083073</td>\n",
              "      <td>0.033742</td>\n",
              "      <td>0.067630</td>\n",
              "      <td>0.127787</td>\n",
              "      <td>0.122495</td>\n",
              "      <td>0.192502</td>\n",
              "      <td>0.132279</td>\n",
              "      <td>0.053741</td>\n",
              "      <td>0.064878</td>\n",
              "      <td>0.103478</td>\n",
              "      <td>0.220608</td>\n",
              "      <td>0.117464</td>\n",
              "      <td>0.024270</td>\n",
              "      <td>0.009286</td>\n",
              "      <td>0.008385</td>\n",
              "      <td>0.023685</td>\n",
              "      <td>0.027281</td>\n",
              "      <td>...</td>\n",
              "      <td>-3.169278e-17</td>\n",
              "      <td>6.655589e-17</td>\n",
              "      <td>1.389399e-17</td>\n",
              "      <td>3.772211e-17</td>\n",
              "      <td>-7.566097e-18</td>\n",
              "      <td>2.632952e-17</td>\n",
              "      <td>1.290059e-17</td>\n",
              "      <td>2.385455e-17</td>\n",
              "      <td>8.670609e-18</td>\n",
              "      <td>2.285317e-17</td>\n",
              "      <td>1.200658e-18</td>\n",
              "      <td>5.294164e-17</td>\n",
              "      <td>8.510281e-18</td>\n",
              "      <td>4.050176e-17</td>\n",
              "      <td>-6.615700e-18</td>\n",
              "      <td>4.813192e-17</td>\n",
              "      <td>-4.515122e-17</td>\n",
              "      <td>4.916996e-17</td>\n",
              "      <td>-3.782390e-17</td>\n",
              "      <td>1.885078e-17</td>\n",
              "      <td>-2.347669e-18</td>\n",
              "      <td>2.622868e-17</td>\n",
              "      <td>2.529666e-17</td>\n",
              "      <td>-3.680195e-17</td>\n",
              "      <td>2.625130e-17</td>\n",
              "      <td>-4.013103e-17</td>\n",
              "      <td>2.030790e-17</td>\n",
              "      <td>-7.108426e-18</td>\n",
              "      <td>2.296843e-17</td>\n",
              "      <td>-5.197880e-17</td>\n",
              "      <td>6.043015e-17</td>\n",
              "      <td>-2.176813e-17</td>\n",
              "      <td>3.269775e-17</td>\n",
              "      <td>1.253088e-17</td>\n",
              "      <td>-6.904360e-18</td>\n",
              "      <td>4.089239e-17</td>\n",
              "      <td>-9.300289e-18</td>\n",
              "      <td>1.876983e-17</td>\n",
              "      <td>1.719912e-17</td>\n",
              "      <td>sad</td>\n",
              "    </tr>\n",
              "    <tr>\n",
              "      <th>2</th>\n",
              "      <td>-405.536560</td>\n",
              "      <td>35.899506</td>\n",
              "      <td>-21.589775</td>\n",
              "      <td>10.615099</td>\n",
              "      <td>-12.247245</td>\n",
              "      <td>1.386372</td>\n",
              "      <td>-16.413448</td>\n",
              "      <td>-4.795670</td>\n",
              "      <td>-21.391001</td>\n",
              "      <td>-2.505552</td>\n",
              "      <td>-7.871837</td>\n",
              "      <td>-5.305902</td>\n",
              "      <td>-6.280683</td>\n",
              "      <td>0.002326</td>\n",
              "      <td>0.001501</td>\n",
              "      <td>0.001673</td>\n",
              "      <td>0.003428</td>\n",
              "      <td>0.042046</td>\n",
              "      <td>0.262092</td>\n",
              "      <td>0.561856</td>\n",
              "      <td>0.804515</td>\n",
              "      <td>1.015966</td>\n",
              "      <td>2.943118</td>\n",
              "      <td>5.422922</td>\n",
              "      <td>3.608459</td>\n",
              "      <td>2.336018</td>\n",
              "      <td>2.385839</td>\n",
              "      <td>1.647708</td>\n",
              "      <td>1.484166</td>\n",
              "      <td>0.442627</td>\n",
              "      <td>0.757970</td>\n",
              "      <td>2.124578</td>\n",
              "      <td>5.486774</td>\n",
              "      <td>4.302755</td>\n",
              "      <td>2.505256</td>\n",
              "      <td>1.347026</td>\n",
              "      <td>1.708984</td>\n",
              "      <td>0.673048</td>\n",
              "      <td>0.894161</td>\n",
              "      <td>1.090497</td>\n",
              "      <td>...</td>\n",
              "      <td>7.224722e-08</td>\n",
              "      <td>5.732959e-08</td>\n",
              "      <td>4.509759e-08</td>\n",
              "      <td>3.513531e-08</td>\n",
              "      <td>2.707811e-08</td>\n",
              "      <td>2.061007e-08</td>\n",
              "      <td>1.546064e-08</td>\n",
              "      <td>1.140037e-08</td>\n",
              "      <td>8.236882e-09</td>\n",
              "      <td>5.810161e-09</td>\n",
              "      <td>3.985338e-09</td>\n",
              "      <td>2.645534e-09</td>\n",
              "      <td>1.689206e-09</td>\n",
              "      <td>1.029196e-09</td>\n",
              "      <td>5.919389e-10</td>\n",
              "      <td>3.166232e-10</td>\n",
              "      <td>1.542208e-10</td>\n",
              "      <td>6.635029e-11</td>\n",
              "      <td>2.409112e-11</td>\n",
              "      <td>6.856975e-12</td>\n",
              "      <td>1.321486e-12</td>\n",
              "      <td>1.136542e-13</td>\n",
              "      <td>4.267823e-17</td>\n",
              "      <td>-4.537954e-17</td>\n",
              "      <td>5.595816e-17</td>\n",
              "      <td>-5.368287e-17</td>\n",
              "      <td>3.464886e-17</td>\n",
              "      <td>-1.642577e-17</td>\n",
              "      <td>3.495048e-17</td>\n",
              "      <td>-4.935990e-17</td>\n",
              "      <td>8.943410e-17</td>\n",
              "      <td>-3.226123e-17</td>\n",
              "      <td>4.087913e-17</td>\n",
              "      <td>2.567693e-17</td>\n",
              "      <td>1.564107e-19</td>\n",
              "      <td>5.019410e-17</td>\n",
              "      <td>1.219639e-18</td>\n",
              "      <td>2.315104e-17</td>\n",
              "      <td>2.976570e-17</td>\n",
              "      <td>angry</td>\n",
              "    </tr>\n",
              "    <tr>\n",
              "      <th>3</th>\n",
              "      <td>-627.439819</td>\n",
              "      <td>65.294777</td>\n",
              "      <td>-8.142694</td>\n",
              "      <td>20.094799</td>\n",
              "      <td>2.217384</td>\n",
              "      <td>4.312598</td>\n",
              "      <td>-8.066018</td>\n",
              "      <td>-6.686984</td>\n",
              "      <td>-14.164406</td>\n",
              "      <td>2.684235</td>\n",
              "      <td>-3.951849</td>\n",
              "      <td>1.511707</td>\n",
              "      <td>-2.152171</td>\n",
              "      <td>0.000267</td>\n",
              "      <td>0.000094</td>\n",
              "      <td>0.000968</td>\n",
              "      <td>0.035631</td>\n",
              "      <td>0.191875</td>\n",
              "      <td>0.053334</td>\n",
              "      <td>0.003884</td>\n",
              "      <td>0.003720</td>\n",
              "      <td>0.049795</td>\n",
              "      <td>0.203631</td>\n",
              "      <td>0.059680</td>\n",
              "      <td>0.030760</td>\n",
              "      <td>0.011082</td>\n",
              "      <td>0.061688</td>\n",
              "      <td>0.148226</td>\n",
              "      <td>0.052766</td>\n",
              "      <td>0.059522</td>\n",
              "      <td>0.073923</td>\n",
              "      <td>0.124947</td>\n",
              "      <td>0.115085</td>\n",
              "      <td>0.015583</td>\n",
              "      <td>0.003728</td>\n",
              "      <td>0.030241</td>\n",
              "      <td>0.060317</td>\n",
              "      <td>0.033306</td>\n",
              "      <td>0.004509</td>\n",
              "      <td>0.002097</td>\n",
              "      <td>...</td>\n",
              "      <td>-3.874506e-17</td>\n",
              "      <td>5.719856e-17</td>\n",
              "      <td>1.205596e-17</td>\n",
              "      <td>3.770496e-17</td>\n",
              "      <td>-1.756659e-17</td>\n",
              "      <td>1.907718e-17</td>\n",
              "      <td>7.882742e-18</td>\n",
              "      <td>1.586450e-17</td>\n",
              "      <td>6.692206e-18</td>\n",
              "      <td>1.680508e-17</td>\n",
              "      <td>-2.401926e-18</td>\n",
              "      <td>5.503119e-17</td>\n",
              "      <td>1.237641e-17</td>\n",
              "      <td>3.657600e-17</td>\n",
              "      <td>-1.293922e-17</td>\n",
              "      <td>4.330203e-17</td>\n",
              "      <td>-4.051145e-17</td>\n",
              "      <td>4.459077e-17</td>\n",
              "      <td>-3.339201e-17</td>\n",
              "      <td>1.343793e-17</td>\n",
              "      <td>1.581917e-18</td>\n",
              "      <td>1.405179e-17</td>\n",
              "      <td>1.757829e-17</td>\n",
              "      <td>-3.549109e-17</td>\n",
              "      <td>3.394709e-17</td>\n",
              "      <td>-4.093304e-17</td>\n",
              "      <td>1.092685e-17</td>\n",
              "      <td>-2.281932e-18</td>\n",
              "      <td>1.480616e-17</td>\n",
              "      <td>-5.016810e-17</td>\n",
              "      <td>6.776955e-17</td>\n",
              "      <td>-2.791640e-17</td>\n",
              "      <td>3.576502e-17</td>\n",
              "      <td>7.930375e-18</td>\n",
              "      <td>-1.094875e-17</td>\n",
              "      <td>4.298573e-17</td>\n",
              "      <td>-4.057661e-18</td>\n",
              "      <td>1.269712e-17</td>\n",
              "      <td>1.147035e-17</td>\n",
              "      <td>fear</td>\n",
              "    </tr>\n",
              "    <tr>\n",
              "      <th>4</th>\n",
              "      <td>-529.751282</td>\n",
              "      <td>45.074440</td>\n",
              "      <td>-10.304814</td>\n",
              "      <td>12.880028</td>\n",
              "      <td>-8.027542</td>\n",
              "      <td>0.794448</td>\n",
              "      <td>-11.269848</td>\n",
              "      <td>-4.601147</td>\n",
              "      <td>-16.828745</td>\n",
              "      <td>-3.150034</td>\n",
              "      <td>-7.620333</td>\n",
              "      <td>-3.844648</td>\n",
              "      <td>-5.978425</td>\n",
              "      <td>0.000229</td>\n",
              "      <td>0.000308</td>\n",
              "      <td>0.000594</td>\n",
              "      <td>0.008199</td>\n",
              "      <td>0.062350</td>\n",
              "      <td>0.219425</td>\n",
              "      <td>0.240217</td>\n",
              "      <td>0.161056</td>\n",
              "      <td>0.160428</td>\n",
              "      <td>0.221110</td>\n",
              "      <td>0.414960</td>\n",
              "      <td>0.822955</td>\n",
              "      <td>0.381988</td>\n",
              "      <td>0.260932</td>\n",
              "      <td>0.277247</td>\n",
              "      <td>0.086902</td>\n",
              "      <td>0.054600</td>\n",
              "      <td>0.092731</td>\n",
              "      <td>0.219931</td>\n",
              "      <td>0.325089</td>\n",
              "      <td>0.551596</td>\n",
              "      <td>0.292366</td>\n",
              "      <td>0.129719</td>\n",
              "      <td>0.213177</td>\n",
              "      <td>0.121925</td>\n",
              "      <td>0.021738</td>\n",
              "      <td>0.021244</td>\n",
              "      <td>...</td>\n",
              "      <td>-3.822275e-17</td>\n",
              "      <td>6.061814e-17</td>\n",
              "      <td>2.056532e-17</td>\n",
              "      <td>3.073905e-17</td>\n",
              "      <td>-2.575724e-18</td>\n",
              "      <td>1.786050e-17</td>\n",
              "      <td>9.502169e-18</td>\n",
              "      <td>2.462988e-17</td>\n",
              "      <td>4.412133e-18</td>\n",
              "      <td>1.973884e-17</td>\n",
              "      <td>2.546790e-18</td>\n",
              "      <td>4.469742e-17</td>\n",
              "      <td>1.235430e-17</td>\n",
              "      <td>3.971369e-17</td>\n",
              "      <td>-5.780509e-18</td>\n",
              "      <td>4.850002e-17</td>\n",
              "      <td>-4.340821e-17</td>\n",
              "      <td>3.695059e-17</td>\n",
              "      <td>-3.083818e-17</td>\n",
              "      <td>1.922372e-17</td>\n",
              "      <td>4.086729e-18</td>\n",
              "      <td>2.718430e-17</td>\n",
              "      <td>2.190868e-17</td>\n",
              "      <td>-3.876479e-17</td>\n",
              "      <td>2.944741e-17</td>\n",
              "      <td>-3.078862e-17</td>\n",
              "      <td>2.593524e-17</td>\n",
              "      <td>-1.392740e-17</td>\n",
              "      <td>3.688227e-17</td>\n",
              "      <td>-4.282689e-17</td>\n",
              "      <td>5.754074e-17</td>\n",
              "      <td>-3.049610e-17</td>\n",
              "      <td>3.367459e-17</td>\n",
              "      <td>1.770122e-17</td>\n",
              "      <td>-7.872020e-18</td>\n",
              "      <td>4.530384e-17</td>\n",
              "      <td>-1.079236e-17</td>\n",
              "      <td>1.571406e-17</td>\n",
              "      <td>2.671489e-17</td>\n",
              "      <td>angry</td>\n",
              "    </tr>\n",
              "  </tbody>\n",
              "</table>\n",
              "<p>5 rows × 526 columns</p>\n",
              "</div>"
            ],
            "text/plain": [
              "            0          1          2  ...           523           524  labels\n",
              "0 -542.508118  54.402779 -13.658027  ...  1.507654e-17  1.507481e-17   happy\n",
              "1 -622.661438  58.430439  -9.114211  ...  1.876983e-17  1.719912e-17     sad\n",
              "2 -405.536560  35.899506 -21.589775  ...  2.315104e-17  2.976570e-17   angry\n",
              "3 -627.439819  65.294777  -8.142694  ...  1.269712e-17  1.147035e-17    fear\n",
              "4 -529.751282  45.074440 -10.304814  ...  1.571406e-17  2.671489e-17   angry\n",
              "\n",
              "[5 rows x 526 columns]"
            ]
          },
          "metadata": {
            "tags": []
          },
          "execution_count": 3
        }
      ]
    },
    {
      "cell_type": "code",
      "metadata": {
        "colab": {
          "base_uri": "https://localhost:8080/"
        },
        "id": "4D2myJ17_d3q",
        "outputId": "ca1c85de-6016-4c02-e9e7-fcb47d6fe027"
      },
      "source": [
        "dataset.labels.value_counts()"
      ],
      "execution_count": null,
      "outputs": [
        {
          "output_type": "execute_result",
          "data": {
            "text/plain": [
              "fear     192\n",
              "happy    192\n",
              "sad      192\n",
              "angry    192\n",
              "Name: labels, dtype: int64"
            ]
          },
          "metadata": {
            "tags": []
          },
          "execution_count": 5
        }
      ]
    },
    {
      "cell_type": "markdown",
      "metadata": {
        "id": "IDFEVF570_rl"
      },
      "source": [
        "## Modeling"
      ]
    },
    {
      "cell_type": "markdown",
      "metadata": {
        "id": "WLB_d6YJ1RP1"
      },
      "source": [
        "### MLPClassifier"
      ]
    },
    {
      "cell_type": "code",
      "metadata": {
        "id": "RmyGeJT8vgEr"
      },
      "source": [
        "X = dataset.iloc[:, :-1].values\n",
        "Y = dataset.iloc[:, -1].values"
      ],
      "execution_count": null,
      "outputs": []
    },
    {
      "cell_type": "code",
      "metadata": {
        "id": "cUN614nz1gNZ"
      },
      "source": [
        "x_train, x_test, y_train, y_test = train_test_split(np.array(X), Y, test_size = 0.25, random_state = 9)"
      ],
      "execution_count": null,
      "outputs": []
    },
    {
      "cell_type": "code",
      "metadata": {
        "colab": {
          "base_uri": "https://localhost:8080/"
        },
        "id": "FEi7lWlztAEE",
        "outputId": "4983f7fd-8d6a-48df-f1ff-bf094acb2ef5"
      },
      "source": [
        "x_train.shape"
      ],
      "execution_count": null,
      "outputs": [
        {
          "output_type": "execute_result",
          "data": {
            "text/plain": [
              "(576, 525)"
            ]
          },
          "metadata": {
            "tags": []
          },
          "execution_count": 7
        }
      ]
    },
    {
      "cell_type": "code",
      "metadata": {
        "id": "CIqhkZMuOI0l"
      },
      "source": [
        "model=MLPClassifier(alpha=0.01, batch_size=256, epsilon=1e-08, hidden_layer_sizes=(300,), learning_rate='adaptive', max_iter=500)"
      ],
      "execution_count": null,
      "outputs": []
    },
    {
      "cell_type": "code",
      "metadata": {
        "colab": {
          "base_uri": "https://localhost:8080/"
        },
        "id": "_FilJ0CqmQq5",
        "outputId": "8f6ecb60-b4a4-4106-8f92-fb030b937284"
      },
      "source": [
        "model.fit(x_train, y_train)"
      ],
      "execution_count": null,
      "outputs": [
        {
          "output_type": "execute_result",
          "data": {
            "text/plain": [
              "MLPClassifier(activation='relu', alpha=0.01, batch_size=256, beta_1=0.9,\n",
              "              beta_2=0.999, early_stopping=False, epsilon=1e-08,\n",
              "              hidden_layer_sizes=(300,), learning_rate='adaptive',\n",
              "              learning_rate_init=0.001, max_fun=15000, max_iter=500,\n",
              "              momentum=0.9, n_iter_no_change=10, nesterovs_momentum=True,\n",
              "              power_t=0.5, random_state=None, shuffle=True, solver='adam',\n",
              "              tol=0.0001, validation_fraction=0.1, verbose=False,\n",
              "              warm_start=False)"
            ]
          },
          "metadata": {
            "tags": []
          },
          "execution_count": 9
        }
      ]
    },
    {
      "cell_type": "markdown",
      "metadata": {
        "id": "YzWvsB1Vzj9F"
      },
      "source": [
        "### LightGBM"
      ]
    },
    {
      "cell_type": "code",
      "metadata": {
        "id": "vgY7MCwwJweQ"
      },
      "source": [
        "data = dataset.copy()\n",
        "data.labels = data.labels.map({'angry':0, 'fear':1, 'happy':2, 'sad':3})"
      ],
      "execution_count": null,
      "outputs": []
    },
    {
      "cell_type": "code",
      "metadata": {
        "colab": {
          "base_uri": "https://localhost:8080/"
        },
        "id": "OJmWtCAxNIxc",
        "outputId": "9c518f61-826b-4432-c7aa-9ab76847d23d"
      },
      "source": [
        "data.labels.value_counts()"
      ],
      "execution_count": null,
      "outputs": [
        {
          "output_type": "execute_result",
          "data": {
            "text/plain": [
              "3    192\n",
              "2    192\n",
              "1    192\n",
              "0    192\n",
              "Name: labels, dtype: int64"
            ]
          },
          "metadata": {
            "tags": []
          },
          "execution_count": 18
        }
      ]
    },
    {
      "cell_type": "code",
      "metadata": {
        "id": "duKnnoH1J2X3"
      },
      "source": [
        "X = data.iloc[:, :-1].values\n",
        "Y = data.iloc[:, -1].values"
      ],
      "execution_count": null,
      "outputs": []
    },
    {
      "cell_type": "code",
      "metadata": {
        "id": "a32K62e-vgEr"
      },
      "source": [
        "x_train, x_test, y_train, y_test = train_test_split(X, Y, test_size = 0.25, random_state = 0)\n",
        "x_train, x_valid, y_train, y_valid = train_test_split(x_train, y_train, test_size=0.1, random_state=0)\n",
        "\n",
        "sc = StandardScaler()\n",
        "x_train = sc.fit_transform(x_train)\n",
        "x_test = sc.transform(x_test)\n",
        "x_valid = sc.transform(x_valid)"
      ],
      "execution_count": null,
      "outputs": []
    },
    {
      "cell_type": "code",
      "metadata": {
        "id": "Zoa4feXDvgEs"
      },
      "source": [
        "NUM_CLASS = 4\n",
        "\n",
        "params = {}\n",
        "params['learning_rate'] = 0.01\n",
        "params['boosting_type'] = 'gbdt'\n",
        "params['objective'] = 'multiclass'\n",
        "params['metric'] = 'multi_logloss'\n",
        "params['num_leaves'] = 100\n",
        "params['min_data'] = 100\n",
        "params['max_depth'] = 50\n",
        "params['num_class'] = NUM_CLASS\n",
        "params['max_bin'] = 150 # small max_bin causes faster speed and large value improves accuracy\n",
        "params['bagging_freq'] = 100\n",
        "params['feature_fraction'] = 0.6 # deal with column\n",
        "params['bagging_fraction'] = 0.6\n",
        "# params['device'] = 'gpu'\n",
        "#params['num_iterations'] = 1000\n",
        "#params['early_stopping_rounds'] = 100# the rule of thumb is to have it at 10% of your num_iterations"
      ],
      "execution_count": null,
      "outputs": []
    },
    {
      "cell_type": "code",
      "metadata": {
        "colab": {
          "base_uri": "https://localhost:8080/"
        },
        "id": "6Fdn0eNsvgEt",
        "outputId": "8e5c475e-8d6b-46db-f1e4-94692ff7378e"
      },
      "source": [
        "x_test.shape"
      ],
      "execution_count": null,
      "outputs": [
        {
          "output_type": "execute_result",
          "data": {
            "text/plain": [
              "(192, 525)"
            ]
          },
          "metadata": {
            "tags": []
          },
          "execution_count": 22
        }
      ]
    },
    {
      "cell_type": "code",
      "metadata": {
        "id": "tdDGlZ8n44Ez"
      },
      "source": [
        "import lightgbm as lgb"
      ],
      "execution_count": null,
      "outputs": []
    },
    {
      "cell_type": "code",
      "metadata": {
        "colab": {
          "base_uri": "https://localhost:8080/"
        },
        "id": "KC3etxXzyhS8",
        "outputId": "4e607589-dff3-49bf-ea37-38f634a2ec9f"
      },
      "source": [
        "dtrain = lgb.Dataset(x_train, y_train)\n",
        "dvalid = lgb.Dataset(x_valid, y_valid)\n",
        "lgb_model = lgb.train(params, \n",
        "                          dtrain, \n",
        "                          num_boost_round=10000,\n",
        "                          early_stopping_rounds=1000,\n",
        "                          valid_sets=(dtrain, dvalid), \n",
        "                          valid_names=('train','valid'),\n",
        "                          verbose_eval = 100)"
      ],
      "execution_count": null,
      "outputs": [
        {
          "output_type": "stream",
          "text": [
            "Training until validation scores don't improve for 1000 rounds.\n",
            "[100]\ttrain's multi_logloss: 1.17049\tvalid's multi_logloss: 1.28773\n",
            "[200]\ttrain's multi_logloss: 1.06212\tvalid's multi_logloss: 1.25034\n",
            "[300]\ttrain's multi_logloss: 0.991832\tvalid's multi_logloss: 1.22281\n",
            "[400]\ttrain's multi_logloss: 0.932602\tvalid's multi_logloss: 1.20796\n",
            "[500]\ttrain's multi_logloss: 0.878905\tvalid's multi_logloss: 1.19234\n",
            "[600]\ttrain's multi_logloss: 0.834045\tvalid's multi_logloss: 1.16677\n",
            "[700]\ttrain's multi_logloss: 0.797901\tvalid's multi_logloss: 1.16157\n",
            "[800]\ttrain's multi_logloss: 0.768576\tvalid's multi_logloss: 1.13779\n",
            "[900]\ttrain's multi_logloss: 0.734627\tvalid's multi_logloss: 1.12671\n",
            "[1000]\ttrain's multi_logloss: 0.709474\tvalid's multi_logloss: 1.14137\n",
            "[1100]\ttrain's multi_logloss: 0.686963\tvalid's multi_logloss: 1.16322\n",
            "[1200]\ttrain's multi_logloss: 0.65643\tvalid's multi_logloss: 1.13366\n",
            "[1300]\ttrain's multi_logloss: 0.635987\tvalid's multi_logloss: 1.12744\n",
            "[1400]\ttrain's multi_logloss: 0.61156\tvalid's multi_logloss: 1.11687\n",
            "[1500]\ttrain's multi_logloss: 0.58877\tvalid's multi_logloss: 1.12791\n",
            "[1600]\ttrain's multi_logloss: 0.571211\tvalid's multi_logloss: 1.10371\n",
            "[1700]\ttrain's multi_logloss: 0.554825\tvalid's multi_logloss: 1.1206\n",
            "[1800]\ttrain's multi_logloss: 0.537085\tvalid's multi_logloss: 1.13035\n",
            "[1900]\ttrain's multi_logloss: 0.517293\tvalid's multi_logloss: 1.10582\n",
            "[2000]\ttrain's multi_logloss: 0.50161\tvalid's multi_logloss: 1.13156\n",
            "[2100]\ttrain's multi_logloss: 0.483349\tvalid's multi_logloss: 1.12371\n",
            "[2200]\ttrain's multi_logloss: 0.470704\tvalid's multi_logloss: 1.11415\n",
            "[2300]\ttrain's multi_logloss: 0.457368\tvalid's multi_logloss: 1.10271\n",
            "[2400]\ttrain's multi_logloss: 0.445113\tvalid's multi_logloss: 1.10081\n",
            "[2500]\ttrain's multi_logloss: 0.434641\tvalid's multi_logloss: 1.11417\n",
            "[2600]\ttrain's multi_logloss: 0.421502\tvalid's multi_logloss: 1.12394\n",
            "[2700]\ttrain's multi_logloss: 0.407991\tvalid's multi_logloss: 1.11362\n",
            "[2800]\ttrain's multi_logloss: 0.392298\tvalid's multi_logloss: 1.13285\n",
            "[2900]\ttrain's multi_logloss: 0.383038\tvalid's multi_logloss: 1.11819\n",
            "[3000]\ttrain's multi_logloss: 0.369133\tvalid's multi_logloss: 1.10676\n",
            "[3100]\ttrain's multi_logloss: 0.359888\tvalid's multi_logloss: 1.09261\n",
            "[3200]\ttrain's multi_logloss: 0.352811\tvalid's multi_logloss: 1.08148\n",
            "[3300]\ttrain's multi_logloss: 0.344394\tvalid's multi_logloss: 1.08511\n",
            "[3400]\ttrain's multi_logloss: 0.333683\tvalid's multi_logloss: 1.0812\n",
            "[3500]\ttrain's multi_logloss: 0.324125\tvalid's multi_logloss: 1.07753\n",
            "[3600]\ttrain's multi_logloss: 0.315209\tvalid's multi_logloss: 1.06716\n",
            "[3700]\ttrain's multi_logloss: 0.307342\tvalid's multi_logloss: 1.07251\n",
            "[3800]\ttrain's multi_logloss: 0.297523\tvalid's multi_logloss: 1.07545\n",
            "[3900]\ttrain's multi_logloss: 0.289613\tvalid's multi_logloss: 1.09156\n",
            "[4000]\ttrain's multi_logloss: 0.284716\tvalid's multi_logloss: 1.06559\n",
            "[4100]\ttrain's multi_logloss: 0.278843\tvalid's multi_logloss: 1.06084\n",
            "[4200]\ttrain's multi_logloss: 0.270083\tvalid's multi_logloss: 1.07753\n",
            "[4300]\ttrain's multi_logloss: 0.261711\tvalid's multi_logloss: 1.08265\n",
            "[4400]\ttrain's multi_logloss: 0.255715\tvalid's multi_logloss: 1.07958\n",
            "[4500]\ttrain's multi_logloss: 0.246591\tvalid's multi_logloss: 1.07429\n",
            "[4600]\ttrain's multi_logloss: 0.241503\tvalid's multi_logloss: 1.0571\n",
            "[4700]\ttrain's multi_logloss: 0.234614\tvalid's multi_logloss: 1.06605\n",
            "[4800]\ttrain's multi_logloss: 0.228526\tvalid's multi_logloss: 1.06413\n",
            "[4900]\ttrain's multi_logloss: 0.222254\tvalid's multi_logloss: 1.05741\n",
            "[5000]\ttrain's multi_logloss: 0.215544\tvalid's multi_logloss: 1.04881\n",
            "[5100]\ttrain's multi_logloss: 0.210268\tvalid's multi_logloss: 1.05005\n",
            "[5200]\ttrain's multi_logloss: 0.20553\tvalid's multi_logloss: 1.05913\n",
            "[5300]\ttrain's multi_logloss: 0.2\tvalid's multi_logloss: 1.08104\n",
            "[5400]\ttrain's multi_logloss: 0.19559\tvalid's multi_logloss: 1.08086\n",
            "[5500]\ttrain's multi_logloss: 0.18958\tvalid's multi_logloss: 1.09039\n",
            "[5600]\ttrain's multi_logloss: 0.184297\tvalid's multi_logloss: 1.09974\n",
            "[5700]\ttrain's multi_logloss: 0.180213\tvalid's multi_logloss: 1.09895\n",
            "[5800]\ttrain's multi_logloss: 0.176086\tvalid's multi_logloss: 1.10579\n",
            "[5900]\ttrain's multi_logloss: 0.17234\tvalid's multi_logloss: 1.10571\n",
            "[6000]\ttrain's multi_logloss: 0.169127\tvalid's multi_logloss: 1.11035\n",
            "Early stopping, best iteration is:\n",
            "[5006]\ttrain's multi_logloss: 0.215144\tvalid's multi_logloss: 1.0486\n"
          ],
          "name": "stdout"
        }
      ]
    },
    {
      "cell_type": "markdown",
      "metadata": {
        "id": "jLtfMTqCvgEv"
      },
      "source": [
        "## Experiment results"
      ]
    },
    {
      "cell_type": "markdown",
      "metadata": {
        "id": "ryPwl16W7LE3"
      },
      "source": [
        "### MLP"
      ]
    },
    {
      "cell_type": "code",
      "metadata": {
        "id": "VNNms9KmvgEw"
      },
      "source": [
        "preds = loaded_model.predict(x_test)"
      ],
      "execution_count": null,
      "outputs": []
    },
    {
      "cell_type": "code",
      "metadata": {
        "colab": {
          "base_uri": "https://localhost:8080/",
          "height": 206
        },
        "id": "RIH-WwOJvgEx",
        "outputId": "90c3119d-6366-45ca-e3e9-90c9328f735f"
      },
      "source": [
        "results = pd.DataFrame()\n",
        "results['Actual'] = y_test\n",
        "results['Predicted'] = preds\n",
        "\n",
        "results.head()"
      ],
      "execution_count": null,
      "outputs": [
        {
          "output_type": "execute_result",
          "data": {
            "text/html": [
              "<div>\n",
              "<style scoped>\n",
              "    .dataframe tbody tr th:only-of-type {\n",
              "        vertical-align: middle;\n",
              "    }\n",
              "\n",
              "    .dataframe tbody tr th {\n",
              "        vertical-align: top;\n",
              "    }\n",
              "\n",
              "    .dataframe thead th {\n",
              "        text-align: right;\n",
              "    }\n",
              "</style>\n",
              "<table border=\"1\" class=\"dataframe\">\n",
              "  <thead>\n",
              "    <tr style=\"text-align: right;\">\n",
              "      <th></th>\n",
              "      <th>Actual</th>\n",
              "      <th>Predicted</th>\n",
              "    </tr>\n",
              "  </thead>\n",
              "  <tbody>\n",
              "    <tr>\n",
              "      <th>0</th>\n",
              "      <td>sad</td>\n",
              "      <td>sad</td>\n",
              "    </tr>\n",
              "    <tr>\n",
              "      <th>1</th>\n",
              "      <td>sad</td>\n",
              "      <td>sad</td>\n",
              "    </tr>\n",
              "    <tr>\n",
              "      <th>2</th>\n",
              "      <td>angry</td>\n",
              "      <td>happy</td>\n",
              "    </tr>\n",
              "    <tr>\n",
              "      <th>3</th>\n",
              "      <td>happy</td>\n",
              "      <td>sad</td>\n",
              "    </tr>\n",
              "    <tr>\n",
              "      <th>4</th>\n",
              "      <td>fear</td>\n",
              "      <td>angry</td>\n",
              "    </tr>\n",
              "  </tbody>\n",
              "</table>\n",
              "</div>"
            ],
            "text/plain": [
              "  Actual Predicted\n",
              "0    sad       sad\n",
              "1    sad       sad\n",
              "2  angry     happy\n",
              "3  happy       sad\n",
              "4   fear     angry"
            ]
          },
          "metadata": {
            "tags": []
          },
          "execution_count": 9
        }
      ]
    },
    {
      "cell_type": "code",
      "metadata": {
        "colab": {
          "base_uri": "https://localhost:8080/"
        },
        "id": "yLaWLRp-DnZ4",
        "outputId": "911be0c0-3921-43ce-9654-cf8aad0d82ad"
      },
      "source": [
        "d = results[(results.Actual=='sad') & (results.Predicted=='sad')]\n",
        "d.shape"
      ],
      "execution_count": null,
      "outputs": [
        {
          "output_type": "execute_result",
          "data": {
            "text/plain": [
              "(42, 2)"
            ]
          },
          "metadata": {
            "tags": []
          },
          "execution_count": 44
        }
      ]
    },
    {
      "cell_type": "code",
      "metadata": {
        "colab": {
          "base_uri": "https://localhost:8080/",
          "height": 725
        },
        "id": "xp-c6GQAvgEx",
        "outputId": "27b401f3-e471-4609-930f-8dab255813a3"
      },
      "source": [
        "cm = confusion_matrix(y_test, preds)\n",
        "df_cm = pd.DataFrame(cm,\n",
        "                     index=observed_emotions,\n",
        "                     columns=observed_emotions)\n",
        "plt.figure(figsize=(10, 10))\n",
        "\n",
        "sns.set(font_scale=1)\n",
        "\n",
        "\n",
        "ax = sns.heatmap(df_cm, annot=True, square=True, fmt='d', linewidths=.2, cbar=0, cmap=plt.cm.Blues)\n",
        "ax.set_xticklabels(ax.get_xticklabels(), rotation=0)\n",
        "\n",
        "plt.ylabel('True labels')\n",
        "plt.xlabel('Predicted labels')\n",
        "plt.tight_layout()\n",
        "\n",
        "name = 'tempo_mel_MFCCs feature 70%.png'\n",
        "# plt.savefig('/content/drive/MyDrive/Colab Notebooks/speech/dataset/ravdess/Confusion matrix/mlp Confusion matrix for ' + name)\n",
        "\n",
        "plt.show()"
      ],
      "execution_count": null,
      "outputs": [
        {
          "output_type": "display_data",
          "data": {
            "image/png": "[encoded data removed]",
            "text/plain": [
              "<Figure size 720x720 with 1 Axes>"
            ]
          },
          "metadata": {
            "tags": [],
            "needs_background": "light"
          }
        }
      ]
    },
    {
      "cell_type": "code",
      "metadata": {
        "colab": {
          "base_uri": "https://localhost:8080/"
        },
        "id": "ntzF25X6vgEy",
        "outputId": "ef44a895-a30a-4f9a-9b6c-10605678b606"
      },
      "source": [
        "print(classification_report(y_test, preds))"
      ],
      "execution_count": null,
      "outputs": [
        {
          "output_type": "stream",
          "text": [
            "              precision    recall  f1-score   support\n",
            "\n",
            "       angry       0.85      0.80      0.82        50\n",
            "        fear       0.62      0.71      0.67        42\n",
            "       happy       0.75      0.48      0.59        50\n",
            "         sad       0.62      0.80      0.70        50\n",
            "\n",
            "    accuracy                           0.70       192\n",
            "   macro avg       0.71      0.70      0.69       192\n",
            "weighted avg       0.71      0.70      0.69       192\n",
            "\n"
          ],
          "name": "stdout"
        }
      ]
    },
    {
      "cell_type": "code",
      "metadata": {
        "id": "0RRM2iqAG-Dv"
      },
      "source": [
        "import pickle\n",
        "\n",
        "filename = 'tempo_mel_mfcc_MLP_0.7.sav'\n",
        "# pickle.dump(model, open('/content/drive/MyDrive/Colab Notebooks/speech/dataset/ravdess/Models/' + filename, 'wb'))\n",
        "loaded_model = pickle.load(open('/content/drive/MyDrive/Colab Notebooks/speech/dataset/ravdess/Models/' + filename, 'rb'))"
      ],
      "execution_count": null,
      "outputs": []
    },
    {
      "cell_type": "markdown",
      "metadata": {
        "id": "VqUXxDtQ7PFq"
      },
      "source": [
        "### LGB"
      ]
    },
    {
      "cell_type": "code",
      "metadata": {
        "id": "mn73MpWT7Trw"
      },
      "source": [
        "preds = lgb_model.predict(x_test)"
      ],
      "execution_count": null,
      "outputs": []
    },
    {
      "cell_type": "code",
      "metadata": {
        "id": "2UEuWNRv7Trw"
      },
      "source": [
        "predictions = []\n",
        "\n",
        "for x in preds:\n",
        "    predictions.append(np.argmax(x))"
      ],
      "execution_count": null,
      "outputs": []
    },
    {
      "cell_type": "code",
      "metadata": {
        "colab": {
          "base_uri": "https://localhost:8080/",
          "height": 204
        },
        "id": "ZtPBVmua7Trx",
        "outputId": "d671834d-28fd-4b3a-a45f-c3d9debce8fc"
      },
      "source": [
        "results = pd.DataFrame()\n",
        "results['Actual'] = y_test\n",
        "results['Predicted'] = predictions\n",
        "\n",
        "results['Actual'] = results['Actual'].map({0:'angry', 1:'fear', 2:'happy', 3:'sad'})\n",
        "results['Predicted'] = results['Predicted'].map({0:'angry', 1:'fear', 2:'happy', 3:'sad'})\n",
        "results.head()"
      ],
      "execution_count": null,
      "outputs": [
        {
          "output_type": "execute_result",
          "data": {
            "text/html": [
              "<div>\n",
              "<style scoped>\n",
              "    .dataframe tbody tr th:only-of-type {\n",
              "        vertical-align: middle;\n",
              "    }\n",
              "\n",
              "    .dataframe tbody tr th {\n",
              "        vertical-align: top;\n",
              "    }\n",
              "\n",
              "    .dataframe thead th {\n",
              "        text-align: right;\n",
              "    }\n",
              "</style>\n",
              "<table border=\"1\" class=\"dataframe\">\n",
              "  <thead>\n",
              "    <tr style=\"text-align: right;\">\n",
              "      <th></th>\n",
              "      <th>Actual</th>\n",
              "      <th>Predicted</th>\n",
              "    </tr>\n",
              "  </thead>\n",
              "  <tbody>\n",
              "    <tr>\n",
              "      <th>0</th>\n",
              "      <td>fear</td>\n",
              "      <td>angry</td>\n",
              "    </tr>\n",
              "    <tr>\n",
              "      <th>1</th>\n",
              "      <td>fear</td>\n",
              "      <td>fear</td>\n",
              "    </tr>\n",
              "    <tr>\n",
              "      <th>2</th>\n",
              "      <td>fear</td>\n",
              "      <td>fear</td>\n",
              "    </tr>\n",
              "    <tr>\n",
              "      <th>3</th>\n",
              "      <td>angry</td>\n",
              "      <td>happy</td>\n",
              "    </tr>\n",
              "    <tr>\n",
              "      <th>4</th>\n",
              "      <td>sad</td>\n",
              "      <td>happy</td>\n",
              "    </tr>\n",
              "  </tbody>\n",
              "</table>\n",
              "</div>"
            ],
            "text/plain": [
              "  Actual Predicted\n",
              "0   fear     angry\n",
              "1   fear      fear\n",
              "2   fear      fear\n",
              "3  angry     happy\n",
              "4    sad     happy"
            ]
          },
          "metadata": {
            "tags": []
          },
          "execution_count": 27
        }
      ]
    },
    {
      "cell_type": "code",
      "metadata": {
        "colab": {
          "base_uri": "https://localhost:8080/",
          "height": 725
        },
        "id": "V9dLGq3c7Try",
        "outputId": "835b208c-06b4-4328-82f7-6d50122f99c0"
      },
      "source": [
        "cm = confusion_matrix(y_test, predictions)\n",
        "df_cm = pd.DataFrame(cm,\n",
        "                     index=observed_emotions,\n",
        "                     columns=observed_emotions)\n",
        "\n",
        "plt.figure(figsize=(10, 10))\n",
        "\n",
        "sns.set(font_scale=1)\n",
        "\n",
        "ax = sns.heatmap(df_cm, annot=True, square=True, fmt='d', linewidths=.2, cbar=0, cmap=plt.cm.Blues)\n",
        "ax.set_xticklabels(ax.get_xticklabels(), rotation=0)\n",
        "\n",
        "plt.ylabel('True labels')\n",
        "plt.xlabel('Predicted labels')\n",
        "plt.tight_layout()\n",
        "\n",
        "name = 'tempo_mel_MFCCs feature 59%.png'\n",
        "plt.savefig('/content/drive/MyDrive/Colab Notebooks/speech/dataset/ravdess/Confusion matrix/lgbm Confusion matrix for ' + name)\n",
        "\n",
        "plt.show()"
      ],
      "execution_count": null,
      "outputs": [
        {
          "output_type": "display_data",
          "data": {
            "image/png": "[encoded data removed]",
            "text/plain": [
              "<Figure size 720x720 with 1 Axes>"
            ]
          },
          "metadata": {
            "tags": []
          }
        }
      ]
    },
    {
      "cell_type": "code",
      "metadata": {
        "colab": {
          "base_uri": "https://localhost:8080/"
        },
        "id": "Vyc4zm7_7Try",
        "outputId": "abc676fa-3347-4304-ce36-ddbe5fa29012"
      },
      "source": [
        "print(classification_report(y_test, predictions, target_names=observed_emotions))"
      ],
      "execution_count": null,
      "outputs": [
        {
          "output_type": "stream",
          "text": [
            "              precision    recall  f1-score   support\n",
            "\n",
            "       angry       0.74      0.51      0.60        57\n",
            "        fear       0.52      0.58      0.55        43\n",
            "       happy       0.51      0.60      0.55        45\n",
            "         sad       0.63      0.70      0.67        47\n",
            "\n",
            "    accuracy                           0.59       192\n",
            "   macro avg       0.60      0.60      0.59       192\n",
            "weighted avg       0.61      0.59      0.59       192\n",
            "\n"
          ],
          "name": "stdout"
        }
      ]
    },
    {
      "cell_type": "code",
      "metadata": {
        "id": "JilHgoaPRSv-"
      },
      "source": [
        "import pickle\n",
        "\n",
        "filename = 'tempo_mel_mfcc_lgbm_0.59.sav'\n",
        "pickle.dump(lgb_model, open('/content/drive/MyDrive/Colab Notebooks/speech/dataset/ravdess/Models/' + filename, 'wb'))\n",
        "loaded_model = pickle.load(open('/content/drive/MyDrive/Colab Notebooks/speech/dataset/ravdess/Models/' + filename, 'rb'))"
      ],
      "execution_count": null,
      "outputs": []
    }
  ]
}