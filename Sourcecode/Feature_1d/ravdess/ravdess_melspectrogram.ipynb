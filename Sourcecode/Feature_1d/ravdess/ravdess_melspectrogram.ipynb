{
  "nbformat": 4,
  "nbformat_minor": 0,
  "metadata": {
    "colab": {
      "name": "ravdess_melspectrogram.ipynb",
      "provenance": [],
      "collapsed_sections": [
        "WLB_d6YJ1RP1",
        "odCFHEx9zxwA",
        "ryPwl16W7LE3",
        "ELgXHhU10JBt"
      ]
    },
    "kernelspec": {
      "name": "python3",
      "display_name": "Python 3"
    },
    "language_info": {
      "name": "python"
    }
  },
  "cells": [
    {
      "cell_type": "markdown",
      "metadata": {
        "id": "RvNhofEM0Ios"
      },
      "source": [
        "3/6/2021"
      ]
    },
    {
      "cell_type": "markdown",
      "metadata": {
        "id": "hykoJ3USvgEY"
      },
      "source": [
        "## Load libraries"
      ]
    },
    {
      "cell_type": "code",
      "metadata": {
        "id": "RTNof-kwzXZ1"
      },
      "source": [
        "import pandas as pd\n",
        "import numpy as np\n",
        "\n",
        "import os\n",
        "import sys\n",
        "\n",
        "from sklearn.neural_network import MLPClassifier\n",
        "\n",
        "import librosa\n",
        "import librosa.display\n",
        "import seaborn as sns\n",
        "import matplotlib.pyplot as plt\n",
        "\n",
        "from sklearn.preprocessing import StandardScaler, OneHotEncoder\n",
        "from sklearn.metrics import confusion_matrix, classification_report\n",
        "from sklearn.model_selection import train_test_split\n",
        "\n",
        "# to play the audio files\n",
        "from IPython.display import Audio\n",
        "\n",
        "import warnings\n",
        "if not sys.warnoptions:\n",
        "    warnings.simplefilter(\"ignore\")\n",
        "warnings.filterwarnings(\"ignore\", category=DeprecationWarning) "
      ],
      "execution_count": null,
      "outputs": []
    },
    {
      "cell_type": "markdown",
      "metadata": {
        "id": "JFURsK6wvgEc"
      },
      "source": [
        "## Load and set data paths"
      ]
    },
    {
      "cell_type": "code",
      "metadata": {
        "id": "6fKOfKsqz1Uf"
      },
      "source": [
        "Ravdess = '/content/drive/MyDrive/Colab Notebooks/speech/dataset/ravdess/audio_speech_actors_01-24/'"
      ],
      "execution_count": null,
      "outputs": []
    },
    {
      "cell_type": "code",
      "metadata": {
        "colab": {
          "base_uri": "https://localhost:8080/",
          "height": 195
        },
        "id": "kux5GOAlz1u_",
        "outputId": "350887be-da20-4d86-ffb2-62c2cc37b364"
      },
      "source": [
        "ravdess_directory_list = os.listdir(Ravdess)\n",
        "\n",
        "file_emotion = []\n",
        "file_path = []\n",
        "for dir in ravdess_directory_list:\n",
        "    # as their are 20 different actors in our previous directory we need to extract files for each actor.\n",
        "    actor = os.listdir(Ravdess + dir)\n",
        "    for file in actor:\n",
        "        part = file.split('.')[0]\n",
        "        part = part.split('-')\n",
        "        # third part in each file represents the emotion associated to that file.\n",
        "        file_emotion.append(int(part[2]))\n",
        "        file_path.append(Ravdess + dir + '/' + file)\n",
        "        \n",
        "# dataframe for emotion of files\n",
        "emotion_df = pd.DataFrame(file_emotion, columns=['Emotions'])\n",
        "\n",
        "# dataframe for path of files.\n",
        "path_df = pd.DataFrame(file_path, columns=['Path'])\n",
        "Ravdess_df = pd.concat([emotion_df, path_df], axis=1)\n",
        "\n",
        "# changing integers to actual emotions.\n",
        "Ravdess_df.Emotions.replace({1:'neutral', 2:'calm', 3:'happy', 4:'sad', 5:'angry', 6:'fear', 7:'disgust', 8:'surprise'}, inplace=True)\n",
        "Ravdess_df.head()"
      ],
      "execution_count": null,
      "outputs": [
        {
          "output_type": "execute_result",
          "data": {
            "text/html": [
              "<div>\n",
              "<style scoped>\n",
              "    .dataframe tbody tr th:only-of-type {\n",
              "        vertical-align: middle;\n",
              "    }\n",
              "\n",
              "    .dataframe tbody tr th {\n",
              "        vertical-align: top;\n",
              "    }\n",
              "\n",
              "    .dataframe thead th {\n",
              "        text-align: right;\n",
              "    }\n",
              "</style>\n",
              "<table border=\"1\" class=\"dataframe\">\n",
              "  <thead>\n",
              "    <tr style=\"text-align: right;\">\n",
              "      <th></th>\n",
              "      <th>Emotions</th>\n",
              "      <th>Path</th>\n",
              "    </tr>\n",
              "  </thead>\n",
              "  <tbody>\n",
              "    <tr>\n",
              "      <th>0</th>\n",
              "      <td>calm</td>\n",
              "      <td>/content/drive/MyDrive/Colab Notebooks/speech/...</td>\n",
              "    </tr>\n",
              "    <tr>\n",
              "      <th>1</th>\n",
              "      <td>happy</td>\n",
              "      <td>/content/drive/MyDrive/Colab Notebooks/speech/...</td>\n",
              "    </tr>\n",
              "    <tr>\n",
              "      <th>2</th>\n",
              "      <td>sad</td>\n",
              "      <td>/content/drive/MyDrive/Colab Notebooks/speech/...</td>\n",
              "    </tr>\n",
              "    <tr>\n",
              "      <th>3</th>\n",
              "      <td>angry</td>\n",
              "      <td>/content/drive/MyDrive/Colab Notebooks/speech/...</td>\n",
              "    </tr>\n",
              "    <tr>\n",
              "      <th>4</th>\n",
              "      <td>calm</td>\n",
              "      <td>/content/drive/MyDrive/Colab Notebooks/speech/...</td>\n",
              "    </tr>\n",
              "  </tbody>\n",
              "</table>\n",
              "</div>"
            ],
            "text/plain": [
              "  Emotions                                               Path\n",
              "0     calm  /content/drive/MyDrive/Colab Notebooks/speech/...\n",
              "1    happy  /content/drive/MyDrive/Colab Notebooks/speech/...\n",
              "2      sad  /content/drive/MyDrive/Colab Notebooks/speech/...\n",
              "3    angry  /content/drive/MyDrive/Colab Notebooks/speech/...\n",
              "4     calm  /content/drive/MyDrive/Colab Notebooks/speech/..."
            ]
          },
          "metadata": {
            "tags": []
          },
          "execution_count": 4
        }
      ]
    },
    {
      "cell_type": "code",
      "metadata": {
        "id": "C1xzkXvI0bDi"
      },
      "source": [
        "Ravdess_df.to_csv('/content/drive/MyDrive/Colab Notebooks/speech/dataset/ravdess/ravdess_path.csv', index=0)"
      ],
      "execution_count": null,
      "outputs": []
    },
    {
      "cell_type": "code",
      "metadata": {
        "id": "3QBE0bNY07Ex"
      },
      "source": [
        "Ravdess_df = pd.read_csv('/content/drive/MyDrive/Colab Notebooks/speech/dataset/ravdess/ravdess_path.csv')"
      ],
      "execution_count": null,
      "outputs": []
    },
    {
      "cell_type": "code",
      "metadata": {
        "colab": {
          "base_uri": "https://localhost:8080/",
          "height": 354
        },
        "id": "-kv7GWJH0bW3",
        "outputId": "887aaa72-5a6d-4e1b-92d4-cfa00c899537"
      },
      "source": [
        "plt.title('Count of Emotions', size=16)\n",
        "sns.countplot(Ravdess_df.Emotions)\n",
        "plt.ylabel('Count', size=12)\n",
        "plt.xlabel('Emotions', size=12)\n",
        "sns.despine(top=True, right=True, left=False, bottom=False)\n",
        "plt.show()"
      ],
      "execution_count": null,
      "outputs": [
        {
          "output_type": "stream",
          "text": [
            "/usr/local/lib/python3.7/dist-packages/seaborn/_decorators.py:43: FutureWarning: Pass the following variable as a keyword arg: x. From version 0.12, the only valid positional argument will be `data`, and passing other arguments without an explicit keyword will result in an error or misinterpretation.\n",
            "  FutureWarning\n"
          ],
          "name": "stderr"
        },
        {
          "output_type": "display_data",
          "data": {
            "image/png": "[encoded data removed]",
            "text/plain": [
              "<Figure size 432x288 with 1 Axes>"
            ]
          },
          "metadata": {
            "tags": [],
            "needs_background": "light"
          }
        }
      ]
    },
    {
      "cell_type": "markdown",
      "metadata": {
        "id": "jSKJ0QcDvgEl"
      },
      "source": [
        "## Feature extraction"
      ]
    },
    {
      "cell_type": "code",
      "metadata": {
        "id": "8A-mILiwuclf"
      },
      "source": [
        "observed_emotions=sorted(['fear', 'happy', 'sad', 'angry'])"
      ],
      "execution_count": null,
      "outputs": []
    },
    {
      "cell_type": "code",
      "metadata": {
        "colab": {
          "base_uri": "https://localhost:8080/"
        },
        "id": "gKzftUSGYkhG",
        "outputId": "8aaeb3e9-fed2-4963-b5b6-df0af46da341"
      },
      "source": [
        "observed_emotions"
      ],
      "execution_count": null,
      "outputs": [
        {
          "output_type": "execute_result",
          "data": {
            "text/plain": [
              "['angry', 'fear', 'happy', 'sad']"
            ]
          },
          "metadata": {
            "tags": []
          },
          "execution_count": 7
        }
      ]
    },
    {
      "cell_type": "code",
      "metadata": {
        "id": "7STDrOxHu2yp"
      },
      "source": [
        "num_mfcc = 13"
      ],
      "execution_count": null,
      "outputs": []
    },
    {
      "cell_type": "code",
      "metadata": {
        "trusted": true,
        "id": "iIGwYc0XvgEm"
      },
      "source": [
        "def extract_feature(path, mfcc, chroma, mel):\n",
        "  data, sample_rate = librosa.load(path, res_type='kaiser_fast')\n",
        "  if chroma:\n",
        "    stft = np.abs(librosa.stft(data))\n",
        "\n",
        "  result=np.array([])\n",
        "  if mfcc:\n",
        "    mfccs=np.mean(librosa.feature.mfcc(y=data, sr=sample_rate, n_mfcc=num_mfcc).T, axis=0)\n",
        "    result=np.hstack((result, mfccs))\n",
        "  if chroma:\n",
        "    chroma=np.mean(librosa.feature.chroma_stft(S=stft, sr=sample_rate).T, axis=0)\n",
        "    result=np.hstack((result, chroma))\n",
        "  if mel:\n",
        "    mel=np.mean(librosa.feature.melspectrogram(y=data, sr=sample_rate).T, axis=0)\n",
        "    result=np.hstack((result, mel))\n",
        "\n",
        "  return result"
      ],
      "execution_count": null,
      "outputs": []
    },
    {
      "cell_type": "code",
      "metadata": {
        "trusted": true,
        "id": "XmE_BX8JvgEm"
      },
      "source": [
        "X, Y = [], []\n",
        "for path, emotion in zip(Ravdess_df.Path, Ravdess_df.Emotions):\n",
        "  if emotion not in observed_emotions:\n",
        "    continue\n",
        "  feature = extract_feature(path, mfcc=False, chroma=False, mel=True)\n",
        "  X.append(feature)\n",
        "  Y.append(emotion)"
      ],
      "execution_count": null,
      "outputs": []
    },
    {
      "cell_type": "code",
      "metadata": {
        "trusted": true,
        "colab": {
          "base_uri": "https://localhost:8080/"
        },
        "id": "4QE00fchvgEn",
        "outputId": "7b0b4c94-6970-4b13-efc6-1bc59c88baed"
      },
      "source": [
        "len(X), len(Y), Ravdess_df.Path.shape"
      ],
      "execution_count": null,
      "outputs": [
        {
          "output_type": "execute_result",
          "data": {
            "text/plain": [
              "(768, 768, (1440,))"
            ]
          },
          "metadata": {
            "tags": []
          },
          "execution_count": 9
        }
      ]
    },
    {
      "cell_type": "code",
      "metadata": {
        "trusted": true,
        "colab": {
          "base_uri": "https://localhost:8080/",
          "height": 338
        },
        "id": "uKPKmR3avgEn",
        "outputId": "8041d6d1-bb83-4c98-8d90-07f4b4409ba0"
      },
      "source": [
        "Features = pd.DataFrame(X)\n",
        "Features['labels'] = Y\n",
        "Features.to_csv('/content/drive/MyDrive/Colab Notebooks/speech/dataset/ravdess/mel_features.csv', index=False)\n",
        "Features.head()"
      ],
      "execution_count": null,
      "outputs": [
        {
          "output_type": "execute_result",
          "data": {
            "text/html": [
              "<div>\n",
              "<style scoped>\n",
              "    .dataframe tbody tr th:only-of-type {\n",
              "        vertical-align: middle;\n",
              "    }\n",
              "\n",
              "    .dataframe tbody tr th {\n",
              "        vertical-align: top;\n",
              "    }\n",
              "\n",
              "    .dataframe thead th {\n",
              "        text-align: right;\n",
              "    }\n",
              "</style>\n",
              "<table border=\"1\" class=\"dataframe\">\n",
              "  <thead>\n",
              "    <tr style=\"text-align: right;\">\n",
              "      <th></th>\n",
              "      <th>0</th>\n",
              "      <th>1</th>\n",
              "      <th>2</th>\n",
              "      <th>3</th>\n",
              "      <th>4</th>\n",
              "      <th>5</th>\n",
              "      <th>6</th>\n",
              "      <th>7</th>\n",
              "      <th>8</th>\n",
              "      <th>9</th>\n",
              "      <th>10</th>\n",
              "      <th>11</th>\n",
              "      <th>12</th>\n",
              "      <th>13</th>\n",
              "      <th>14</th>\n",
              "      <th>15</th>\n",
              "      <th>16</th>\n",
              "      <th>17</th>\n",
              "      <th>18</th>\n",
              "      <th>19</th>\n",
              "      <th>20</th>\n",
              "      <th>21</th>\n",
              "      <th>22</th>\n",
              "      <th>23</th>\n",
              "      <th>24</th>\n",
              "      <th>25</th>\n",
              "      <th>26</th>\n",
              "      <th>27</th>\n",
              "      <th>28</th>\n",
              "      <th>29</th>\n",
              "      <th>30</th>\n",
              "      <th>31</th>\n",
              "      <th>32</th>\n",
              "      <th>33</th>\n",
              "      <th>34</th>\n",
              "      <th>35</th>\n",
              "      <th>36</th>\n",
              "      <th>37</th>\n",
              "      <th>38</th>\n",
              "      <th>39</th>\n",
              "      <th>...</th>\n",
              "      <th>89</th>\n",
              "      <th>90</th>\n",
              "      <th>91</th>\n",
              "      <th>92</th>\n",
              "      <th>93</th>\n",
              "      <th>94</th>\n",
              "      <th>95</th>\n",
              "      <th>96</th>\n",
              "      <th>97</th>\n",
              "      <th>98</th>\n",
              "      <th>99</th>\n",
              "      <th>100</th>\n",
              "      <th>101</th>\n",
              "      <th>102</th>\n",
              "      <th>103</th>\n",
              "      <th>104</th>\n",
              "      <th>105</th>\n",
              "      <th>106</th>\n",
              "      <th>107</th>\n",
              "      <th>108</th>\n",
              "      <th>109</th>\n",
              "      <th>110</th>\n",
              "      <th>111</th>\n",
              "      <th>112</th>\n",
              "      <th>113</th>\n",
              "      <th>114</th>\n",
              "      <th>115</th>\n",
              "      <th>116</th>\n",
              "      <th>117</th>\n",
              "      <th>118</th>\n",
              "      <th>119</th>\n",
              "      <th>120</th>\n",
              "      <th>121</th>\n",
              "      <th>122</th>\n",
              "      <th>123</th>\n",
              "      <th>124</th>\n",
              "      <th>125</th>\n",
              "      <th>126</th>\n",
              "      <th>127</th>\n",
              "      <th>labels</th>\n",
              "    </tr>\n",
              "  </thead>\n",
              "  <tbody>\n",
              "    <tr>\n",
              "      <th>0</th>\n",
              "      <td>0.000008</td>\n",
              "      <td>0.000080</td>\n",
              "      <td>0.000464</td>\n",
              "      <td>0.001942</td>\n",
              "      <td>0.033685</td>\n",
              "      <td>0.239260</td>\n",
              "      <td>0.374652</td>\n",
              "      <td>0.420234</td>\n",
              "      <td>0.099131</td>\n",
              "      <td>0.012808</td>\n",
              "      <td>0.025722</td>\n",
              "      <td>0.068368</td>\n",
              "      <td>0.219898</td>\n",
              "      <td>0.207522</td>\n",
              "      <td>0.280418</td>\n",
              "      <td>0.539812</td>\n",
              "      <td>0.307537</td>\n",
              "      <td>0.155502</td>\n",
              "      <td>0.263589</td>\n",
              "      <td>0.483507</td>\n",
              "      <td>0.300997</td>\n",
              "      <td>0.233112</td>\n",
              "      <td>0.264477</td>\n",
              "      <td>0.416990</td>\n",
              "      <td>0.456977</td>\n",
              "      <td>0.384986</td>\n",
              "      <td>0.179009</td>\n",
              "      <td>0.078478</td>\n",
              "      <td>0.045519</td>\n",
              "      <td>0.079606</td>\n",
              "      <td>0.054503</td>\n",
              "      <td>0.015885</td>\n",
              "      <td>0.005747</td>\n",
              "      <td>0.012804</td>\n",
              "      <td>0.010356</td>\n",
              "      <td>0.019322</td>\n",
              "      <td>0.032948</td>\n",
              "      <td>0.044486</td>\n",
              "      <td>0.087463</td>\n",
              "      <td>0.045543</td>\n",
              "      <td>...</td>\n",
              "      <td>0.000233</td>\n",
              "      <td>0.000209</td>\n",
              "      <td>0.001320</td>\n",
              "      <td>0.004318</td>\n",
              "      <td>0.002702</td>\n",
              "      <td>0.003622</td>\n",
              "      <td>0.002690</td>\n",
              "      <td>0.001926</td>\n",
              "      <td>0.001623</td>\n",
              "      <td>0.001827</td>\n",
              "      <td>0.002254</td>\n",
              "      <td>0.001477</td>\n",
              "      <td>0.001117</td>\n",
              "      <td>0.001231</td>\n",
              "      <td>0.001266</td>\n",
              "      <td>0.001329</td>\n",
              "      <td>0.001238</td>\n",
              "      <td>0.001268</td>\n",
              "      <td>0.001413</td>\n",
              "      <td>0.001463</td>\n",
              "      <td>0.001372</td>\n",
              "      <td>0.001309</td>\n",
              "      <td>0.001101</td>\n",
              "      <td>0.000791</td>\n",
              "      <td>0.000871</td>\n",
              "      <td>0.000993</td>\n",
              "      <td>0.001049</td>\n",
              "      <td>0.001217</td>\n",
              "      <td>0.000909</td>\n",
              "      <td>0.000749</td>\n",
              "      <td>0.000518</td>\n",
              "      <td>0.000507</td>\n",
              "      <td>0.000322</td>\n",
              "      <td>0.000183</td>\n",
              "      <td>0.000118</td>\n",
              "      <td>0.000047</td>\n",
              "      <td>6.617836e-06</td>\n",
              "      <td>8.843284e-07</td>\n",
              "      <td>9.256351e-08</td>\n",
              "      <td>happy</td>\n",
              "    </tr>\n",
              "    <tr>\n",
              "      <th>1</th>\n",
              "      <td>0.000001</td>\n",
              "      <td>0.000016</td>\n",
              "      <td>0.000329</td>\n",
              "      <td>0.010903</td>\n",
              "      <td>0.074169</td>\n",
              "      <td>0.124947</td>\n",
              "      <td>0.133783</td>\n",
              "      <td>0.016098</td>\n",
              "      <td>0.018285</td>\n",
              "      <td>0.052441</td>\n",
              "      <td>0.083073</td>\n",
              "      <td>0.033742</td>\n",
              "      <td>0.067630</td>\n",
              "      <td>0.127787</td>\n",
              "      <td>0.122495</td>\n",
              "      <td>0.192502</td>\n",
              "      <td>0.132279</td>\n",
              "      <td>0.053741</td>\n",
              "      <td>0.064878</td>\n",
              "      <td>0.103478</td>\n",
              "      <td>0.220608</td>\n",
              "      <td>0.117464</td>\n",
              "      <td>0.024270</td>\n",
              "      <td>0.009286</td>\n",
              "      <td>0.008385</td>\n",
              "      <td>0.023685</td>\n",
              "      <td>0.027281</td>\n",
              "      <td>0.004504</td>\n",
              "      <td>0.000989</td>\n",
              "      <td>0.001050</td>\n",
              "      <td>0.001992</td>\n",
              "      <td>0.003155</td>\n",
              "      <td>0.001202</td>\n",
              "      <td>0.001083</td>\n",
              "      <td>0.002144</td>\n",
              "      <td>0.002158</td>\n",
              "      <td>0.001239</td>\n",
              "      <td>0.002359</td>\n",
              "      <td>0.002061</td>\n",
              "      <td>0.001422</td>\n",
              "      <td>...</td>\n",
              "      <td>0.000066</td>\n",
              "      <td>0.000076</td>\n",
              "      <td>0.000175</td>\n",
              "      <td>0.000137</td>\n",
              "      <td>0.000193</td>\n",
              "      <td>0.000181</td>\n",
              "      <td>0.000292</td>\n",
              "      <td>0.000508</td>\n",
              "      <td>0.000525</td>\n",
              "      <td>0.000485</td>\n",
              "      <td>0.000566</td>\n",
              "      <td>0.000306</td>\n",
              "      <td>0.000261</td>\n",
              "      <td>0.000324</td>\n",
              "      <td>0.000345</td>\n",
              "      <td>0.000385</td>\n",
              "      <td>0.000247</td>\n",
              "      <td>0.000129</td>\n",
              "      <td>0.000114</td>\n",
              "      <td>0.000089</td>\n",
              "      <td>0.000056</td>\n",
              "      <td>0.000037</td>\n",
              "      <td>0.000039</td>\n",
              "      <td>0.000051</td>\n",
              "      <td>0.000041</td>\n",
              "      <td>0.000041</td>\n",
              "      <td>0.000034</td>\n",
              "      <td>0.000030</td>\n",
              "      <td>0.000032</td>\n",
              "      <td>0.000043</td>\n",
              "      <td>0.000042</td>\n",
              "      <td>0.000041</td>\n",
              "      <td>0.000017</td>\n",
              "      <td>0.000008</td>\n",
              "      <td>0.000004</td>\n",
              "      <td>0.000003</td>\n",
              "      <td>9.201907e-07</td>\n",
              "      <td>1.635110e-07</td>\n",
              "      <td>1.586748e-08</td>\n",
              "      <td>sad</td>\n",
              "    </tr>\n",
              "    <tr>\n",
              "      <th>2</th>\n",
              "      <td>0.002326</td>\n",
              "      <td>0.001501</td>\n",
              "      <td>0.001673</td>\n",
              "      <td>0.003428</td>\n",
              "      <td>0.042046</td>\n",
              "      <td>0.262092</td>\n",
              "      <td>0.561856</td>\n",
              "      <td>0.804515</td>\n",
              "      <td>1.015966</td>\n",
              "      <td>2.943118</td>\n",
              "      <td>5.422922</td>\n",
              "      <td>3.608459</td>\n",
              "      <td>2.336018</td>\n",
              "      <td>2.385839</td>\n",
              "      <td>1.647708</td>\n",
              "      <td>1.484166</td>\n",
              "      <td>0.442627</td>\n",
              "      <td>0.757970</td>\n",
              "      <td>2.124578</td>\n",
              "      <td>5.486774</td>\n",
              "      <td>4.302755</td>\n",
              "      <td>2.505256</td>\n",
              "      <td>1.347026</td>\n",
              "      <td>1.708984</td>\n",
              "      <td>0.673048</td>\n",
              "      <td>0.894161</td>\n",
              "      <td>1.090497</td>\n",
              "      <td>1.480880</td>\n",
              "      <td>2.405404</td>\n",
              "      <td>0.946610</td>\n",
              "      <td>0.199391</td>\n",
              "      <td>0.450339</td>\n",
              "      <td>1.291694</td>\n",
              "      <td>0.561013</td>\n",
              "      <td>0.198983</td>\n",
              "      <td>0.197915</td>\n",
              "      <td>0.152302</td>\n",
              "      <td>0.500962</td>\n",
              "      <td>1.961676</td>\n",
              "      <td>1.974107</td>\n",
              "      <td>...</td>\n",
              "      <td>0.041668</td>\n",
              "      <td>0.148850</td>\n",
              "      <td>0.026992</td>\n",
              "      <td>0.007979</td>\n",
              "      <td>0.010007</td>\n",
              "      <td>0.017476</td>\n",
              "      <td>0.016772</td>\n",
              "      <td>0.013910</td>\n",
              "      <td>0.012449</td>\n",
              "      <td>0.019122</td>\n",
              "      <td>0.014899</td>\n",
              "      <td>0.015834</td>\n",
              "      <td>0.024535</td>\n",
              "      <td>0.039772</td>\n",
              "      <td>0.034469</td>\n",
              "      <td>0.037880</td>\n",
              "      <td>0.026996</td>\n",
              "      <td>0.020836</td>\n",
              "      <td>0.013517</td>\n",
              "      <td>0.015385</td>\n",
              "      <td>0.016652</td>\n",
              "      <td>0.013350</td>\n",
              "      <td>0.008114</td>\n",
              "      <td>0.009184</td>\n",
              "      <td>0.009939</td>\n",
              "      <td>0.014135</td>\n",
              "      <td>0.020721</td>\n",
              "      <td>0.023411</td>\n",
              "      <td>0.012640</td>\n",
              "      <td>0.008999</td>\n",
              "      <td>0.010422</td>\n",
              "      <td>0.009470</td>\n",
              "      <td>0.005625</td>\n",
              "      <td>0.002573</td>\n",
              "      <td>0.001188</td>\n",
              "      <td>0.000354</td>\n",
              "      <td>7.408405e-05</td>\n",
              "      <td>1.023989e-05</td>\n",
              "      <td>1.100333e-06</td>\n",
              "      <td>angry</td>\n",
              "    </tr>\n",
              "    <tr>\n",
              "      <th>3</th>\n",
              "      <td>0.000267</td>\n",
              "      <td>0.000094</td>\n",
              "      <td>0.000968</td>\n",
              "      <td>0.035631</td>\n",
              "      <td>0.191875</td>\n",
              "      <td>0.053334</td>\n",
              "      <td>0.003884</td>\n",
              "      <td>0.003720</td>\n",
              "      <td>0.049795</td>\n",
              "      <td>0.203631</td>\n",
              "      <td>0.059680</td>\n",
              "      <td>0.030760</td>\n",
              "      <td>0.011082</td>\n",
              "      <td>0.061688</td>\n",
              "      <td>0.148226</td>\n",
              "      <td>0.052766</td>\n",
              "      <td>0.059522</td>\n",
              "      <td>0.073923</td>\n",
              "      <td>0.124947</td>\n",
              "      <td>0.115085</td>\n",
              "      <td>0.015583</td>\n",
              "      <td>0.003728</td>\n",
              "      <td>0.030241</td>\n",
              "      <td>0.060317</td>\n",
              "      <td>0.033306</td>\n",
              "      <td>0.004509</td>\n",
              "      <td>0.002097</td>\n",
              "      <td>0.003115</td>\n",
              "      <td>0.003651</td>\n",
              "      <td>0.003760</td>\n",
              "      <td>0.000791</td>\n",
              "      <td>0.000314</td>\n",
              "      <td>0.000679</td>\n",
              "      <td>0.000958</td>\n",
              "      <td>0.001013</td>\n",
              "      <td>0.000803</td>\n",
              "      <td>0.001587</td>\n",
              "      <td>0.002254</td>\n",
              "      <td>0.001152</td>\n",
              "      <td>0.001048</td>\n",
              "      <td>...</td>\n",
              "      <td>0.000093</td>\n",
              "      <td>0.000124</td>\n",
              "      <td>0.000354</td>\n",
              "      <td>0.000326</td>\n",
              "      <td>0.000410</td>\n",
              "      <td>0.000544</td>\n",
              "      <td>0.000786</td>\n",
              "      <td>0.000686</td>\n",
              "      <td>0.000915</td>\n",
              "      <td>0.000653</td>\n",
              "      <td>0.000433</td>\n",
              "      <td>0.000292</td>\n",
              "      <td>0.000241</td>\n",
              "      <td>0.000249</td>\n",
              "      <td>0.000209</td>\n",
              "      <td>0.000216</td>\n",
              "      <td>0.000160</td>\n",
              "      <td>0.000123</td>\n",
              "      <td>0.000073</td>\n",
              "      <td>0.000058</td>\n",
              "      <td>0.000060</td>\n",
              "      <td>0.000055</td>\n",
              "      <td>0.000040</td>\n",
              "      <td>0.000080</td>\n",
              "      <td>0.000146</td>\n",
              "      <td>0.000149</td>\n",
              "      <td>0.000118</td>\n",
              "      <td>0.000096</td>\n",
              "      <td>0.000075</td>\n",
              "      <td>0.000056</td>\n",
              "      <td>0.000032</td>\n",
              "      <td>0.000019</td>\n",
              "      <td>0.000019</td>\n",
              "      <td>0.000019</td>\n",
              "      <td>0.000014</td>\n",
              "      <td>0.000007</td>\n",
              "      <td>2.004606e-06</td>\n",
              "      <td>3.946281e-07</td>\n",
              "      <td>3.025250e-08</td>\n",
              "      <td>fear</td>\n",
              "    </tr>\n",
              "    <tr>\n",
              "      <th>4</th>\n",
              "      <td>0.000229</td>\n",
              "      <td>0.000308</td>\n",
              "      <td>0.000594</td>\n",
              "      <td>0.008199</td>\n",
              "      <td>0.062350</td>\n",
              "      <td>0.219425</td>\n",
              "      <td>0.240217</td>\n",
              "      <td>0.161056</td>\n",
              "      <td>0.160428</td>\n",
              "      <td>0.221110</td>\n",
              "      <td>0.414960</td>\n",
              "      <td>0.822955</td>\n",
              "      <td>0.381988</td>\n",
              "      <td>0.260932</td>\n",
              "      <td>0.277247</td>\n",
              "      <td>0.086902</td>\n",
              "      <td>0.054600</td>\n",
              "      <td>0.092731</td>\n",
              "      <td>0.219931</td>\n",
              "      <td>0.325089</td>\n",
              "      <td>0.551596</td>\n",
              "      <td>0.292366</td>\n",
              "      <td>0.129719</td>\n",
              "      <td>0.213177</td>\n",
              "      <td>0.121925</td>\n",
              "      <td>0.021738</td>\n",
              "      <td>0.021244</td>\n",
              "      <td>0.064114</td>\n",
              "      <td>0.072016</td>\n",
              "      <td>0.072149</td>\n",
              "      <td>0.077921</td>\n",
              "      <td>0.119770</td>\n",
              "      <td>0.034127</td>\n",
              "      <td>0.017443</td>\n",
              "      <td>0.025386</td>\n",
              "      <td>0.027216</td>\n",
              "      <td>0.030270</td>\n",
              "      <td>0.041169</td>\n",
              "      <td>0.032199</td>\n",
              "      <td>0.034677</td>\n",
              "      <td>...</td>\n",
              "      <td>0.003000</td>\n",
              "      <td>0.001433</td>\n",
              "      <td>0.002792</td>\n",
              "      <td>0.002404</td>\n",
              "      <td>0.002007</td>\n",
              "      <td>0.003515</td>\n",
              "      <td>0.002814</td>\n",
              "      <td>0.003674</td>\n",
              "      <td>0.002284</td>\n",
              "      <td>0.003058</td>\n",
              "      <td>0.003054</td>\n",
              "      <td>0.003136</td>\n",
              "      <td>0.004351</td>\n",
              "      <td>0.003651</td>\n",
              "      <td>0.003898</td>\n",
              "      <td>0.004177</td>\n",
              "      <td>0.002358</td>\n",
              "      <td>0.001212</td>\n",
              "      <td>0.000937</td>\n",
              "      <td>0.000554</td>\n",
              "      <td>0.000898</td>\n",
              "      <td>0.001051</td>\n",
              "      <td>0.000800</td>\n",
              "      <td>0.000736</td>\n",
              "      <td>0.000722</td>\n",
              "      <td>0.000631</td>\n",
              "      <td>0.000738</td>\n",
              "      <td>0.000847</td>\n",
              "      <td>0.000804</td>\n",
              "      <td>0.000543</td>\n",
              "      <td>0.000276</td>\n",
              "      <td>0.000126</td>\n",
              "      <td>0.000119</td>\n",
              "      <td>0.000123</td>\n",
              "      <td>0.000061</td>\n",
              "      <td>0.000025</td>\n",
              "      <td>5.147942e-06</td>\n",
              "      <td>7.272817e-07</td>\n",
              "      <td>8.054999e-08</td>\n",
              "      <td>angry</td>\n",
              "    </tr>\n",
              "  </tbody>\n",
              "</table>\n",
              "<p>5 rows × 129 columns</p>\n",
              "</div>"
            ],
            "text/plain": [
              "          0         1         2  ...           126           127  labels\n",
              "0  0.000008  0.000080  0.000464  ...  8.843284e-07  9.256351e-08   happy\n",
              "1  0.000001  0.000016  0.000329  ...  1.635110e-07  1.586748e-08     sad\n",
              "2  0.002326  0.001501  0.001673  ...  1.023989e-05  1.100333e-06   angry\n",
              "3  0.000267  0.000094  0.000968  ...  3.946281e-07  3.025250e-08    fear\n",
              "4  0.000229  0.000308  0.000594  ...  7.272817e-07  8.054999e-08   angry\n",
              "\n",
              "[5 rows x 129 columns]"
            ]
          },
          "metadata": {
            "tags": []
          },
          "execution_count": 10
        }
      ]
    },
    {
      "cell_type": "code",
      "metadata": {
        "trusted": true,
        "colab": {
          "base_uri": "https://localhost:8080/"
        },
        "id": "hSVjKDkVvgEp",
        "outputId": "2e44ab39-851b-409d-a09f-cf6b6fc83d51"
      },
      "source": [
        "Features.shape"
      ],
      "execution_count": null,
      "outputs": [
        {
          "output_type": "execute_result",
          "data": {
            "text/plain": [
              "(768, 129)"
            ]
          },
          "metadata": {
            "tags": []
          },
          "execution_count": 11
        }
      ]
    },
    {
      "cell_type": "markdown",
      "metadata": {
        "id": "hgOh4IkmvgEp"
      },
      "source": [
        "## Data Preparation"
      ]
    },
    {
      "cell_type": "code",
      "metadata": {
        "trusted": true,
        "colab": {
          "base_uri": "https://localhost:8080/",
          "height": 338
        },
        "id": "U99crUcUvgEq",
        "outputId": "0f0611bc-6ad4-4e52-e2e6-ddfb09c849ac"
      },
      "source": [
        "dataset = pd.read_csv(f'/content/drive/MyDrive/Colab Notebooks/speech/dataset/ravdess/mel_features.csv')\n",
        "dataset.head()"
      ],
      "execution_count": null,
      "outputs": [
        {
          "output_type": "execute_result",
          "data": {
            "text/html": [
              "<div>\n",
              "<style scoped>\n",
              "    .dataframe tbody tr th:only-of-type {\n",
              "        vertical-align: middle;\n",
              "    }\n",
              "\n",
              "    .dataframe tbody tr th {\n",
              "        vertical-align: top;\n",
              "    }\n",
              "\n",
              "    .dataframe thead th {\n",
              "        text-align: right;\n",
              "    }\n",
              "</style>\n",
              "<table border=\"1\" class=\"dataframe\">\n",
              "  <thead>\n",
              "    <tr style=\"text-align: right;\">\n",
              "      <th></th>\n",
              "      <th>0</th>\n",
              "      <th>1</th>\n",
              "      <th>2</th>\n",
              "      <th>3</th>\n",
              "      <th>4</th>\n",
              "      <th>5</th>\n",
              "      <th>6</th>\n",
              "      <th>7</th>\n",
              "      <th>8</th>\n",
              "      <th>9</th>\n",
              "      <th>10</th>\n",
              "      <th>11</th>\n",
              "      <th>12</th>\n",
              "      <th>13</th>\n",
              "      <th>14</th>\n",
              "      <th>15</th>\n",
              "      <th>16</th>\n",
              "      <th>17</th>\n",
              "      <th>18</th>\n",
              "      <th>19</th>\n",
              "      <th>20</th>\n",
              "      <th>21</th>\n",
              "      <th>22</th>\n",
              "      <th>23</th>\n",
              "      <th>24</th>\n",
              "      <th>25</th>\n",
              "      <th>26</th>\n",
              "      <th>27</th>\n",
              "      <th>28</th>\n",
              "      <th>29</th>\n",
              "      <th>30</th>\n",
              "      <th>31</th>\n",
              "      <th>32</th>\n",
              "      <th>33</th>\n",
              "      <th>34</th>\n",
              "      <th>35</th>\n",
              "      <th>36</th>\n",
              "      <th>37</th>\n",
              "      <th>38</th>\n",
              "      <th>39</th>\n",
              "      <th>...</th>\n",
              "      <th>89</th>\n",
              "      <th>90</th>\n",
              "      <th>91</th>\n",
              "      <th>92</th>\n",
              "      <th>93</th>\n",
              "      <th>94</th>\n",
              "      <th>95</th>\n",
              "      <th>96</th>\n",
              "      <th>97</th>\n",
              "      <th>98</th>\n",
              "      <th>99</th>\n",
              "      <th>100</th>\n",
              "      <th>101</th>\n",
              "      <th>102</th>\n",
              "      <th>103</th>\n",
              "      <th>104</th>\n",
              "      <th>105</th>\n",
              "      <th>106</th>\n",
              "      <th>107</th>\n",
              "      <th>108</th>\n",
              "      <th>109</th>\n",
              "      <th>110</th>\n",
              "      <th>111</th>\n",
              "      <th>112</th>\n",
              "      <th>113</th>\n",
              "      <th>114</th>\n",
              "      <th>115</th>\n",
              "      <th>116</th>\n",
              "      <th>117</th>\n",
              "      <th>118</th>\n",
              "      <th>119</th>\n",
              "      <th>120</th>\n",
              "      <th>121</th>\n",
              "      <th>122</th>\n",
              "      <th>123</th>\n",
              "      <th>124</th>\n",
              "      <th>125</th>\n",
              "      <th>126</th>\n",
              "      <th>127</th>\n",
              "      <th>labels</th>\n",
              "    </tr>\n",
              "  </thead>\n",
              "  <tbody>\n",
              "    <tr>\n",
              "      <th>0</th>\n",
              "      <td>0.000008</td>\n",
              "      <td>0.000080</td>\n",
              "      <td>0.000464</td>\n",
              "      <td>0.001942</td>\n",
              "      <td>0.033685</td>\n",
              "      <td>0.239260</td>\n",
              "      <td>0.374652</td>\n",
              "      <td>0.420234</td>\n",
              "      <td>0.099131</td>\n",
              "      <td>0.012808</td>\n",
              "      <td>0.025722</td>\n",
              "      <td>0.068368</td>\n",
              "      <td>0.219898</td>\n",
              "      <td>0.207522</td>\n",
              "      <td>0.280418</td>\n",
              "      <td>0.539812</td>\n",
              "      <td>0.307537</td>\n",
              "      <td>0.155502</td>\n",
              "      <td>0.263589</td>\n",
              "      <td>0.483507</td>\n",
              "      <td>0.300997</td>\n",
              "      <td>0.233112</td>\n",
              "      <td>0.264477</td>\n",
              "      <td>0.416990</td>\n",
              "      <td>0.456977</td>\n",
              "      <td>0.384986</td>\n",
              "      <td>0.179009</td>\n",
              "      <td>0.078478</td>\n",
              "      <td>0.045519</td>\n",
              "      <td>0.079606</td>\n",
              "      <td>0.054503</td>\n",
              "      <td>0.015885</td>\n",
              "      <td>0.005747</td>\n",
              "      <td>0.012804</td>\n",
              "      <td>0.010356</td>\n",
              "      <td>0.019322</td>\n",
              "      <td>0.032948</td>\n",
              "      <td>0.044486</td>\n",
              "      <td>0.087463</td>\n",
              "      <td>0.045543</td>\n",
              "      <td>...</td>\n",
              "      <td>0.000233</td>\n",
              "      <td>0.000209</td>\n",
              "      <td>0.001320</td>\n",
              "      <td>0.004318</td>\n",
              "      <td>0.002702</td>\n",
              "      <td>0.003622</td>\n",
              "      <td>0.002690</td>\n",
              "      <td>0.001926</td>\n",
              "      <td>0.001623</td>\n",
              "      <td>0.001827</td>\n",
              "      <td>0.002254</td>\n",
              "      <td>0.001477</td>\n",
              "      <td>0.001117</td>\n",
              "      <td>0.001231</td>\n",
              "      <td>0.001266</td>\n",
              "      <td>0.001329</td>\n",
              "      <td>0.001238</td>\n",
              "      <td>0.001268</td>\n",
              "      <td>0.001413</td>\n",
              "      <td>0.001463</td>\n",
              "      <td>0.001372</td>\n",
              "      <td>0.001309</td>\n",
              "      <td>0.001101</td>\n",
              "      <td>0.000791</td>\n",
              "      <td>0.000871</td>\n",
              "      <td>0.000993</td>\n",
              "      <td>0.001049</td>\n",
              "      <td>0.001217</td>\n",
              "      <td>0.000909</td>\n",
              "      <td>0.000749</td>\n",
              "      <td>0.000518</td>\n",
              "      <td>0.000507</td>\n",
              "      <td>0.000322</td>\n",
              "      <td>0.000183</td>\n",
              "      <td>0.000118</td>\n",
              "      <td>0.000047</td>\n",
              "      <td>6.617836e-06</td>\n",
              "      <td>8.843284e-07</td>\n",
              "      <td>9.256351e-08</td>\n",
              "      <td>happy</td>\n",
              "    </tr>\n",
              "    <tr>\n",
              "      <th>1</th>\n",
              "      <td>0.000001</td>\n",
              "      <td>0.000016</td>\n",
              "      <td>0.000329</td>\n",
              "      <td>0.010903</td>\n",
              "      <td>0.074169</td>\n",
              "      <td>0.124947</td>\n",
              "      <td>0.133783</td>\n",
              "      <td>0.016098</td>\n",
              "      <td>0.018285</td>\n",
              "      <td>0.052441</td>\n",
              "      <td>0.083073</td>\n",
              "      <td>0.033742</td>\n",
              "      <td>0.067630</td>\n",
              "      <td>0.127787</td>\n",
              "      <td>0.122495</td>\n",
              "      <td>0.192502</td>\n",
              "      <td>0.132279</td>\n",
              "      <td>0.053741</td>\n",
              "      <td>0.064878</td>\n",
              "      <td>0.103478</td>\n",
              "      <td>0.220608</td>\n",
              "      <td>0.117464</td>\n",
              "      <td>0.024270</td>\n",
              "      <td>0.009286</td>\n",
              "      <td>0.008385</td>\n",
              "      <td>0.023685</td>\n",
              "      <td>0.027281</td>\n",
              "      <td>0.004504</td>\n",
              "      <td>0.000989</td>\n",
              "      <td>0.001050</td>\n",
              "      <td>0.001992</td>\n",
              "      <td>0.003155</td>\n",
              "      <td>0.001202</td>\n",
              "      <td>0.001083</td>\n",
              "      <td>0.002144</td>\n",
              "      <td>0.002158</td>\n",
              "      <td>0.001239</td>\n",
              "      <td>0.002359</td>\n",
              "      <td>0.002061</td>\n",
              "      <td>0.001422</td>\n",
              "      <td>...</td>\n",
              "      <td>0.000066</td>\n",
              "      <td>0.000076</td>\n",
              "      <td>0.000175</td>\n",
              "      <td>0.000137</td>\n",
              "      <td>0.000193</td>\n",
              "      <td>0.000181</td>\n",
              "      <td>0.000292</td>\n",
              "      <td>0.000508</td>\n",
              "      <td>0.000525</td>\n",
              "      <td>0.000485</td>\n",
              "      <td>0.000566</td>\n",
              "      <td>0.000306</td>\n",
              "      <td>0.000261</td>\n",
              "      <td>0.000324</td>\n",
              "      <td>0.000345</td>\n",
              "      <td>0.000385</td>\n",
              "      <td>0.000247</td>\n",
              "      <td>0.000129</td>\n",
              "      <td>0.000114</td>\n",
              "      <td>0.000089</td>\n",
              "      <td>0.000056</td>\n",
              "      <td>0.000037</td>\n",
              "      <td>0.000039</td>\n",
              "      <td>0.000051</td>\n",
              "      <td>0.000041</td>\n",
              "      <td>0.000041</td>\n",
              "      <td>0.000034</td>\n",
              "      <td>0.000030</td>\n",
              "      <td>0.000032</td>\n",
              "      <td>0.000043</td>\n",
              "      <td>0.000042</td>\n",
              "      <td>0.000041</td>\n",
              "      <td>0.000017</td>\n",
              "      <td>0.000008</td>\n",
              "      <td>0.000004</td>\n",
              "      <td>0.000003</td>\n",
              "      <td>9.201907e-07</td>\n",
              "      <td>1.635110e-07</td>\n",
              "      <td>1.586748e-08</td>\n",
              "      <td>sad</td>\n",
              "    </tr>\n",
              "    <tr>\n",
              "      <th>2</th>\n",
              "      <td>0.002326</td>\n",
              "      <td>0.001501</td>\n",
              "      <td>0.001673</td>\n",
              "      <td>0.003428</td>\n",
              "      <td>0.042046</td>\n",
              "      <td>0.262092</td>\n",
              "      <td>0.561856</td>\n",
              "      <td>0.804515</td>\n",
              "      <td>1.015966</td>\n",
              "      <td>2.943118</td>\n",
              "      <td>5.422922</td>\n",
              "      <td>3.608459</td>\n",
              "      <td>2.336018</td>\n",
              "      <td>2.385839</td>\n",
              "      <td>1.647708</td>\n",
              "      <td>1.484166</td>\n",
              "      <td>0.442627</td>\n",
              "      <td>0.757970</td>\n",
              "      <td>2.124578</td>\n",
              "      <td>5.486774</td>\n",
              "      <td>4.302755</td>\n",
              "      <td>2.505256</td>\n",
              "      <td>1.347026</td>\n",
              "      <td>1.708984</td>\n",
              "      <td>0.673048</td>\n",
              "      <td>0.894161</td>\n",
              "      <td>1.090497</td>\n",
              "      <td>1.480880</td>\n",
              "      <td>2.405404</td>\n",
              "      <td>0.946610</td>\n",
              "      <td>0.199391</td>\n",
              "      <td>0.450339</td>\n",
              "      <td>1.291694</td>\n",
              "      <td>0.561013</td>\n",
              "      <td>0.198983</td>\n",
              "      <td>0.197915</td>\n",
              "      <td>0.152302</td>\n",
              "      <td>0.500962</td>\n",
              "      <td>1.961676</td>\n",
              "      <td>1.974107</td>\n",
              "      <td>...</td>\n",
              "      <td>0.041668</td>\n",
              "      <td>0.148850</td>\n",
              "      <td>0.026992</td>\n",
              "      <td>0.007979</td>\n",
              "      <td>0.010007</td>\n",
              "      <td>0.017476</td>\n",
              "      <td>0.016772</td>\n",
              "      <td>0.013910</td>\n",
              "      <td>0.012449</td>\n",
              "      <td>0.019122</td>\n",
              "      <td>0.014899</td>\n",
              "      <td>0.015834</td>\n",
              "      <td>0.024535</td>\n",
              "      <td>0.039772</td>\n",
              "      <td>0.034469</td>\n",
              "      <td>0.037880</td>\n",
              "      <td>0.026996</td>\n",
              "      <td>0.020836</td>\n",
              "      <td>0.013517</td>\n",
              "      <td>0.015385</td>\n",
              "      <td>0.016652</td>\n",
              "      <td>0.013350</td>\n",
              "      <td>0.008114</td>\n",
              "      <td>0.009184</td>\n",
              "      <td>0.009939</td>\n",
              "      <td>0.014135</td>\n",
              "      <td>0.020721</td>\n",
              "      <td>0.023411</td>\n",
              "      <td>0.012640</td>\n",
              "      <td>0.008999</td>\n",
              "      <td>0.010422</td>\n",
              "      <td>0.009470</td>\n",
              "      <td>0.005625</td>\n",
              "      <td>0.002573</td>\n",
              "      <td>0.001188</td>\n",
              "      <td>0.000354</td>\n",
              "      <td>7.408405e-05</td>\n",
              "      <td>1.023989e-05</td>\n",
              "      <td>1.100333e-06</td>\n",
              "      <td>angry</td>\n",
              "    </tr>\n",
              "    <tr>\n",
              "      <th>3</th>\n",
              "      <td>0.000267</td>\n",
              "      <td>0.000094</td>\n",
              "      <td>0.000968</td>\n",
              "      <td>0.035631</td>\n",
              "      <td>0.191875</td>\n",
              "      <td>0.053334</td>\n",
              "      <td>0.003884</td>\n",
              "      <td>0.003720</td>\n",
              "      <td>0.049795</td>\n",
              "      <td>0.203631</td>\n",
              "      <td>0.059680</td>\n",
              "      <td>0.030760</td>\n",
              "      <td>0.011082</td>\n",
              "      <td>0.061688</td>\n",
              "      <td>0.148226</td>\n",
              "      <td>0.052766</td>\n",
              "      <td>0.059522</td>\n",
              "      <td>0.073923</td>\n",
              "      <td>0.124947</td>\n",
              "      <td>0.115085</td>\n",
              "      <td>0.015583</td>\n",
              "      <td>0.003728</td>\n",
              "      <td>0.030241</td>\n",
              "      <td>0.060317</td>\n",
              "      <td>0.033306</td>\n",
              "      <td>0.004509</td>\n",
              "      <td>0.002097</td>\n",
              "      <td>0.003115</td>\n",
              "      <td>0.003651</td>\n",
              "      <td>0.003760</td>\n",
              "      <td>0.000791</td>\n",
              "      <td>0.000314</td>\n",
              "      <td>0.000679</td>\n",
              "      <td>0.000958</td>\n",
              "      <td>0.001013</td>\n",
              "      <td>0.000803</td>\n",
              "      <td>0.001587</td>\n",
              "      <td>0.002254</td>\n",
              "      <td>0.001152</td>\n",
              "      <td>0.001048</td>\n",
              "      <td>...</td>\n",
              "      <td>0.000093</td>\n",
              "      <td>0.000124</td>\n",
              "      <td>0.000354</td>\n",
              "      <td>0.000326</td>\n",
              "      <td>0.000410</td>\n",
              "      <td>0.000544</td>\n",
              "      <td>0.000786</td>\n",
              "      <td>0.000686</td>\n",
              "      <td>0.000915</td>\n",
              "      <td>0.000653</td>\n",
              "      <td>0.000433</td>\n",
              "      <td>0.000292</td>\n",
              "      <td>0.000241</td>\n",
              "      <td>0.000249</td>\n",
              "      <td>0.000209</td>\n",
              "      <td>0.000216</td>\n",
              "      <td>0.000160</td>\n",
              "      <td>0.000123</td>\n",
              "      <td>0.000073</td>\n",
              "      <td>0.000058</td>\n",
              "      <td>0.000060</td>\n",
              "      <td>0.000055</td>\n",
              "      <td>0.000040</td>\n",
              "      <td>0.000080</td>\n",
              "      <td>0.000146</td>\n",
              "      <td>0.000149</td>\n",
              "      <td>0.000118</td>\n",
              "      <td>0.000096</td>\n",
              "      <td>0.000075</td>\n",
              "      <td>0.000056</td>\n",
              "      <td>0.000032</td>\n",
              "      <td>0.000019</td>\n",
              "      <td>0.000019</td>\n",
              "      <td>0.000019</td>\n",
              "      <td>0.000014</td>\n",
              "      <td>0.000007</td>\n",
              "      <td>2.004606e-06</td>\n",
              "      <td>3.946281e-07</td>\n",
              "      <td>3.025250e-08</td>\n",
              "      <td>fear</td>\n",
              "    </tr>\n",
              "    <tr>\n",
              "      <th>4</th>\n",
              "      <td>0.000229</td>\n",
              "      <td>0.000308</td>\n",
              "      <td>0.000594</td>\n",
              "      <td>0.008199</td>\n",
              "      <td>0.062350</td>\n",
              "      <td>0.219425</td>\n",
              "      <td>0.240217</td>\n",
              "      <td>0.161056</td>\n",
              "      <td>0.160428</td>\n",
              "      <td>0.221110</td>\n",
              "      <td>0.414960</td>\n",
              "      <td>0.822955</td>\n",
              "      <td>0.381988</td>\n",
              "      <td>0.260932</td>\n",
              "      <td>0.277247</td>\n",
              "      <td>0.086902</td>\n",
              "      <td>0.054600</td>\n",
              "      <td>0.092731</td>\n",
              "      <td>0.219931</td>\n",
              "      <td>0.325089</td>\n",
              "      <td>0.551596</td>\n",
              "      <td>0.292366</td>\n",
              "      <td>0.129719</td>\n",
              "      <td>0.213177</td>\n",
              "      <td>0.121925</td>\n",
              "      <td>0.021738</td>\n",
              "      <td>0.021244</td>\n",
              "      <td>0.064114</td>\n",
              "      <td>0.072016</td>\n",
              "      <td>0.072149</td>\n",
              "      <td>0.077921</td>\n",
              "      <td>0.119770</td>\n",
              "      <td>0.034127</td>\n",
              "      <td>0.017443</td>\n",
              "      <td>0.025386</td>\n",
              "      <td>0.027216</td>\n",
              "      <td>0.030270</td>\n",
              "      <td>0.041169</td>\n",
              "      <td>0.032199</td>\n",
              "      <td>0.034677</td>\n",
              "      <td>...</td>\n",
              "      <td>0.003000</td>\n",
              "      <td>0.001433</td>\n",
              "      <td>0.002792</td>\n",
              "      <td>0.002404</td>\n",
              "      <td>0.002007</td>\n",
              "      <td>0.003515</td>\n",
              "      <td>0.002814</td>\n",
              "      <td>0.003674</td>\n",
              "      <td>0.002284</td>\n",
              "      <td>0.003058</td>\n",
              "      <td>0.003054</td>\n",
              "      <td>0.003136</td>\n",
              "      <td>0.004351</td>\n",
              "      <td>0.003651</td>\n",
              "      <td>0.003898</td>\n",
              "      <td>0.004177</td>\n",
              "      <td>0.002358</td>\n",
              "      <td>0.001212</td>\n",
              "      <td>0.000937</td>\n",
              "      <td>0.000554</td>\n",
              "      <td>0.000898</td>\n",
              "      <td>0.001051</td>\n",
              "      <td>0.000800</td>\n",
              "      <td>0.000736</td>\n",
              "      <td>0.000722</td>\n",
              "      <td>0.000631</td>\n",
              "      <td>0.000738</td>\n",
              "      <td>0.000847</td>\n",
              "      <td>0.000804</td>\n",
              "      <td>0.000543</td>\n",
              "      <td>0.000276</td>\n",
              "      <td>0.000126</td>\n",
              "      <td>0.000119</td>\n",
              "      <td>0.000123</td>\n",
              "      <td>0.000061</td>\n",
              "      <td>0.000025</td>\n",
              "      <td>5.147942e-06</td>\n",
              "      <td>7.272817e-07</td>\n",
              "      <td>8.054999e-08</td>\n",
              "      <td>angry</td>\n",
              "    </tr>\n",
              "  </tbody>\n",
              "</table>\n",
              "<p>5 rows × 129 columns</p>\n",
              "</div>"
            ],
            "text/plain": [
              "          0         1         2  ...           126           127  labels\n",
              "0  0.000008  0.000080  0.000464  ...  8.843284e-07  9.256351e-08   happy\n",
              "1  0.000001  0.000016  0.000329  ...  1.635110e-07  1.586748e-08     sad\n",
              "2  0.002326  0.001501  0.001673  ...  1.023989e-05  1.100333e-06   angry\n",
              "3  0.000267  0.000094  0.000968  ...  3.946281e-07  3.025250e-08    fear\n",
              "4  0.000229  0.000308  0.000594  ...  7.272817e-07  8.054999e-08   angry\n",
              "\n",
              "[5 rows x 129 columns]"
            ]
          },
          "metadata": {
            "tags": []
          },
          "execution_count": 4
        }
      ]
    },
    {
      "cell_type": "code",
      "metadata": {
        "colab": {
          "base_uri": "https://localhost:8080/"
        },
        "id": "4D2myJ17_d3q",
        "outputId": "2b5919e3-0134-4d28-9d72-c87baf552ebf"
      },
      "source": [
        "dataset.labels.value_counts()"
      ],
      "execution_count": null,
      "outputs": [
        {
          "output_type": "execute_result",
          "data": {
            "text/plain": [
              "angry    192\n",
              "happy    192\n",
              "sad      192\n",
              "fear     192\n",
              "Name: labels, dtype: int64"
            ]
          },
          "metadata": {
            "tags": []
          },
          "execution_count": 5
        }
      ]
    },
    {
      "cell_type": "markdown",
      "metadata": {
        "id": "YzWvsB1Vzj9F"
      },
      "source": [
        "## Modeling"
      ]
    },
    {
      "cell_type": "markdown",
      "metadata": {
        "id": "WLB_d6YJ1RP1"
      },
      "source": [
        "### MLPClassifier"
      ]
    },
    {
      "cell_type": "code",
      "metadata": {
        "trusted": true,
        "id": "qM92w9KKz3s_"
      },
      "source": [
        "X = dataset.iloc[:, :-1].values\n",
        "Y = dataset.iloc[:, -1].values"
      ],
      "execution_count": null,
      "outputs": []
    },
    {
      "cell_type": "code",
      "metadata": {
        "id": "cUN614nz1gNZ"
      },
      "source": [
        "x_train, x_test, y_train, y_test = train_test_split(np.array(X), Y, test_size = 0.25, random_state = 9)"
      ],
      "execution_count": null,
      "outputs": []
    },
    {
      "cell_type": "code",
      "metadata": {
        "colab": {
          "base_uri": "https://localhost:8080/"
        },
        "id": "FEi7lWlztAEE",
        "outputId": "83791ebe-4a04-47ee-f359-842f9f4fb054"
      },
      "source": [
        "x_train.shape"
      ],
      "execution_count": null,
      "outputs": [
        {
          "output_type": "execute_result",
          "data": {
            "text/plain": [
              "(576, 128)"
            ]
          },
          "metadata": {
            "tags": []
          },
          "execution_count": 25
        }
      ]
    },
    {
      "cell_type": "code",
      "metadata": {
        "id": "CIqhkZMuOI0l"
      },
      "source": [
        "model=MLPClassifier(alpha=0.01, batch_size=256, epsilon=1e-08, hidden_layer_sizes=(300,), learning_rate='adaptive', max_iter=5000)"
      ],
      "execution_count": null,
      "outputs": []
    },
    {
      "cell_type": "code",
      "metadata": {
        "colab": {
          "base_uri": "https://localhost:8080/"
        },
        "id": "_FilJ0CqmQq5",
        "outputId": "6e08400b-d788-452b-d736-9471209f3b2e"
      },
      "source": [
        "model.fit(x_train, y_train)"
      ],
      "execution_count": null,
      "outputs": [
        {
          "output_type": "execute_result",
          "data": {
            "text/plain": [
              "MLPClassifier(activation='relu', alpha=0.01, batch_size=256, beta_1=0.9,\n",
              "              beta_2=0.999, early_stopping=False, epsilon=1e-08,\n",
              "              hidden_layer_sizes=(300,), learning_rate='adaptive',\n",
              "              learning_rate_init=0.001, max_fun=15000, max_iter=5000,\n",
              "              momentum=0.9, n_iter_no_change=10, nesterovs_momentum=True,\n",
              "              power_t=0.5, random_state=None, shuffle=True, solver='adam',\n",
              "              tol=0.0001, validation_fraction=0.1, verbose=False,\n",
              "              warm_start=False)"
            ]
          },
          "metadata": {
            "tags": []
          },
          "execution_count": 27
        }
      ]
    },
    {
      "cell_type": "markdown",
      "metadata": {
        "id": "odCFHEx9zxwA"
      },
      "source": [
        "### Light GBM"
      ]
    },
    {
      "cell_type": "code",
      "metadata": {
        "id": "JApw9VmtwpRj"
      },
      "source": [
        "data = dataset.copy()\n",
        "data.labels = data.labels.map({'angry':0, 'fear':1, 'happy':2, 'sad':3})"
      ],
      "execution_count": null,
      "outputs": []
    },
    {
      "cell_type": "code",
      "metadata": {
        "trusted": true,
        "id": "RmyGeJT8vgEr"
      },
      "source": [
        "X = data.iloc[:, :-1].values\n",
        "Y = data.iloc[:, -1].values"
      ],
      "execution_count": null,
      "outputs": []
    },
    {
      "cell_type": "code",
      "metadata": {
        "colab": {
          "base_uri": "https://localhost:8080/"
        },
        "id": "TkUscrnVw3Hp",
        "outputId": "6848ac24-77b4-42de-a6a2-6928ae12cced"
      },
      "source": [
        "data.labels.value_counts()"
      ],
      "execution_count": null,
      "outputs": [
        {
          "output_type": "execute_result",
          "data": {
            "text/plain": [
              "3    192\n",
              "2    192\n",
              "1    192\n",
              "0    192\n",
              "Name: labels, dtype: int64"
            ]
          },
          "metadata": {
            "tags": []
          },
          "execution_count": 10
        }
      ]
    },
    {
      "cell_type": "code",
      "metadata": {
        "trusted": true,
        "id": "a32K62e-vgEr"
      },
      "source": [
        "x_train, x_test, y_train, y_test = train_test_split(X, Y, test_size = 0.25, random_state = 0)\n",
        "x_train, x_valid, y_train, y_valid = train_test_split(x_train, y_train, test_size=0.1, random_state=0)\n",
        "\n",
        "sc = StandardScaler()\n",
        "x_train = sc.fit_transform(x_train)\n",
        "x_test = sc.transform(x_test)\n",
        "x_valid = sc.transform(x_valid)"
      ],
      "execution_count": null,
      "outputs": []
    },
    {
      "cell_type": "code",
      "metadata": {
        "trusted": true,
        "id": "Zoa4feXDvgEs"
      },
      "source": [
        "NUM_CLASS = 4\n",
        "\n",
        "params = {}\n",
        "params['learning_rate'] = 0.01\n",
        "params['boosting_type'] = 'gbdt'\n",
        "params['objective'] = 'multiclass'\n",
        "params['metric'] = 'multi_logloss'\n",
        "params['num_leaves'] = 100\n",
        "params['min_data'] = 100\n",
        "params['max_depth'] = 50\n",
        "params['num_class'] = NUM_CLASS\n",
        "params['max_bin'] = 150 # small max_bin causes faster speed and large value improves accuracy\n",
        "params['bagging_freq'] = 100\n",
        "params['feature_fraction'] = 0.6 # deal with column\n",
        "params['bagging_fraction'] = 0.6\n",
        "# params['device'] = 'gpu'\n",
        "#params['num_iterations'] = 1000\n",
        "#params['early_stopping_rounds'] = 100# the rule of thumb is to have it at 10% of your num_iterations"
      ],
      "execution_count": null,
      "outputs": []
    },
    {
      "cell_type": "code",
      "metadata": {
        "trusted": true,
        "colab": {
          "base_uri": "https://localhost:8080/"
        },
        "id": "6Fdn0eNsvgEt",
        "outputId": "80e82b23-f40c-4a3d-c977-e6dcdec53ed6"
      },
      "source": [
        "x_test.shape"
      ],
      "execution_count": null,
      "outputs": [
        {
          "output_type": "execute_result",
          "data": {
            "text/plain": [
              "(192, 128)"
            ]
          },
          "metadata": {
            "tags": []
          },
          "execution_count": 13
        }
      ]
    },
    {
      "cell_type": "code",
      "metadata": {
        "id": "tdDGlZ8n44Ez"
      },
      "source": [
        "import lightgbm as lgb"
      ],
      "execution_count": null,
      "outputs": []
    },
    {
      "cell_type": "code",
      "metadata": {
        "id": "KC3etxXzyhS8"
      },
      "source": [
        "dtrain = lgb.Dataset(x_train, y_train)\n",
        "dvalid = lgb.Dataset(x_valid, y_valid)\n",
        "lgb_model = lgb.train(params, \n",
        "                          dtrain, \n",
        "                          num_boost_round=10000,\n",
        "                          early_stopping_rounds=1000,\n",
        "                          valid_sets=(dtrain, dvalid), \n",
        "                          valid_names=('train','valid'),\n",
        "                          verbose_eval = 100)"
      ],
      "execution_count": null,
      "outputs": []
    },
    {
      "cell_type": "markdown",
      "metadata": {
        "id": "jLtfMTqCvgEv"
      },
      "source": [
        "## Experiment result"
      ]
    },
    {
      "cell_type": "markdown",
      "metadata": {
        "id": "ryPwl16W7LE3"
      },
      "source": [
        "### MLP"
      ]
    },
    {
      "cell_type": "code",
      "metadata": {
        "trusted": true,
        "id": "G_5Nbzx70L6v"
      },
      "source": [
        "preds = model.predict(x_test)"
      ],
      "execution_count": null,
      "outputs": []
    },
    {
      "cell_type": "code",
      "metadata": {
        "trusted": true,
        "colab": {
          "base_uri": "https://localhost:8080/",
          "height": 204
        },
        "id": "PpQ6Np-70L6v",
        "outputId": "eee1a032-d467-471b-84fe-d02800f675be"
      },
      "source": [
        "results = pd.DataFrame()\n",
        "results['Actual'] = y_test\n",
        "results['Predicted'] = preds\n",
        "\n",
        "results.head()"
      ],
      "execution_count": null,
      "outputs": [
        {
          "output_type": "execute_result",
          "data": {
            "text/html": [
              "<div>\n",
              "<style scoped>\n",
              "    .dataframe tbody tr th:only-of-type {\n",
              "        vertical-align: middle;\n",
              "    }\n",
              "\n",
              "    .dataframe tbody tr th {\n",
              "        vertical-align: top;\n",
              "    }\n",
              "\n",
              "    .dataframe thead th {\n",
              "        text-align: right;\n",
              "    }\n",
              "</style>\n",
              "<table border=\"1\" class=\"dataframe\">\n",
              "  <thead>\n",
              "    <tr style=\"text-align: right;\">\n",
              "      <th></th>\n",
              "      <th>Actual</th>\n",
              "      <th>Predicted</th>\n",
              "    </tr>\n",
              "  </thead>\n",
              "  <tbody>\n",
              "    <tr>\n",
              "      <th>0</th>\n",
              "      <td>sad</td>\n",
              "      <td>sad</td>\n",
              "    </tr>\n",
              "    <tr>\n",
              "      <th>1</th>\n",
              "      <td>sad</td>\n",
              "      <td>fear</td>\n",
              "    </tr>\n",
              "    <tr>\n",
              "      <th>2</th>\n",
              "      <td>angry</td>\n",
              "      <td>happy</td>\n",
              "    </tr>\n",
              "    <tr>\n",
              "      <th>3</th>\n",
              "      <td>happy</td>\n",
              "      <td>happy</td>\n",
              "    </tr>\n",
              "    <tr>\n",
              "      <th>4</th>\n",
              "      <td>fear</td>\n",
              "      <td>angry</td>\n",
              "    </tr>\n",
              "  </tbody>\n",
              "</table>\n",
              "</div>"
            ],
            "text/plain": [
              "  Actual Predicted\n",
              "0    sad       sad\n",
              "1    sad      fear\n",
              "2  angry     happy\n",
              "3  happy     happy\n",
              "4   fear     angry"
            ]
          },
          "metadata": {
            "tags": []
          },
          "execution_count": 29
        }
      ]
    },
    {
      "cell_type": "code",
      "metadata": {
        "colab": {
          "base_uri": "https://localhost:8080/"
        },
        "id": "yLaWLRp-DnZ4",
        "outputId": "20a0cbc5-5432-41c1-93b5-99ce1375a364"
      },
      "source": [
        "d = results[(results.Actual=='sad') & (results.Predicted=='sad')]\n",
        "d.shape"
      ],
      "execution_count": null,
      "outputs": [
        {
          "output_type": "execute_result",
          "data": {
            "text/plain": [
              "(33, 2)"
            ]
          },
          "metadata": {
            "tags": []
          },
          "execution_count": 30
        }
      ]
    },
    {
      "cell_type": "code",
      "metadata": {
        "trusted": true,
        "colab": {
          "base_uri": "https://localhost:8080/",
          "height": 725
        },
        "id": "p9GEacTM0L6w",
        "outputId": "1c363e5f-9c83-4b89-a1d2-939255be8b2e"
      },
      "source": [
        "cm = confusion_matrix(y_test, preds)\n",
        "df_cm = pd.DataFrame(cm,\n",
        "                     index=observed_emotions,\n",
        "                     columns=observed_emotions)\n",
        "plt.figure(figsize=(10, 10))\n",
        "\n",
        "sns.set(font_scale=1)\n",
        "\n",
        "\n",
        "ax = sns.heatmap(df_cm, annot=True, square=True, fmt='d', linewidths=.2, cbar=0, cmap=plt.cm.Blues)\n",
        "ax.set_xticklabels(ax.get_xticklabels(), rotation=0)\n",
        "\n",
        "plt.ylabel('True labels')\n",
        "plt.xlabel('Predicted labels')\n",
        "plt.tight_layout()\n",
        "\n",
        "name = 'mel feature 55%.png'\n",
        "plt.savefig('/content/drive/MyDrive/Colab Notebooks/speech/dataset/ravdess/Confusion matrix/mlp Confusion matrix for ' + name)\n",
        "\n",
        "plt.show()"
      ],
      "execution_count": null,
      "outputs": [
        {
          "output_type": "display_data",
          "data": {
            "image/png": "[encoded data removed]",
            "text/plain": [
              "<Figure size 720x720 with 1 Axes>"
            ]
          },
          "metadata": {
            "tags": []
          }
        }
      ]
    },
    {
      "cell_type": "code",
      "metadata": {
        "trusted": true,
        "colab": {
          "base_uri": "https://localhost:8080/"
        },
        "id": "kvUcYk2X0L6w",
        "outputId": "4d90e801-f16d-4cd1-fa36-ca4723183ce6"
      },
      "source": [
        "print(classification_report(y_test, preds))"
      ],
      "execution_count": null,
      "outputs": [
        {
          "output_type": "stream",
          "text": [
            "              precision    recall  f1-score   support\n",
            "\n",
            "       angry       0.74      0.58      0.65        50\n",
            "        fear       0.61      0.33      0.43        42\n",
            "       happy       0.41      0.54      0.47        50\n",
            "         sad       0.56      0.72      0.63        50\n",
            "\n",
            "    accuracy                           0.55       192\n",
            "   macro avg       0.58      0.54      0.54       192\n",
            "weighted avg       0.58      0.55      0.55       192\n",
            "\n"
          ],
          "name": "stdout"
        }
      ]
    },
    {
      "cell_type": "code",
      "metadata": {
        "id": "0RRM2iqAG-Dv"
      },
      "source": [
        "import pickle\n",
        "\n",
        "filename = 'mel_MLP_0.55.sav'\n",
        "pickle.dump(model, open('/content/drive/MyDrive/Colab Notebooks/speech/dataset/ravdess/Models/' + filename, 'wb'))\n",
        "loaded_model = pickle.load(open('/content/drive/MyDrive/Colab Notebooks/speech/dataset/ravdess/Models/' + filename, 'rb'))"
      ],
      "execution_count": null,
      "outputs": []
    },
    {
      "cell_type": "markdown",
      "metadata": {
        "id": "ELgXHhU10JBt"
      },
      "source": [
        "### Light GBM"
      ]
    },
    {
      "cell_type": "code",
      "metadata": {
        "trusted": true,
        "id": "VNNms9KmvgEw"
      },
      "source": [
        "preds = lgb_model.predict(x_test)"
      ],
      "execution_count": null,
      "outputs": []
    },
    {
      "cell_type": "code",
      "metadata": {
        "trusted": true,
        "id": "oWy4xHhUvgEw"
      },
      "source": [
        "predictions = []\n",
        "\n",
        "for x in preds:\n",
        "    predictions.append(np.argmax(x))"
      ],
      "execution_count": null,
      "outputs": []
    },
    {
      "cell_type": "code",
      "metadata": {
        "trusted": true,
        "id": "RIH-WwOJvgEx",
        "colab": {
          "base_uri": "https://localhost:8080/",
          "height": 204
        },
        "outputId": "40b74a80-f702-441b-fd4d-5183b6cb3ae2"
      },
      "source": [
        "results = pd.DataFrame()\n",
        "results['Actual'] = y_test\n",
        "results['Predicted'] = predictions\n",
        "\n",
        "results['Actual'] = results['Actual'].map({0:'angry', 1:'fear', 2:'happy', 3:'sad'})\n",
        "results['Predicted'] = results['Predicted'].map({0:'angry', 1:'fear', 2:'happy', 3:'sad'})\n",
        "results.head()"
      ],
      "execution_count": null,
      "outputs": [
        {
          "output_type": "execute_result",
          "data": {
            "text/html": [
              "<div>\n",
              "<style scoped>\n",
              "    .dataframe tbody tr th:only-of-type {\n",
              "        vertical-align: middle;\n",
              "    }\n",
              "\n",
              "    .dataframe tbody tr th {\n",
              "        vertical-align: top;\n",
              "    }\n",
              "\n",
              "    .dataframe thead th {\n",
              "        text-align: right;\n",
              "    }\n",
              "</style>\n",
              "<table border=\"1\" class=\"dataframe\">\n",
              "  <thead>\n",
              "    <tr style=\"text-align: right;\">\n",
              "      <th></th>\n",
              "      <th>Actual</th>\n",
              "      <th>Predicted</th>\n",
              "    </tr>\n",
              "  </thead>\n",
              "  <tbody>\n",
              "    <tr>\n",
              "      <th>0</th>\n",
              "      <td>fear</td>\n",
              "      <td>angry</td>\n",
              "    </tr>\n",
              "    <tr>\n",
              "      <th>1</th>\n",
              "      <td>fear</td>\n",
              "      <td>fear</td>\n",
              "    </tr>\n",
              "    <tr>\n",
              "      <th>2</th>\n",
              "      <td>fear</td>\n",
              "      <td>fear</td>\n",
              "    </tr>\n",
              "    <tr>\n",
              "      <th>3</th>\n",
              "      <td>angry</td>\n",
              "      <td>angry</td>\n",
              "    </tr>\n",
              "    <tr>\n",
              "      <th>4</th>\n",
              "      <td>sad</td>\n",
              "      <td>happy</td>\n",
              "    </tr>\n",
              "  </tbody>\n",
              "</table>\n",
              "</div>"
            ],
            "text/plain": [
              "  Actual Predicted\n",
              "0   fear     angry\n",
              "1   fear      fear\n",
              "2   fear      fear\n",
              "3  angry     angry\n",
              "4    sad     happy"
            ]
          },
          "metadata": {
            "tags": []
          },
          "execution_count": 18
        }
      ]
    },
    {
      "cell_type": "code",
      "metadata": {
        "trusted": true,
        "colab": {
          "base_uri": "https://localhost:8080/",
          "height": 725
        },
        "id": "xp-c6GQAvgEx",
        "outputId": "efef8d5d-a57a-4784-fd9f-d2c288e24845"
      },
      "source": [
        "cm = confusion_matrix(y_test, predictions)\n",
        "df_cm = pd.DataFrame(cm,\n",
        "                     index=observed_emotions,\n",
        "                     columns=observed_emotions)\n",
        "\n",
        "plt.figure(figsize=(10, 10))\n",
        "\n",
        "sns.set(font_scale=1)\n",
        "\n",
        "ax = sns.heatmap(df_cm, annot=True, square=True, fmt='d', linewidths=.2, cbar=0, cmap=plt.cm.Blues)\n",
        "ax.set_xticklabels(ax.get_xticklabels(), rotation=0)\n",
        "\n",
        "plt.ylabel('True labels')\n",
        "plt.xlabel('Predicted labels')\n",
        "plt.tight_layout()\n",
        "\n",
        "name = 'mel feature 52%.png'\n",
        "plt.savefig('/content/drive/MyDrive/Colab Notebooks/speech/dataset/ravdess/Confusion matrix/lgbm Confusion matrix for ' + name)\n",
        "\n",
        "plt.show()"
      ],
      "execution_count": null,
      "outputs": [
        {
          "output_type": "display_data",
          "data": {
            "image/png": "[encoded data removed]",
            "text/plain": [
              "<Figure size 720x720 with 1 Axes>"
            ]
          },
          "metadata": {
            "tags": []
          }
        }
      ]
    },
    {
      "cell_type": "code",
      "metadata": {
        "trusted": true,
        "colab": {
          "base_uri": "https://localhost:8080/"
        },
        "id": "ntzF25X6vgEy",
        "outputId": "10309107-74f9-4880-f11d-45aa269f47b0"
      },
      "source": [
        "print(classification_report(y_test, predictions, target_names=observed_emotions))"
      ],
      "execution_count": null,
      "outputs": [
        {
          "output_type": "stream",
          "text": [
            "              precision    recall  f1-score   support\n",
            "\n",
            "       angry       0.68      0.53      0.59        57\n",
            "        fear       0.37      0.47      0.41        43\n",
            "       happy       0.53      0.56      0.54        45\n",
            "         sad       0.53      0.53      0.53        47\n",
            "\n",
            "    accuracy                           0.52       192\n",
            "   macro avg       0.53      0.52      0.52       192\n",
            "weighted avg       0.54      0.52      0.53       192\n",
            "\n"
          ],
          "name": "stdout"
        }
      ]
    },
    {
      "cell_type": "code",
      "metadata": {
        "id": "49WqS2WDE8ov"
      },
      "source": [
        "import pickle\n",
        "\n",
        "filename = 'mel_GBM_0.52.sav'\n",
        "pickle.dump(lgb_model, open('/content/drive/MyDrive/Colab Notebooks/speech/dataset/ravdess/Models/' + filename, 'wb'))\n",
        "loaded_model = pickle.load(open('/content/drive/MyDrive/Colab Notebooks/speech/dataset/ravdess/Models/' + filename, 'rb'))"
      ],
      "execution_count": null,
      "outputs": []
    }
  ]
}