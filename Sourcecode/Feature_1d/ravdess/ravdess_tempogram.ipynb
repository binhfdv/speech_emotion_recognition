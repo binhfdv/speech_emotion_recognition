{
  "nbformat": 4,
  "nbformat_minor": 0,
  "metadata": {
    "colab": {
      "name": "ravdess_tempogram.ipynb",
      "provenance": [],
      "collapsed_sections": [
        "WLB_d6YJ1RP1",
        "odCFHEx9zxwA",
        "ryPwl16W7LE3",
        "ELgXHhU10JBt"
      ]
    },
    "kernelspec": {
      "name": "python3",
      "display_name": "Python 3"
    },
    "language_info": {
      "name": "python"
    }
  },
  "cells": [
    {
      "cell_type": "markdown",
      "metadata": {
        "id": "RvNhofEM0Ios"
      },
      "source": [
        "3/6/2021"
      ]
    },
    {
      "cell_type": "markdown",
      "metadata": {
        "id": "hykoJ3USvgEY"
      },
      "source": [
        "## Load libraries"
      ]
    },
    {
      "cell_type": "code",
      "metadata": {
        "id": "RTNof-kwzXZ1"
      },
      "source": [
        "import pandas as pd\n",
        "import numpy as np\n",
        "\n",
        "import os\n",
        "import sys\n",
        "\n",
        "from sklearn.neural_network import MLPClassifier\n",
        "\n",
        "import librosa\n",
        "import librosa.display\n",
        "import seaborn as sns\n",
        "import matplotlib.pyplot as plt\n",
        "\n",
        "from sklearn.preprocessing import StandardScaler, OneHotEncoder\n",
        "from sklearn.metrics import confusion_matrix, classification_report\n",
        "from sklearn.model_selection import train_test_split\n",
        "\n",
        "# to play the audio files\n",
        "from IPython.display import Audio\n",
        "\n",
        "import warnings\n",
        "if not sys.warnoptions:\n",
        "    warnings.simplefilter(\"ignore\")\n",
        "warnings.filterwarnings(\"ignore\", category=DeprecationWarning) "
      ],
      "execution_count": null,
      "outputs": []
    },
    {
      "cell_type": "markdown",
      "metadata": {
        "id": "JFURsK6wvgEc"
      },
      "source": [
        "## Load and set data paths"
      ]
    },
    {
      "cell_type": "code",
      "metadata": {
        "id": "6fKOfKsqz1Uf"
      },
      "source": [
        "Ravdess = '/content/drive/MyDrive/Colab Notebooks/speech/dataset/ravdess/audio_speech_actors_01-24/'"
      ],
      "execution_count": null,
      "outputs": []
    },
    {
      "cell_type": "code",
      "metadata": {
        "colab": {
          "base_uri": "https://localhost:8080/",
          "height": 195
        },
        "id": "kux5GOAlz1u_",
        "outputId": "350887be-da20-4d86-ffb2-62c2cc37b364"
      },
      "source": [
        "ravdess_directory_list = os.listdir(Ravdess)\n",
        "\n",
        "file_emotion = []\n",
        "file_path = []\n",
        "for dir in ravdess_directory_list:\n",
        "    # as their are 20 different actors in our previous directory we need to extract files for each actor.\n",
        "    actor = os.listdir(Ravdess + dir)\n",
        "    for file in actor:\n",
        "        part = file.split('.')[0]\n",
        "        part = part.split('-')\n",
        "        # third part in each file represents the emotion associated to that file.\n",
        "        file_emotion.append(int(part[2]))\n",
        "        file_path.append(Ravdess + dir + '/' + file)\n",
        "        \n",
        "# dataframe for emotion of files\n",
        "emotion_df = pd.DataFrame(file_emotion, columns=['Emotions'])\n",
        "\n",
        "# dataframe for path of files.\n",
        "path_df = pd.DataFrame(file_path, columns=['Path'])\n",
        "Ravdess_df = pd.concat([emotion_df, path_df], axis=1)\n",
        "\n",
        "# changing integers to actual emotions.\n",
        "Ravdess_df.Emotions.replace({1:'neutral', 2:'calm', 3:'happy', 4:'sad', 5:'angry', 6:'fear', 7:'disgust', 8:'surprise'}, inplace=True)\n",
        "Ravdess_df.head()"
      ],
      "execution_count": null,
      "outputs": [
        {
          "output_type": "execute_result",
          "data": {
            "text/html": [
              "<div>\n",
              "<style scoped>\n",
              "    .dataframe tbody tr th:only-of-type {\n",
              "        vertical-align: middle;\n",
              "    }\n",
              "\n",
              "    .dataframe tbody tr th {\n",
              "        vertical-align: top;\n",
              "    }\n",
              "\n",
              "    .dataframe thead th {\n",
              "        text-align: right;\n",
              "    }\n",
              "</style>\n",
              "<table border=\"1\" class=\"dataframe\">\n",
              "  <thead>\n",
              "    <tr style=\"text-align: right;\">\n",
              "      <th></th>\n",
              "      <th>Emotions</th>\n",
              "      <th>Path</th>\n",
              "    </tr>\n",
              "  </thead>\n",
              "  <tbody>\n",
              "    <tr>\n",
              "      <th>0</th>\n",
              "      <td>calm</td>\n",
              "      <td>/content/drive/MyDrive/Colab Notebooks/speech/...</td>\n",
              "    </tr>\n",
              "    <tr>\n",
              "      <th>1</th>\n",
              "      <td>happy</td>\n",
              "      <td>/content/drive/MyDrive/Colab Notebooks/speech/...</td>\n",
              "    </tr>\n",
              "    <tr>\n",
              "      <th>2</th>\n",
              "      <td>sad</td>\n",
              "      <td>/content/drive/MyDrive/Colab Notebooks/speech/...</td>\n",
              "    </tr>\n",
              "    <tr>\n",
              "      <th>3</th>\n",
              "      <td>angry</td>\n",
              "      <td>/content/drive/MyDrive/Colab Notebooks/speech/...</td>\n",
              "    </tr>\n",
              "    <tr>\n",
              "      <th>4</th>\n",
              "      <td>calm</td>\n",
              "      <td>/content/drive/MyDrive/Colab Notebooks/speech/...</td>\n",
              "    </tr>\n",
              "  </tbody>\n",
              "</table>\n",
              "</div>"
            ],
            "text/plain": [
              "  Emotions                                               Path\n",
              "0     calm  /content/drive/MyDrive/Colab Notebooks/speech/...\n",
              "1    happy  /content/drive/MyDrive/Colab Notebooks/speech/...\n",
              "2      sad  /content/drive/MyDrive/Colab Notebooks/speech/...\n",
              "3    angry  /content/drive/MyDrive/Colab Notebooks/speech/...\n",
              "4     calm  /content/drive/MyDrive/Colab Notebooks/speech/..."
            ]
          },
          "metadata": {
            "tags": []
          },
          "execution_count": 4
        }
      ]
    },
    {
      "cell_type": "code",
      "metadata": {
        "id": "C1xzkXvI0bDi"
      },
      "source": [
        "Ravdess_df.to_csv('/content/drive/MyDrive/Colab Notebooks/speech/dataset/ravdess/ravdess_path.csv', index=0)"
      ],
      "execution_count": null,
      "outputs": []
    },
    {
      "cell_type": "code",
      "metadata": {
        "id": "3QBE0bNY07Ex"
      },
      "source": [
        "Ravdess_df = pd.read_csv('/content/drive/MyDrive/Colab Notebooks/speech/dataset/ravdess/ravdess_path.csv')"
      ],
      "execution_count": null,
      "outputs": []
    },
    {
      "cell_type": "code",
      "metadata": {
        "colab": {
          "base_uri": "https://localhost:8080/",
          "height": 354
        },
        "id": "-kv7GWJH0bW3",
        "outputId": "35cae013-957d-4a33-d31f-872840c5e794"
      },
      "source": [
        "plt.title('Count of Emotions', size=16)\n",
        "sns.countplot(Ravdess_df.Emotions)\n",
        "plt.ylabel('Count', size=12)\n",
        "plt.xlabel('Emotions', size=12)\n",
        "sns.despine(top=True, right=True, left=False, bottom=False)\n",
        "plt.show()"
      ],
      "execution_count": null,
      "outputs": [
        {
          "output_type": "stream",
          "text": [
            "/usr/local/lib/python3.7/dist-packages/seaborn/_decorators.py:43: FutureWarning: Pass the following variable as a keyword arg: x. From version 0.12, the only valid positional argument will be `data`, and passing other arguments without an explicit keyword will result in an error or misinterpretation.\n",
            "  FutureWarning\n"
          ],
          "name": "stderr"
        },
        {
          "output_type": "display_data",
          "data": {
            "image/png": "[encoded data removed]",
            "text/plain": [
              "<Figure size 432x288 with 1 Axes>"
            ]
          },
          "metadata": {
            "tags": [],
            "needs_background": "light"
          }
        }
      ]
    },
    {
      "cell_type": "markdown",
      "metadata": {
        "id": "jSKJ0QcDvgEl"
      },
      "source": [
        "## Feature extraction"
      ]
    },
    {
      "cell_type": "code",
      "metadata": {
        "id": "8A-mILiwuclf"
      },
      "source": [
        "observed_emotions=sorted(['fear', 'happy', 'sad', 'angry'])"
      ],
      "execution_count": null,
      "outputs": []
    },
    {
      "cell_type": "code",
      "metadata": {
        "id": "7STDrOxHu2yp"
      },
      "source": [
        "num_mfcc = 13"
      ],
      "execution_count": null,
      "outputs": []
    },
    {
      "cell_type": "code",
      "metadata": {
        "trusted": true,
        "id": "iIGwYc0XvgEm"
      },
      "source": [
        "def extract_feature(path, mfcc, chroma, mel, tempo):\n",
        "  data, sample_rate = librosa.load(path, res_type='kaiser_fast')\n",
        "  if chroma:\n",
        "    stft = np.abs(librosa.stft(data))\n",
        "\n",
        "  result=np.array([])\n",
        "  if mfcc:\n",
        "    mfccs=np.mean(librosa.feature.mfcc(y=data, sr=sample_rate, n_mfcc=num_mfcc).T, axis=0)\n",
        "    result=np.hstack((result, mfccs))\n",
        "  if chroma:\n",
        "    chroma=np.mean(librosa.feature.chroma_stft(S=stft, sr=sample_rate).T, axis=0)\n",
        "    result=np.hstack((result, chroma))\n",
        "  if mel:\n",
        "    mel=np.mean(librosa.feature.melspectrogram(y=data, sr=sample_rate).T, axis=0)\n",
        "    result=np.hstack((result, mel))\n",
        "  if tempo:\n",
        "    tempo=np.mean(librosa.feature.tempogram(y=data, sr=sample_rate).T, axis=0)\n",
        "    result=np.hstack((result, tempo))\n",
        "\n",
        "  return result"
      ],
      "execution_count": null,
      "outputs": []
    },
    {
      "cell_type": "code",
      "metadata": {
        "trusted": true,
        "id": "XmE_BX8JvgEm"
      },
      "source": [
        "X, Y = [], []\n",
        "for path, emotion in zip(Ravdess_df.Path, Ravdess_df.Emotions):\n",
        "  if emotion not in observed_emotions:\n",
        "    continue\n",
        "  feature = extract_feature(path, mfcc=False, chroma=False, mel=False, tempo=True)\n",
        "  X.append(feature)\n",
        "  Y.append(emotion)"
      ],
      "execution_count": null,
      "outputs": []
    },
    {
      "cell_type": "code",
      "metadata": {
        "trusted": true,
        "colab": {
          "base_uri": "https://localhost:8080/"
        },
        "id": "4QE00fchvgEn",
        "outputId": "cee3a447-57b9-47a2-a273-9622f9c6dfa5"
      },
      "source": [
        "len(X), len(Y)"
      ],
      "execution_count": null,
      "outputs": [
        {
          "output_type": "execute_result",
          "data": {
            "text/plain": [
              "(768, 768)"
            ]
          },
          "metadata": {
            "tags": []
          },
          "execution_count": 8
        }
      ]
    },
    {
      "cell_type": "code",
      "metadata": {
        "trusted": true,
        "colab": {
          "base_uri": "https://localhost:8080/",
          "height": 338
        },
        "id": "uKPKmR3avgEn",
        "outputId": "16aec530-5a1b-483c-b134-68653841480c"
      },
      "source": [
        "Features = pd.DataFrame(X)\n",
        "Features['labels'] = Y\n",
        "Features.to_csv(f'/content/drive/MyDrive/Colab Notebooks/speech/dataset/ravdess/tempogram_features.csv', index=False)\n",
        "Features.head()"
      ],
      "execution_count": null,
      "outputs": [
        {
          "output_type": "execute_result",
          "data": {
            "text/html": [
              "<div>\n",
              "<style scoped>\n",
              "    .dataframe tbody tr th:only-of-type {\n",
              "        vertical-align: middle;\n",
              "    }\n",
              "\n",
              "    .dataframe tbody tr th {\n",
              "        vertical-align: top;\n",
              "    }\n",
              "\n",
              "    .dataframe thead th {\n",
              "        text-align: right;\n",
              "    }\n",
              "</style>\n",
              "<table border=\"1\" class=\"dataframe\">\n",
              "  <thead>\n",
              "    <tr style=\"text-align: right;\">\n",
              "      <th></th>\n",
              "      <th>0</th>\n",
              "      <th>1</th>\n",
              "      <th>2</th>\n",
              "      <th>3</th>\n",
              "      <th>4</th>\n",
              "      <th>5</th>\n",
              "      <th>6</th>\n",
              "      <th>7</th>\n",
              "      <th>8</th>\n",
              "      <th>9</th>\n",
              "      <th>10</th>\n",
              "      <th>11</th>\n",
              "      <th>12</th>\n",
              "      <th>13</th>\n",
              "      <th>14</th>\n",
              "      <th>15</th>\n",
              "      <th>16</th>\n",
              "      <th>17</th>\n",
              "      <th>18</th>\n",
              "      <th>19</th>\n",
              "      <th>20</th>\n",
              "      <th>21</th>\n",
              "      <th>22</th>\n",
              "      <th>23</th>\n",
              "      <th>24</th>\n",
              "      <th>25</th>\n",
              "      <th>26</th>\n",
              "      <th>27</th>\n",
              "      <th>28</th>\n",
              "      <th>29</th>\n",
              "      <th>30</th>\n",
              "      <th>31</th>\n",
              "      <th>32</th>\n",
              "      <th>33</th>\n",
              "      <th>34</th>\n",
              "      <th>35</th>\n",
              "      <th>36</th>\n",
              "      <th>37</th>\n",
              "      <th>38</th>\n",
              "      <th>39</th>\n",
              "      <th>...</th>\n",
              "      <th>345</th>\n",
              "      <th>346</th>\n",
              "      <th>347</th>\n",
              "      <th>348</th>\n",
              "      <th>349</th>\n",
              "      <th>350</th>\n",
              "      <th>351</th>\n",
              "      <th>352</th>\n",
              "      <th>353</th>\n",
              "      <th>354</th>\n",
              "      <th>355</th>\n",
              "      <th>356</th>\n",
              "      <th>357</th>\n",
              "      <th>358</th>\n",
              "      <th>359</th>\n",
              "      <th>360</th>\n",
              "      <th>361</th>\n",
              "      <th>362</th>\n",
              "      <th>363</th>\n",
              "      <th>364</th>\n",
              "      <th>365</th>\n",
              "      <th>366</th>\n",
              "      <th>367</th>\n",
              "      <th>368</th>\n",
              "      <th>369</th>\n",
              "      <th>370</th>\n",
              "      <th>371</th>\n",
              "      <th>372</th>\n",
              "      <th>373</th>\n",
              "      <th>374</th>\n",
              "      <th>375</th>\n",
              "      <th>376</th>\n",
              "      <th>377</th>\n",
              "      <th>378</th>\n",
              "      <th>379</th>\n",
              "      <th>380</th>\n",
              "      <th>381</th>\n",
              "      <th>382</th>\n",
              "      <th>383</th>\n",
              "      <th>labels</th>\n",
              "    </tr>\n",
              "  </thead>\n",
              "  <tbody>\n",
              "    <tr>\n",
              "      <th>0</th>\n",
              "      <td>1.0</td>\n",
              "      <td>0.684434</td>\n",
              "      <td>0.381323</td>\n",
              "      <td>0.315699</td>\n",
              "      <td>0.363797</td>\n",
              "      <td>0.372512</td>\n",
              "      <td>0.303962</td>\n",
              "      <td>0.324587</td>\n",
              "      <td>0.415008</td>\n",
              "      <td>0.417524</td>\n",
              "      <td>0.374738</td>\n",
              "      <td>0.356981</td>\n",
              "      <td>0.383409</td>\n",
              "      <td>0.465840</td>\n",
              "      <td>0.440218</td>\n",
              "      <td>0.364785</td>\n",
              "      <td>0.311289</td>\n",
              "      <td>0.331993</td>\n",
              "      <td>0.378419</td>\n",
              "      <td>0.346734</td>\n",
              "      <td>0.291878</td>\n",
              "      <td>0.310292</td>\n",
              "      <td>0.375156</td>\n",
              "      <td>0.324510</td>\n",
              "      <td>0.241268</td>\n",
              "      <td>0.272568</td>\n",
              "      <td>0.409486</td>\n",
              "      <td>0.468645</td>\n",
              "      <td>0.395707</td>\n",
              "      <td>0.331869</td>\n",
              "      <td>0.317061</td>\n",
              "      <td>0.321055</td>\n",
              "      <td>0.254071</td>\n",
              "      <td>0.229254</td>\n",
              "      <td>0.264213</td>\n",
              "      <td>0.305442</td>\n",
              "      <td>0.292015</td>\n",
              "      <td>0.269244</td>\n",
              "      <td>0.289167</td>\n",
              "      <td>0.315280</td>\n",
              "      <td>...</td>\n",
              "      <td>-3.734611e-17</td>\n",
              "      <td>6.453194e-17</td>\n",
              "      <td>1.691154e-17</td>\n",
              "      <td>5.303013e-17</td>\n",
              "      <td>-2.132890e-17</td>\n",
              "      <td>2.123227e-17</td>\n",
              "      <td>1.393175e-17</td>\n",
              "      <td>2.321580e-17</td>\n",
              "      <td>6.795941e-18</td>\n",
              "      <td>9.193692e-18</td>\n",
              "      <td>-1.358994e-18</td>\n",
              "      <td>4.392269e-17</td>\n",
              "      <td>8.810624e-18</td>\n",
              "      <td>5.532524e-17</td>\n",
              "      <td>-4.857724e-18</td>\n",
              "      <td>5.683435e-17</td>\n",
              "      <td>-4.627983e-17</td>\n",
              "      <td>4.582989e-17</td>\n",
              "      <td>-3.245268e-17</td>\n",
              "      <td>1.420816e-17</td>\n",
              "      <td>6.403324e-18</td>\n",
              "      <td>2.864993e-17</td>\n",
              "      <td>1.874801e-17</td>\n",
              "      <td>-4.286480e-17</td>\n",
              "      <td>4.707281e-17</td>\n",
              "      <td>-3.910225e-17</td>\n",
              "      <td>2.761268e-17</td>\n",
              "      <td>-8.322288e-18</td>\n",
              "      <td>1.934100e-17</td>\n",
              "      <td>-4.494175e-17</td>\n",
              "      <td>7.871954e-17</td>\n",
              "      <td>-3.707398e-17</td>\n",
              "      <td>2.700953e-17</td>\n",
              "      <td>2.593287e-17</td>\n",
              "      <td>-1.582210e-17</td>\n",
              "      <td>4.275779e-17</td>\n",
              "      <td>1.325684e-18</td>\n",
              "      <td>1.507654e-17</td>\n",
              "      <td>1.507481e-17</td>\n",
              "      <td>happy</td>\n",
              "    </tr>\n",
              "    <tr>\n",
              "      <th>1</th>\n",
              "      <td>1.0</td>\n",
              "      <td>0.718239</td>\n",
              "      <td>0.429905</td>\n",
              "      <td>0.358201</td>\n",
              "      <td>0.391767</td>\n",
              "      <td>0.407020</td>\n",
              "      <td>0.369876</td>\n",
              "      <td>0.366181</td>\n",
              "      <td>0.379321</td>\n",
              "      <td>0.398611</td>\n",
              "      <td>0.387875</td>\n",
              "      <td>0.371602</td>\n",
              "      <td>0.402928</td>\n",
              "      <td>0.436221</td>\n",
              "      <td>0.415935</td>\n",
              "      <td>0.426465</td>\n",
              "      <td>0.381726</td>\n",
              "      <td>0.296488</td>\n",
              "      <td>0.286424</td>\n",
              "      <td>0.337119</td>\n",
              "      <td>0.371600</td>\n",
              "      <td>0.319061</td>\n",
              "      <td>0.283075</td>\n",
              "      <td>0.350011</td>\n",
              "      <td>0.440033</td>\n",
              "      <td>0.458302</td>\n",
              "      <td>0.334464</td>\n",
              "      <td>0.278501</td>\n",
              "      <td>0.287389</td>\n",
              "      <td>0.276154</td>\n",
              "      <td>0.234013</td>\n",
              "      <td>0.268102</td>\n",
              "      <td>0.315904</td>\n",
              "      <td>0.296003</td>\n",
              "      <td>0.281163</td>\n",
              "      <td>0.315682</td>\n",
              "      <td>0.338363</td>\n",
              "      <td>0.245904</td>\n",
              "      <td>0.196263</td>\n",
              "      <td>0.181075</td>\n",
              "      <td>...</td>\n",
              "      <td>-3.169278e-17</td>\n",
              "      <td>6.655589e-17</td>\n",
              "      <td>1.389399e-17</td>\n",
              "      <td>3.772211e-17</td>\n",
              "      <td>-7.566097e-18</td>\n",
              "      <td>2.632952e-17</td>\n",
              "      <td>1.290059e-17</td>\n",
              "      <td>2.385455e-17</td>\n",
              "      <td>8.670609e-18</td>\n",
              "      <td>2.285317e-17</td>\n",
              "      <td>1.200658e-18</td>\n",
              "      <td>5.294164e-17</td>\n",
              "      <td>8.510281e-18</td>\n",
              "      <td>4.050176e-17</td>\n",
              "      <td>-6.615700e-18</td>\n",
              "      <td>4.813192e-17</td>\n",
              "      <td>-4.515122e-17</td>\n",
              "      <td>4.916996e-17</td>\n",
              "      <td>-3.782390e-17</td>\n",
              "      <td>1.885078e-17</td>\n",
              "      <td>-2.347669e-18</td>\n",
              "      <td>2.622868e-17</td>\n",
              "      <td>2.529666e-17</td>\n",
              "      <td>-3.680195e-17</td>\n",
              "      <td>2.625130e-17</td>\n",
              "      <td>-4.013103e-17</td>\n",
              "      <td>2.030790e-17</td>\n",
              "      <td>-7.108426e-18</td>\n",
              "      <td>2.296843e-17</td>\n",
              "      <td>-5.197880e-17</td>\n",
              "      <td>6.043015e-17</td>\n",
              "      <td>-2.176813e-17</td>\n",
              "      <td>3.269775e-17</td>\n",
              "      <td>1.253088e-17</td>\n",
              "      <td>-6.904360e-18</td>\n",
              "      <td>4.089239e-17</td>\n",
              "      <td>-9.300289e-18</td>\n",
              "      <td>1.876983e-17</td>\n",
              "      <td>1.719912e-17</td>\n",
              "      <td>sad</td>\n",
              "    </tr>\n",
              "    <tr>\n",
              "      <th>2</th>\n",
              "      <td>1.0</td>\n",
              "      <td>0.738835</td>\n",
              "      <td>0.464905</td>\n",
              "      <td>0.391983</td>\n",
              "      <td>0.398921</td>\n",
              "      <td>0.420978</td>\n",
              "      <td>0.423360</td>\n",
              "      <td>0.411740</td>\n",
              "      <td>0.386683</td>\n",
              "      <td>0.372563</td>\n",
              "      <td>0.373784</td>\n",
              "      <td>0.388009</td>\n",
              "      <td>0.453791</td>\n",
              "      <td>0.566352</td>\n",
              "      <td>0.599426</td>\n",
              "      <td>0.516212</td>\n",
              "      <td>0.489704</td>\n",
              "      <td>0.484099</td>\n",
              "      <td>0.418292</td>\n",
              "      <td>0.365541</td>\n",
              "      <td>0.336817</td>\n",
              "      <td>0.339909</td>\n",
              "      <td>0.332131</td>\n",
              "      <td>0.345839</td>\n",
              "      <td>0.354029</td>\n",
              "      <td>0.352983</td>\n",
              "      <td>0.368194</td>\n",
              "      <td>0.453373</td>\n",
              "      <td>0.504917</td>\n",
              "      <td>0.486332</td>\n",
              "      <td>0.465271</td>\n",
              "      <td>0.417245</td>\n",
              "      <td>0.376992</td>\n",
              "      <td>0.356485</td>\n",
              "      <td>0.321457</td>\n",
              "      <td>0.284973</td>\n",
              "      <td>0.280165</td>\n",
              "      <td>0.316241</td>\n",
              "      <td>0.329315</td>\n",
              "      <td>0.310786</td>\n",
              "      <td>...</td>\n",
              "      <td>7.224722e-08</td>\n",
              "      <td>5.732959e-08</td>\n",
              "      <td>4.509759e-08</td>\n",
              "      <td>3.513531e-08</td>\n",
              "      <td>2.707811e-08</td>\n",
              "      <td>2.061007e-08</td>\n",
              "      <td>1.546064e-08</td>\n",
              "      <td>1.140037e-08</td>\n",
              "      <td>8.236882e-09</td>\n",
              "      <td>5.810161e-09</td>\n",
              "      <td>3.985338e-09</td>\n",
              "      <td>2.645534e-09</td>\n",
              "      <td>1.689206e-09</td>\n",
              "      <td>1.029196e-09</td>\n",
              "      <td>5.919389e-10</td>\n",
              "      <td>3.166232e-10</td>\n",
              "      <td>1.542208e-10</td>\n",
              "      <td>6.635029e-11</td>\n",
              "      <td>2.409112e-11</td>\n",
              "      <td>6.856975e-12</td>\n",
              "      <td>1.321486e-12</td>\n",
              "      <td>1.136542e-13</td>\n",
              "      <td>4.267823e-17</td>\n",
              "      <td>-4.537954e-17</td>\n",
              "      <td>5.595816e-17</td>\n",
              "      <td>-5.368287e-17</td>\n",
              "      <td>3.464886e-17</td>\n",
              "      <td>-1.642577e-17</td>\n",
              "      <td>3.495048e-17</td>\n",
              "      <td>-4.935990e-17</td>\n",
              "      <td>8.943410e-17</td>\n",
              "      <td>-3.226123e-17</td>\n",
              "      <td>4.087913e-17</td>\n",
              "      <td>2.567693e-17</td>\n",
              "      <td>1.564107e-19</td>\n",
              "      <td>5.019410e-17</td>\n",
              "      <td>1.219639e-18</td>\n",
              "      <td>2.315104e-17</td>\n",
              "      <td>2.976570e-17</td>\n",
              "      <td>angry</td>\n",
              "    </tr>\n",
              "    <tr>\n",
              "      <th>3</th>\n",
              "      <td>1.0</td>\n",
              "      <td>0.635103</td>\n",
              "      <td>0.406910</td>\n",
              "      <td>0.411493</td>\n",
              "      <td>0.410887</td>\n",
              "      <td>0.342485</td>\n",
              "      <td>0.329236</td>\n",
              "      <td>0.334363</td>\n",
              "      <td>0.370555</td>\n",
              "      <td>0.395563</td>\n",
              "      <td>0.365006</td>\n",
              "      <td>0.341023</td>\n",
              "      <td>0.374024</td>\n",
              "      <td>0.391686</td>\n",
              "      <td>0.381611</td>\n",
              "      <td>0.387885</td>\n",
              "      <td>0.299547</td>\n",
              "      <td>0.259754</td>\n",
              "      <td>0.281750</td>\n",
              "      <td>0.318435</td>\n",
              "      <td>0.316720</td>\n",
              "      <td>0.314392</td>\n",
              "      <td>0.315817</td>\n",
              "      <td>0.352933</td>\n",
              "      <td>0.405055</td>\n",
              "      <td>0.357852</td>\n",
              "      <td>0.330598</td>\n",
              "      <td>0.332980</td>\n",
              "      <td>0.302318</td>\n",
              "      <td>0.238902</td>\n",
              "      <td>0.226986</td>\n",
              "      <td>0.271831</td>\n",
              "      <td>0.345633</td>\n",
              "      <td>0.374756</td>\n",
              "      <td>0.365644</td>\n",
              "      <td>0.313160</td>\n",
              "      <td>0.272774</td>\n",
              "      <td>0.244237</td>\n",
              "      <td>0.207134</td>\n",
              "      <td>0.194055</td>\n",
              "      <td>...</td>\n",
              "      <td>-3.874506e-17</td>\n",
              "      <td>5.719856e-17</td>\n",
              "      <td>1.205596e-17</td>\n",
              "      <td>3.770496e-17</td>\n",
              "      <td>-1.756659e-17</td>\n",
              "      <td>1.907718e-17</td>\n",
              "      <td>7.882742e-18</td>\n",
              "      <td>1.586450e-17</td>\n",
              "      <td>6.692206e-18</td>\n",
              "      <td>1.680508e-17</td>\n",
              "      <td>-2.401926e-18</td>\n",
              "      <td>5.503119e-17</td>\n",
              "      <td>1.237641e-17</td>\n",
              "      <td>3.657600e-17</td>\n",
              "      <td>-1.293922e-17</td>\n",
              "      <td>4.330203e-17</td>\n",
              "      <td>-4.051145e-17</td>\n",
              "      <td>4.459077e-17</td>\n",
              "      <td>-3.339201e-17</td>\n",
              "      <td>1.343793e-17</td>\n",
              "      <td>1.581917e-18</td>\n",
              "      <td>1.405179e-17</td>\n",
              "      <td>1.757829e-17</td>\n",
              "      <td>-3.549109e-17</td>\n",
              "      <td>3.394709e-17</td>\n",
              "      <td>-4.093304e-17</td>\n",
              "      <td>1.092685e-17</td>\n",
              "      <td>-2.281932e-18</td>\n",
              "      <td>1.480616e-17</td>\n",
              "      <td>-5.016810e-17</td>\n",
              "      <td>6.776955e-17</td>\n",
              "      <td>-2.791640e-17</td>\n",
              "      <td>3.576502e-17</td>\n",
              "      <td>7.930375e-18</td>\n",
              "      <td>-1.094875e-17</td>\n",
              "      <td>4.298573e-17</td>\n",
              "      <td>-4.057661e-18</td>\n",
              "      <td>1.269712e-17</td>\n",
              "      <td>1.147035e-17</td>\n",
              "      <td>fear</td>\n",
              "    </tr>\n",
              "    <tr>\n",
              "      <th>4</th>\n",
              "      <td>1.0</td>\n",
              "      <td>0.658047</td>\n",
              "      <td>0.365066</td>\n",
              "      <td>0.289179</td>\n",
              "      <td>0.298486</td>\n",
              "      <td>0.305922</td>\n",
              "      <td>0.316937</td>\n",
              "      <td>0.357566</td>\n",
              "      <td>0.437484</td>\n",
              "      <td>0.460775</td>\n",
              "      <td>0.376933</td>\n",
              "      <td>0.331721</td>\n",
              "      <td>0.364036</td>\n",
              "      <td>0.383774</td>\n",
              "      <td>0.385387</td>\n",
              "      <td>0.381307</td>\n",
              "      <td>0.353505</td>\n",
              "      <td>0.324381</td>\n",
              "      <td>0.335999</td>\n",
              "      <td>0.321367</td>\n",
              "      <td>0.250754</td>\n",
              "      <td>0.258377</td>\n",
              "      <td>0.347276</td>\n",
              "      <td>0.469601</td>\n",
              "      <td>0.469891</td>\n",
              "      <td>0.416930</td>\n",
              "      <td>0.300253</td>\n",
              "      <td>0.250833</td>\n",
              "      <td>0.205603</td>\n",
              "      <td>0.183618</td>\n",
              "      <td>0.225613</td>\n",
              "      <td>0.325458</td>\n",
              "      <td>0.426924</td>\n",
              "      <td>0.362910</td>\n",
              "      <td>0.304541</td>\n",
              "      <td>0.246311</td>\n",
              "      <td>0.236729</td>\n",
              "      <td>0.291846</td>\n",
              "      <td>0.289462</td>\n",
              "      <td>0.212937</td>\n",
              "      <td>...</td>\n",
              "      <td>-3.822275e-17</td>\n",
              "      <td>6.061814e-17</td>\n",
              "      <td>2.056532e-17</td>\n",
              "      <td>3.073905e-17</td>\n",
              "      <td>-2.575724e-18</td>\n",
              "      <td>1.786050e-17</td>\n",
              "      <td>9.502169e-18</td>\n",
              "      <td>2.462988e-17</td>\n",
              "      <td>4.412133e-18</td>\n",
              "      <td>1.973884e-17</td>\n",
              "      <td>2.546790e-18</td>\n",
              "      <td>4.469742e-17</td>\n",
              "      <td>1.235430e-17</td>\n",
              "      <td>3.971369e-17</td>\n",
              "      <td>-5.780509e-18</td>\n",
              "      <td>4.850002e-17</td>\n",
              "      <td>-4.340821e-17</td>\n",
              "      <td>3.695059e-17</td>\n",
              "      <td>-3.083818e-17</td>\n",
              "      <td>1.922372e-17</td>\n",
              "      <td>4.086729e-18</td>\n",
              "      <td>2.718430e-17</td>\n",
              "      <td>2.190868e-17</td>\n",
              "      <td>-3.876479e-17</td>\n",
              "      <td>2.944741e-17</td>\n",
              "      <td>-3.078862e-17</td>\n",
              "      <td>2.593524e-17</td>\n",
              "      <td>-1.392740e-17</td>\n",
              "      <td>3.688227e-17</td>\n",
              "      <td>-4.282689e-17</td>\n",
              "      <td>5.754074e-17</td>\n",
              "      <td>-3.049610e-17</td>\n",
              "      <td>3.367459e-17</td>\n",
              "      <td>1.770122e-17</td>\n",
              "      <td>-7.872020e-18</td>\n",
              "      <td>4.530384e-17</td>\n",
              "      <td>-1.079236e-17</td>\n",
              "      <td>1.571406e-17</td>\n",
              "      <td>2.671489e-17</td>\n",
              "      <td>angry</td>\n",
              "    </tr>\n",
              "  </tbody>\n",
              "</table>\n",
              "<p>5 rows × 385 columns</p>\n",
              "</div>"
            ],
            "text/plain": [
              "     0         1         2  ...           382           383  labels\n",
              "0  1.0  0.684434  0.381323  ...  1.507654e-17  1.507481e-17   happy\n",
              "1  1.0  0.718239  0.429905  ...  1.876983e-17  1.719912e-17     sad\n",
              "2  1.0  0.738835  0.464905  ...  2.315104e-17  2.976570e-17   angry\n",
              "3  1.0  0.635103  0.406910  ...  1.269712e-17  1.147035e-17    fear\n",
              "4  1.0  0.658047  0.365066  ...  1.571406e-17  2.671489e-17   angry\n",
              "\n",
              "[5 rows x 385 columns]"
            ]
          },
          "metadata": {
            "tags": []
          },
          "execution_count": 9
        }
      ]
    },
    {
      "cell_type": "code",
      "metadata": {
        "trusted": true,
        "colab": {
          "base_uri": "https://localhost:8080/"
        },
        "id": "hSVjKDkVvgEp",
        "outputId": "cecd3333-dbab-4a89-ae39-b578a5bc207a"
      },
      "source": [
        "Features.shape"
      ],
      "execution_count": null,
      "outputs": [
        {
          "output_type": "execute_result",
          "data": {
            "text/plain": [
              "(768, 385)"
            ]
          },
          "metadata": {
            "tags": []
          },
          "execution_count": 10
        }
      ]
    },
    {
      "cell_type": "code",
      "metadata": {
        "colab": {
          "base_uri": "https://localhost:8080/"
        },
        "id": "sxsMCQ-Hf45Z",
        "outputId": "d008af25-8d8c-406e-9fd0-1174da79ec0b"
      },
      "source": [
        "Features[0].value_counts()"
      ],
      "execution_count": null,
      "outputs": [
        {
          "output_type": "execute_result",
          "data": {
            "text/plain": [
              "1.0    768\n",
              "Name: 0, dtype: int64"
            ]
          },
          "metadata": {
            "tags": []
          },
          "execution_count": 12
        }
      ]
    },
    {
      "cell_type": "markdown",
      "metadata": {
        "id": "hgOh4IkmvgEp"
      },
      "source": [
        "## Data Preparation"
      ]
    },
    {
      "cell_type": "code",
      "metadata": {
        "trusted": true,
        "colab": {
          "base_uri": "https://localhost:8080/",
          "height": 256
        },
        "id": "U99crUcUvgEq",
        "outputId": "702b8a6b-b015-4da2-e9b9-c33740ad2d81"
      },
      "source": [
        "dataset = pd.read_csv(f'/content/drive/MyDrive/Colab Notebooks/speech/dataset/ravdess/tempogram_features.csv')\n",
        "dataset.head()"
      ],
      "execution_count": null,
      "outputs": [
        {
          "output_type": "execute_result",
          "data": {
            "text/html": [
              "<div>\n",
              "<style scoped>\n",
              "    .dataframe tbody tr th:only-of-type {\n",
              "        vertical-align: middle;\n",
              "    }\n",
              "\n",
              "    .dataframe tbody tr th {\n",
              "        vertical-align: top;\n",
              "    }\n",
              "\n",
              "    .dataframe thead th {\n",
              "        text-align: right;\n",
              "    }\n",
              "</style>\n",
              "<table border=\"1\" class=\"dataframe\">\n",
              "  <thead>\n",
              "    <tr style=\"text-align: right;\">\n",
              "      <th></th>\n",
              "      <th>0</th>\n",
              "      <th>1</th>\n",
              "      <th>2</th>\n",
              "      <th>3</th>\n",
              "      <th>4</th>\n",
              "      <th>5</th>\n",
              "      <th>6</th>\n",
              "      <th>7</th>\n",
              "      <th>8</th>\n",
              "      <th>9</th>\n",
              "      <th>10</th>\n",
              "      <th>11</th>\n",
              "      <th>12</th>\n",
              "      <th>13</th>\n",
              "      <th>14</th>\n",
              "      <th>15</th>\n",
              "      <th>16</th>\n",
              "      <th>17</th>\n",
              "      <th>18</th>\n",
              "      <th>19</th>\n",
              "      <th>20</th>\n",
              "      <th>21</th>\n",
              "      <th>22</th>\n",
              "      <th>23</th>\n",
              "      <th>24</th>\n",
              "      <th>25</th>\n",
              "      <th>26</th>\n",
              "      <th>27</th>\n",
              "      <th>28</th>\n",
              "      <th>29</th>\n",
              "      <th>30</th>\n",
              "      <th>31</th>\n",
              "      <th>32</th>\n",
              "      <th>33</th>\n",
              "      <th>34</th>\n",
              "      <th>35</th>\n",
              "      <th>36</th>\n",
              "      <th>37</th>\n",
              "      <th>38</th>\n",
              "      <th>39</th>\n",
              "      <th>...</th>\n",
              "      <th>345</th>\n",
              "      <th>346</th>\n",
              "      <th>347</th>\n",
              "      <th>348</th>\n",
              "      <th>349</th>\n",
              "      <th>350</th>\n",
              "      <th>351</th>\n",
              "      <th>352</th>\n",
              "      <th>353</th>\n",
              "      <th>354</th>\n",
              "      <th>355</th>\n",
              "      <th>356</th>\n",
              "      <th>357</th>\n",
              "      <th>358</th>\n",
              "      <th>359</th>\n",
              "      <th>360</th>\n",
              "      <th>361</th>\n",
              "      <th>362</th>\n",
              "      <th>363</th>\n",
              "      <th>364</th>\n",
              "      <th>365</th>\n",
              "      <th>366</th>\n",
              "      <th>367</th>\n",
              "      <th>368</th>\n",
              "      <th>369</th>\n",
              "      <th>370</th>\n",
              "      <th>371</th>\n",
              "      <th>372</th>\n",
              "      <th>373</th>\n",
              "      <th>374</th>\n",
              "      <th>375</th>\n",
              "      <th>376</th>\n",
              "      <th>377</th>\n",
              "      <th>378</th>\n",
              "      <th>379</th>\n",
              "      <th>380</th>\n",
              "      <th>381</th>\n",
              "      <th>382</th>\n",
              "      <th>383</th>\n",
              "      <th>labels</th>\n",
              "    </tr>\n",
              "  </thead>\n",
              "  <tbody>\n",
              "    <tr>\n",
              "      <th>0</th>\n",
              "      <td>1.0</td>\n",
              "      <td>0.684434</td>\n",
              "      <td>0.381323</td>\n",
              "      <td>0.315699</td>\n",
              "      <td>0.363797</td>\n",
              "      <td>0.372512</td>\n",
              "      <td>0.303962</td>\n",
              "      <td>0.324587</td>\n",
              "      <td>0.415008</td>\n",
              "      <td>0.417524</td>\n",
              "      <td>0.374738</td>\n",
              "      <td>0.356981</td>\n",
              "      <td>0.383409</td>\n",
              "      <td>0.465840</td>\n",
              "      <td>0.440218</td>\n",
              "      <td>0.364785</td>\n",
              "      <td>0.311289</td>\n",
              "      <td>0.331993</td>\n",
              "      <td>0.378419</td>\n",
              "      <td>0.346734</td>\n",
              "      <td>0.291878</td>\n",
              "      <td>0.310292</td>\n",
              "      <td>0.375156</td>\n",
              "      <td>0.324510</td>\n",
              "      <td>0.241268</td>\n",
              "      <td>0.272568</td>\n",
              "      <td>0.409486</td>\n",
              "      <td>0.468645</td>\n",
              "      <td>0.395707</td>\n",
              "      <td>0.331869</td>\n",
              "      <td>0.317061</td>\n",
              "      <td>0.321055</td>\n",
              "      <td>0.254071</td>\n",
              "      <td>0.229254</td>\n",
              "      <td>0.264213</td>\n",
              "      <td>0.305442</td>\n",
              "      <td>0.292015</td>\n",
              "      <td>0.269244</td>\n",
              "      <td>0.289167</td>\n",
              "      <td>0.315280</td>\n",
              "      <td>...</td>\n",
              "      <td>-3.734611e-17</td>\n",
              "      <td>6.453194e-17</td>\n",
              "      <td>1.691154e-17</td>\n",
              "      <td>5.303013e-17</td>\n",
              "      <td>-2.132890e-17</td>\n",
              "      <td>2.123227e-17</td>\n",
              "      <td>1.393175e-17</td>\n",
              "      <td>2.321580e-17</td>\n",
              "      <td>6.795941e-18</td>\n",
              "      <td>9.193692e-18</td>\n",
              "      <td>-1.358994e-18</td>\n",
              "      <td>4.392269e-17</td>\n",
              "      <td>8.810624e-18</td>\n",
              "      <td>5.532524e-17</td>\n",
              "      <td>-4.857724e-18</td>\n",
              "      <td>5.683435e-17</td>\n",
              "      <td>-4.627983e-17</td>\n",
              "      <td>4.582989e-17</td>\n",
              "      <td>-3.245268e-17</td>\n",
              "      <td>1.420816e-17</td>\n",
              "      <td>6.403324e-18</td>\n",
              "      <td>2.864993e-17</td>\n",
              "      <td>1.874801e-17</td>\n",
              "      <td>-4.286480e-17</td>\n",
              "      <td>4.707281e-17</td>\n",
              "      <td>-3.910225e-17</td>\n",
              "      <td>2.761268e-17</td>\n",
              "      <td>-8.322288e-18</td>\n",
              "      <td>1.934100e-17</td>\n",
              "      <td>-4.494175e-17</td>\n",
              "      <td>7.871954e-17</td>\n",
              "      <td>-3.707398e-17</td>\n",
              "      <td>2.700953e-17</td>\n",
              "      <td>2.593287e-17</td>\n",
              "      <td>-1.582210e-17</td>\n",
              "      <td>4.275779e-17</td>\n",
              "      <td>1.325684e-18</td>\n",
              "      <td>1.507654e-17</td>\n",
              "      <td>1.507481e-17</td>\n",
              "      <td>happy</td>\n",
              "    </tr>\n",
              "    <tr>\n",
              "      <th>1</th>\n",
              "      <td>1.0</td>\n",
              "      <td>0.718239</td>\n",
              "      <td>0.429905</td>\n",
              "      <td>0.358201</td>\n",
              "      <td>0.391767</td>\n",
              "      <td>0.407020</td>\n",
              "      <td>0.369876</td>\n",
              "      <td>0.366181</td>\n",
              "      <td>0.379321</td>\n",
              "      <td>0.398611</td>\n",
              "      <td>0.387875</td>\n",
              "      <td>0.371602</td>\n",
              "      <td>0.402928</td>\n",
              "      <td>0.436221</td>\n",
              "      <td>0.415935</td>\n",
              "      <td>0.426465</td>\n",
              "      <td>0.381726</td>\n",
              "      <td>0.296488</td>\n",
              "      <td>0.286424</td>\n",
              "      <td>0.337119</td>\n",
              "      <td>0.371600</td>\n",
              "      <td>0.319061</td>\n",
              "      <td>0.283075</td>\n",
              "      <td>0.350011</td>\n",
              "      <td>0.440033</td>\n",
              "      <td>0.458302</td>\n",
              "      <td>0.334464</td>\n",
              "      <td>0.278501</td>\n",
              "      <td>0.287389</td>\n",
              "      <td>0.276154</td>\n",
              "      <td>0.234013</td>\n",
              "      <td>0.268102</td>\n",
              "      <td>0.315904</td>\n",
              "      <td>0.296003</td>\n",
              "      <td>0.281163</td>\n",
              "      <td>0.315682</td>\n",
              "      <td>0.338363</td>\n",
              "      <td>0.245904</td>\n",
              "      <td>0.196263</td>\n",
              "      <td>0.181075</td>\n",
              "      <td>...</td>\n",
              "      <td>-3.169278e-17</td>\n",
              "      <td>6.655589e-17</td>\n",
              "      <td>1.389399e-17</td>\n",
              "      <td>3.772211e-17</td>\n",
              "      <td>-7.566097e-18</td>\n",
              "      <td>2.632952e-17</td>\n",
              "      <td>1.290059e-17</td>\n",
              "      <td>2.385455e-17</td>\n",
              "      <td>8.670609e-18</td>\n",
              "      <td>2.285317e-17</td>\n",
              "      <td>1.200658e-18</td>\n",
              "      <td>5.294164e-17</td>\n",
              "      <td>8.510281e-18</td>\n",
              "      <td>4.050176e-17</td>\n",
              "      <td>-6.615700e-18</td>\n",
              "      <td>4.813192e-17</td>\n",
              "      <td>-4.515122e-17</td>\n",
              "      <td>4.916996e-17</td>\n",
              "      <td>-3.782390e-17</td>\n",
              "      <td>1.885078e-17</td>\n",
              "      <td>-2.347669e-18</td>\n",
              "      <td>2.622868e-17</td>\n",
              "      <td>2.529666e-17</td>\n",
              "      <td>-3.680195e-17</td>\n",
              "      <td>2.625130e-17</td>\n",
              "      <td>-4.013103e-17</td>\n",
              "      <td>2.030790e-17</td>\n",
              "      <td>-7.108426e-18</td>\n",
              "      <td>2.296843e-17</td>\n",
              "      <td>-5.197880e-17</td>\n",
              "      <td>6.043015e-17</td>\n",
              "      <td>-2.176813e-17</td>\n",
              "      <td>3.269775e-17</td>\n",
              "      <td>1.253088e-17</td>\n",
              "      <td>-6.904360e-18</td>\n",
              "      <td>4.089239e-17</td>\n",
              "      <td>-9.300289e-18</td>\n",
              "      <td>1.876983e-17</td>\n",
              "      <td>1.719912e-17</td>\n",
              "      <td>sad</td>\n",
              "    </tr>\n",
              "    <tr>\n",
              "      <th>2</th>\n",
              "      <td>1.0</td>\n",
              "      <td>0.738835</td>\n",
              "      <td>0.464905</td>\n",
              "      <td>0.391983</td>\n",
              "      <td>0.398921</td>\n",
              "      <td>0.420978</td>\n",
              "      <td>0.423360</td>\n",
              "      <td>0.411740</td>\n",
              "      <td>0.386683</td>\n",
              "      <td>0.372563</td>\n",
              "      <td>0.373784</td>\n",
              "      <td>0.388009</td>\n",
              "      <td>0.453791</td>\n",
              "      <td>0.566352</td>\n",
              "      <td>0.599426</td>\n",
              "      <td>0.516212</td>\n",
              "      <td>0.489704</td>\n",
              "      <td>0.484099</td>\n",
              "      <td>0.418292</td>\n",
              "      <td>0.365541</td>\n",
              "      <td>0.336817</td>\n",
              "      <td>0.339909</td>\n",
              "      <td>0.332131</td>\n",
              "      <td>0.345839</td>\n",
              "      <td>0.354029</td>\n",
              "      <td>0.352983</td>\n",
              "      <td>0.368194</td>\n",
              "      <td>0.453373</td>\n",
              "      <td>0.504917</td>\n",
              "      <td>0.486332</td>\n",
              "      <td>0.465271</td>\n",
              "      <td>0.417245</td>\n",
              "      <td>0.376992</td>\n",
              "      <td>0.356485</td>\n",
              "      <td>0.321457</td>\n",
              "      <td>0.284973</td>\n",
              "      <td>0.280165</td>\n",
              "      <td>0.316241</td>\n",
              "      <td>0.329315</td>\n",
              "      <td>0.310786</td>\n",
              "      <td>...</td>\n",
              "      <td>7.224722e-08</td>\n",
              "      <td>5.732959e-08</td>\n",
              "      <td>4.509759e-08</td>\n",
              "      <td>3.513531e-08</td>\n",
              "      <td>2.707811e-08</td>\n",
              "      <td>2.061007e-08</td>\n",
              "      <td>1.546064e-08</td>\n",
              "      <td>1.140037e-08</td>\n",
              "      <td>8.236882e-09</td>\n",
              "      <td>5.810161e-09</td>\n",
              "      <td>3.985338e-09</td>\n",
              "      <td>2.645534e-09</td>\n",
              "      <td>1.689206e-09</td>\n",
              "      <td>1.029196e-09</td>\n",
              "      <td>5.919389e-10</td>\n",
              "      <td>3.166232e-10</td>\n",
              "      <td>1.542208e-10</td>\n",
              "      <td>6.635029e-11</td>\n",
              "      <td>2.409112e-11</td>\n",
              "      <td>6.856975e-12</td>\n",
              "      <td>1.321486e-12</td>\n",
              "      <td>1.136542e-13</td>\n",
              "      <td>4.267823e-17</td>\n",
              "      <td>-4.537954e-17</td>\n",
              "      <td>5.595816e-17</td>\n",
              "      <td>-5.368287e-17</td>\n",
              "      <td>3.464886e-17</td>\n",
              "      <td>-1.642577e-17</td>\n",
              "      <td>3.495048e-17</td>\n",
              "      <td>-4.935990e-17</td>\n",
              "      <td>8.943410e-17</td>\n",
              "      <td>-3.226123e-17</td>\n",
              "      <td>4.087913e-17</td>\n",
              "      <td>2.567693e-17</td>\n",
              "      <td>1.564107e-19</td>\n",
              "      <td>5.019410e-17</td>\n",
              "      <td>1.219639e-18</td>\n",
              "      <td>2.315104e-17</td>\n",
              "      <td>2.976570e-17</td>\n",
              "      <td>angry</td>\n",
              "    </tr>\n",
              "    <tr>\n",
              "      <th>3</th>\n",
              "      <td>1.0</td>\n",
              "      <td>0.635103</td>\n",
              "      <td>0.406910</td>\n",
              "      <td>0.411493</td>\n",
              "      <td>0.410887</td>\n",
              "      <td>0.342485</td>\n",
              "      <td>0.329236</td>\n",
              "      <td>0.334363</td>\n",
              "      <td>0.370555</td>\n",
              "      <td>0.395563</td>\n",
              "      <td>0.365006</td>\n",
              "      <td>0.341023</td>\n",
              "      <td>0.374024</td>\n",
              "      <td>0.391686</td>\n",
              "      <td>0.381611</td>\n",
              "      <td>0.387885</td>\n",
              "      <td>0.299547</td>\n",
              "      <td>0.259754</td>\n",
              "      <td>0.281750</td>\n",
              "      <td>0.318435</td>\n",
              "      <td>0.316720</td>\n",
              "      <td>0.314392</td>\n",
              "      <td>0.315817</td>\n",
              "      <td>0.352933</td>\n",
              "      <td>0.405055</td>\n",
              "      <td>0.357852</td>\n",
              "      <td>0.330598</td>\n",
              "      <td>0.332980</td>\n",
              "      <td>0.302318</td>\n",
              "      <td>0.238902</td>\n",
              "      <td>0.226986</td>\n",
              "      <td>0.271831</td>\n",
              "      <td>0.345633</td>\n",
              "      <td>0.374756</td>\n",
              "      <td>0.365644</td>\n",
              "      <td>0.313160</td>\n",
              "      <td>0.272774</td>\n",
              "      <td>0.244237</td>\n",
              "      <td>0.207134</td>\n",
              "      <td>0.194055</td>\n",
              "      <td>...</td>\n",
              "      <td>-3.874506e-17</td>\n",
              "      <td>5.719856e-17</td>\n",
              "      <td>1.205596e-17</td>\n",
              "      <td>3.770496e-17</td>\n",
              "      <td>-1.756659e-17</td>\n",
              "      <td>1.907718e-17</td>\n",
              "      <td>7.882742e-18</td>\n",
              "      <td>1.586450e-17</td>\n",
              "      <td>6.692206e-18</td>\n",
              "      <td>1.680508e-17</td>\n",
              "      <td>-2.401926e-18</td>\n",
              "      <td>5.503119e-17</td>\n",
              "      <td>1.237641e-17</td>\n",
              "      <td>3.657600e-17</td>\n",
              "      <td>-1.293922e-17</td>\n",
              "      <td>4.330203e-17</td>\n",
              "      <td>-4.051145e-17</td>\n",
              "      <td>4.459077e-17</td>\n",
              "      <td>-3.339201e-17</td>\n",
              "      <td>1.343793e-17</td>\n",
              "      <td>1.581917e-18</td>\n",
              "      <td>1.405179e-17</td>\n",
              "      <td>1.757829e-17</td>\n",
              "      <td>-3.549109e-17</td>\n",
              "      <td>3.394709e-17</td>\n",
              "      <td>-4.093304e-17</td>\n",
              "      <td>1.092685e-17</td>\n",
              "      <td>-2.281932e-18</td>\n",
              "      <td>1.480616e-17</td>\n",
              "      <td>-5.016810e-17</td>\n",
              "      <td>6.776955e-17</td>\n",
              "      <td>-2.791640e-17</td>\n",
              "      <td>3.576502e-17</td>\n",
              "      <td>7.930375e-18</td>\n",
              "      <td>-1.094875e-17</td>\n",
              "      <td>4.298573e-17</td>\n",
              "      <td>-4.057661e-18</td>\n",
              "      <td>1.269712e-17</td>\n",
              "      <td>1.147035e-17</td>\n",
              "      <td>fear</td>\n",
              "    </tr>\n",
              "    <tr>\n",
              "      <th>4</th>\n",
              "      <td>1.0</td>\n",
              "      <td>0.658047</td>\n",
              "      <td>0.365066</td>\n",
              "      <td>0.289179</td>\n",
              "      <td>0.298486</td>\n",
              "      <td>0.305922</td>\n",
              "      <td>0.316937</td>\n",
              "      <td>0.357566</td>\n",
              "      <td>0.437484</td>\n",
              "      <td>0.460775</td>\n",
              "      <td>0.376933</td>\n",
              "      <td>0.331721</td>\n",
              "      <td>0.364036</td>\n",
              "      <td>0.383774</td>\n",
              "      <td>0.385387</td>\n",
              "      <td>0.381307</td>\n",
              "      <td>0.353505</td>\n",
              "      <td>0.324381</td>\n",
              "      <td>0.335999</td>\n",
              "      <td>0.321367</td>\n",
              "      <td>0.250754</td>\n",
              "      <td>0.258377</td>\n",
              "      <td>0.347276</td>\n",
              "      <td>0.469601</td>\n",
              "      <td>0.469891</td>\n",
              "      <td>0.416930</td>\n",
              "      <td>0.300253</td>\n",
              "      <td>0.250833</td>\n",
              "      <td>0.205603</td>\n",
              "      <td>0.183618</td>\n",
              "      <td>0.225613</td>\n",
              "      <td>0.325458</td>\n",
              "      <td>0.426924</td>\n",
              "      <td>0.362910</td>\n",
              "      <td>0.304541</td>\n",
              "      <td>0.246311</td>\n",
              "      <td>0.236729</td>\n",
              "      <td>0.291846</td>\n",
              "      <td>0.289462</td>\n",
              "      <td>0.212937</td>\n",
              "      <td>...</td>\n",
              "      <td>-3.822275e-17</td>\n",
              "      <td>6.061814e-17</td>\n",
              "      <td>2.056532e-17</td>\n",
              "      <td>3.073905e-17</td>\n",
              "      <td>-2.575724e-18</td>\n",
              "      <td>1.786050e-17</td>\n",
              "      <td>9.502169e-18</td>\n",
              "      <td>2.462988e-17</td>\n",
              "      <td>4.412133e-18</td>\n",
              "      <td>1.973884e-17</td>\n",
              "      <td>2.546790e-18</td>\n",
              "      <td>4.469742e-17</td>\n",
              "      <td>1.235430e-17</td>\n",
              "      <td>3.971369e-17</td>\n",
              "      <td>-5.780509e-18</td>\n",
              "      <td>4.850002e-17</td>\n",
              "      <td>-4.340821e-17</td>\n",
              "      <td>3.695059e-17</td>\n",
              "      <td>-3.083818e-17</td>\n",
              "      <td>1.922372e-17</td>\n",
              "      <td>4.086729e-18</td>\n",
              "      <td>2.718430e-17</td>\n",
              "      <td>2.190868e-17</td>\n",
              "      <td>-3.876479e-17</td>\n",
              "      <td>2.944741e-17</td>\n",
              "      <td>-3.078862e-17</td>\n",
              "      <td>2.593524e-17</td>\n",
              "      <td>-1.392740e-17</td>\n",
              "      <td>3.688227e-17</td>\n",
              "      <td>-4.282689e-17</td>\n",
              "      <td>5.754074e-17</td>\n",
              "      <td>-3.049610e-17</td>\n",
              "      <td>3.367459e-17</td>\n",
              "      <td>1.770122e-17</td>\n",
              "      <td>-7.872020e-18</td>\n",
              "      <td>4.530384e-17</td>\n",
              "      <td>-1.079236e-17</td>\n",
              "      <td>1.571406e-17</td>\n",
              "      <td>2.671489e-17</td>\n",
              "      <td>angry</td>\n",
              "    </tr>\n",
              "  </tbody>\n",
              "</table>\n",
              "<p>5 rows × 385 columns</p>\n",
              "</div>"
            ],
            "text/plain": [
              "     0         1         2  ...           382           383  labels\n",
              "0  1.0  0.684434  0.381323  ...  1.507654e-17  1.507481e-17   happy\n",
              "1  1.0  0.718239  0.429905  ...  1.876983e-17  1.719912e-17     sad\n",
              "2  1.0  0.738835  0.464905  ...  2.315104e-17  2.976570e-17   angry\n",
              "3  1.0  0.635103  0.406910  ...  1.269712e-17  1.147035e-17    fear\n",
              "4  1.0  0.658047  0.365066  ...  1.571406e-17  2.671489e-17   angry\n",
              "\n",
              "[5 rows x 385 columns]"
            ]
          },
          "metadata": {
            "tags": []
          },
          "execution_count": 3
        }
      ]
    },
    {
      "cell_type": "code",
      "metadata": {
        "colab": {
          "base_uri": "https://localhost:8080/"
        },
        "id": "4D2myJ17_d3q",
        "outputId": "97cfd3d6-3e79-42e4-eb44-0d043effe80a"
      },
      "source": [
        "dataset.labels.value_counts()"
      ],
      "execution_count": null,
      "outputs": [
        {
          "output_type": "execute_result",
          "data": {
            "text/plain": [
              "happy    192\n",
              "sad      192\n",
              "angry    192\n",
              "fear     192\n",
              "Name: labels, dtype: int64"
            ]
          },
          "metadata": {
            "tags": []
          },
          "execution_count": 4
        }
      ]
    },
    {
      "cell_type": "markdown",
      "metadata": {
        "id": "YzWvsB1Vzj9F"
      },
      "source": [
        "## Modeling"
      ]
    },
    {
      "cell_type": "markdown",
      "metadata": {
        "id": "WLB_d6YJ1RP1"
      },
      "source": [
        "### MLPClassifier"
      ]
    },
    {
      "cell_type": "code",
      "metadata": {
        "trusted": true,
        "id": "qM92w9KKz3s_"
      },
      "source": [
        "X = dataset.iloc[:, :-1].values\n",
        "Y = dataset.iloc[:, -1].values"
      ],
      "execution_count": null,
      "outputs": []
    },
    {
      "cell_type": "code",
      "metadata": {
        "id": "cUN614nz1gNZ"
      },
      "source": [
        "x_train, x_test, y_train, y_test = train_test_split(np.array(X), Y, test_size = 0.25, random_state = 9)"
      ],
      "execution_count": null,
      "outputs": []
    },
    {
      "cell_type": "code",
      "metadata": {
        "colab": {
          "base_uri": "https://localhost:8080/"
        },
        "id": "FEi7lWlztAEE",
        "outputId": "0f61a006-ef09-45b7-bc37-614bb7d3e934"
      },
      "source": [
        "x_train.shape"
      ],
      "execution_count": null,
      "outputs": [
        {
          "output_type": "execute_result",
          "data": {
            "text/plain": [
              "(576, 384)"
            ]
          },
          "metadata": {
            "tags": []
          },
          "execution_count": 7
        }
      ]
    },
    {
      "cell_type": "code",
      "metadata": {
        "id": "CIqhkZMuOI0l"
      },
      "source": [
        "model=MLPClassifier(alpha=0.01, batch_size=256, epsilon=1e-08, hidden_layer_sizes=(300,), learning_rate='adaptive', max_iter=1000)"
      ],
      "execution_count": null,
      "outputs": []
    },
    {
      "cell_type": "code",
      "metadata": {
        "colab": {
          "base_uri": "https://localhost:8080/"
        },
        "id": "_FilJ0CqmQq5",
        "outputId": "235978fc-dbef-4109-b8b8-5ac0b1b406a3"
      },
      "source": [
        "model.fit(x_train, y_train)"
      ],
      "execution_count": null,
      "outputs": [
        {
          "output_type": "execute_result",
          "data": {
            "text/plain": [
              "MLPClassifier(activation='relu', alpha=0.01, batch_size=256, beta_1=0.9,\n",
              "              beta_2=0.999, early_stopping=False, epsilon=1e-08,\n",
              "              hidden_layer_sizes=(300,), learning_rate='adaptive',\n",
              "              learning_rate_init=0.001, max_fun=15000, max_iter=1000,\n",
              "              momentum=0.9, n_iter_no_change=10, nesterovs_momentum=True,\n",
              "              power_t=0.5, random_state=None, shuffle=True, solver='adam',\n",
              "              tol=0.0001, validation_fraction=0.1, verbose=False,\n",
              "              warm_start=False)"
            ]
          },
          "metadata": {
            "tags": []
          },
          "execution_count": 9
        }
      ]
    },
    {
      "cell_type": "markdown",
      "metadata": {
        "id": "odCFHEx9zxwA"
      },
      "source": [
        "### Light GBM"
      ]
    },
    {
      "cell_type": "code",
      "metadata": {
        "id": "JApw9VmtwpRj"
      },
      "source": [
        "data = dataset.copy()\n",
        "data.labels = data.labels.map({'angry':0, 'fear':1, 'happy':2, 'sad':3})"
      ],
      "execution_count": null,
      "outputs": []
    },
    {
      "cell_type": "code",
      "metadata": {
        "trusted": true,
        "id": "RmyGeJT8vgEr"
      },
      "source": [
        "X = data.iloc[:, :-1].values\n",
        "Y = data.iloc[:, -1].values"
      ],
      "execution_count": null,
      "outputs": []
    },
    {
      "cell_type": "code",
      "metadata": {
        "colab": {
          "base_uri": "https://localhost:8080/"
        },
        "id": "TkUscrnVw3Hp",
        "outputId": "b06b1e51-64cc-4466-b2c8-1cd0185be8b6"
      },
      "source": [
        "data.labels.value_counts()"
      ],
      "execution_count": null,
      "outputs": [
        {
          "output_type": "execute_result",
          "data": {
            "text/plain": [
              "3    192\n",
              "2    192\n",
              "1    192\n",
              "0    192\n",
              "Name: labels, dtype: int64"
            ]
          },
          "metadata": {
            "tags": []
          },
          "execution_count": 47
        }
      ]
    },
    {
      "cell_type": "code",
      "metadata": {
        "trusted": true,
        "id": "a32K62e-vgEr"
      },
      "source": [
        "x_train, x_test, y_train, y_test = train_test_split(X, Y, test_size = 0.25, random_state = 0)\n",
        "x_train, x_valid, y_train, y_valid = train_test_split(x_train, y_train, test_size=0.1, random_state=0)\n",
        "\n",
        "sc = StandardScaler()\n",
        "x_train = sc.fit_transform(x_train)\n",
        "x_test = sc.transform(x_test)\n",
        "x_valid = sc.transform(x_valid)"
      ],
      "execution_count": null,
      "outputs": []
    },
    {
      "cell_type": "code",
      "metadata": {
        "trusted": true,
        "id": "Zoa4feXDvgEs"
      },
      "source": [
        "NUM_CLASS = 4\n",
        "\n",
        "params = {}\n",
        "params['learning_rate'] = 0.01\n",
        "params['boosting_type'] = 'gbdt'\n",
        "params['objective'] = 'multiclass'\n",
        "params['metric'] = 'multi_logloss'\n",
        "params['num_leaves'] = 100\n",
        "params['min_data'] = 100\n",
        "params['max_depth'] = 50\n",
        "params['num_class'] = NUM_CLASS\n",
        "params['max_bin'] = 150 # small max_bin causes faster speed and large value improves accuracy\n",
        "params['bagging_freq'] = 100\n",
        "params['feature_fraction'] = 0.6 # deal with column\n",
        "params['bagging_fraction'] = 0.6\n",
        "# params['device'] = 'gpu'\n",
        "#params['num_iterations'] = 1000\n",
        "#params['early_stopping_rounds'] = 100# the rule of thumb is to have it at 10% of your num_iterations"
      ],
      "execution_count": null,
      "outputs": []
    },
    {
      "cell_type": "code",
      "metadata": {
        "trusted": true,
        "colab": {
          "base_uri": "https://localhost:8080/"
        },
        "id": "6Fdn0eNsvgEt",
        "outputId": "748b4068-3997-4647-d04a-632eb6cbf581"
      },
      "source": [
        "x_test.shape"
      ],
      "execution_count": null,
      "outputs": [
        {
          "output_type": "execute_result",
          "data": {
            "text/plain": [
              "(192, 383)"
            ]
          },
          "metadata": {
            "tags": []
          },
          "execution_count": 50
        }
      ]
    },
    {
      "cell_type": "code",
      "metadata": {
        "id": "tdDGlZ8n44Ez"
      },
      "source": [
        "import lightgbm as lgb"
      ],
      "execution_count": null,
      "outputs": []
    },
    {
      "cell_type": "code",
      "metadata": {
        "id": "KC3etxXzyhS8",
        "colab": {
          "base_uri": "https://localhost:8080/"
        },
        "outputId": "2da51d89-dec7-4f22-e44a-2f6b5e15f8af"
      },
      "source": [
        "dtrain = lgb.Dataset(x_train, y_train)\n",
        "dvalid = lgb.Dataset(x_valid, y_valid)\n",
        "lgb_model = lgb.train(params, \n",
        "                          dtrain, \n",
        "                          num_boost_round=10000,\n",
        "                          early_stopping_rounds=1000,\n",
        "                          valid_sets=(dtrain, dvalid), \n",
        "                          valid_names=('train','valid'),\n",
        "                          verbose_eval = 100)"
      ],
      "execution_count": null,
      "outputs": [
        {
          "output_type": "stream",
          "text": [
            "Training until validation scores don't improve for 1000 rounds.\n",
            "[100]\ttrain's multi_logloss: 1.28908\tvalid's multi_logloss: 1.36674\n",
            "[200]\ttrain's multi_logloss: 1.22297\tvalid's multi_logloss: 1.37228\n",
            "[300]\ttrain's multi_logloss: 1.17973\tvalid's multi_logloss: 1.35945\n",
            "[400]\ttrain's multi_logloss: 1.14852\tvalid's multi_logloss: 1.3698\n",
            "[500]\ttrain's multi_logloss: 1.11468\tvalid's multi_logloss: 1.37346\n",
            "[600]\ttrain's multi_logloss: 1.09181\tvalid's multi_logloss: 1.36995\n",
            "[700]\ttrain's multi_logloss: 1.06488\tvalid's multi_logloss: 1.37326\n",
            "[800]\ttrain's multi_logloss: 1.04231\tvalid's multi_logloss: 1.36492\n",
            "[900]\ttrain's multi_logloss: 1.02157\tvalid's multi_logloss: 1.35793\n",
            "[1000]\ttrain's multi_logloss: 1.00063\tvalid's multi_logloss: 1.38528\n",
            "[1100]\ttrain's multi_logloss: 0.987659\tvalid's multi_logloss: 1.4064\n",
            "[1200]\ttrain's multi_logloss: 0.966254\tvalid's multi_logloss: 1.39747\n",
            "[1300]\ttrain's multi_logloss: 0.946218\tvalid's multi_logloss: 1.39684\n",
            "[1400]\ttrain's multi_logloss: 0.925813\tvalid's multi_logloss: 1.39568\n",
            "[1500]\ttrain's multi_logloss: 0.909212\tvalid's multi_logloss: 1.4363\n",
            "[1600]\ttrain's multi_logloss: 0.894445\tvalid's multi_logloss: 1.42288\n",
            "[1700]\ttrain's multi_logloss: 0.87896\tvalid's multi_logloss: 1.44219\n",
            "[1800]\ttrain's multi_logloss: 0.859918\tvalid's multi_logloss: 1.45727\n",
            "[1900]\ttrain's multi_logloss: 0.845204\tvalid's multi_logloss: 1.43805\n",
            "Early stopping, best iteration is:\n",
            "[900]\ttrain's multi_logloss: 1.02157\tvalid's multi_logloss: 1.35793\n"
          ],
          "name": "stdout"
        }
      ]
    },
    {
      "cell_type": "markdown",
      "metadata": {
        "id": "jLtfMTqCvgEv"
      },
      "source": [
        "## Experiment result"
      ]
    },
    {
      "cell_type": "markdown",
      "metadata": {
        "id": "ryPwl16W7LE3"
      },
      "source": [
        "### MLP"
      ]
    },
    {
      "cell_type": "code",
      "metadata": {
        "trusted": true,
        "id": "G_5Nbzx70L6v"
      },
      "source": [
        "preds = loaded_model.predict(x_test)"
      ],
      "execution_count": null,
      "outputs": []
    },
    {
      "cell_type": "code",
      "metadata": {
        "trusted": true,
        "colab": {
          "base_uri": "https://localhost:8080/",
          "height": 206
        },
        "id": "PpQ6Np-70L6v",
        "outputId": "317874d7-6442-4ba5-cc3d-48c7bd077f03"
      },
      "source": [
        "results = pd.DataFrame()\n",
        "results['Actual'] = y_test\n",
        "results['Predicted'] = preds\n",
        "\n",
        "results.head()"
      ],
      "execution_count": null,
      "outputs": [
        {
          "output_type": "execute_result",
          "data": {
            "text/html": [
              "<div>\n",
              "<style scoped>\n",
              "    .dataframe tbody tr th:only-of-type {\n",
              "        vertical-align: middle;\n",
              "    }\n",
              "\n",
              "    .dataframe tbody tr th {\n",
              "        vertical-align: top;\n",
              "    }\n",
              "\n",
              "    .dataframe thead th {\n",
              "        text-align: right;\n",
              "    }\n",
              "</style>\n",
              "<table border=\"1\" class=\"dataframe\">\n",
              "  <thead>\n",
              "    <tr style=\"text-align: right;\">\n",
              "      <th></th>\n",
              "      <th>Actual</th>\n",
              "      <th>Predicted</th>\n",
              "    </tr>\n",
              "  </thead>\n",
              "  <tbody>\n",
              "    <tr>\n",
              "      <th>0</th>\n",
              "      <td>sad</td>\n",
              "      <td>sad</td>\n",
              "    </tr>\n",
              "    <tr>\n",
              "      <th>1</th>\n",
              "      <td>sad</td>\n",
              "      <td>angry</td>\n",
              "    </tr>\n",
              "    <tr>\n",
              "      <th>2</th>\n",
              "      <td>angry</td>\n",
              "      <td>angry</td>\n",
              "    </tr>\n",
              "    <tr>\n",
              "      <th>3</th>\n",
              "      <td>happy</td>\n",
              "      <td>angry</td>\n",
              "    </tr>\n",
              "    <tr>\n",
              "      <th>4</th>\n",
              "      <td>fear</td>\n",
              "      <td>sad</td>\n",
              "    </tr>\n",
              "  </tbody>\n",
              "</table>\n",
              "</div>"
            ],
            "text/plain": [
              "  Actual Predicted\n",
              "0    sad       sad\n",
              "1    sad     angry\n",
              "2  angry     angry\n",
              "3  happy     angry\n",
              "4   fear       sad"
            ]
          },
          "metadata": {
            "tags": []
          },
          "execution_count": 9
        }
      ]
    },
    {
      "cell_type": "code",
      "metadata": {
        "trusted": true,
        "colab": {
          "base_uri": "https://localhost:8080/",
          "height": 725
        },
        "id": "p9GEacTM0L6w",
        "outputId": "7fc38610-66fc-4c1b-f51d-31a2a37747aa"
      },
      "source": [
        "cm = confusion_matrix(y_test, preds)\n",
        "df_cm = pd.DataFrame(cm,\n",
        "                     index=observed_emotions,\n",
        "                     columns=observed_emotions)\n",
        "plt.figure(figsize=(10, 10))\n",
        "\n",
        "sns.set(font_scale=1)\n",
        "\n",
        "\n",
        "ax = sns.heatmap(df_cm, annot=True, square=True, fmt='d', linewidths=.2, cbar=0, cmap=plt.cm.Blues)\n",
        "ax.set_xticklabels(ax.get_xticklabels(), rotation=0)\n",
        "\n",
        "plt.ylabel('True labels')\n",
        "plt.xlabel('Predicted labels')\n",
        "plt.tight_layout()\n",
        "\n",
        "name = 'tempogram feature 43%.png'\n",
        "# plt.savefig('/content/drive/MyDrive/Colab Notebooks/speech/dataset/ravdess/Confusion matrix/mlp Confusion matrix for ' + name)\n",
        "\n",
        "plt.show()"
      ],
      "execution_count": null,
      "outputs": [
        {
          "output_type": "display_data",
          "data": {
            "image/png": "[encoded data removed]",
            "text/plain": [
              "<Figure size 720x720 with 1 Axes>"
            ]
          },
          "metadata": {
            "tags": [],
            "needs_background": "light"
          }
        }
      ]
    },
    {
      "cell_type": "code",
      "metadata": {
        "trusted": true,
        "colab": {
          "base_uri": "https://localhost:8080/"
        },
        "id": "kvUcYk2X0L6w",
        "outputId": "9e0aa971-86ba-4e70-a66d-77cc1359f573"
      },
      "source": [
        "print(classification_report(y_test, preds))"
      ],
      "execution_count": null,
      "outputs": [
        {
          "output_type": "stream",
          "text": [
            "              precision    recall  f1-score   support\n",
            "\n",
            "       angry       0.48      0.58      0.52        50\n",
            "        fear       0.41      0.21      0.28        42\n",
            "       happy       0.40      0.36      0.38        50\n",
            "         sad       0.41      0.52      0.46        50\n",
            "\n",
            "    accuracy                           0.43       192\n",
            "   macro avg       0.42      0.42      0.41       192\n",
            "weighted avg       0.42      0.43      0.42       192\n",
            "\n"
          ],
          "name": "stdout"
        }
      ]
    },
    {
      "cell_type": "code",
      "metadata": {
        "id": "0RRM2iqAG-Dv"
      },
      "source": [
        "import pickle\n",
        "\n",
        "filename = 'tempogram_MLP_0.43.sav'\n",
        "# pickle.dump(model, open('/content/drive/MyDrive/Colab Notebooks/speech/dataset/ravdess/Models/' + filename, 'wb'))\n",
        "loaded_model = pickle.load(open('/content/drive/MyDrive/Colab Notebooks/speech/dataset/ravdess/Models/' + filename, 'rb'))"
      ],
      "execution_count": null,
      "outputs": []
    },
    {
      "cell_type": "markdown",
      "metadata": {
        "id": "ELgXHhU10JBt"
      },
      "source": [
        "### Light GBM"
      ]
    },
    {
      "cell_type": "code",
      "metadata": {
        "trusted": true,
        "id": "VNNms9KmvgEw"
      },
      "source": [
        "preds = lgb_model.predict(x_test)"
      ],
      "execution_count": null,
      "outputs": []
    },
    {
      "cell_type": "code",
      "metadata": {
        "trusted": true,
        "id": "oWy4xHhUvgEw"
      },
      "source": [
        "predictions = []\n",
        "\n",
        "for x in preds:\n",
        "    predictions.append(np.argmax(x))"
      ],
      "execution_count": null,
      "outputs": []
    },
    {
      "cell_type": "code",
      "metadata": {
        "trusted": true,
        "id": "RIH-WwOJvgEx",
        "colab": {
          "base_uri": "https://localhost:8080/",
          "height": 204
        },
        "outputId": "068696a3-add0-4843-f614-74bf89ec07d9"
      },
      "source": [
        "results = pd.DataFrame()\n",
        "results['Actual'] = y_test\n",
        "results['Predicted'] = predictions\n",
        "\n",
        "results['Actual'] = results['Actual'].map({0:'angry', 1:'fear', 2:'happy', 3:'sad'})\n",
        "results['Predicted'] = results['Predicted'].map({0:'angry', 1:'fear', 2:'happy', 3:'sad'})\n",
        "results.head()"
      ],
      "execution_count": null,
      "outputs": [
        {
          "output_type": "execute_result",
          "data": {
            "text/html": [
              "<div>\n",
              "<style scoped>\n",
              "    .dataframe tbody tr th:only-of-type {\n",
              "        vertical-align: middle;\n",
              "    }\n",
              "\n",
              "    .dataframe tbody tr th {\n",
              "        vertical-align: top;\n",
              "    }\n",
              "\n",
              "    .dataframe thead th {\n",
              "        text-align: right;\n",
              "    }\n",
              "</style>\n",
              "<table border=\"1\" class=\"dataframe\">\n",
              "  <thead>\n",
              "    <tr style=\"text-align: right;\">\n",
              "      <th></th>\n",
              "      <th>Actual</th>\n",
              "      <th>Predicted</th>\n",
              "    </tr>\n",
              "  </thead>\n",
              "  <tbody>\n",
              "    <tr>\n",
              "      <th>0</th>\n",
              "      <td>fear</td>\n",
              "      <td>sad</td>\n",
              "    </tr>\n",
              "    <tr>\n",
              "      <th>1</th>\n",
              "      <td>fear</td>\n",
              "      <td>angry</td>\n",
              "    </tr>\n",
              "    <tr>\n",
              "      <th>2</th>\n",
              "      <td>fear</td>\n",
              "      <td>fear</td>\n",
              "    </tr>\n",
              "    <tr>\n",
              "      <th>3</th>\n",
              "      <td>angry</td>\n",
              "      <td>fear</td>\n",
              "    </tr>\n",
              "    <tr>\n",
              "      <th>4</th>\n",
              "      <td>sad</td>\n",
              "      <td>happy</td>\n",
              "    </tr>\n",
              "  </tbody>\n",
              "</table>\n",
              "</div>"
            ],
            "text/plain": [
              "  Actual Predicted\n",
              "0   fear       sad\n",
              "1   fear     angry\n",
              "2   fear      fear\n",
              "3  angry      fear\n",
              "4    sad     happy"
            ]
          },
          "metadata": {
            "tags": []
          },
          "execution_count": 72
        }
      ]
    },
    {
      "cell_type": "code",
      "metadata": {
        "trusted": true,
        "colab": {
          "base_uri": "https://localhost:8080/",
          "height": 725
        },
        "id": "xp-c6GQAvgEx",
        "outputId": "b0337a5e-4171-4a8e-d834-360358061108"
      },
      "source": [
        "cm = confusion_matrix(y_test, predictions)\n",
        "df_cm = pd.DataFrame(cm,\n",
        "                     index=observed_emotions,\n",
        "                     columns=observed_emotions)\n",
        "\n",
        "plt.figure(figsize=(10, 10))\n",
        "\n",
        "sns.set(font_scale=1)\n",
        "\n",
        "ax = sns.heatmap(df_cm, annot=True, square=True, fmt='d', linewidths=.2, cbar=0, cmap=plt.cm.Blues)\n",
        "ax.set_xticklabels(ax.get_xticklabels(), rotation=0)\n",
        "\n",
        "plt.ylabel('True labels')\n",
        "plt.xlabel('Predicted labels')\n",
        "plt.tight_layout()\n",
        "\n",
        "name = 'tempogram feature 47%.png'\n",
        "plt.savefig('/content/drive/MyDrive/Colab Notebooks/speech/dataset/ravdess/Confusion matrix/lgbm Confusion matrix for ' + name)\n",
        "\n",
        "plt.show()"
      ],
      "execution_count": null,
      "outputs": [
        {
          "output_type": "display_data",
          "data": {
            "image/png": "[encoded data removed]",
            "text/plain": [
              "<Figure size 720x720 with 1 Axes>"
            ]
          },
          "metadata": {
            "tags": []
          }
        }
      ]
    },
    {
      "cell_type": "code",
      "metadata": {
        "trusted": true,
        "colab": {
          "base_uri": "https://localhost:8080/"
        },
        "id": "ntzF25X6vgEy",
        "outputId": "8a098298-1d91-4385-f4ec-778db0ab121b"
      },
      "source": [
        "print(classification_report(y_test, predictions, target_names=observed_emotions))"
      ],
      "execution_count": null,
      "outputs": [
        {
          "output_type": "stream",
          "text": [
            "              precision    recall  f1-score   support\n",
            "\n",
            "       angry       0.50      0.39      0.44        57\n",
            "        fear       0.44      0.56      0.49        43\n",
            "       happy       0.48      0.31      0.38        45\n",
            "         sad       0.48      0.66      0.55        47\n",
            "\n",
            "    accuracy                           0.47       192\n",
            "   macro avg       0.48      0.48      0.47       192\n",
            "weighted avg       0.48      0.47      0.46       192\n",
            "\n"
          ],
          "name": "stdout"
        }
      ]
    },
    {
      "cell_type": "code",
      "metadata": {
        "id": "49WqS2WDE8ov"
      },
      "source": [
        "import pickle\n",
        "\n",
        "filename = 'tempogram_GBM_0.47.sav'\n",
        "pickle.dump(lgb_model, open('/content/drive/MyDrive/Colab Notebooks/speech/dataset/ravdess/Models/' + filename, 'wb'))\n",
        "loaded_model = pickle.load(open('/content/drive/MyDrive/Colab Notebooks/speech/dataset/ravdess/Models/' + filename, 'rb'))"
      ],
      "execution_count": null,
      "outputs": []
    }
  ]
}