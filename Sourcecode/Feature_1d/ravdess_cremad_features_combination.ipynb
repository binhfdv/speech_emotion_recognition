{
  "nbformat": 4,
  "nbformat_minor": 0,
  "metadata": {
    "colab": {
      "name": "ravdess_cremad_features combination.ipynb",
      "provenance": [],
      "collapsed_sections": [
        "WLB_d6YJ1RP1",
        "YzWvsB1Vzj9F",
        "VqUXxDtQ7PFq"
      ]
    },
    "kernelspec": {
      "name": "python3",
      "display_name": "Python 3"
    },
    "language_info": {
      "name": "python"
    }
  },
  "cells": [
    {
      "cell_type": "markdown",
      "metadata": {
        "id": "iEndTFo9lQXa"
      },
      "source": [
        "12/06/2021"
      ]
    },
    {
      "cell_type": "markdown",
      "metadata": {
        "id": "hykoJ3USvgEY"
      },
      "source": [
        "## Load libraries"
      ]
    },
    {
      "cell_type": "code",
      "metadata": {
        "trusted": true,
        "id": "BtpNiUl7vgEa"
      },
      "source": [
        "import pandas as pd\n",
        "import numpy as np\n",
        "\n",
        "import os\n",
        "import sys\n",
        "\n",
        "from sklearn.neural_network import MLPClassifier\n",
        "\n",
        "import librosa\n",
        "import librosa.display\n",
        "import seaborn as sns\n",
        "import matplotlib.pyplot as plt\n",
        "\n",
        "# to play the audio files\n",
        "from IPython.display import Audio\n",
        "\n",
        "from sklearn.preprocessing import StandardScaler\n",
        "from sklearn.model_selection import train_test_split\n",
        "from sklearn.metrics import confusion_matrix\n",
        "from sklearn.metrics import classification_report\n",
        "\n",
        "import lightgbm as lgb\n",
        "\n",
        "import warnings\n",
        "if not sys.warnoptions:\n",
        "    warnings.simplefilter(\"ignore\")\n",
        "warnings.filterwarnings(\"ignore\", category=DeprecationWarning)"
      ],
      "execution_count": null,
      "outputs": []
    },
    {
      "cell_type": "markdown",
      "metadata": {
        "id": "JFURsK6wvgEc"
      },
      "source": [
        "## Load and set data paths"
      ]
    },
    {
      "cell_type": "code",
      "metadata": {
        "id": "210GK6yolyl-"
      },
      "source": [
        "Cremad_df = pd.read_csv('/content/drive/MyDrive/Colab Notebooks/speech/dataset/cremad/emotion_path.csv')\n",
        "Ravdess_df = pd.read_csv('/content/drive/MyDrive/Colab Notebooks/speech/dataset/ravdess/ravdess_path.csv')\n",
        "\n",
        "DF = pd.concat([Cremad_df, Ravdess_df], ignore_index=True)"
      ],
      "execution_count": null,
      "outputs": []
    },
    {
      "cell_type": "code",
      "metadata": {
        "trusted": true,
        "colab": {
          "base_uri": "https://localhost:8080/",
          "height": 354
        },
        "id": "MTt2yuQdvgEf",
        "outputId": "906cd523-8ef1-4de0-bbfb-1ef3bf58c810"
      },
      "source": [
        "plt.title('Count of Emotions', size=16)\n",
        "sns.countplot(DF.Emotions)\n",
        "plt.ylabel('Count', size=12)\n",
        "plt.xlabel('Emotions', size=12)\n",
        "sns.despine(top=True, right=True, left=False, bottom=False)\n",
        "plt.show()"
      ],
      "execution_count": null,
      "outputs": [
        {
          "output_type": "stream",
          "text": [
            "/usr/local/lib/python3.7/dist-packages/seaborn/_decorators.py:43: FutureWarning: Pass the following variable as a keyword arg: x. From version 0.12, the only valid positional argument will be `data`, and passing other arguments without an explicit keyword will result in an error or misinterpretation.\n",
            "  FutureWarning\n"
          ],
          "name": "stderr"
        },
        {
          "output_type": "display_data",
          "data": {
            "image/png": "[encoded data removed]",
            "text/plain": [
              "<Figure size 432x288 with 1 Axes>"
            ]
          },
          "metadata": {
            "tags": [],
            "needs_background": "light"
          }
        }
      ]
    },
    {
      "cell_type": "code",
      "metadata": {
        "id": "ba-v8iTZPzqT"
      },
      "source": [
        "DF = DF.sample(frac=1).reset_index(drop=True)"
      ],
      "execution_count": null,
      "outputs": []
    },
    {
      "cell_type": "markdown",
      "metadata": {
        "id": "TaaBzvfwvuvG"
      },
      "source": [
        "## Feature Extraction"
      ]
    },
    {
      "cell_type": "code",
      "metadata": {
        "id": "U57ILIA-5R_G"
      },
      "source": [
        "observed_emotions=sorted(['fear', 'happy', 'sad', 'angry'])"
      ],
      "execution_count": null,
      "outputs": []
    },
    {
      "cell_type": "code",
      "metadata": {
        "colab": {
          "base_uri": "https://localhost:8080/"
        },
        "id": "EKhreSnIAGDO",
        "outputId": "37dfef9b-02af-44ef-b7af-2dac913e4980"
      },
      "source": [
        "observed_emotions"
      ],
      "execution_count": null,
      "outputs": [
        {
          "output_type": "execute_result",
          "data": {
            "text/plain": [
              "['angry', 'fear', 'happy', 'sad']"
            ]
          },
          "metadata": {
            "tags": []
          },
          "execution_count": 6
        }
      ]
    },
    {
      "cell_type": "code",
      "metadata": {
        "id": "U6u8B3_WxOYW"
      },
      "source": [
        "num_mfcc=13"
      ],
      "execution_count": null,
      "outputs": []
    },
    {
      "cell_type": "code",
      "metadata": {
        "id": "infnX33Pun_H"
      },
      "source": [
        "def extract_feature(path, mfcc, chroma, mel, tempo):\n",
        "  data, sample_rate = librosa.load(path, res_type='kaiser_fast')\n",
        "  if chroma:\n",
        "    stft = np.abs(librosa.stft(data))\n",
        "\n",
        "  result=np.array([])\n",
        "  if mfcc:\n",
        "    mfccs=np.mean(librosa.feature.mfcc(y=data, sr=sample_rate, n_mfcc=num_mfcc).T, axis=0)\n",
        "    result=np.hstack((result, mfccs))\n",
        "  if chroma:\n",
        "    chroma=np.mean(librosa.feature.chroma_stft(S=stft, sr=sample_rate).T, axis=0)\n",
        "    result=np.hstack((result, chroma))\n",
        "  if mel:\n",
        "    mel=np.mean(librosa.feature.melspectrogram(y=data, sr=sample_rate).T, axis=0)\n",
        "    result=np.hstack((result, mel))\n",
        "  if tempo:\n",
        "    tempo=np.mean(librosa.feature.tempogram(y=data, sr=sample_rate).T, axis=0)\n",
        "    result=np.hstack((result, tempo))\n",
        "\n",
        "  return result"
      ],
      "execution_count": null,
      "outputs": []
    },
    {
      "cell_type": "code",
      "metadata": {
        "id": "pVfPdjo0v0e3"
      },
      "source": [
        "X, Y = [], []\n",
        "for path, emotion in zip(DF.Path, DF.Emotions):\n",
        "  if emotion not in observed_emotions:\n",
        "    continue\n",
        "  feature = extract_feature(path, mfcc=False, chroma=False, mel=False, tempo=True)\n",
        "  X.append(feature)\n",
        "  Y.append(emotion)"
      ],
      "execution_count": null,
      "outputs": []
    },
    {
      "cell_type": "code",
      "metadata": {
        "colab": {
          "base_uri": "https://localhost:8080/"
        },
        "id": "YsB1bQiT0rKO",
        "outputId": "7c87c5d1-b5a5-4ddd-8dba-d8fe1b48a35d"
      },
      "source": [
        "len(X), len(Y)"
      ],
      "execution_count": null,
      "outputs": [
        {
          "output_type": "execute_result",
          "data": {
            "text/plain": [
              "(5852, 5852)"
            ]
          },
          "metadata": {
            "tags": []
          },
          "execution_count": 10
        }
      ]
    },
    {
      "cell_type": "code",
      "metadata": {
        "colab": {
          "base_uri": "https://localhost:8080/",
          "height": 338
        },
        "id": "fPPk7LZn0s5F",
        "outputId": "f1ee0cdd-0942-437d-b8cf-ef0a53de8d64"
      },
      "source": [
        "Features = pd.DataFrame(X)\n",
        "Features['labels'] = Y\n",
        "Features.to_csv('/content/drive/MyDrive/Colab Notebooks/speech/dataset/tempogram_features.csv', index=0)\n",
        "Features.head()"
      ],
      "execution_count": null,
      "outputs": [
        {
          "output_type": "execute_result",
          "data": {
            "text/html": [
              "<div>\n",
              "<style scoped>\n",
              "    .dataframe tbody tr th:only-of-type {\n",
              "        vertical-align: middle;\n",
              "    }\n",
              "\n",
              "    .dataframe tbody tr th {\n",
              "        vertical-align: top;\n",
              "    }\n",
              "\n",
              "    .dataframe thead th {\n",
              "        text-align: right;\n",
              "    }\n",
              "</style>\n",
              "<table border=\"1\" class=\"dataframe\">\n",
              "  <thead>\n",
              "    <tr style=\"text-align: right;\">\n",
              "      <th></th>\n",
              "      <th>0</th>\n",
              "      <th>1</th>\n",
              "      <th>2</th>\n",
              "      <th>3</th>\n",
              "      <th>4</th>\n",
              "      <th>5</th>\n",
              "      <th>6</th>\n",
              "      <th>7</th>\n",
              "      <th>8</th>\n",
              "      <th>9</th>\n",
              "      <th>10</th>\n",
              "      <th>11</th>\n",
              "      <th>12</th>\n",
              "      <th>13</th>\n",
              "      <th>14</th>\n",
              "      <th>15</th>\n",
              "      <th>16</th>\n",
              "      <th>17</th>\n",
              "      <th>18</th>\n",
              "      <th>19</th>\n",
              "      <th>20</th>\n",
              "      <th>21</th>\n",
              "      <th>22</th>\n",
              "      <th>23</th>\n",
              "      <th>24</th>\n",
              "      <th>25</th>\n",
              "      <th>26</th>\n",
              "      <th>27</th>\n",
              "      <th>28</th>\n",
              "      <th>29</th>\n",
              "      <th>30</th>\n",
              "      <th>31</th>\n",
              "      <th>32</th>\n",
              "      <th>33</th>\n",
              "      <th>34</th>\n",
              "      <th>35</th>\n",
              "      <th>36</th>\n",
              "      <th>37</th>\n",
              "      <th>38</th>\n",
              "      <th>39</th>\n",
              "      <th>...</th>\n",
              "      <th>345</th>\n",
              "      <th>346</th>\n",
              "      <th>347</th>\n",
              "      <th>348</th>\n",
              "      <th>349</th>\n",
              "      <th>350</th>\n",
              "      <th>351</th>\n",
              "      <th>352</th>\n",
              "      <th>353</th>\n",
              "      <th>354</th>\n",
              "      <th>355</th>\n",
              "      <th>356</th>\n",
              "      <th>357</th>\n",
              "      <th>358</th>\n",
              "      <th>359</th>\n",
              "      <th>360</th>\n",
              "      <th>361</th>\n",
              "      <th>362</th>\n",
              "      <th>363</th>\n",
              "      <th>364</th>\n",
              "      <th>365</th>\n",
              "      <th>366</th>\n",
              "      <th>367</th>\n",
              "      <th>368</th>\n",
              "      <th>369</th>\n",
              "      <th>370</th>\n",
              "      <th>371</th>\n",
              "      <th>372</th>\n",
              "      <th>373</th>\n",
              "      <th>374</th>\n",
              "      <th>375</th>\n",
              "      <th>376</th>\n",
              "      <th>377</th>\n",
              "      <th>378</th>\n",
              "      <th>379</th>\n",
              "      <th>380</th>\n",
              "      <th>381</th>\n",
              "      <th>382</th>\n",
              "      <th>383</th>\n",
              "      <th>labels</th>\n",
              "    </tr>\n",
              "  </thead>\n",
              "  <tbody>\n",
              "    <tr>\n",
              "      <th>0</th>\n",
              "      <td>1.0</td>\n",
              "      <td>0.769231</td>\n",
              "      <td>0.579428</td>\n",
              "      <td>0.598579</td>\n",
              "      <td>0.610200</td>\n",
              "      <td>0.563047</td>\n",
              "      <td>0.515608</td>\n",
              "      <td>0.507909</td>\n",
              "      <td>0.572793</td>\n",
              "      <td>0.655236</td>\n",
              "      <td>0.622888</td>\n",
              "      <td>0.549489</td>\n",
              "      <td>0.550062</td>\n",
              "      <td>0.590368</td>\n",
              "      <td>0.555430</td>\n",
              "      <td>0.470323</td>\n",
              "      <td>0.485661</td>\n",
              "      <td>0.569776</td>\n",
              "      <td>0.567760</td>\n",
              "      <td>0.499673</td>\n",
              "      <td>0.464856</td>\n",
              "      <td>0.495660</td>\n",
              "      <td>0.512830</td>\n",
              "      <td>0.487266</td>\n",
              "      <td>0.408322</td>\n",
              "      <td>0.372152</td>\n",
              "      <td>0.406884</td>\n",
              "      <td>0.473904</td>\n",
              "      <td>0.449675</td>\n",
              "      <td>0.398917</td>\n",
              "      <td>0.475366</td>\n",
              "      <td>0.476830</td>\n",
              "      <td>0.372566</td>\n",
              "      <td>0.327663</td>\n",
              "      <td>0.333626</td>\n",
              "      <td>0.333851</td>\n",
              "      <td>0.316907</td>\n",
              "      <td>0.318697</td>\n",
              "      <td>0.324892</td>\n",
              "      <td>0.363698</td>\n",
              "      <td>...</td>\n",
              "      <td>-5.203993e-17</td>\n",
              "      <td>9.778097e-17</td>\n",
              "      <td>2.825285e-17</td>\n",
              "      <td>6.137894e-17</td>\n",
              "      <td>-8.928696e-18</td>\n",
              "      <td>2.679011e-17</td>\n",
              "      <td>1.001128e-17</td>\n",
              "      <td>2.621800e-17</td>\n",
              "      <td>2.998780e-18</td>\n",
              "      <td>2.688461e-17</td>\n",
              "      <td>1.174837e-17</td>\n",
              "      <td>5.192114e-17</td>\n",
              "      <td>3.291940e-17</td>\n",
              "      <td>7.584072e-17</td>\n",
              "      <td>-4.273089e-17</td>\n",
              "      <td>9.701905e-17</td>\n",
              "      <td>-5.998780e-17</td>\n",
              "      <td>6.461709e-17</td>\n",
              "      <td>-3.559778e-17</td>\n",
              "      <td>2.016138e-17</td>\n",
              "      <td>-1.244597e-17</td>\n",
              "      <td>4.602338e-17</td>\n",
              "      <td>4.423443e-17</td>\n",
              "      <td>-5.544317e-17</td>\n",
              "      <td>7.184415e-17</td>\n",
              "      <td>-5.394965e-17</td>\n",
              "      <td>3.752298e-17</td>\n",
              "      <td>-1.976460e-17</td>\n",
              "      <td>2.863178e-17</td>\n",
              "      <td>-5.243326e-17</td>\n",
              "      <td>9.241662e-17</td>\n",
              "      <td>-4.392101e-17</td>\n",
              "      <td>2.912308e-17</td>\n",
              "      <td>3.294020e-17</td>\n",
              "      <td>-4.342202e-18</td>\n",
              "      <td>5.254957e-17</td>\n",
              "      <td>3.953662e-18</td>\n",
              "      <td>3.167729e-17</td>\n",
              "      <td>2.856812e-17</td>\n",
              "      <td>fear</td>\n",
              "    </tr>\n",
              "    <tr>\n",
              "      <th>1</th>\n",
              "      <td>1.0</td>\n",
              "      <td>0.695547</td>\n",
              "      <td>0.332028</td>\n",
              "      <td>0.306594</td>\n",
              "      <td>0.379555</td>\n",
              "      <td>0.420388</td>\n",
              "      <td>0.497067</td>\n",
              "      <td>0.519367</td>\n",
              "      <td>0.418261</td>\n",
              "      <td>0.338050</td>\n",
              "      <td>0.358082</td>\n",
              "      <td>0.367219</td>\n",
              "      <td>0.392495</td>\n",
              "      <td>0.434503</td>\n",
              "      <td>0.405368</td>\n",
              "      <td>0.343195</td>\n",
              "      <td>0.340941</td>\n",
              "      <td>0.339699</td>\n",
              "      <td>0.301201</td>\n",
              "      <td>0.305548</td>\n",
              "      <td>0.383323</td>\n",
              "      <td>0.419703</td>\n",
              "      <td>0.361489</td>\n",
              "      <td>0.292318</td>\n",
              "      <td>0.285669</td>\n",
              "      <td>0.286081</td>\n",
              "      <td>0.255162</td>\n",
              "      <td>0.235035</td>\n",
              "      <td>0.272215</td>\n",
              "      <td>0.311388</td>\n",
              "      <td>0.318390</td>\n",
              "      <td>0.321596</td>\n",
              "      <td>0.278837</td>\n",
              "      <td>0.241124</td>\n",
              "      <td>0.300918</td>\n",
              "      <td>0.342067</td>\n",
              "      <td>0.282738</td>\n",
              "      <td>0.200147</td>\n",
              "      <td>0.167270</td>\n",
              "      <td>0.183333</td>\n",
              "      <td>...</td>\n",
              "      <td>-3.408968e-17</td>\n",
              "      <td>8.118966e-17</td>\n",
              "      <td>1.273357e-17</td>\n",
              "      <td>4.193097e-17</td>\n",
              "      <td>-1.032833e-17</td>\n",
              "      <td>1.576548e-17</td>\n",
              "      <td>1.714063e-17</td>\n",
              "      <td>2.461577e-17</td>\n",
              "      <td>1.004234e-17</td>\n",
              "      <td>1.814530e-17</td>\n",
              "      <td>-1.134592e-18</td>\n",
              "      <td>4.380896e-17</td>\n",
              "      <td>1.743362e-17</td>\n",
              "      <td>5.943747e-17</td>\n",
              "      <td>-9.865765e-18</td>\n",
              "      <td>5.428393e-17</td>\n",
              "      <td>-4.808446e-17</td>\n",
              "      <td>5.498448e-17</td>\n",
              "      <td>-3.749510e-17</td>\n",
              "      <td>9.356396e-18</td>\n",
              "      <td>-4.187359e-19</td>\n",
              "      <td>2.841185e-17</td>\n",
              "      <td>2.943990e-17</td>\n",
              "      <td>-3.562742e-17</td>\n",
              "      <td>3.798366e-17</td>\n",
              "      <td>-4.541525e-17</td>\n",
              "      <td>3.310578e-17</td>\n",
              "      <td>-1.035669e-17</td>\n",
              "      <td>2.160153e-17</td>\n",
              "      <td>-4.189272e-17</td>\n",
              "      <td>7.289959e-17</td>\n",
              "      <td>-2.806159e-17</td>\n",
              "      <td>2.070778e-17</td>\n",
              "      <td>1.507211e-17</td>\n",
              "      <td>-1.406836e-17</td>\n",
              "      <td>3.429549e-17</td>\n",
              "      <td>-8.495918e-19</td>\n",
              "      <td>1.543971e-17</td>\n",
              "      <td>2.062285e-17</td>\n",
              "      <td>happy</td>\n",
              "    </tr>\n",
              "    <tr>\n",
              "      <th>2</th>\n",
              "      <td>1.0</td>\n",
              "      <td>0.844096</td>\n",
              "      <td>0.689703</td>\n",
              "      <td>0.701894</td>\n",
              "      <td>0.767203</td>\n",
              "      <td>0.784367</td>\n",
              "      <td>0.738792</td>\n",
              "      <td>0.716749</td>\n",
              "      <td>0.767397</td>\n",
              "      <td>0.820663</td>\n",
              "      <td>0.787633</td>\n",
              "      <td>0.730167</td>\n",
              "      <td>0.750580</td>\n",
              "      <td>0.734523</td>\n",
              "      <td>0.697867</td>\n",
              "      <td>0.686402</td>\n",
              "      <td>0.703679</td>\n",
              "      <td>0.738653</td>\n",
              "      <td>0.747592</td>\n",
              "      <td>0.714522</td>\n",
              "      <td>0.679573</td>\n",
              "      <td>0.705783</td>\n",
              "      <td>0.725399</td>\n",
              "      <td>0.680776</td>\n",
              "      <td>0.645872</td>\n",
              "      <td>0.654314</td>\n",
              "      <td>0.685240</td>\n",
              "      <td>0.676234</td>\n",
              "      <td>0.642539</td>\n",
              "      <td>0.645425</td>\n",
              "      <td>0.664042</td>\n",
              "      <td>0.683378</td>\n",
              "      <td>0.655210</td>\n",
              "      <td>0.620484</td>\n",
              "      <td>0.612401</td>\n",
              "      <td>0.620964</td>\n",
              "      <td>0.630807</td>\n",
              "      <td>0.622964</td>\n",
              "      <td>0.598345</td>\n",
              "      <td>0.591179</td>\n",
              "      <td>...</td>\n",
              "      <td>-8.054862e-17</td>\n",
              "      <td>1.260457e-16</td>\n",
              "      <td>5.524202e-17</td>\n",
              "      <td>5.665564e-17</td>\n",
              "      <td>-3.104336e-17</td>\n",
              "      <td>4.178297e-17</td>\n",
              "      <td>5.673578e-18</td>\n",
              "      <td>1.865496e-17</td>\n",
              "      <td>-1.422112e-17</td>\n",
              "      <td>6.257307e-17</td>\n",
              "      <td>-6.597158e-18</td>\n",
              "      <td>5.457054e-17</td>\n",
              "      <td>5.250044e-17</td>\n",
              "      <td>1.101195e-16</td>\n",
              "      <td>-5.536950e-17</td>\n",
              "      <td>1.353031e-16</td>\n",
              "      <td>-9.102598e-17</td>\n",
              "      <td>8.643705e-17</td>\n",
              "      <td>-4.333704e-17</td>\n",
              "      <td>3.935689e-17</td>\n",
              "      <td>-2.162274e-17</td>\n",
              "      <td>6.455841e-17</td>\n",
              "      <td>8.561485e-17</td>\n",
              "      <td>-7.488670e-17</td>\n",
              "      <td>9.397896e-17</td>\n",
              "      <td>-7.382414e-17</td>\n",
              "      <td>4.235994e-17</td>\n",
              "      <td>-1.593611e-17</td>\n",
              "      <td>3.327921e-17</td>\n",
              "      <td>-8.036677e-17</td>\n",
              "      <td>1.433896e-16</td>\n",
              "      <td>-5.601084e-17</td>\n",
              "      <td>4.651476e-17</td>\n",
              "      <td>4.032456e-17</td>\n",
              "      <td>-1.854609e-17</td>\n",
              "      <td>7.271327e-17</td>\n",
              "      <td>6.873111e-18</td>\n",
              "      <td>3.847740e-17</td>\n",
              "      <td>4.654216e-17</td>\n",
              "      <td>sad</td>\n",
              "    </tr>\n",
              "    <tr>\n",
              "      <th>3</th>\n",
              "      <td>1.0</td>\n",
              "      <td>0.827512</td>\n",
              "      <td>0.672599</td>\n",
              "      <td>0.644182</td>\n",
              "      <td>0.667258</td>\n",
              "      <td>0.725982</td>\n",
              "      <td>0.744855</td>\n",
              "      <td>0.684783</td>\n",
              "      <td>0.672446</td>\n",
              "      <td>0.663685</td>\n",
              "      <td>0.636051</td>\n",
              "      <td>0.656816</td>\n",
              "      <td>0.650617</td>\n",
              "      <td>0.615007</td>\n",
              "      <td>0.589097</td>\n",
              "      <td>0.591506</td>\n",
              "      <td>0.639062</td>\n",
              "      <td>0.659356</td>\n",
              "      <td>0.627046</td>\n",
              "      <td>0.610272</td>\n",
              "      <td>0.614317</td>\n",
              "      <td>0.582396</td>\n",
              "      <td>0.557616</td>\n",
              "      <td>0.543259</td>\n",
              "      <td>0.573273</td>\n",
              "      <td>0.628928</td>\n",
              "      <td>0.610628</td>\n",
              "      <td>0.558975</td>\n",
              "      <td>0.539000</td>\n",
              "      <td>0.535692</td>\n",
              "      <td>0.523777</td>\n",
              "      <td>0.531030</td>\n",
              "      <td>0.519776</td>\n",
              "      <td>0.519390</td>\n",
              "      <td>0.485065</td>\n",
              "      <td>0.460350</td>\n",
              "      <td>0.496221</td>\n",
              "      <td>0.510606</td>\n",
              "      <td>0.472578</td>\n",
              "      <td>0.454424</td>\n",
              "      <td>...</td>\n",
              "      <td>-6.183375e-17</td>\n",
              "      <td>1.220346e-16</td>\n",
              "      <td>2.960403e-17</td>\n",
              "      <td>4.676236e-17</td>\n",
              "      <td>-3.228414e-17</td>\n",
              "      <td>4.050781e-17</td>\n",
              "      <td>-8.339661e-18</td>\n",
              "      <td>2.026532e-17</td>\n",
              "      <td>-1.300220e-17</td>\n",
              "      <td>5.342780e-17</td>\n",
              "      <td>-5.319320e-19</td>\n",
              "      <td>6.164073e-17</td>\n",
              "      <td>4.630210e-17</td>\n",
              "      <td>9.171414e-17</td>\n",
              "      <td>-4.130859e-17</td>\n",
              "      <td>1.114639e-16</td>\n",
              "      <td>-8.116322e-17</td>\n",
              "      <td>6.124486e-17</td>\n",
              "      <td>-3.352847e-17</td>\n",
              "      <td>2.739108e-17</td>\n",
              "      <td>-2.022591e-17</td>\n",
              "      <td>4.996208e-17</td>\n",
              "      <td>6.898632e-17</td>\n",
              "      <td>-7.607498e-17</td>\n",
              "      <td>8.512213e-17</td>\n",
              "      <td>-6.203264e-17</td>\n",
              "      <td>3.204653e-17</td>\n",
              "      <td>-1.140268e-17</td>\n",
              "      <td>1.490369e-17</td>\n",
              "      <td>-6.480762e-17</td>\n",
              "      <td>1.078588e-16</td>\n",
              "      <td>-4.872242e-17</td>\n",
              "      <td>4.153884e-17</td>\n",
              "      <td>3.392867e-17</td>\n",
              "      <td>-2.020491e-17</td>\n",
              "      <td>5.658817e-17</td>\n",
              "      <td>-4.011966e-19</td>\n",
              "      <td>1.530921e-17</td>\n",
              "      <td>3.320298e-17</td>\n",
              "      <td>sad</td>\n",
              "    </tr>\n",
              "    <tr>\n",
              "      <th>4</th>\n",
              "      <td>1.0</td>\n",
              "      <td>0.803077</td>\n",
              "      <td>0.580889</td>\n",
              "      <td>0.535604</td>\n",
              "      <td>0.570197</td>\n",
              "      <td>0.570067</td>\n",
              "      <td>0.556989</td>\n",
              "      <td>0.588369</td>\n",
              "      <td>0.599164</td>\n",
              "      <td>0.571785</td>\n",
              "      <td>0.551396</td>\n",
              "      <td>0.556614</td>\n",
              "      <td>0.615203</td>\n",
              "      <td>0.638041</td>\n",
              "      <td>0.596347</td>\n",
              "      <td>0.564848</td>\n",
              "      <td>0.551601</td>\n",
              "      <td>0.531970</td>\n",
              "      <td>0.507401</td>\n",
              "      <td>0.503577</td>\n",
              "      <td>0.534776</td>\n",
              "      <td>0.555440</td>\n",
              "      <td>0.554534</td>\n",
              "      <td>0.525614</td>\n",
              "      <td>0.486461</td>\n",
              "      <td>0.462999</td>\n",
              "      <td>0.458884</td>\n",
              "      <td>0.481111</td>\n",
              "      <td>0.514949</td>\n",
              "      <td>0.501644</td>\n",
              "      <td>0.450490</td>\n",
              "      <td>0.423682</td>\n",
              "      <td>0.438313</td>\n",
              "      <td>0.452014</td>\n",
              "      <td>0.462244</td>\n",
              "      <td>0.487050</td>\n",
              "      <td>0.486130</td>\n",
              "      <td>0.463148</td>\n",
              "      <td>0.437229</td>\n",
              "      <td>0.430350</td>\n",
              "      <td>...</td>\n",
              "      <td>-3.865607e-17</td>\n",
              "      <td>1.101756e-16</td>\n",
              "      <td>3.803645e-17</td>\n",
              "      <td>5.518773e-17</td>\n",
              "      <td>-5.258268e-18</td>\n",
              "      <td>3.536359e-17</td>\n",
              "      <td>2.526868e-17</td>\n",
              "      <td>3.085555e-17</td>\n",
              "      <td>2.216510e-17</td>\n",
              "      <td>4.751636e-17</td>\n",
              "      <td>8.932523e-18</td>\n",
              "      <td>4.849376e-17</td>\n",
              "      <td>5.840314e-17</td>\n",
              "      <td>8.900788e-17</td>\n",
              "      <td>-2.091680e-17</td>\n",
              "      <td>1.139996e-16</td>\n",
              "      <td>-5.681561e-17</td>\n",
              "      <td>6.207858e-17</td>\n",
              "      <td>-3.776485e-17</td>\n",
              "      <td>3.416221e-17</td>\n",
              "      <td>5.674721e-18</td>\n",
              "      <td>5.775289e-17</td>\n",
              "      <td>8.422016e-17</td>\n",
              "      <td>-4.662338e-17</td>\n",
              "      <td>8.774496e-17</td>\n",
              "      <td>-4.433411e-17</td>\n",
              "      <td>2.951729e-17</td>\n",
              "      <td>1.811829e-18</td>\n",
              "      <td>3.271477e-17</td>\n",
              "      <td>-4.197848e-17</td>\n",
              "      <td>1.157350e-16</td>\n",
              "      <td>-3.252374e-17</td>\n",
              "      <td>4.588258e-17</td>\n",
              "      <td>4.967971e-17</td>\n",
              "      <td>-1.157431e-17</td>\n",
              "      <td>7.107703e-17</td>\n",
              "      <td>2.421161e-17</td>\n",
              "      <td>3.641079e-17</td>\n",
              "      <td>5.699369e-17</td>\n",
              "      <td>angry</td>\n",
              "    </tr>\n",
              "  </tbody>\n",
              "</table>\n",
              "<p>5 rows × 385 columns</p>\n",
              "</div>"
            ],
            "text/plain": [
              "     0         1         2  ...           382           383  labels\n",
              "0  1.0  0.769231  0.579428  ...  3.167729e-17  2.856812e-17    fear\n",
              "1  1.0  0.695547  0.332028  ...  1.543971e-17  2.062285e-17   happy\n",
              "2  1.0  0.844096  0.689703  ...  3.847740e-17  4.654216e-17     sad\n",
              "3  1.0  0.827512  0.672599  ...  1.530921e-17  3.320298e-17     sad\n",
              "4  1.0  0.803077  0.580889  ...  3.641079e-17  5.699369e-17   angry\n",
              "\n",
              "[5 rows x 385 columns]"
            ]
          },
          "metadata": {
            "tags": []
          },
          "execution_count": 11
        }
      ]
    },
    {
      "cell_type": "markdown",
      "metadata": {
        "id": "hgOh4IkmvgEp"
      },
      "source": [
        "## Data Preparation"
      ]
    },
    {
      "cell_type": "code",
      "metadata": {
        "trusted": true,
        "colab": {
          "base_uri": "https://localhost:8080/",
          "height": 338
        },
        "id": "U99crUcUvgEq",
        "outputId": "7bbc5fb7-dada-4804-e80e-2b342f71e287"
      },
      "source": [
        "dataset = pd.read_csv('/content/drive/MyDrive/Colab Notebooks/speech/dataset/tempogram_features.csv')\n",
        "dataset.head()"
      ],
      "execution_count": null,
      "outputs": [
        {
          "output_type": "execute_result",
          "data": {
            "text/html": [
              "<div>\n",
              "<style scoped>\n",
              "    .dataframe tbody tr th:only-of-type {\n",
              "        vertical-align: middle;\n",
              "    }\n",
              "\n",
              "    .dataframe tbody tr th {\n",
              "        vertical-align: top;\n",
              "    }\n",
              "\n",
              "    .dataframe thead th {\n",
              "        text-align: right;\n",
              "    }\n",
              "</style>\n",
              "<table border=\"1\" class=\"dataframe\">\n",
              "  <thead>\n",
              "    <tr style=\"text-align: right;\">\n",
              "      <th></th>\n",
              "      <th>0</th>\n",
              "      <th>1</th>\n",
              "      <th>2</th>\n",
              "      <th>3</th>\n",
              "      <th>4</th>\n",
              "      <th>5</th>\n",
              "      <th>6</th>\n",
              "      <th>7</th>\n",
              "      <th>8</th>\n",
              "      <th>9</th>\n",
              "      <th>10</th>\n",
              "      <th>11</th>\n",
              "      <th>12</th>\n",
              "      <th>13</th>\n",
              "      <th>14</th>\n",
              "      <th>15</th>\n",
              "      <th>16</th>\n",
              "      <th>17</th>\n",
              "      <th>18</th>\n",
              "      <th>19</th>\n",
              "      <th>20</th>\n",
              "      <th>21</th>\n",
              "      <th>22</th>\n",
              "      <th>23</th>\n",
              "      <th>24</th>\n",
              "      <th>25</th>\n",
              "      <th>26</th>\n",
              "      <th>27</th>\n",
              "      <th>28</th>\n",
              "      <th>29</th>\n",
              "      <th>30</th>\n",
              "      <th>31</th>\n",
              "      <th>32</th>\n",
              "      <th>33</th>\n",
              "      <th>34</th>\n",
              "      <th>35</th>\n",
              "      <th>36</th>\n",
              "      <th>37</th>\n",
              "      <th>38</th>\n",
              "      <th>39</th>\n",
              "      <th>...</th>\n",
              "      <th>345</th>\n",
              "      <th>346</th>\n",
              "      <th>347</th>\n",
              "      <th>348</th>\n",
              "      <th>349</th>\n",
              "      <th>350</th>\n",
              "      <th>351</th>\n",
              "      <th>352</th>\n",
              "      <th>353</th>\n",
              "      <th>354</th>\n",
              "      <th>355</th>\n",
              "      <th>356</th>\n",
              "      <th>357</th>\n",
              "      <th>358</th>\n",
              "      <th>359</th>\n",
              "      <th>360</th>\n",
              "      <th>361</th>\n",
              "      <th>362</th>\n",
              "      <th>363</th>\n",
              "      <th>364</th>\n",
              "      <th>365</th>\n",
              "      <th>366</th>\n",
              "      <th>367</th>\n",
              "      <th>368</th>\n",
              "      <th>369</th>\n",
              "      <th>370</th>\n",
              "      <th>371</th>\n",
              "      <th>372</th>\n",
              "      <th>373</th>\n",
              "      <th>374</th>\n",
              "      <th>375</th>\n",
              "      <th>376</th>\n",
              "      <th>377</th>\n",
              "      <th>378</th>\n",
              "      <th>379</th>\n",
              "      <th>380</th>\n",
              "      <th>381</th>\n",
              "      <th>382</th>\n",
              "      <th>383</th>\n",
              "      <th>labels</th>\n",
              "    </tr>\n",
              "  </thead>\n",
              "  <tbody>\n",
              "    <tr>\n",
              "      <th>0</th>\n",
              "      <td>1.0</td>\n",
              "      <td>0.769231</td>\n",
              "      <td>0.579428</td>\n",
              "      <td>0.598579</td>\n",
              "      <td>0.610200</td>\n",
              "      <td>0.563047</td>\n",
              "      <td>0.515608</td>\n",
              "      <td>0.507909</td>\n",
              "      <td>0.572793</td>\n",
              "      <td>0.655236</td>\n",
              "      <td>0.622888</td>\n",
              "      <td>0.549489</td>\n",
              "      <td>0.550062</td>\n",
              "      <td>0.590368</td>\n",
              "      <td>0.555430</td>\n",
              "      <td>0.470323</td>\n",
              "      <td>0.485661</td>\n",
              "      <td>0.569776</td>\n",
              "      <td>0.567760</td>\n",
              "      <td>0.499673</td>\n",
              "      <td>0.464856</td>\n",
              "      <td>0.495660</td>\n",
              "      <td>0.512830</td>\n",
              "      <td>0.487266</td>\n",
              "      <td>0.408322</td>\n",
              "      <td>0.372152</td>\n",
              "      <td>0.406884</td>\n",
              "      <td>0.473904</td>\n",
              "      <td>0.449675</td>\n",
              "      <td>0.398917</td>\n",
              "      <td>0.475366</td>\n",
              "      <td>0.476830</td>\n",
              "      <td>0.372566</td>\n",
              "      <td>0.327663</td>\n",
              "      <td>0.333626</td>\n",
              "      <td>0.333851</td>\n",
              "      <td>0.316907</td>\n",
              "      <td>0.318697</td>\n",
              "      <td>0.324892</td>\n",
              "      <td>0.363698</td>\n",
              "      <td>...</td>\n",
              "      <td>-5.203993e-17</td>\n",
              "      <td>9.778097e-17</td>\n",
              "      <td>2.825285e-17</td>\n",
              "      <td>6.137894e-17</td>\n",
              "      <td>-8.928696e-18</td>\n",
              "      <td>2.679011e-17</td>\n",
              "      <td>1.001128e-17</td>\n",
              "      <td>2.621800e-17</td>\n",
              "      <td>2.998780e-18</td>\n",
              "      <td>2.688461e-17</td>\n",
              "      <td>1.174837e-17</td>\n",
              "      <td>5.192114e-17</td>\n",
              "      <td>3.291940e-17</td>\n",
              "      <td>7.584072e-17</td>\n",
              "      <td>-4.273089e-17</td>\n",
              "      <td>9.701905e-17</td>\n",
              "      <td>-5.998780e-17</td>\n",
              "      <td>6.461709e-17</td>\n",
              "      <td>-3.559778e-17</td>\n",
              "      <td>2.016138e-17</td>\n",
              "      <td>-1.244597e-17</td>\n",
              "      <td>4.602338e-17</td>\n",
              "      <td>4.423443e-17</td>\n",
              "      <td>-5.544317e-17</td>\n",
              "      <td>7.184415e-17</td>\n",
              "      <td>-5.394965e-17</td>\n",
              "      <td>3.752298e-17</td>\n",
              "      <td>-1.976460e-17</td>\n",
              "      <td>2.863178e-17</td>\n",
              "      <td>-5.243326e-17</td>\n",
              "      <td>9.241662e-17</td>\n",
              "      <td>-4.392101e-17</td>\n",
              "      <td>2.912308e-17</td>\n",
              "      <td>3.294020e-17</td>\n",
              "      <td>-4.342202e-18</td>\n",
              "      <td>5.254957e-17</td>\n",
              "      <td>3.953662e-18</td>\n",
              "      <td>3.167729e-17</td>\n",
              "      <td>2.856812e-17</td>\n",
              "      <td>fear</td>\n",
              "    </tr>\n",
              "    <tr>\n",
              "      <th>1</th>\n",
              "      <td>1.0</td>\n",
              "      <td>0.695547</td>\n",
              "      <td>0.332028</td>\n",
              "      <td>0.306594</td>\n",
              "      <td>0.379555</td>\n",
              "      <td>0.420388</td>\n",
              "      <td>0.497067</td>\n",
              "      <td>0.519367</td>\n",
              "      <td>0.418261</td>\n",
              "      <td>0.338050</td>\n",
              "      <td>0.358082</td>\n",
              "      <td>0.367219</td>\n",
              "      <td>0.392495</td>\n",
              "      <td>0.434503</td>\n",
              "      <td>0.405368</td>\n",
              "      <td>0.343195</td>\n",
              "      <td>0.340941</td>\n",
              "      <td>0.339699</td>\n",
              "      <td>0.301201</td>\n",
              "      <td>0.305548</td>\n",
              "      <td>0.383323</td>\n",
              "      <td>0.419703</td>\n",
              "      <td>0.361489</td>\n",
              "      <td>0.292318</td>\n",
              "      <td>0.285669</td>\n",
              "      <td>0.286081</td>\n",
              "      <td>0.255162</td>\n",
              "      <td>0.235035</td>\n",
              "      <td>0.272215</td>\n",
              "      <td>0.311388</td>\n",
              "      <td>0.318390</td>\n",
              "      <td>0.321596</td>\n",
              "      <td>0.278837</td>\n",
              "      <td>0.241124</td>\n",
              "      <td>0.300918</td>\n",
              "      <td>0.342067</td>\n",
              "      <td>0.282738</td>\n",
              "      <td>0.200147</td>\n",
              "      <td>0.167270</td>\n",
              "      <td>0.183333</td>\n",
              "      <td>...</td>\n",
              "      <td>-3.408968e-17</td>\n",
              "      <td>8.118966e-17</td>\n",
              "      <td>1.273357e-17</td>\n",
              "      <td>4.193097e-17</td>\n",
              "      <td>-1.032833e-17</td>\n",
              "      <td>1.576548e-17</td>\n",
              "      <td>1.714063e-17</td>\n",
              "      <td>2.461577e-17</td>\n",
              "      <td>1.004234e-17</td>\n",
              "      <td>1.814530e-17</td>\n",
              "      <td>-1.134592e-18</td>\n",
              "      <td>4.380896e-17</td>\n",
              "      <td>1.743362e-17</td>\n",
              "      <td>5.943747e-17</td>\n",
              "      <td>-9.865765e-18</td>\n",
              "      <td>5.428393e-17</td>\n",
              "      <td>-4.808446e-17</td>\n",
              "      <td>5.498448e-17</td>\n",
              "      <td>-3.749510e-17</td>\n",
              "      <td>9.356396e-18</td>\n",
              "      <td>-4.187359e-19</td>\n",
              "      <td>2.841185e-17</td>\n",
              "      <td>2.943990e-17</td>\n",
              "      <td>-3.562742e-17</td>\n",
              "      <td>3.798366e-17</td>\n",
              "      <td>-4.541525e-17</td>\n",
              "      <td>3.310578e-17</td>\n",
              "      <td>-1.035669e-17</td>\n",
              "      <td>2.160153e-17</td>\n",
              "      <td>-4.189272e-17</td>\n",
              "      <td>7.289959e-17</td>\n",
              "      <td>-2.806159e-17</td>\n",
              "      <td>2.070778e-17</td>\n",
              "      <td>1.507211e-17</td>\n",
              "      <td>-1.406836e-17</td>\n",
              "      <td>3.429549e-17</td>\n",
              "      <td>-8.495918e-19</td>\n",
              "      <td>1.543971e-17</td>\n",
              "      <td>2.062285e-17</td>\n",
              "      <td>happy</td>\n",
              "    </tr>\n",
              "    <tr>\n",
              "      <th>2</th>\n",
              "      <td>1.0</td>\n",
              "      <td>0.844096</td>\n",
              "      <td>0.689703</td>\n",
              "      <td>0.701894</td>\n",
              "      <td>0.767203</td>\n",
              "      <td>0.784367</td>\n",
              "      <td>0.738792</td>\n",
              "      <td>0.716749</td>\n",
              "      <td>0.767397</td>\n",
              "      <td>0.820663</td>\n",
              "      <td>0.787633</td>\n",
              "      <td>0.730167</td>\n",
              "      <td>0.750580</td>\n",
              "      <td>0.734523</td>\n",
              "      <td>0.697867</td>\n",
              "      <td>0.686402</td>\n",
              "      <td>0.703679</td>\n",
              "      <td>0.738653</td>\n",
              "      <td>0.747592</td>\n",
              "      <td>0.714522</td>\n",
              "      <td>0.679573</td>\n",
              "      <td>0.705783</td>\n",
              "      <td>0.725399</td>\n",
              "      <td>0.680776</td>\n",
              "      <td>0.645872</td>\n",
              "      <td>0.654314</td>\n",
              "      <td>0.685240</td>\n",
              "      <td>0.676234</td>\n",
              "      <td>0.642539</td>\n",
              "      <td>0.645425</td>\n",
              "      <td>0.664042</td>\n",
              "      <td>0.683378</td>\n",
              "      <td>0.655210</td>\n",
              "      <td>0.620484</td>\n",
              "      <td>0.612401</td>\n",
              "      <td>0.620964</td>\n",
              "      <td>0.630807</td>\n",
              "      <td>0.622964</td>\n",
              "      <td>0.598345</td>\n",
              "      <td>0.591179</td>\n",
              "      <td>...</td>\n",
              "      <td>-8.054862e-17</td>\n",
              "      <td>1.260457e-16</td>\n",
              "      <td>5.524202e-17</td>\n",
              "      <td>5.665564e-17</td>\n",
              "      <td>-3.104336e-17</td>\n",
              "      <td>4.178297e-17</td>\n",
              "      <td>5.673578e-18</td>\n",
              "      <td>1.865496e-17</td>\n",
              "      <td>-1.422112e-17</td>\n",
              "      <td>6.257307e-17</td>\n",
              "      <td>-6.597158e-18</td>\n",
              "      <td>5.457054e-17</td>\n",
              "      <td>5.250044e-17</td>\n",
              "      <td>1.101195e-16</td>\n",
              "      <td>-5.536950e-17</td>\n",
              "      <td>1.353031e-16</td>\n",
              "      <td>-9.102598e-17</td>\n",
              "      <td>8.643705e-17</td>\n",
              "      <td>-4.333704e-17</td>\n",
              "      <td>3.935689e-17</td>\n",
              "      <td>-2.162274e-17</td>\n",
              "      <td>6.455841e-17</td>\n",
              "      <td>8.561485e-17</td>\n",
              "      <td>-7.488670e-17</td>\n",
              "      <td>9.397896e-17</td>\n",
              "      <td>-7.382414e-17</td>\n",
              "      <td>4.235994e-17</td>\n",
              "      <td>-1.593611e-17</td>\n",
              "      <td>3.327921e-17</td>\n",
              "      <td>-8.036677e-17</td>\n",
              "      <td>1.433896e-16</td>\n",
              "      <td>-5.601084e-17</td>\n",
              "      <td>4.651476e-17</td>\n",
              "      <td>4.032456e-17</td>\n",
              "      <td>-1.854609e-17</td>\n",
              "      <td>7.271327e-17</td>\n",
              "      <td>6.873111e-18</td>\n",
              "      <td>3.847740e-17</td>\n",
              "      <td>4.654216e-17</td>\n",
              "      <td>sad</td>\n",
              "    </tr>\n",
              "    <tr>\n",
              "      <th>3</th>\n",
              "      <td>1.0</td>\n",
              "      <td>0.827512</td>\n",
              "      <td>0.672599</td>\n",
              "      <td>0.644182</td>\n",
              "      <td>0.667258</td>\n",
              "      <td>0.725982</td>\n",
              "      <td>0.744855</td>\n",
              "      <td>0.684783</td>\n",
              "      <td>0.672446</td>\n",
              "      <td>0.663685</td>\n",
              "      <td>0.636051</td>\n",
              "      <td>0.656816</td>\n",
              "      <td>0.650617</td>\n",
              "      <td>0.615007</td>\n",
              "      <td>0.589097</td>\n",
              "      <td>0.591506</td>\n",
              "      <td>0.639062</td>\n",
              "      <td>0.659356</td>\n",
              "      <td>0.627046</td>\n",
              "      <td>0.610272</td>\n",
              "      <td>0.614317</td>\n",
              "      <td>0.582396</td>\n",
              "      <td>0.557616</td>\n",
              "      <td>0.543259</td>\n",
              "      <td>0.573273</td>\n",
              "      <td>0.628928</td>\n",
              "      <td>0.610628</td>\n",
              "      <td>0.558975</td>\n",
              "      <td>0.539000</td>\n",
              "      <td>0.535692</td>\n",
              "      <td>0.523777</td>\n",
              "      <td>0.531030</td>\n",
              "      <td>0.519776</td>\n",
              "      <td>0.519390</td>\n",
              "      <td>0.485065</td>\n",
              "      <td>0.460350</td>\n",
              "      <td>0.496221</td>\n",
              "      <td>0.510606</td>\n",
              "      <td>0.472578</td>\n",
              "      <td>0.454424</td>\n",
              "      <td>...</td>\n",
              "      <td>-6.183375e-17</td>\n",
              "      <td>1.220346e-16</td>\n",
              "      <td>2.960403e-17</td>\n",
              "      <td>4.676236e-17</td>\n",
              "      <td>-3.228414e-17</td>\n",
              "      <td>4.050781e-17</td>\n",
              "      <td>-8.339661e-18</td>\n",
              "      <td>2.026532e-17</td>\n",
              "      <td>-1.300220e-17</td>\n",
              "      <td>5.342780e-17</td>\n",
              "      <td>-5.319320e-19</td>\n",
              "      <td>6.164073e-17</td>\n",
              "      <td>4.630210e-17</td>\n",
              "      <td>9.171414e-17</td>\n",
              "      <td>-4.130859e-17</td>\n",
              "      <td>1.114639e-16</td>\n",
              "      <td>-8.116322e-17</td>\n",
              "      <td>6.124486e-17</td>\n",
              "      <td>-3.352847e-17</td>\n",
              "      <td>2.739108e-17</td>\n",
              "      <td>-2.022591e-17</td>\n",
              "      <td>4.996208e-17</td>\n",
              "      <td>6.898632e-17</td>\n",
              "      <td>-7.607498e-17</td>\n",
              "      <td>8.512213e-17</td>\n",
              "      <td>-6.203264e-17</td>\n",
              "      <td>3.204653e-17</td>\n",
              "      <td>-1.140268e-17</td>\n",
              "      <td>1.490369e-17</td>\n",
              "      <td>-6.480762e-17</td>\n",
              "      <td>1.078588e-16</td>\n",
              "      <td>-4.872242e-17</td>\n",
              "      <td>4.153884e-17</td>\n",
              "      <td>3.392867e-17</td>\n",
              "      <td>-2.020491e-17</td>\n",
              "      <td>5.658817e-17</td>\n",
              "      <td>-4.011966e-19</td>\n",
              "      <td>1.530921e-17</td>\n",
              "      <td>3.320298e-17</td>\n",
              "      <td>sad</td>\n",
              "    </tr>\n",
              "    <tr>\n",
              "      <th>4</th>\n",
              "      <td>1.0</td>\n",
              "      <td>0.803077</td>\n",
              "      <td>0.580889</td>\n",
              "      <td>0.535604</td>\n",
              "      <td>0.570197</td>\n",
              "      <td>0.570067</td>\n",
              "      <td>0.556989</td>\n",
              "      <td>0.588369</td>\n",
              "      <td>0.599164</td>\n",
              "      <td>0.571785</td>\n",
              "      <td>0.551396</td>\n",
              "      <td>0.556614</td>\n",
              "      <td>0.615203</td>\n",
              "      <td>0.638041</td>\n",
              "      <td>0.596347</td>\n",
              "      <td>0.564848</td>\n",
              "      <td>0.551601</td>\n",
              "      <td>0.531970</td>\n",
              "      <td>0.507401</td>\n",
              "      <td>0.503577</td>\n",
              "      <td>0.534776</td>\n",
              "      <td>0.555440</td>\n",
              "      <td>0.554534</td>\n",
              "      <td>0.525614</td>\n",
              "      <td>0.486461</td>\n",
              "      <td>0.462999</td>\n",
              "      <td>0.458884</td>\n",
              "      <td>0.481111</td>\n",
              "      <td>0.514949</td>\n",
              "      <td>0.501644</td>\n",
              "      <td>0.450490</td>\n",
              "      <td>0.423682</td>\n",
              "      <td>0.438313</td>\n",
              "      <td>0.452014</td>\n",
              "      <td>0.462244</td>\n",
              "      <td>0.487050</td>\n",
              "      <td>0.486130</td>\n",
              "      <td>0.463148</td>\n",
              "      <td>0.437229</td>\n",
              "      <td>0.430350</td>\n",
              "      <td>...</td>\n",
              "      <td>-3.865607e-17</td>\n",
              "      <td>1.101756e-16</td>\n",
              "      <td>3.803645e-17</td>\n",
              "      <td>5.518773e-17</td>\n",
              "      <td>-5.258268e-18</td>\n",
              "      <td>3.536359e-17</td>\n",
              "      <td>2.526868e-17</td>\n",
              "      <td>3.085555e-17</td>\n",
              "      <td>2.216510e-17</td>\n",
              "      <td>4.751636e-17</td>\n",
              "      <td>8.932523e-18</td>\n",
              "      <td>4.849376e-17</td>\n",
              "      <td>5.840314e-17</td>\n",
              "      <td>8.900788e-17</td>\n",
              "      <td>-2.091680e-17</td>\n",
              "      <td>1.139996e-16</td>\n",
              "      <td>-5.681561e-17</td>\n",
              "      <td>6.207858e-17</td>\n",
              "      <td>-3.776485e-17</td>\n",
              "      <td>3.416221e-17</td>\n",
              "      <td>5.674721e-18</td>\n",
              "      <td>5.775289e-17</td>\n",
              "      <td>8.422016e-17</td>\n",
              "      <td>-4.662338e-17</td>\n",
              "      <td>8.774496e-17</td>\n",
              "      <td>-4.433411e-17</td>\n",
              "      <td>2.951729e-17</td>\n",
              "      <td>1.811829e-18</td>\n",
              "      <td>3.271477e-17</td>\n",
              "      <td>-4.197848e-17</td>\n",
              "      <td>1.157350e-16</td>\n",
              "      <td>-3.252374e-17</td>\n",
              "      <td>4.588258e-17</td>\n",
              "      <td>4.967971e-17</td>\n",
              "      <td>-1.157431e-17</td>\n",
              "      <td>7.107703e-17</td>\n",
              "      <td>2.421161e-17</td>\n",
              "      <td>3.641079e-17</td>\n",
              "      <td>5.699369e-17</td>\n",
              "      <td>angry</td>\n",
              "    </tr>\n",
              "  </tbody>\n",
              "</table>\n",
              "<p>5 rows × 385 columns</p>\n",
              "</div>"
            ],
            "text/plain": [
              "     0         1         2  ...           382           383  labels\n",
              "0  1.0  0.769231  0.579428  ...  3.167729e-17  2.856812e-17    fear\n",
              "1  1.0  0.695547  0.332028  ...  1.543971e-17  2.062285e-17   happy\n",
              "2  1.0  0.844096  0.689703  ...  3.847740e-17  4.654216e-17     sad\n",
              "3  1.0  0.827512  0.672599  ...  1.530921e-17  3.320298e-17     sad\n",
              "4  1.0  0.803077  0.580889  ...  3.641079e-17  5.699369e-17   angry\n",
              "\n",
              "[5 rows x 385 columns]"
            ]
          },
          "metadata": {
            "tags": []
          },
          "execution_count": 3
        }
      ]
    },
    {
      "cell_type": "code",
      "metadata": {
        "id": "4D2myJ17_d3q",
        "colab": {
          "base_uri": "https://localhost:8080/"
        },
        "outputId": "81cb47b9-53df-44bd-8a83-2dcae750e1d2"
      },
      "source": [
        "dataset.labels.value_counts()"
      ],
      "execution_count": null,
      "outputs": [
        {
          "output_type": "execute_result",
          "data": {
            "text/plain": [
              "happy    1463\n",
              "fear     1463\n",
              "sad      1463\n",
              "angry    1463\n",
              "Name: labels, dtype: int64"
            ]
          },
          "metadata": {
            "tags": []
          },
          "execution_count": 13
        }
      ]
    },
    {
      "cell_type": "markdown",
      "metadata": {
        "id": "IDFEVF570_rl"
      },
      "source": [
        "## Modeling"
      ]
    },
    {
      "cell_type": "markdown",
      "metadata": {
        "id": "WLB_d6YJ1RP1"
      },
      "source": [
        "### MLPClassifier"
      ]
    },
    {
      "cell_type": "code",
      "metadata": {
        "trusted": true,
        "id": "RmyGeJT8vgEr"
      },
      "source": [
        "X = dataset.iloc[:, :-1].values\n",
        "Y = dataset.iloc[:, -1].values"
      ],
      "execution_count": null,
      "outputs": []
    },
    {
      "cell_type": "code",
      "metadata": {
        "id": "cUN614nz1gNZ"
      },
      "source": [
        "x_train, x_test, y_train, y_test = train_test_split(np.array(X), Y, test_size = 0.25, random_state = 9)"
      ],
      "execution_count": null,
      "outputs": []
    },
    {
      "cell_type": "code",
      "metadata": {
        "colab": {
          "base_uri": "https://localhost:8080/"
        },
        "id": "FEi7lWlztAEE",
        "outputId": "4f639ce7-8030-424e-d5aa-eb441f01e007"
      },
      "source": [
        "x_train.shape"
      ],
      "execution_count": null,
      "outputs": [
        {
          "output_type": "execute_result",
          "data": {
            "text/plain": [
              "(4389, 384)"
            ]
          },
          "metadata": {
            "tags": []
          },
          "execution_count": 6
        }
      ]
    },
    {
      "cell_type": "code",
      "metadata": {
        "id": "CIqhkZMuOI0l"
      },
      "source": [
        "model=MLPClassifier(alpha=0.01, batch_size=256, epsilon=1e-08, hidden_layer_sizes=(300,), learning_rate='adaptive', max_iter=500)"
      ],
      "execution_count": null,
      "outputs": []
    },
    {
      "cell_type": "code",
      "metadata": {
        "id": "_FilJ0CqmQq5",
        "colab": {
          "base_uri": "https://localhost:8080/"
        },
        "outputId": "92c33857-c80e-4060-ccb6-424092cccbf3"
      },
      "source": [
        "model.fit(x_train, y_train)"
      ],
      "execution_count": null,
      "outputs": [
        {
          "output_type": "execute_result",
          "data": {
            "text/plain": [
              "MLPClassifier(activation='relu', alpha=0.01, batch_size=256, beta_1=0.9,\n",
              "              beta_2=0.999, early_stopping=False, epsilon=1e-08,\n",
              "              hidden_layer_sizes=(300,), learning_rate='adaptive',\n",
              "              learning_rate_init=0.001, max_fun=15000, max_iter=500,\n",
              "              momentum=0.9, n_iter_no_change=10, nesterovs_momentum=True,\n",
              "              power_t=0.5, random_state=None, shuffle=True, solver='adam',\n",
              "              tol=0.0001, validation_fraction=0.1, verbose=False,\n",
              "              warm_start=False)"
            ]
          },
          "metadata": {
            "tags": []
          },
          "execution_count": 8
        }
      ]
    },
    {
      "cell_type": "markdown",
      "metadata": {
        "id": "YzWvsB1Vzj9F"
      },
      "source": [
        "### LightGBM"
      ]
    },
    {
      "cell_type": "code",
      "metadata": {
        "id": "vgY7MCwwJweQ"
      },
      "source": [
        "data = dataset.copy()\n",
        "data.labels = data.labels.map({'angry':0, 'fear':1, 'happy':2, 'sad':3})"
      ],
      "execution_count": null,
      "outputs": []
    },
    {
      "cell_type": "code",
      "metadata": {
        "colab": {
          "base_uri": "https://localhost:8080/"
        },
        "id": "OJmWtCAxNIxc",
        "outputId": "26fcfb32-d8f3-46b7-c6b7-f23aa9644ead"
      },
      "source": [
        "data.labels.value_counts()"
      ],
      "execution_count": null,
      "outputs": [
        {
          "output_type": "execute_result",
          "data": {
            "text/plain": [
              "3    1463\n",
              "2    1463\n",
              "1    1463\n",
              "0    1463\n",
              "Name: labels, dtype: int64"
            ]
          },
          "metadata": {
            "tags": []
          },
          "execution_count": 15
        }
      ]
    },
    {
      "cell_type": "code",
      "metadata": {
        "id": "duKnnoH1J2X3"
      },
      "source": [
        "X = data.iloc[:, :-1].values\n",
        "Y = data.iloc[:, -1].values"
      ],
      "execution_count": null,
      "outputs": []
    },
    {
      "cell_type": "code",
      "metadata": {
        "trusted": true,
        "id": "a32K62e-vgEr"
      },
      "source": [
        "x_train, x_test, y_train, y_test = train_test_split(X, Y, test_size = 0.25, random_state = 0)\n",
        "x_train, x_valid, y_train, y_valid = train_test_split(x_train, y_train, test_size=0.1, random_state=0)\n",
        "\n",
        "sc = StandardScaler()\n",
        "x_train = sc.fit_transform(x_train)\n",
        "x_test = sc.transform(x_test)\n",
        "x_valid = sc.transform(x_valid)"
      ],
      "execution_count": null,
      "outputs": []
    },
    {
      "cell_type": "code",
      "metadata": {
        "trusted": true,
        "id": "Zoa4feXDvgEs"
      },
      "source": [
        "NUM_CLASS = 4\n",
        "\n",
        "params = {}\n",
        "params['learning_rate'] = 0.01\n",
        "params['boosting_type'] = 'gbdt'\n",
        "params['objective'] = 'multiclass'\n",
        "params['metric'] = 'multi_logloss'\n",
        "params['num_leaves'] = 100\n",
        "params['min_data'] = 100\n",
        "params['max_depth'] = 50\n",
        "params['num_class'] = NUM_CLASS\n",
        "params['max_bin'] = 150 # small max_bin causes faster speed and large value improves accuracy\n",
        "params['bagging_freq'] = 100\n",
        "params['feature_fraction'] = 0.6 # deal with column\n",
        "params['bagging_fraction'] = 0.6\n",
        "# params['device'] = 'gpu'\n",
        "#params['num_iterations'] = 1000\n",
        "#params['early_stopping_rounds'] = 100# the rule of thumb is to have it at 10% of your num_iterations"
      ],
      "execution_count": null,
      "outputs": []
    },
    {
      "cell_type": "code",
      "metadata": {
        "trusted": true,
        "colab": {
          "base_uri": "https://localhost:8080/"
        },
        "id": "6Fdn0eNsvgEt",
        "outputId": "9370d7db-31b8-4bd7-d6e3-cb6c0ced632f"
      },
      "source": [
        "x_test.shape"
      ],
      "execution_count": null,
      "outputs": [
        {
          "output_type": "execute_result",
          "data": {
            "text/plain": [
              "(1463, 384)"
            ]
          },
          "metadata": {
            "tags": []
          },
          "execution_count": 19
        }
      ]
    },
    {
      "cell_type": "code",
      "metadata": {
        "id": "tdDGlZ8n44Ez"
      },
      "source": [
        "import lightgbm as lgb"
      ],
      "execution_count": null,
      "outputs": []
    },
    {
      "cell_type": "code",
      "metadata": {
        "id": "KC3etxXzyhS8",
        "colab": {
          "base_uri": "https://localhost:8080/"
        },
        "outputId": "01d03f3a-dae9-4ec1-c417-56b522f3a7dc"
      },
      "source": [
        "dtrain = lgb.Dataset(x_train, y_train)\n",
        "dvalid = lgb.Dataset(x_valid, y_valid)\n",
        "lgb_model = lgb.train(params, \n",
        "                          dtrain, \n",
        "                          num_boost_round=10000,\n",
        "                          early_stopping_rounds=1000,\n",
        "                          valid_sets=(dtrain, dvalid), \n",
        "                          valid_names=('train','valid'),\n",
        "                          verbose_eval = 100)"
      ],
      "execution_count": null,
      "outputs": [
        {
          "output_type": "stream",
          "text": [
            "Training until validation scores don't improve for 1000 rounds.\n",
            "[100]\ttrain's multi_logloss: 1.13418\tvalid's multi_logloss: 1.20204\n",
            "[200]\ttrain's multi_logloss: 1.01739\tvalid's multi_logloss: 1.14404\n",
            "[300]\ttrain's multi_logloss: 0.93994\tvalid's multi_logloss: 1.11095\n",
            "[400]\ttrain's multi_logloss: 0.879775\tvalid's multi_logloss: 1.09767\n",
            "[500]\ttrain's multi_logloss: 0.825418\tvalid's multi_logloss: 1.09713\n",
            "[600]\ttrain's multi_logloss: 0.77957\tvalid's multi_logloss: 1.09705\n",
            "[700]\ttrain's multi_logloss: 0.736796\tvalid's multi_logloss: 1.09813\n",
            "[800]\ttrain's multi_logloss: 0.694957\tvalid's multi_logloss: 1.0997\n",
            "[900]\ttrain's multi_logloss: 0.655746\tvalid's multi_logloss: 1.09835\n",
            "[1000]\ttrain's multi_logloss: 0.620489\tvalid's multi_logloss: 1.10072\n",
            "[1100]\ttrain's multi_logloss: 0.586084\tvalid's multi_logloss: 1.09836\n",
            "[1200]\ttrain's multi_logloss: 0.553484\tvalid's multi_logloss: 1.09774\n",
            "[1300]\ttrain's multi_logloss: 0.523821\tvalid's multi_logloss: 1.09887\n",
            "[1400]\ttrain's multi_logloss: 0.497171\tvalid's multi_logloss: 1.10272\n",
            "[1500]\ttrain's multi_logloss: 0.471292\tvalid's multi_logloss: 1.10126\n",
            "Early stopping, best iteration is:\n",
            "[532]\ttrain's multi_logloss: 0.8097\tvalid's multi_logloss: 1.0956\n"
          ],
          "name": "stdout"
        }
      ]
    },
    {
      "cell_type": "markdown",
      "metadata": {
        "id": "jLtfMTqCvgEv"
      },
      "source": [
        "## Experiment results"
      ]
    },
    {
      "cell_type": "markdown",
      "metadata": {
        "id": "ryPwl16W7LE3"
      },
      "source": [
        "### MLP"
      ]
    },
    {
      "cell_type": "code",
      "metadata": {
        "trusted": true,
        "id": "VNNms9KmvgEw"
      },
      "source": [
        "preds = model.predict(x_test)"
      ],
      "execution_count": null,
      "outputs": []
    },
    {
      "cell_type": "code",
      "metadata": {
        "trusted": true,
        "id": "RIH-WwOJvgEx",
        "colab": {
          "base_uri": "https://localhost:8080/",
          "height": 204
        },
        "outputId": "623fa8c0-555c-4c9d-9306-c9be0f717d5b"
      },
      "source": [
        "results = pd.DataFrame()\n",
        "results['Actual'] = y_test\n",
        "results['Predicted'] = preds\n",
        "\n",
        "results.head()"
      ],
      "execution_count": null,
      "outputs": [
        {
          "output_type": "execute_result",
          "data": {
            "text/html": [
              "<div>\n",
              "<style scoped>\n",
              "    .dataframe tbody tr th:only-of-type {\n",
              "        vertical-align: middle;\n",
              "    }\n",
              "\n",
              "    .dataframe tbody tr th {\n",
              "        vertical-align: top;\n",
              "    }\n",
              "\n",
              "    .dataframe thead th {\n",
              "        text-align: right;\n",
              "    }\n",
              "</style>\n",
              "<table border=\"1\" class=\"dataframe\">\n",
              "  <thead>\n",
              "    <tr style=\"text-align: right;\">\n",
              "      <th></th>\n",
              "      <th>Actual</th>\n",
              "      <th>Predicted</th>\n",
              "    </tr>\n",
              "  </thead>\n",
              "  <tbody>\n",
              "    <tr>\n",
              "      <th>0</th>\n",
              "      <td>fear</td>\n",
              "      <td>sad</td>\n",
              "    </tr>\n",
              "    <tr>\n",
              "      <th>1</th>\n",
              "      <td>happy</td>\n",
              "      <td>fear</td>\n",
              "    </tr>\n",
              "    <tr>\n",
              "      <th>2</th>\n",
              "      <td>sad</td>\n",
              "      <td>sad</td>\n",
              "    </tr>\n",
              "    <tr>\n",
              "      <th>3</th>\n",
              "      <td>fear</td>\n",
              "      <td>happy</td>\n",
              "    </tr>\n",
              "    <tr>\n",
              "      <th>4</th>\n",
              "      <td>happy</td>\n",
              "      <td>happy</td>\n",
              "    </tr>\n",
              "  </tbody>\n",
              "</table>\n",
              "</div>"
            ],
            "text/plain": [
              "  Actual Predicted\n",
              "0   fear       sad\n",
              "1  happy      fear\n",
              "2    sad       sad\n",
              "3   fear     happy\n",
              "4  happy     happy"
            ]
          },
          "metadata": {
            "tags": []
          },
          "execution_count": 10
        }
      ]
    },
    {
      "cell_type": "code",
      "metadata": {
        "colab": {
          "base_uri": "https://localhost:8080/"
        },
        "id": "yLaWLRp-DnZ4",
        "outputId": "84b1bb85-6f0e-4e31-8a62-3914a021d451"
      },
      "source": [
        "d = results[(results.Actual=='sad') & (results.Predicted=='sad')]\n",
        "d.shape"
      ],
      "execution_count": null,
      "outputs": [
        {
          "output_type": "execute_result",
          "data": {
            "text/plain": [
              "(272, 2)"
            ]
          },
          "metadata": {
            "tags": []
          },
          "execution_count": 48
        }
      ]
    },
    {
      "cell_type": "code",
      "metadata": {
        "trusted": true,
        "colab": {
          "base_uri": "https://localhost:8080/",
          "height": 725
        },
        "id": "xp-c6GQAvgEx",
        "outputId": "d88ce63d-c155-415c-ef0b-70d998e84974"
      },
      "source": [
        "cm = confusion_matrix(y_test, preds)\n",
        "df_cm = pd.DataFrame(cm,\n",
        "                     index=observed_emotions,\n",
        "                     columns=observed_emotions)\n",
        "plt.figure(figsize=(10, 10))\n",
        "\n",
        "sns.set(font_scale=1)\n",
        "\n",
        "\n",
        "ax = sns.heatmap(df_cm, annot=True, square=True, fmt='d', linewidths=.2, cbar=0, cmap=plt.cm.Blues)\n",
        "ax.set_xticklabels(ax.get_xticklabels(), rotation=0)\n",
        "\n",
        "plt.ylabel('True labels')\n",
        "plt.xlabel('Predicted labels')\n",
        "plt.tight_layout()\n",
        "\n",
        "name = 'tempo feature 51%51%51.png'\n",
        "plt.savefig('/content/drive/MyDrive/Colab Notebooks/speech/dataset/Confusion matrix/mlp Confusion matrix for ' + name)\n",
        "\n",
        "plt.show()"
      ],
      "execution_count": null,
      "outputs": [
        {
          "output_type": "display_data",
          "data": {
            "image/png": "[encoded data removed]",
            "text/plain": [
              "<Figure size 720x720 with 1 Axes>"
            ]
          },
          "metadata": {
            "tags": []
          }
        }
      ]
    },
    {
      "cell_type": "code",
      "metadata": {
        "trusted": true,
        "colab": {
          "base_uri": "https://localhost:8080/"
        },
        "id": "ntzF25X6vgEy",
        "outputId": "df2134e7-89e9-4385-d1a2-88cf3e8bc144"
      },
      "source": [
        "print(classification_report(y_test, preds))"
      ],
      "execution_count": null,
      "outputs": [
        {
          "output_type": "stream",
          "text": [
            "              precision    recall  f1-score   support\n",
            "\n",
            "       angry       0.63      0.63      0.63       359\n",
            "        fear       0.43      0.27      0.33       365\n",
            "       happy       0.41      0.53      0.46       369\n",
            "         sad       0.58      0.63      0.60       370\n",
            "\n",
            "    accuracy                           0.51      1463\n",
            "   macro avg       0.51      0.51      0.51      1463\n",
            "weighted avg       0.51      0.51      0.51      1463\n",
            "\n"
          ],
          "name": "stdout"
        }
      ]
    },
    {
      "cell_type": "code",
      "metadata": {
        "id": "0RRM2iqAG-Dv"
      },
      "source": [
        "import pickle\n",
        "\n",
        "filename = 'tempo MLP_0.51.sav'\n",
        "pickle.dump(model, open('/content/drive/MyDrive/Colab Notebooks/speech/dataset/Models/' + filename, 'wb'))\n",
        "loaded_model = pickle.load(open('/content/drive/MyDrive/Colab Notebooks/speech/dataset/Models/' + filename, 'rb'))"
      ],
      "execution_count": null,
      "outputs": []
    },
    {
      "cell_type": "markdown",
      "metadata": {
        "id": "VqUXxDtQ7PFq"
      },
      "source": [
        "### LGB"
      ]
    },
    {
      "cell_type": "code",
      "metadata": {
        "trusted": true,
        "id": "mn73MpWT7Trw"
      },
      "source": [
        "preds = lgb_model.predict(x_test)"
      ],
      "execution_count": null,
      "outputs": []
    },
    {
      "cell_type": "code",
      "metadata": {
        "trusted": true,
        "id": "2UEuWNRv7Trw"
      },
      "source": [
        "predictions = []\n",
        "\n",
        "for x in preds:\n",
        "    predictions.append(np.argmax(x))"
      ],
      "execution_count": null,
      "outputs": []
    },
    {
      "cell_type": "code",
      "metadata": {
        "trusted": true,
        "colab": {
          "base_uri": "https://localhost:8080/",
          "height": 204
        },
        "id": "ZtPBVmua7Trx",
        "outputId": "e800d7f7-fca2-477e-c306-feb52cd7a6a4"
      },
      "source": [
        "results = pd.DataFrame()\n",
        "results['Actual'] = y_test\n",
        "results['Predicted'] = predictions\n",
        "\n",
        "results['Actual'] = results['Actual'].map({0:'angry', 1:'fear', 2:'happy', 3:'sad'})\n",
        "results['Predicted'] = results['Predicted'].map({0:'angry', 1:'fear', 2:'happy', 3:'sad'})\n",
        "results.head()"
      ],
      "execution_count": null,
      "outputs": [
        {
          "output_type": "execute_result",
          "data": {
            "text/html": [
              "<div>\n",
              "<style scoped>\n",
              "    .dataframe tbody tr th:only-of-type {\n",
              "        vertical-align: middle;\n",
              "    }\n",
              "\n",
              "    .dataframe tbody tr th {\n",
              "        vertical-align: top;\n",
              "    }\n",
              "\n",
              "    .dataframe thead th {\n",
              "        text-align: right;\n",
              "    }\n",
              "</style>\n",
              "<table border=\"1\" class=\"dataframe\">\n",
              "  <thead>\n",
              "    <tr style=\"text-align: right;\">\n",
              "      <th></th>\n",
              "      <th>Actual</th>\n",
              "      <th>Predicted</th>\n",
              "    </tr>\n",
              "  </thead>\n",
              "  <tbody>\n",
              "    <tr>\n",
              "      <th>0</th>\n",
              "      <td>sad</td>\n",
              "      <td>happy</td>\n",
              "    </tr>\n",
              "    <tr>\n",
              "      <th>1</th>\n",
              "      <td>happy</td>\n",
              "      <td>angry</td>\n",
              "    </tr>\n",
              "    <tr>\n",
              "      <th>2</th>\n",
              "      <td>happy</td>\n",
              "      <td>angry</td>\n",
              "    </tr>\n",
              "    <tr>\n",
              "      <th>3</th>\n",
              "      <td>sad</td>\n",
              "      <td>sad</td>\n",
              "    </tr>\n",
              "    <tr>\n",
              "      <th>4</th>\n",
              "      <td>sad</td>\n",
              "      <td>fear</td>\n",
              "    </tr>\n",
              "  </tbody>\n",
              "</table>\n",
              "</div>"
            ],
            "text/plain": [
              "  Actual Predicted\n",
              "0    sad     happy\n",
              "1  happy     angry\n",
              "2  happy     angry\n",
              "3    sad       sad\n",
              "4    sad      fear"
            ]
          },
          "metadata": {
            "tags": []
          },
          "execution_count": 24
        }
      ]
    },
    {
      "cell_type": "code",
      "metadata": {
        "trusted": true,
        "colab": {
          "base_uri": "https://localhost:8080/",
          "height": 725
        },
        "id": "V9dLGq3c7Try",
        "outputId": "a5315fa4-0c04-403c-9eba-025b265f94cb"
      },
      "source": [
        "cm = confusion_matrix(y_test, predictions)\n",
        "df_cm = pd.DataFrame(cm,\n",
        "                     index=observed_emotions,\n",
        "                     columns=observed_emotions)\n",
        "\n",
        "plt.figure(figsize=(10, 10))\n",
        "\n",
        "sns.set(font_scale=1)\n",
        "\n",
        "ax = sns.heatmap(df_cm, annot=True, square=True, fmt='d', linewidths=.2, cbar=0, cmap=plt.cm.Blues)\n",
        "ax.set_xticklabels(ax.get_xticklabels(), rotation=0)\n",
        "# \n",
        "plt.ylabel('True labels')\n",
        "plt.xlabel('Predicted labels')\n",
        "plt.tight_layout()\n",
        "\n",
        "name = 'tempo 51%49%49.png'\n",
        "plt.savefig('/content/drive/MyDrive/Colab Notebooks/speech/dataset/Confusion matrix/lgbm Confusion matrix for ' + name)\n",
        "\n",
        "plt.show()"
      ],
      "execution_count": null,
      "outputs": [
        {
          "output_type": "display_data",
          "data": {
            "image/png": "[encoded data removed]",
            "text/plain": [
              "<Figure size 720x720 with 1 Axes>"
            ]
          },
          "metadata": {
            "tags": []
          }
        }
      ]
    },
    {
      "cell_type": "code",
      "metadata": {
        "trusted": true,
        "colab": {
          "base_uri": "https://localhost:8080/"
        },
        "id": "Vyc4zm7_7Try",
        "outputId": "d405d1c4-04c8-48ac-e45b-03661bc262f7"
      },
      "source": [
        "print(classification_report(y_test, predictions, target_names=observed_emotions))"
      ],
      "execution_count": null,
      "outputs": [
        {
          "output_type": "stream",
          "text": [
            "              precision    recall  f1-score   support\n",
            "\n",
            "       angry       0.58      0.70      0.64       372\n",
            "        fear       0.42      0.25      0.31       366\n",
            "       happy       0.40      0.44      0.42       357\n",
            "         sad       0.57      0.63      0.60       368\n",
            "\n",
            "    accuracy                           0.51      1463\n",
            "   macro avg       0.49      0.50      0.49      1463\n",
            "weighted avg       0.49      0.51      0.49      1463\n",
            "\n"
          ],
          "name": "stdout"
        }
      ]
    },
    {
      "cell_type": "code",
      "metadata": {
        "id": "JilHgoaPRSv-"
      },
      "source": [
        "import pickle\n",
        "\n",
        "filename = 'tempo lgbm_0.51.sav'\n",
        "pickle.dump(lgb_model, open('/content/drive/MyDrive/Colab Notebooks/speech/dataset/Models/' + filename, 'wb'))\n",
        "loaded_model = pickle.load(open('/content/drive/MyDrive/Colab Notebooks/speech/dataset/Models/' + filename, 'rb'))"
      ],
      "execution_count": null,
      "outputs": []
    }
  ]
}